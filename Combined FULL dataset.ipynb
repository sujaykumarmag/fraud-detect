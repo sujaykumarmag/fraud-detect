{
 "cells": [
  {
   "cell_type": "code",
   "execution_count": 1,
   "id": "674b066b",
   "metadata": {},
   "outputs": [],
   "source": [
    "import pandas as pd\n",
    "import numpy as np\n",
    "import warnings\n",
    "warnings.filterwarnings(\"ignore\")"
   ]
  },
  {
   "cell_type": "code",
   "execution_count": 2,
   "id": "f864c2c8",
   "metadata": {},
   "outputs": [],
   "source": [
    "dmepos = pd.read_csv(\"labelled_data/DMEPOS/imputed_dmepos.csv\")\n",
    "part_b = pd.read_csv(\"labelled_data/part_B/imputed_partB.csv\")\n",
    "part_d = pd.read_csv(\"labelled_data/part_D/imputed_partD.csv\")"
   ]
  },
  {
   "cell_type": "code",
   "execution_count": 3,
   "id": "903a0dbb",
   "metadata": {},
   "outputs": [],
   "source": [
    "merged_partB_partD = pd.merge(part_b, part_d, left_on='Rndrng_NPI', right_on='PRSCRBR_NPI', how='inner')\n",
    "combined = pd.merge(merged_partB_partD, dmepos, left_on='Rndrng_NPI', right_on='Rfrg_NPI', how='inner')"
   ]
  },
  {
   "cell_type": "code",
   "execution_count": 4,
   "id": "cd2553ce",
   "metadata": {},
   "outputs": [
    {
     "data": {
      "text/plain": [
       "array(['Unnamed: 0_x', 'Rndrng_Prvdr_Crdntls', 'Rndrng_Prvdr_Gndr',\n",
       "       'Rndrng_Prvdr_Type', 'Rndrng_Prvdr_Mdcr_Prtcptg_Ind',\n",
       "       'Tot_HCPCS_Cds', 'Tot_Benes_x', 'Tot_Srvcs', 'Tot_Sbmtd_Chrg',\n",
       "       'Tot_Mdcr_Alowd_Amt', 'Tot_Mdcr_Pymt_Amt', 'Tot_Mdcr_Stdzd_Amt',\n",
       "       'Drug_Sprsn_Ind_x', 'Drug_Tot_HCPCS_Cds', 'Drug_Tot_Benes',\n",
       "       'Drug_Tot_Srvcs', 'Drug_Sbmtd_Chrg', 'Drug_Mdcr_Alowd_Amt',\n",
       "       'Drug_Mdcr_Pymt_Amt', 'Drug_Mdcr_Stdzd_Amt', 'Med_Sprsn_Ind',\n",
       "       'Med_Tot_HCPCS_Cds', 'Med_Tot_Benes', 'Med_Tot_Srvcs',\n",
       "       'Med_Sbmtd_Chrg', 'Med_Mdcr_Alowd_Amt', 'Med_Mdcr_Pymt_Amt',\n",
       "       'Med_Mdcr_Stdzd_Amt', 'Bene_Avg_Age_x', 'Bene_Age_LT_65_Cnt_x',\n",
       "       'Bene_Age_65_74_Cnt_x', 'Bene_Age_75_84_Cnt_x',\n",
       "       'Bene_Age_GT_84_Cnt_x', 'Bene_Feml_Cnt_x', 'Bene_Male_Cnt_x',\n",
       "       'Bene_Race_Wht_Cnt_x', 'Bene_Race_Black_Cnt_x',\n",
       "       'Bene_Race_API_Cnt', 'Bene_Race_Hspnc_Cnt_x',\n",
       "       'Bene_Race_NatInd_Cnt', 'Bene_Race_Othr_Cnt_x', 'Bene_Dual_Cnt_x',\n",
       "       'Bene_Ndual_Cnt_x', 'Bene_CC_AF_Pct_x', 'Bene_CC_Alzhmr_Pct_x',\n",
       "       'Bene_CC_Asthma_Pct_x', 'Bene_CC_Cncr_Pct_x', 'Bene_CC_CHF_Pct_x',\n",
       "       'Bene_CC_CKD_Pct_x', 'Bene_CC_COPD_Pct_x', 'Bene_CC_Dprssn_Pct_x',\n",
       "       'Bene_CC_Dbts_Pct_x', 'Bene_CC_Hyplpdma_Pct_x',\n",
       "       'Bene_CC_Hyprtnsn_Pct_x', 'Bene_CC_IHD_Pct_x', 'Bene_CC_Opo_Pct_x',\n",
       "       'Bene_CC_RAOA_Pct_x', 'Bene_CC_Sz_Pct_x', 'Bene_CC_Strok_Pct_x',\n",
       "       'Bene_Avg_Risk_Scre_x', 'Rndrng_NPI', 'Fraud_x', 'FraudType_x',\n",
       "       'Unnamed: 0_y', 'PRSCRBR_NPI', 'Prscrbr_Crdntls', 'Prscrbr_Gndr',\n",
       "       'Prscrbr_Type', 'Prscrbr_Type_src', 'Tot_Clms', 'Tot_30day_Fills',\n",
       "       'Tot_Drug_Cst', 'Tot_Day_Suply', 'Tot_Benes_y', 'GE65_Sprsn_Flag',\n",
       "       'GE65_Tot_Clms', 'GE65_Tot_30day_Fills', 'GE65_Tot_Drug_Cst',\n",
       "       'GE65_Tot_Day_Suply', 'GE65_Bene_Sprsn_Flag', 'GE65_Tot_Benes',\n",
       "       'Brnd_Sprsn_Flag', 'Brnd_Tot_Clms', 'Brnd_Tot_Drug_Cst',\n",
       "       'Gnrc_Sprsn_Flag', 'Gnrc_Tot_Clms', 'Gnrc_Tot_Drug_Cst',\n",
       "       'Othr_Sprsn_Flag', 'Othr_Tot_Clms', 'Othr_Tot_Drug_Cst',\n",
       "       'MAPD_Sprsn_Flag', 'MAPD_Tot_Clms', 'MAPD_Tot_Drug_Cst',\n",
       "       'PDP_Sprsn_Flag', 'PDP_Tot_Clms', 'PDP_Tot_Drug_Cst',\n",
       "       'LIS_Sprsn_Flag', 'LIS_Tot_Clms', 'LIS_Drug_Cst',\n",
       "       'NonLIS_Sprsn_Flag', 'NonLIS_Tot_Clms', 'NonLIS_Drug_Cst',\n",
       "       'Opioid_Tot_Clms', 'Opioid_Tot_Drug_Cst', 'Opioid_Tot_Suply',\n",
       "       'Opioid_Tot_Benes', 'Opioid_Prscrbr_Rate', 'Opioid_LA_Tot_Clms',\n",
       "       'Opioid_LA_Tot_Drug_Cst', 'Opioid_LA_Tot_Suply',\n",
       "       'Opioid_LA_Tot_Benes', 'Opioid_LA_Prscrbr_Rate', 'Antbtc_Tot_Clms',\n",
       "       'Antbtc_Tot_Drug_Cst', 'Antbtc_Tot_Benes',\n",
       "       'Antpsyct_GE65_Sprsn_Flag', 'Antpsyct_GE65_Tot_Clms',\n",
       "       'Antpsyct_GE65_Tot_Drug_Cst', 'Antpsyct_GE65_Tot_Benes',\n",
       "       'Bene_Avg_Age_y', 'Bene_Age_LT_65_Cnt_y', 'Bene_Age_65_74_Cnt_y',\n",
       "       'Bene_Age_75_84_Cnt_y', 'Bene_Age_GT_84_Cnt_y', 'Bene_Feml_Cnt_y',\n",
       "       'Bene_Male_Cnt_y', 'Bene_Race_Wht_Cnt_y', 'Bene_Race_Black_Cnt_y',\n",
       "       'Bene_Race_Api_Cnt_x', 'Bene_Race_Hspnc_Cnt_y',\n",
       "       'Bene_Race_Natind_Cnt_x', 'Bene_Race_Othr_Cnt_y',\n",
       "       'Bene_Dual_Cnt_y', 'Bene_Ndual_Cnt_y', 'Bene_Avg_Risk_Scre_y',\n",
       "       'Fraud_y', 'FraudType_y', 'Unnamed: 0', 'Rfrg_NPI',\n",
       "       'Rfrg_Prvdr_Crdntls', 'Rfrg_Prvdr_Gndr', 'Rfrg_Prvdr_Type',\n",
       "       'Rfrg_Prvdr_Type_Flag', 'Tot_Suplrs', 'Tot_Suplr_HCPCS_Cds',\n",
       "       'Tot_Suplr_Benes', 'Tot_Suplr_Clms', 'Tot_Suplr_Srvcs',\n",
       "       'Suplr_Sbmtd_Chrgs', 'Suplr_Mdcr_Alowd_Amt', 'Suplr_Mdcr_Pymt_Amt',\n",
       "       'Suplr_Mdcr_Stdzd_Pymt_Amt', 'DME_Sprsn_Ind', 'DME_Tot_Suplrs',\n",
       "       'DME_Tot_Suplr_HCPCS_Cds', 'DME_Tot_Suplr_Benes',\n",
       "       'DME_Tot_Suplr_Clms', 'DME_Tot_Suplr_Srvcs',\n",
       "       'DME_Suplr_Sbmtd_Chrgs', 'DME_Suplr_Mdcr_Alowd_Amt',\n",
       "       'DME_Suplr_Mdcr_Pymt_Amt', 'DME_Suplr_Mdcr_Stdzd_Pymt_Amt',\n",
       "       'POS_Sprsn_Ind', 'POS_Tot_Suplrs', 'POS_Tot_Suplr_HCPCS_Cds',\n",
       "       'POS_Tot_Suplr_Benes', 'POS_Tot_Suplr_Clms', 'POS_Tot_Suplr_Srvcs',\n",
       "       'POS_Suplr_Sbmtd_Chrgs', 'POS_Suplr_Mdcr_Alowd_Amt',\n",
       "       'POS_Suplr_Mdcr_Pymt_Amt', 'POS_Suplr_Mdcr_Stdzd_Pymt_Amt',\n",
       "       'Drug_Sprsn_Ind_y', 'Drug_Tot_Suplrs', 'Drug_Tot_Suplr_HCPCS_Cds',\n",
       "       'Drug_Tot_Suplr_Benes', 'Drug_Tot_Suplr_Clms',\n",
       "       'Drug_Tot_Suplr_Srvcs', 'Drug_Suplr_Sbmtd_Chrgs',\n",
       "       'Drug_Suplr_Mdcr_Alowd_Amt', 'Drug_Suplr_Mdcr_Pymt_Amt',\n",
       "       'Drug_Suplr_Mdcr_Stdzd_Pymt_Amt', 'Bene_Avg_Age',\n",
       "       'Bene_Age_LT_65_Cnt', 'Bene_Age_65_74_Cnt', 'Bene_Age_75_84_Cnt',\n",
       "       'Bene_Age_GT_84_Cnt', 'Bene_Feml_Cnt', 'Bene_Male_Cnt',\n",
       "       'Bene_Race_Wht_Cnt', 'Bene_Race_Black_Cnt', 'Bene_Race_Api_Cnt_y',\n",
       "       'Bene_Race_Hspnc_Cnt', 'Bene_Race_Natind_Cnt_y',\n",
       "       'Bene_Race_Othr_Cnt', 'Bene_Ndual_Cnt', 'Bene_Dual_Cnt',\n",
       "       'Bene_CC_AF_Pct_y', 'Bene_CC_Alzhmr_Pct_y', 'Bene_CC_Asthma_Pct_y',\n",
       "       'Bene_CC_Cncr_Pct_y', 'Bene_CC_CHF_Pct_y', 'Bene_CC_CKD_Pct_y',\n",
       "       'Bene_CC_COPD_Pct_y', 'Bene_CC_Dprssn_Pct_y', 'Bene_CC_Dbts_Pct_y',\n",
       "       'Bene_CC_Hyplpdma_Pct_y', 'Bene_CC_Hyprtnsn_Pct_y',\n",
       "       'Bene_CC_IHD_Pct_y', 'Bene_CC_Opo_Pct_y', 'Bene_CC_RAOA_Pct_y',\n",
       "       'Bene_CC_Sz_Pct_y', 'Bene_CC_Strok_Pct_y', 'Bene_Avg_Risk_Scre',\n",
       "       'Fraud', 'FraudType'], dtype=object)"
      ]
     },
     "execution_count": 4,
     "metadata": {},
     "output_type": "execute_result"
    }
   ],
   "source": [
    "np.array(pd.DataFrame(combined.columns)[0])"
   ]
  },
  {
   "cell_type": "code",
   "execution_count": 5,
   "id": "77fc5056",
   "metadata": {},
   "outputs": [
    {
     "data": {
      "text/plain": [
       "0         2362\n",
       "1         3017\n",
       "2         1629\n",
       "3         2684\n",
       "4         3017\n",
       "          ... \n",
       "334369    3017\n",
       "334370    2362\n",
       "334371    1186\n",
       "334372    2362\n",
       "334373    5465\n",
       "Name: Rfrg_Prvdr_Crdntls, Length: 334374, dtype: int64"
      ]
     },
     "execution_count": 5,
     "metadata": {},
     "output_type": "execute_result"
    }
   ],
   "source": [
    "combined[\"Rfrg_Prvdr_Crdntls\"]"
   ]
  },
  {
   "cell_type": "code",
   "execution_count": 6,
   "id": "749bea9d",
   "metadata": {},
   "outputs": [
    {
     "data": {
      "text/plain": [
       "0          7632\n",
       "1          9176\n",
       "2          5885\n",
       "3          8298\n",
       "4          9176\n",
       "          ...  \n",
       "334369     9176\n",
       "334370     7632\n",
       "334371     4051\n",
       "334372     7632\n",
       "334373    16837\n",
       "Name: Prscrbr_Crdntls, Length: 334374, dtype: int64"
      ]
     },
     "execution_count": 6,
     "metadata": {},
     "output_type": "execute_result"
    }
   ],
   "source": [
    "combined[\"Prscrbr_Crdntls\"]"
   ]
  },
  {
   "cell_type": "code",
   "execution_count": 7,
   "id": "5f201639",
   "metadata": {},
   "outputs": [],
   "source": [
    "combined.to_csv(\"./labelled_data/combined/imputed_combined.csv\")"
   ]
  },
  {
   "cell_type": "code",
   "execution_count": null,
   "id": "00fa4371",
   "metadata": {},
   "outputs": [],
   "source": []
  }
 ],
 "metadata": {
  "kernelspec": {
   "display_name": "Python 3.10 (tensorflow)",
   "language": "python",
   "name": "tensorflow"
  },
  "language_info": {
   "codemirror_mode": {
    "name": "ipython",
    "version": 3
   },
   "file_extension": ".py",
   "mimetype": "text/x-python",
   "name": "python",
   "nbconvert_exporter": "python",
   "pygments_lexer": "ipython3",
   "version": "3.10.13"
  }
 },
 "nbformat": 4,
 "nbformat_minor": 5
}
