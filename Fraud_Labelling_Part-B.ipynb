{
 "cells": [
  {
   "cell_type": "code",
   "execution_count": 1,
   "id": "17d3d456",
   "metadata": {},
   "outputs": [],
   "source": [
    "import pandas as pd\n",
    "import numpy as np\n",
    "import warnings\n",
    "warnings.filterwarnings(\"ignore\")"
   ]
  },
  {
   "cell_type": "markdown",
   "id": "44e4b4fd",
   "metadata": {},
   "source": [
    "### Import all the required DataSets"
   ]
  },
  {
   "cell_type": "code",
   "execution_count": 2,
   "id": "2c84a9c6",
   "metadata": {},
   "outputs": [],
   "source": [
    "part_b = pd.read_csv(\"provider_data/partb/Part-B.csv\",encoding='ISO-8859-1',low_memory=False)\n",
    "leie_ex = pd.read_csv(\"provider_data/LEIE_Exclusion.csv\",encoding='ISO-8859-1',low_memory=False)"
   ]
  },
  {
   "cell_type": "markdown",
   "id": "ddb974a3",
   "metadata": {},
   "source": [
    "## DATA PRE_PROCESSING -- PART-B (Medicare Physician & Other Practitioners)"
   ]
  },
  {
   "cell_type": "code",
   "execution_count": 3,
   "id": "7dcdfa58",
   "metadata": {},
   "outputs": [
    {
     "data": {
      "text/html": [
       "<div>\n",
       "<style scoped>\n",
       "    .dataframe tbody tr th:only-of-type {\n",
       "        vertical-align: middle;\n",
       "    }\n",
       "\n",
       "    .dataframe tbody tr th {\n",
       "        vertical-align: top;\n",
       "    }\n",
       "\n",
       "    .dataframe thead th {\n",
       "        text-align: right;\n",
       "    }\n",
       "</style>\n",
       "<table border=\"1\" class=\"dataframe\">\n",
       "  <thead>\n",
       "    <tr style=\"text-align: right;\">\n",
       "      <th></th>\n",
       "      <th>ï»¿Rndrng_NPI</th>\n",
       "      <th>Rndrng_Prvdr_Last_Org_Name</th>\n",
       "      <th>Rndrng_Prvdr_First_Name</th>\n",
       "      <th>Rndrng_Prvdr_MI</th>\n",
       "      <th>Rndrng_Prvdr_Crdntls</th>\n",
       "      <th>Rndrng_Prvdr_Gndr</th>\n",
       "      <th>Rndrng_Prvdr_Ent_Cd</th>\n",
       "      <th>Rndrng_Prvdr_St1</th>\n",
       "      <th>Rndrng_Prvdr_St2</th>\n",
       "      <th>Rndrng_Prvdr_City</th>\n",
       "      <th>...</th>\n",
       "      <th>Bene_CC_Dprssn_Pct</th>\n",
       "      <th>Bene_CC_Dbts_Pct</th>\n",
       "      <th>Bene_CC_Hyplpdma_Pct</th>\n",
       "      <th>Bene_CC_Hyprtnsn_Pct</th>\n",
       "      <th>Bene_CC_IHD_Pct</th>\n",
       "      <th>Bene_CC_Opo_Pct</th>\n",
       "      <th>Bene_CC_RAOA_Pct</th>\n",
       "      <th>Bene_CC_Sz_Pct</th>\n",
       "      <th>Bene_CC_Strok_Pct</th>\n",
       "      <th>Bene_Avg_Risk_Scre</th>\n",
       "    </tr>\n",
       "  </thead>\n",
       "  <tbody>\n",
       "    <tr>\n",
       "      <th>0</th>\n",
       "      <td>1003000126</td>\n",
       "      <td>Enkeshafi</td>\n",
       "      <td>Ardalan</td>\n",
       "      <td>NaN</td>\n",
       "      <td>M.D.</td>\n",
       "      <td>M</td>\n",
       "      <td>I</td>\n",
       "      <td>6410 Rockledge Dr Ste 304</td>\n",
       "      <td>NaN</td>\n",
       "      <td>Bethesda</td>\n",
       "      <td>...</td>\n",
       "      <td>35.00%</td>\n",
       "      <td>47.00%</td>\n",
       "      <td>73.00%</td>\n",
       "      <td>75.00%</td>\n",
       "      <td>66.00%</td>\n",
       "      <td>11.00%</td>\n",
       "      <td>51.00%</td>\n",
       "      <td>9.00%</td>\n",
       "      <td>19.00%</td>\n",
       "      <td>2.5028</td>\n",
       "    </tr>\n",
       "    <tr>\n",
       "      <th>1</th>\n",
       "      <td>1003000134</td>\n",
       "      <td>Cibull</td>\n",
       "      <td>Thomas</td>\n",
       "      <td>L</td>\n",
       "      <td>M.D.</td>\n",
       "      <td>M</td>\n",
       "      <td>I</td>\n",
       "      <td>2650 Ridge Ave</td>\n",
       "      <td>Evanston Hospital</td>\n",
       "      <td>Evanston</td>\n",
       "      <td>...</td>\n",
       "      <td>15.00%</td>\n",
       "      <td>20.0%</td>\n",
       "      <td>48.00%</td>\n",
       "      <td>48.00%</td>\n",
       "      <td>24.00%</td>\n",
       "      <td>10%</td>\n",
       "      <td>38.00%</td>\n",
       "      <td>1.0%</td>\n",
       "      <td>3.00%</td>\n",
       "      <td>1.1124</td>\n",
       "    </tr>\n",
       "    <tr>\n",
       "      <th>2</th>\n",
       "      <td>1003000142</td>\n",
       "      <td>Khalil</td>\n",
       "      <td>Rashid</td>\n",
       "      <td>NaN</td>\n",
       "      <td>M.D.</td>\n",
       "      <td>M</td>\n",
       "      <td>I</td>\n",
       "      <td>4126 N Holland Sylvania Rd</td>\n",
       "      <td>Suite 220</td>\n",
       "      <td>Toledo</td>\n",
       "      <td>...</td>\n",
       "      <td>37.00%</td>\n",
       "      <td>35.00%</td>\n",
       "      <td>52.00%</td>\n",
       "      <td>68.00%</td>\n",
       "      <td>31.00%</td>\n",
       "      <td>NaN</td>\n",
       "      <td>75.00%</td>\n",
       "      <td>NaN</td>\n",
       "      <td>NaN</td>\n",
       "      <td>1.6935</td>\n",
       "    </tr>\n",
       "    <tr>\n",
       "      <th>3</th>\n",
       "      <td>1003000423</td>\n",
       "      <td>Velotta</td>\n",
       "      <td>Jennifer</td>\n",
       "      <td>A</td>\n",
       "      <td>M.D.</td>\n",
       "      <td>F</td>\n",
       "      <td>I</td>\n",
       "      <td>11100 Euclid Ave</td>\n",
       "      <td>NaN</td>\n",
       "      <td>Cleveland</td>\n",
       "      <td>...</td>\n",
       "      <td>27.00%</td>\n",
       "      <td>NaN</td>\n",
       "      <td>52.00%</td>\n",
       "      <td>50.0%</td>\n",
       "      <td>23.00%</td>\n",
       "      <td>20.0%</td>\n",
       "      <td>32.00%</td>\n",
       "      <td>0%</td>\n",
       "      <td>NaN</td>\n",
       "      <td>0.7089</td>\n",
       "    </tr>\n",
       "    <tr>\n",
       "      <th>4</th>\n",
       "      <td>1003000480</td>\n",
       "      <td>Rothchild</td>\n",
       "      <td>Kevin</td>\n",
       "      <td>B</td>\n",
       "      <td>MD</td>\n",
       "      <td>M</td>\n",
       "      <td>I</td>\n",
       "      <td>12605 E 16th Ave</td>\n",
       "      <td>NaN</td>\n",
       "      <td>Aurora</td>\n",
       "      <td>...</td>\n",
       "      <td>43.00%</td>\n",
       "      <td>39.00%</td>\n",
       "      <td>43.00%</td>\n",
       "      <td>60.0%</td>\n",
       "      <td>33.00%</td>\n",
       "      <td>13.00%</td>\n",
       "      <td>57.00%</td>\n",
       "      <td>NaN</td>\n",
       "      <td>NaN</td>\n",
       "      <td>2.1137</td>\n",
       "    </tr>\n",
       "    <tr>\n",
       "      <th>...</th>\n",
       "      <td>...</td>\n",
       "      <td>...</td>\n",
       "      <td>...</td>\n",
       "      <td>...</td>\n",
       "      <td>...</td>\n",
       "      <td>...</td>\n",
       "      <td>...</td>\n",
       "      <td>...</td>\n",
       "      <td>...</td>\n",
       "      <td>...</td>\n",
       "      <td>...</td>\n",
       "      <td>...</td>\n",
       "      <td>...</td>\n",
       "      <td>...</td>\n",
       "      <td>...</td>\n",
       "      <td>...</td>\n",
       "      <td>...</td>\n",
       "      <td>...</td>\n",
       "      <td>...</td>\n",
       "      <td>...</td>\n",
       "      <td>...</td>\n",
       "    </tr>\n",
       "    <tr>\n",
       "      <th>1161537</th>\n",
       "      <td>1992999551</td>\n",
       "      <td>Molai</td>\n",
       "      <td>Indira</td>\n",
       "      <td>NaN</td>\n",
       "      <td>M.D.</td>\n",
       "      <td>F</td>\n",
       "      <td>I</td>\n",
       "      <td>625 E Grand Ave</td>\n",
       "      <td>NaN</td>\n",
       "      <td>Escondido</td>\n",
       "      <td>...</td>\n",
       "      <td>28.00%</td>\n",
       "      <td>26.00%</td>\n",
       "      <td>49.00%</td>\n",
       "      <td>66.00%</td>\n",
       "      <td>25.00%</td>\n",
       "      <td>9.00%</td>\n",
       "      <td>41.00%</td>\n",
       "      <td>NaN</td>\n",
       "      <td>4.00%</td>\n",
       "      <td>1.2418</td>\n",
       "    </tr>\n",
       "    <tr>\n",
       "      <th>1161538</th>\n",
       "      <td>1992999585</td>\n",
       "      <td>Marek</td>\n",
       "      <td>Norman</td>\n",
       "      <td>F</td>\n",
       "      <td>D.C.</td>\n",
       "      <td>M</td>\n",
       "      <td>I</td>\n",
       "      <td>1355 Four Mile Dr</td>\n",
       "      <td>NaN</td>\n",
       "      <td>Williamsport</td>\n",
       "      <td>...</td>\n",
       "      <td>24.00%</td>\n",
       "      <td>26.00%</td>\n",
       "      <td>61.00%</td>\n",
       "      <td>53.00%</td>\n",
       "      <td>26.00%</td>\n",
       "      <td>NaN</td>\n",
       "      <td>56.00%</td>\n",
       "      <td>NaN</td>\n",
       "      <td>NaN</td>\n",
       "      <td>0.9525</td>\n",
       "    </tr>\n",
       "    <tr>\n",
       "      <th>1161539</th>\n",
       "      <td>1992999775</td>\n",
       "      <td>Spine Surgery Center Of Eugene, Llc</td>\n",
       "      <td>NaN</td>\n",
       "      <td>NaN</td>\n",
       "      <td>NaN</td>\n",
       "      <td>NaN</td>\n",
       "      <td>O</td>\n",
       "      <td>1410 Oak St</td>\n",
       "      <td>Suite 300</td>\n",
       "      <td>Eugene</td>\n",
       "      <td>...</td>\n",
       "      <td>25.00%</td>\n",
       "      <td>17.00%</td>\n",
       "      <td>51.00%</td>\n",
       "      <td>63.00%</td>\n",
       "      <td>21.00%</td>\n",
       "      <td>9.00%</td>\n",
       "      <td>75.00%</td>\n",
       "      <td>NaN</td>\n",
       "      <td>NaN</td>\n",
       "      <td>0.9370</td>\n",
       "    </tr>\n",
       "    <tr>\n",
       "      <th>1161540</th>\n",
       "      <td>1992999825</td>\n",
       "      <td>Deschenes</td>\n",
       "      <td>Geoffrey</td>\n",
       "      <td>R</td>\n",
       "      <td>M.D.</td>\n",
       "      <td>M</td>\n",
       "      <td>I</td>\n",
       "      <td>1100 9th Ave</td>\n",
       "      <td>Ms:m4-Pfs</td>\n",
       "      <td>Seattle</td>\n",
       "      <td>...</td>\n",
       "      <td>19.00%</td>\n",
       "      <td>21.00%</td>\n",
       "      <td>44.00%</td>\n",
       "      <td>53.00%</td>\n",
       "      <td>26.00%</td>\n",
       "      <td>9.00%</td>\n",
       "      <td>37.00%</td>\n",
       "      <td>NaN</td>\n",
       "      <td>2.00%</td>\n",
       "      <td>1.1737</td>\n",
       "    </tr>\n",
       "    <tr>\n",
       "      <th>1161541</th>\n",
       "      <td>1992999874</td>\n",
       "      <td>Joffe</td>\n",
       "      <td>Gabriella</td>\n",
       "      <td>NaN</td>\n",
       "      <td>NaN</td>\n",
       "      <td>F</td>\n",
       "      <td>I</td>\n",
       "      <td>5620 Brook Rd</td>\n",
       "      <td>NaN</td>\n",
       "      <td>Richmond</td>\n",
       "      <td>...</td>\n",
       "      <td>41.00%</td>\n",
       "      <td>48.00%</td>\n",
       "      <td>75.00%</td>\n",
       "      <td>75.00%</td>\n",
       "      <td>61.00%</td>\n",
       "      <td>11.00%</td>\n",
       "      <td>48.00%</td>\n",
       "      <td>7.00%</td>\n",
       "      <td>23.00%</td>\n",
       "      <td>2.7672</td>\n",
       "    </tr>\n",
       "  </tbody>\n",
       "</table>\n",
       "<p>1161542 rows × 73 columns</p>\n",
       "</div>"
      ],
      "text/plain": [
       "         ï»¿Rndrng_NPI           Rndrng_Prvdr_Last_Org_Name  \\\n",
       "0           1003000126                            Enkeshafi   \n",
       "1           1003000134                               Cibull   \n",
       "2           1003000142                               Khalil   \n",
       "3           1003000423                              Velotta   \n",
       "4           1003000480                            Rothchild   \n",
       "...                ...                                  ...   \n",
       "1161537     1992999551                                Molai   \n",
       "1161538     1992999585                                Marek   \n",
       "1161539     1992999775  Spine Surgery Center Of Eugene, Llc   \n",
       "1161540     1992999825                            Deschenes   \n",
       "1161541     1992999874                                Joffe   \n",
       "\n",
       "        Rndrng_Prvdr_First_Name Rndrng_Prvdr_MI Rndrng_Prvdr_Crdntls  \\\n",
       "0                       Ardalan             NaN                 M.D.   \n",
       "1                        Thomas               L                 M.D.   \n",
       "2                        Rashid             NaN                 M.D.   \n",
       "3                      Jennifer               A                 M.D.   \n",
       "4                         Kevin               B                   MD   \n",
       "...                         ...             ...                  ...   \n",
       "1161537                  Indira             NaN                 M.D.   \n",
       "1161538                  Norman               F                 D.C.   \n",
       "1161539                     NaN             NaN                  NaN   \n",
       "1161540                Geoffrey               R                 M.D.   \n",
       "1161541               Gabriella             NaN                  NaN   \n",
       "\n",
       "        Rndrng_Prvdr_Gndr Rndrng_Prvdr_Ent_Cd            Rndrng_Prvdr_St1  \\\n",
       "0                       M                   I   6410 Rockledge Dr Ste 304   \n",
       "1                       M                   I              2650 Ridge Ave   \n",
       "2                       M                   I  4126 N Holland Sylvania Rd   \n",
       "3                       F                   I            11100 Euclid Ave   \n",
       "4                       M                   I            12605 E 16th Ave   \n",
       "...                   ...                 ...                         ...   \n",
       "1161537                 F                   I             625 E Grand Ave   \n",
       "1161538                 M                   I           1355 Four Mile Dr   \n",
       "1161539               NaN                   O                 1410 Oak St   \n",
       "1161540                 M                   I                1100 9th Ave   \n",
       "1161541                 F                   I               5620 Brook Rd   \n",
       "\n",
       "          Rndrng_Prvdr_St2 Rndrng_Prvdr_City  ... Bene_CC_Dprssn_Pct  \\\n",
       "0                      NaN          Bethesda  ...             35.00%   \n",
       "1        Evanston Hospital          Evanston  ...             15.00%   \n",
       "2                Suite 220            Toledo  ...             37.00%   \n",
       "3                      NaN         Cleveland  ...             27.00%   \n",
       "4                      NaN            Aurora  ...             43.00%   \n",
       "...                    ...               ...  ...                ...   \n",
       "1161537                NaN         Escondido  ...             28.00%   \n",
       "1161538                NaN      Williamsport  ...             24.00%   \n",
       "1161539          Suite 300            Eugene  ...             25.00%   \n",
       "1161540          Ms:m4-Pfs           Seattle  ...             19.00%   \n",
       "1161541                NaN          Richmond  ...             41.00%   \n",
       "\n",
       "        Bene_CC_Dbts_Pct Bene_CC_Hyplpdma_Pct  Bene_CC_Hyprtnsn_Pct  \\\n",
       "0                 47.00%               73.00%                75.00%   \n",
       "1                  20.0%               48.00%                48.00%   \n",
       "2                 35.00%               52.00%                68.00%   \n",
       "3                    NaN               52.00%                 50.0%   \n",
       "4                 39.00%               43.00%                 60.0%   \n",
       "...                  ...                  ...                   ...   \n",
       "1161537           26.00%               49.00%                66.00%   \n",
       "1161538           26.00%               61.00%                53.00%   \n",
       "1161539           17.00%               51.00%                63.00%   \n",
       "1161540           21.00%               44.00%                53.00%   \n",
       "1161541           48.00%               75.00%                75.00%   \n",
       "\n",
       "        Bene_CC_IHD_Pct Bene_CC_Opo_Pct Bene_CC_RAOA_Pct Bene_CC_Sz_Pct  \\\n",
       "0                66.00%          11.00%           51.00%          9.00%   \n",
       "1                24.00%             10%           38.00%           1.0%   \n",
       "2                31.00%             NaN           75.00%            NaN   \n",
       "3                23.00%           20.0%           32.00%             0%   \n",
       "4                33.00%          13.00%           57.00%            NaN   \n",
       "...                 ...             ...              ...            ...   \n",
       "1161537          25.00%           9.00%           41.00%            NaN   \n",
       "1161538          26.00%             NaN           56.00%            NaN   \n",
       "1161539          21.00%           9.00%           75.00%            NaN   \n",
       "1161540          26.00%           9.00%           37.00%            NaN   \n",
       "1161541          61.00%          11.00%           48.00%          7.00%   \n",
       "\n",
       "         Bene_CC_Strok_Pct Bene_Avg_Risk_Scre  \n",
       "0                   19.00%             2.5028  \n",
       "1                    3.00%             1.1124  \n",
       "2                      NaN             1.6935  \n",
       "3                      NaN             0.7089  \n",
       "4                      NaN             2.1137  \n",
       "...                    ...                ...  \n",
       "1161537              4.00%             1.2418  \n",
       "1161538                NaN             0.9525  \n",
       "1161539                NaN             0.9370  \n",
       "1161540              2.00%             1.1737  \n",
       "1161541             23.00%             2.7672  \n",
       "\n",
       "[1161542 rows x 73 columns]"
      ]
     },
     "execution_count": 3,
     "metadata": {},
     "output_type": "execute_result"
    }
   ],
   "source": [
    "part_b"
   ]
  },
  {
   "cell_type": "code",
   "execution_count": 4,
   "id": "2a800229",
   "metadata": {},
   "outputs": [],
   "source": [
    "part_b[\"Rndrng_NPI\"] = part_b[\"ï»¿Rndrng_NPI\"]\n",
    "part_b=part_b.drop(\"ï»¿Rndrng_NPI\",axis=1)"
   ]
  },
  {
   "cell_type": "code",
   "execution_count": 5,
   "id": "025e2cf5",
   "metadata": {},
   "outputs": [
    {
     "data": {
      "text/plain": [
       "array([1, 1, 1, ..., 1, 1, 1])"
      ]
     },
     "execution_count": 5,
     "metadata": {},
     "output_type": "execute_result"
    }
   ],
   "source": [
    "np.sort(part_b['Rndrng_NPI'].value_counts())"
   ]
  },
  {
   "cell_type": "code",
   "execution_count": 6,
   "id": "1cb3f3f5",
   "metadata": {},
   "outputs": [],
   "source": [
    "part_b = part_b.dropna(axis=0,thresh=2)\n",
    "part_b = part_b.dropna(subset=[\"Rndrng_NPI\"],axis=0)\n",
    "part_b = part_b.dropna(subset=[\"Rndrng_Prvdr_Last_Org_Name\"],axis=0)\n",
    "part_b = part_b.dropna(subset=[\"Rndrng_Prvdr_First_Name\"],axis=0)"
   ]
  },
  {
   "cell_type": "markdown",
   "id": "a9c0a045",
   "metadata": {},
   "source": [
    "### PRE_PROCESSING OF LEIE DATA"
   ]
  },
  {
   "cell_type": "code",
   "execution_count": 7,
   "id": "f087eb90",
   "metadata": {},
   "outputs": [],
   "source": [
    "leie_ex = leie_ex.dropna(subset=[\"NPI\"],axis=0)\n",
    "ex_npi = leie_ex[leie_ex[\"NPI\"]!=0][\"NPI\"]\n",
    "ex_lnames = leie_ex.dropna(subset=[\"LASTNAME\"],axis=0)[\"LASTNAME\"]\n",
    "ex_fnames = leie_ex.dropna(subset=[\"FIRSTNAME\"],axis=0)[\"FIRSTNAME\"]\n",
    "leie_ex[\"MIDNAME\"] = leie_ex[\"MIDNAME\"].apply(lambda row : row if row!= \" \" else 0)\n",
    "ex_mi = leie_ex[leie_ex[\"MIDNAME\"]!=0][\"MIDNAME\"]"
   ]
  },
  {
   "cell_type": "code",
   "execution_count": 8,
   "id": "8d768abb",
   "metadata": {},
   "outputs": [
    {
     "name": "stdout",
     "output_type": "stream",
     "text": [
      "(76546, 18)\n",
      "(1100800, 73)\n"
     ]
    }
   ],
   "source": [
    "print(leie_ex.shape)\n",
    "print(part_b.shape)"
   ]
  },
  {
   "cell_type": "code",
   "execution_count": 9,
   "id": "1fa120fa",
   "metadata": {},
   "outputs": [
    {
     "data": {
      "text/plain": [
       "1128b4       31120\n",
       "1128a1       21991\n",
       "1128a2        7318\n",
       "1128a3        4809\n",
       "1128a4        3134\n",
       "1128b14       2243\n",
       "1128b8        1496\n",
       "1128a1        1100\n",
       "1128b1         862\n",
       "1128b5         807\n",
       "1128b7         657\n",
       "1128b3         313\n",
       "1128Aa         150\n",
       "1128a3         136\n",
       "1128a2         112\n",
       "1128b6          64\n",
       "1128b2          56\n",
       "1156            56\n",
       "1128b15         34\n",
       "1128b7          24\n",
       "BRCH SA         17\n",
       "BRCH CIA        14\n",
       "1128b11         11\n",
       "1160             9\n",
       "1128b6           3\n",
       "1128a4           3\n",
       "1128b2           2\n",
       "1128b16          2\n",
       "1128b12          1\n",
       "1128b1           1\n",
       "1128b5           1\n",
       "Name: EXCLTYPE, dtype: int64"
      ]
     },
     "execution_count": 9,
     "metadata": {},
     "output_type": "execute_result"
    }
   ],
   "source": [
    "leie_ex[\"EXCLTYPE\"].value_counts()"
   ]
  },
  {
   "cell_type": "code",
   "execution_count": 10,
   "id": "f45d992d",
   "metadata": {},
   "outputs": [],
   "source": [
    "ex_npi_unique = leie_ex.drop_duplicates(\"NPI\")  # Remove duplicate NPI values\n",
    "ex_npi_dict = dict(zip(ex_npi_unique['NPI'], ex_npi_unique['EXCLTYPE']))\n",
    "\n",
    "part_b['Fraud'] = np.where(part_b['Rndrng_NPI'].isin(ex_npi_dict), 1, 0)\n",
    "part_b['FraudType'] = np.where(part_b['Fraud'] == 1,part_b['Rndrng_NPI'].map(ex_npi_dict),0)"
   ]
  },
  {
   "cell_type": "code",
   "execution_count": 11,
   "id": "7045542e",
   "metadata": {},
   "outputs": [
    {
     "data": {
      "text/plain": [
       "0    1100684\n",
       "1        116\n",
       "Name: Fraud, dtype: int64"
      ]
     },
     "execution_count": 11,
     "metadata": {},
     "output_type": "execute_result"
    }
   ],
   "source": [
    "part_b[\"Fraud\"].value_counts()"
   ]
  },
  {
   "cell_type": "code",
   "execution_count": 12,
   "id": "14640920",
   "metadata": {},
   "outputs": [
    {
     "data": {
      "text/plain": [
       "0            1100684\n",
       "1128b4            35\n",
       "1128a1            30\n",
       "1128a4            14\n",
       "1128a1            13\n",
       "1128a3             8\n",
       "1128b7             8\n",
       "1128b1             2\n",
       "1128a2             2\n",
       "BRCH SA            1\n",
       "1128a2             1\n",
       "1128b2             1\n",
       "1128a3             1\n",
       "Name: FraudType, dtype: int64"
      ]
     },
     "execution_count": 12,
     "metadata": {},
     "output_type": "execute_result"
    }
   ],
   "source": [
    "part_b[\"FraudType\"].value_counts()"
   ]
  },
  {
   "cell_type": "code",
   "execution_count": 13,
   "id": "8e27a37b",
   "metadata": {},
   "outputs": [
    {
     "data": {
      "text/plain": [
       "1003000126    1\n",
       "1669673638    1\n",
       "1669672853    1\n",
       "1669672960    1\n",
       "1669672994    1\n",
       "             ..\n",
       "1336193614    1\n",
       "1336193622    1\n",
       "1336193630    1\n",
       "1336193648    1\n",
       "1992999874    1\n",
       "Name: Rndrng_NPI, Length: 1100800, dtype: int64"
      ]
     },
     "execution_count": 13,
     "metadata": {},
     "output_type": "execute_result"
    }
   ],
   "source": [
    "part_b['Rndrng_NPI'].value_counts()"
   ]
  },
  {
   "cell_type": "markdown",
   "id": "ec69282d",
   "metadata": {},
   "source": [
    "### ANALYSIS OF EACH COLUMN"
   ]
  },
  {
   "cell_type": "code",
   "execution_count": 14,
   "id": "8dbb90be",
   "metadata": {},
   "outputs": [
    {
     "data": {
      "text/plain": [
       "Index(['Rndrng_Prvdr_Last_Org_Name', 'Rndrng_Prvdr_First_Name',\n",
       "       'Rndrng_Prvdr_MI', 'Rndrng_Prvdr_Crdntls', 'Rndrng_Prvdr_Gndr',\n",
       "       'Rndrng_Prvdr_Ent_Cd', 'Rndrng_Prvdr_St1', 'Rndrng_Prvdr_St2',\n",
       "       'Rndrng_Prvdr_City', 'Rndrng_Prvdr_State_Abrvtn',\n",
       "       'Rndrng_Prvdr_State_FIPS', 'Rndrng_Prvdr_Zip5', 'Rndrng_Prvdr_RUCA',\n",
       "       'Rndrng_Prvdr_RUCA_Desc', 'Rndrng_Prvdr_Cntry', 'Rndrng_Prvdr_Type',\n",
       "       'Rndrng_Prvdr_Mdcr_Prtcptg_Ind', 'Tot_HCPCS_Cds', 'Tot_Benes',\n",
       "       'Tot_Srvcs', 'Tot_Sbmtd_Chrg', 'Tot_Mdcr_Alowd_Amt',\n",
       "       'Tot_Mdcr_Pymt_Amt', 'Tot_Mdcr_Stdzd_Amt', 'Drug_Sprsn_Ind',\n",
       "       'Drug_Tot_HCPCS_Cds', 'Drug_Tot_Benes', 'Drug_Tot_Srvcs',\n",
       "       'Drug_Sbmtd_Chrg', 'Drug_Mdcr_Alowd_Amt', 'Drug_Mdcr_Pymt_Amt',\n",
       "       'Drug_Mdcr_Stdzd_Amt', 'Med_Sprsn_Ind', 'Med_Tot_HCPCS_Cds',\n",
       "       'Med_Tot_Benes', 'Med_Tot_Srvcs', 'Med_Sbmtd_Chrg',\n",
       "       'Med_Mdcr_Alowd_Amt', 'Med_Mdcr_Pymt_Amt', 'Med_Mdcr_Stdzd_Amt',\n",
       "       'Bene_Avg_Age', 'Bene_Age_LT_65_Cnt', 'Bene_Age_65_74_Cnt',\n",
       "       'Bene_Age_75_84_Cnt', 'Bene_Age_GT_84_Cnt', 'Bene_Feml_Cnt',\n",
       "       'Bene_Male_Cnt', 'Bene_Race_Wht_Cnt', 'Bene_Race_Black_Cnt',\n",
       "       'Bene_Race_API_Cnt', 'Bene_Race_Hspnc_Cnt', 'Bene_Race_NatInd_Cnt',\n",
       "       'Bene_Race_Othr_Cnt', 'Bene_Dual_Cnt', 'Bene_Ndual_Cnt',\n",
       "       'Bene_CC_AF_Pct', 'Bene_CC_Alzhmr_Pct', 'Bene_CC_Asthma_Pct',\n",
       "       'Bene_CC_Cncr_Pct', 'Bene_CC_CHF_Pct', 'Bene_CC_CKD_Pct',\n",
       "       'Bene_CC_COPD_Pct', 'Bene_CC_Dprssn_Pct', 'Bene_CC_Dbts_Pct',\n",
       "       'Bene_CC_Hyplpdma_Pct', 'Bene_CC_Hyprtnsn_Pct', 'Bene_CC_IHD_Pct',\n",
       "       'Bene_CC_Opo_Pct', 'Bene_CC_RAOA_Pct', 'Bene_CC_Sz_Pct',\n",
       "       'Bene_CC_Strok_Pct', 'Bene_Avg_Risk_Scre', 'Rndrng_NPI', 'Fraud',\n",
       "       'FraudType'],\n",
       "      dtype='object')"
      ]
     },
     "execution_count": 14,
     "metadata": {},
     "output_type": "execute_result"
    }
   ],
   "source": [
    "part_b.columns"
   ]
  },
  {
   "cell_type": "code",
   "execution_count": 15,
   "id": "c436efe4",
   "metadata": {},
   "outputs": [
    {
     "name": "stdout",
     "output_type": "stream",
     "text": [
      "<class 'pandas.core.frame.DataFrame'>\n",
      "Int64Index: 1100800 entries, 0 to 1161541\n",
      "Data columns (total 75 columns):\n",
      " #   Column                         Non-Null Count    Dtype  \n",
      "---  ------                         --------------    -----  \n",
      " 0   Rndrng_Prvdr_Last_Org_Name     1100800 non-null  object \n",
      " 1   Rndrng_Prvdr_First_Name        1100800 non-null  object \n",
      " 2   Rndrng_Prvdr_MI                753740 non-null   object \n",
      " 3   Rndrng_Prvdr_Crdntls           1029252 non-null  object \n",
      " 4   Rndrng_Prvdr_Gndr              1100800 non-null  object \n",
      " 5   Rndrng_Prvdr_Ent_Cd            1100800 non-null  object \n",
      " 6   Rndrng_Prvdr_St1               1100800 non-null  object \n",
      " 7   Rndrng_Prvdr_St2               314695 non-null   object \n",
      " 8   Rndrng_Prvdr_City              1100800 non-null  object \n",
      " 9   Rndrng_Prvdr_State_Abrvtn      1100800 non-null  object \n",
      " 10  Rndrng_Prvdr_State_FIPS        1100795 non-null  object \n",
      " 11  Rndrng_Prvdr_Zip5              1100799 non-null  object \n",
      " 12  Rndrng_Prvdr_RUCA              1100060 non-null  float64\n",
      " 13  Rndrng_Prvdr_RUCA_Desc         1100060 non-null  object \n",
      " 14  Rndrng_Prvdr_Cntry             1100800 non-null  object \n",
      " 15  Rndrng_Prvdr_Type              1100800 non-null  object \n",
      " 16  Rndrng_Prvdr_Mdcr_Prtcptg_Ind  1100800 non-null  object \n",
      " 17  Tot_HCPCS_Cds                  1100800 non-null  int64  \n",
      " 18  Tot_Benes                      1100800 non-null  object \n",
      " 19  Tot_Srvcs                      1100800 non-null  object \n",
      " 20  Tot_Sbmtd_Chrg                 1100800 non-null  object \n",
      " 21  Tot_Mdcr_Alowd_Amt             1100800 non-null  object \n",
      " 22  Tot_Mdcr_Pymt_Amt              1100800 non-null  object \n",
      " 23  Tot_Mdcr_Stdzd_Amt             1100800 non-null  object \n",
      " 24  Drug_Sprsn_Ind                 130708 non-null   object \n",
      " 25  Drug_Tot_HCPCS_Cds             970092 non-null   float64\n",
      " 26  Drug_Tot_Benes                 970092 non-null   object \n",
      " 27  Drug_Tot_Srvcs                 970092 non-null   object \n",
      " 28  Drug_Sbmtd_Chrg                970092 non-null   object \n",
      " 29  Drug_Mdcr_Alowd_Amt            970092 non-null   object \n",
      " 30  Drug_Mdcr_Pymt_Amt             970092 non-null   object \n",
      " 31  Drug_Mdcr_Stdzd_Amt            970092 non-null   object \n",
      " 32  Med_Sprsn_Ind                  130708 non-null   object \n",
      " 33  Med_Tot_HCPCS_Cds              970092 non-null   float64\n",
      " 34  Med_Tot_Benes                  970092 non-null   object \n",
      " 35  Med_Tot_Srvcs                  970092 non-null   object \n",
      " 36  Med_Sbmtd_Chrg                 970092 non-null   object \n",
      " 37  Med_Mdcr_Alowd_Amt             970092 non-null   object \n",
      " 38  Med_Mdcr_Pymt_Amt              970092 non-null   object \n",
      " 39  Med_Mdcr_Stdzd_Amt             970092 non-null   object \n",
      " 40  Bene_Avg_Age                   1100800 non-null  int64  \n",
      " 41  Bene_Age_LT_65_Cnt             637669 non-null   object \n",
      " 42  Bene_Age_65_74_Cnt             908697 non-null   object \n",
      " 43  Bene_Age_75_84_Cnt             758281 non-null   object \n",
      " 44  Bene_Age_GT_84_Cnt             594914 non-null   object \n",
      " 45  Bene_Feml_Cnt                  960018 non-null   object \n",
      " 46  Bene_Male_Cnt                  960018 non-null   object \n",
      " 47  Bene_Race_Wht_Cnt              721605 non-null   object \n",
      " 48  Bene_Race_Black_Cnt            349520 non-null   object \n",
      " 49  Bene_Race_API_Cnt              190106 non-null   object \n",
      " 50  Bene_Race_Hspnc_Cnt            270328 non-null   object \n",
      " 51  Bene_Race_NatInd_Cnt           347444 non-null   object \n",
      " 52  Bene_Race_Othr_Cnt             182955 non-null   object \n",
      " 53  Bene_Dual_Cnt                  782575 non-null   object \n",
      " 54  Bene_Ndual_Cnt                 782575 non-null   object \n",
      " 55  Bene_CC_AF_Pct                 722098 non-null   object \n",
      " 56  Bene_CC_Alzhmr_Pct             721714 non-null   object \n",
      " 57  Bene_CC_Asthma_Pct             627016 non-null   object \n",
      " 58  Bene_CC_Cncr_Pct               713031 non-null   object \n",
      " 59  Bene_CC_CHF_Pct                810368 non-null   object \n",
      " 60  Bene_CC_CKD_Pct                923878 non-null   object \n",
      " 61  Bene_CC_COPD_Pct               761974 non-null   object \n",
      " 62  Bene_CC_Dprssn_Pct             921896 non-null   object \n",
      " 63  Bene_CC_Dbts_Pct               920639 non-null   object \n",
      " 64  Bene_CC_Hyplpdma_Pct           1010335 non-null  object \n",
      " 65  Bene_CC_Hyprtnsn_Pct           1032375 non-null  object \n",
      " 66  Bene_CC_IHD_Pct                919482 non-null   object \n",
      " 67  Bene_CC_Opo_Pct                660904 non-null   object \n",
      " 68  Bene_CC_RAOA_Pct               985018 non-null   object \n",
      " 69  Bene_CC_Sz_Pct                 475449 non-null   object \n",
      " 70  Bene_CC_Strok_Pct              568017 non-null   object \n",
      " 71  Bene_Avg_Risk_Scre             1100800 non-null  float64\n",
      " 72  Rndrng_NPI                     1100800 non-null  int64  \n",
      " 73  Fraud                          1100800 non-null  int64  \n",
      " 74  FraudType                      1100800 non-null  object \n",
      "dtypes: float64(4), int64(4), object(67)\n",
      "memory usage: 638.3+ MB\n"
     ]
    }
   ],
   "source": [
    "part_b.info()"
   ]
  },
  {
   "cell_type": "code",
   "execution_count": 16,
   "id": "4e8022d0",
   "metadata": {},
   "outputs": [
    {
     "data": {
      "text/plain": [
       "M.D.                    251940\n",
       "MD                      251375\n",
       "PA-C                     44843\n",
       "CRNA                     37015\n",
       "D.O.                     35008\n",
       "                         ...  \n",
       "PAC, MPAS, BBA               1\n",
       "PT, MSPT,  ATC, CSCS         1\n",
       "DC, DACRB, CSCS              1\n",
       "RN MS PMHNP                  1\n",
       "DMD, MD, MHS                 1\n",
       "Name: Rndrng_Prvdr_Crdntls, Length: 17586, dtype: int64"
      ]
     },
     "execution_count": 16,
     "metadata": {},
     "output_type": "execute_result"
    }
   ],
   "source": [
    "part_b[\"Rndrng_Prvdr_Crdntls\"].value_counts()"
   ]
  },
  {
   "cell_type": "code",
   "execution_count": 17,
   "id": "023d1457",
   "metadata": {},
   "outputs": [],
   "source": [
    "def convert_to_int(value):\n",
    "    try:\n",
    "        return int(value)\n",
    "    except ValueError:\n",
    "        return np.nan  \n",
    "\n",
    "part_b['Rndrng_Prvdr_Zip5'] = part_b['Rndrng_Prvdr_Zip5'].apply(convert_to_int)\n"
   ]
  },
  {
   "cell_type": "code",
   "execution_count": 18,
   "id": "c8e09787",
   "metadata": {},
   "outputs": [],
   "source": [
    "part_b = part_b[part_b[\"Rndrng_Prvdr_Cntry\"] == 'US']"
   ]
  },
  {
   "cell_type": "markdown",
   "id": "4c889f00",
   "metadata": {},
   "source": [
    "### Rndrng_Prvdr_Type"
   ]
  },
  {
   "cell_type": "code",
   "execution_count": 19,
   "id": "382f0e1c",
   "metadata": {},
   "outputs": [
    {
     "data": {
      "text/plain": [
       "Series([], Name: Fraud, dtype: int64)"
      ]
     },
     "execution_count": 19,
     "metadata": {},
     "output_type": "execute_result"
    }
   ],
   "source": [
    "# No Null\n",
    "part_b[part_b['Rndrng_Prvdr_Type'].isnull()][\"Fraud\"].value_counts()"
   ]
  },
  {
   "cell_type": "code",
   "execution_count": 20,
   "id": "f3b6c5a2",
   "metadata": {},
   "outputs": [
    {
     "data": {
      "text/plain": [
       "Nurse Practitioner                        149318\n",
       "Internal Medicine                          91092\n",
       "Physician Assistant                        86288\n",
       "Family Practice                            83394\n",
       "Physical Therapist in Private Practice     59414\n",
       "                                           ...  \n",
       "Portable X-Ray Supplier                        4\n",
       "Clinic or Group Practice                       2\n",
       "Adult Congenital Heart Disease                 1\n",
       "Slide Preparation Facility                     1\n",
       "Pharmacy                                       1\n",
       "Name: Rndrng_Prvdr_Type, Length: 93, dtype: int64"
      ]
     },
     "execution_count": 20,
     "metadata": {},
     "output_type": "execute_result"
    }
   ],
   "source": [
    "# What are the values Present\n",
    "part_b[\"Rndrng_Prvdr_Type\"].value_counts()"
   ]
  },
  {
   "cell_type": "code",
   "execution_count": 21,
   "id": "fcc115bd",
   "metadata": {},
   "outputs": [],
   "source": [
    "# PreProcessing Scenerio -> Label Encoder (do it while Modelling)"
   ]
  },
  {
   "cell_type": "markdown",
   "id": "aeb44c42",
   "metadata": {},
   "source": [
    "### Rndrng_Prvdr_Mdcr_Prtcptg_Ind"
   ]
  },
  {
   "cell_type": "code",
   "execution_count": 22,
   "id": "b9986352",
   "metadata": {},
   "outputs": [
    {
     "data": {
      "text/plain": [
       "Series([], Name: Fraud, dtype: int64)"
      ]
     },
     "execution_count": 22,
     "metadata": {},
     "output_type": "execute_result"
    }
   ],
   "source": [
    "# No Null\n",
    "part_b[part_b['Rndrng_Prvdr_Mdcr_Prtcptg_Ind'].isnull()][\"Fraud\"].value_counts()"
   ]
  },
  {
   "cell_type": "code",
   "execution_count": 23,
   "id": "e81cecc8",
   "metadata": {},
   "outputs": [
    {
     "data": {
      "text/plain": [
       "Y    1099762\n",
       "N        964\n",
       "Name: Rndrng_Prvdr_Mdcr_Prtcptg_Ind, dtype: int64"
      ]
     },
     "execution_count": 23,
     "metadata": {},
     "output_type": "execute_result"
    }
   ],
   "source": [
    "# What are the values Present\n",
    "part_b[\"Rndrng_Prvdr_Mdcr_Prtcptg_Ind\"].value_counts()"
   ]
  },
  {
   "cell_type": "code",
   "execution_count": 24,
   "id": "8f475a80",
   "metadata": {},
   "outputs": [],
   "source": [
    "# PreProcessing Scenerio\n",
    "part_b[\"Rndrng_Prvdr_Mdcr_Prtcptg_Ind\"] = part_b[\"Rndrng_Prvdr_Mdcr_Prtcptg_Ind\"].apply(lambda row : 1 if row == 'Y' else 0)"
   ]
  },
  {
   "cell_type": "code",
   "execution_count": 25,
   "id": "dd5feb40",
   "metadata": {},
   "outputs": [
    {
     "data": {
      "text/plain": [
       "1    1099762\n",
       "0        964\n",
       "Name: Rndrng_Prvdr_Mdcr_Prtcptg_Ind, dtype: int64"
      ]
     },
     "execution_count": 25,
     "metadata": {},
     "output_type": "execute_result"
    }
   ],
   "source": [
    "# What are the values Present\n",
    "part_b[\"Rndrng_Prvdr_Mdcr_Prtcptg_Ind\"].value_counts()"
   ]
  },
  {
   "cell_type": "markdown",
   "id": "e46b3a6c",
   "metadata": {},
   "source": [
    "### Tot_HCPCS_Cds"
   ]
  },
  {
   "cell_type": "code",
   "execution_count": 26,
   "id": "ef64dfac",
   "metadata": {},
   "outputs": [
    {
     "data": {
      "text/plain": [
       "Series([], Name: Fraud, dtype: int64)"
      ]
     },
     "execution_count": 26,
     "metadata": {},
     "output_type": "execute_result"
    }
   ],
   "source": [
    "# No Null\n",
    "part_b[part_b['Tot_HCPCS_Cds'].isnull()][\"Fraud\"].value_counts()"
   ]
  },
  {
   "cell_type": "code",
   "execution_count": 27,
   "id": "d3a5db52",
   "metadata": {},
   "outputs": [
    {
     "data": {
      "text/plain": [
       "9      36974\n",
       "10     36665\n",
       "8      36405\n",
       "11     35310\n",
       "7      34641\n",
       "       ...  \n",
       "411        1\n",
       "378        1\n",
       "331        1\n",
       "299        1\n",
       "349        1\n",
       "Name: Tot_HCPCS_Cds, Length: 328, dtype: int64"
      ]
     },
     "execution_count": 27,
     "metadata": {},
     "output_type": "execute_result"
    }
   ],
   "source": [
    "# What are the values Present\n",
    "part_b[\"Tot_HCPCS_Cds\"].value_counts()"
   ]
  },
  {
   "cell_type": "code",
   "execution_count": 28,
   "id": "9fc0b97a",
   "metadata": {},
   "outputs": [],
   "source": [
    "# PreProcessing Scenerio\n",
    "part_b[\"Tot_HCPCS_Cds\"] = part_b[\"Tot_HCPCS_Cds\"].astype(float)"
   ]
  },
  {
   "cell_type": "code",
   "execution_count": 29,
   "id": "b85f4e8a",
   "metadata": {},
   "outputs": [
    {
     "data": {
      "text/plain": [
       "9.0      36974\n",
       "10.0     36665\n",
       "8.0      36405\n",
       "11.0     35310\n",
       "7.0      34641\n",
       "         ...  \n",
       "411.0        1\n",
       "378.0        1\n",
       "331.0        1\n",
       "299.0        1\n",
       "349.0        1\n",
       "Name: Tot_HCPCS_Cds, Length: 328, dtype: int64"
      ]
     },
     "execution_count": 29,
     "metadata": {},
     "output_type": "execute_result"
    }
   ],
   "source": [
    "# What are the values Present\n",
    "part_b[\"Tot_HCPCS_Cds\"].value_counts()"
   ]
  },
  {
   "cell_type": "markdown",
   "id": "fb3a7cab",
   "metadata": {},
   "source": [
    "### Tot_Benes"
   ]
  },
  {
   "cell_type": "code",
   "execution_count": 30,
   "id": "47eff0f2",
   "metadata": {},
   "outputs": [
    {
     "data": {
      "text/plain": [
       "Series([], Name: Fraud, dtype: int64)"
      ]
     },
     "execution_count": 30,
     "metadata": {},
     "output_type": "execute_result"
    }
   ],
   "source": [
    "# No Null\n",
    "part_b[part_b['Tot_Benes'].isnull()][\"Fraud\"].value_counts()"
   ]
  },
  {
   "cell_type": "code",
   "execution_count": 31,
   "id": "803d7fcb",
   "metadata": {},
   "outputs": [
    {
     "data": {
      "text/plain": [
       "11       10756\n",
       "12       10254\n",
       "13        9791\n",
       "14        9235\n",
       "15        8931\n",
       "         ...  \n",
       "7,001        1\n",
       "5,938        1\n",
       "4,688        1\n",
       "9,595        1\n",
       "6,922        1\n",
       "Name: Tot_Benes, Length: 5512, dtype: int64"
      ]
     },
     "execution_count": 31,
     "metadata": {},
     "output_type": "execute_result"
    }
   ],
   "source": [
    "# What are the values Present\n",
    "part_b[\"Tot_Benes\"].value_counts()"
   ]
  },
  {
   "cell_type": "code",
   "execution_count": 32,
   "id": "3d3dc402",
   "metadata": {},
   "outputs": [],
   "source": [
    "part_b[\"Tot_Benes\"] = part_b[\"Tot_Benes\"].str.replace(',', '').astype(float)"
   ]
  },
  {
   "cell_type": "code",
   "execution_count": 33,
   "id": "46856f2a",
   "metadata": {},
   "outputs": [
    {
     "data": {
      "text/plain": [
       "11.0      10756\n",
       "12.0      10254\n",
       "13.0       9791\n",
       "14.0       9235\n",
       "15.0       8931\n",
       "          ...  \n",
       "7001.0        1\n",
       "5938.0        1\n",
       "4688.0        1\n",
       "9595.0        1\n",
       "6922.0        1\n",
       "Name: Tot_Benes, Length: 5512, dtype: int64"
      ]
     },
     "execution_count": 33,
     "metadata": {},
     "output_type": "execute_result"
    }
   ],
   "source": [
    "# What are the values Present\n",
    "part_b[\"Tot_Benes\"].value_counts()"
   ]
  },
  {
   "cell_type": "markdown",
   "id": "6dce4a46",
   "metadata": {},
   "source": [
    "### Tot_Srvcs"
   ]
  },
  {
   "cell_type": "code",
   "execution_count": 34,
   "id": "a439f525",
   "metadata": {},
   "outputs": [
    {
     "data": {
      "text/plain": [
       "Series([], Name: Fraud, dtype: int64)"
      ]
     },
     "execution_count": 34,
     "metadata": {},
     "output_type": "execute_result"
    }
   ],
   "source": [
    "# No Null\n",
    "part_b[part_b['Tot_Srvcs'].isnull()][\"Fraud\"].value_counts()"
   ]
  },
  {
   "cell_type": "code",
   "execution_count": 35,
   "id": "d33224bc",
   "metadata": {},
   "outputs": [
    {
     "data": {
      "text/plain": [
       "23         2508\n",
       "29         2501\n",
       "26         2499\n",
       "21         2478\n",
       "24         2472\n",
       "           ... \n",
       "25,600        1\n",
       "23,575        1\n",
       "18,986        1\n",
       "292,161       1\n",
       "76,925        1\n",
       "Name: Tot_Srvcs, Length: 30337, dtype: int64"
      ]
     },
     "execution_count": 35,
     "metadata": {},
     "output_type": "execute_result"
    }
   ],
   "source": [
    "# What are the values Present\n",
    "part_b[\"Tot_Srvcs\"].value_counts()"
   ]
  },
  {
   "cell_type": "code",
   "execution_count": 37,
   "id": "ef033d7d",
   "metadata": {},
   "outputs": [],
   "source": [
    "part_b[\"Tot_Srvcs\"] = part_b[\"Tot_Srvcs\"].replace(',','',regex=True).astype(float)"
   ]
  },
  {
   "cell_type": "code",
   "execution_count": 38,
   "id": "caea6c41",
   "metadata": {},
   "outputs": [
    {
     "data": {
      "text/plain": [
       "23.0        2508\n",
       "29.0        2501\n",
       "26.0        2499\n",
       "21.0        2478\n",
       "24.0        2472\n",
       "            ... \n",
       "25600.0        1\n",
       "23575.0        1\n",
       "18986.0        1\n",
       "292161.0       1\n",
       "76925.0        1\n",
       "Name: Tot_Srvcs, Length: 30337, dtype: int64"
      ]
     },
     "execution_count": 38,
     "metadata": {},
     "output_type": "execute_result"
    }
   ],
   "source": [
    "# What are the values Present\n",
    "part_b[\"Tot_Srvcs\"].value_counts()"
   ]
  },
  {
   "cell_type": "markdown",
   "id": "9836b6d3",
   "metadata": {},
   "source": [
    "### Tot_Sbmtd_Chrg"
   ]
  },
  {
   "cell_type": "code",
   "execution_count": 39,
   "id": "9610f586",
   "metadata": {},
   "outputs": [
    {
     "data": {
      "text/plain": [
       "Series([], Name: Fraud, dtype: int64)"
      ]
     },
     "execution_count": 39,
     "metadata": {},
     "output_type": "execute_result"
    }
   ],
   "source": [
    "# No Null\n",
    "part_b[part_b['Tot_Sbmtd_Chrg'].isnull()][\"Fraud\"].value_counts()"
   ]
  },
  {
   "cell_type": "code",
   "execution_count": 40,
   "id": "0e7627c4",
   "metadata": {},
   "outputs": [
    {
     "data": {
      "text/plain": [
       "$11,700.00     47\n",
       "$4,800.00      45\n",
       "$10,800.00     43\n",
       "$7,200.00      42\n",
       "$5,400.00      42\n",
       "               ..\n",
       "$4,613.65       1\n",
       "$303,229.01     1\n",
       "$71,450.42      1\n",
       "$352,690.00     1\n",
       "$340,479.02     1\n",
       "Name: Tot_Sbmtd_Chrg, Length: 700974, dtype: int64"
      ]
     },
     "execution_count": 40,
     "metadata": {},
     "output_type": "execute_result"
    }
   ],
   "source": [
    "# What are the values Present\n",
    "part_b[\"Tot_Sbmtd_Chrg\"].value_counts()"
   ]
  },
  {
   "cell_type": "code",
   "execution_count": 41,
   "id": "b2f65070",
   "metadata": {},
   "outputs": [],
   "source": [
    "part_b[\"Tot_Sbmtd_Chrg\"] = part_b[\"Tot_Sbmtd_Chrg\"].replace('[\\$,]', '', regex=True).astype(float)"
   ]
  },
  {
   "cell_type": "code",
   "execution_count": 42,
   "id": "b54c2070",
   "metadata": {},
   "outputs": [
    {
     "data": {
      "text/plain": [
       "11700.00     47\n",
       "4800.00      45\n",
       "10800.00     43\n",
       "7200.00      42\n",
       "5400.00      42\n",
       "             ..\n",
       "4613.65       1\n",
       "303229.01     1\n",
       "71450.42      1\n",
       "352690.00     1\n",
       "340479.02     1\n",
       "Name: Tot_Sbmtd_Chrg, Length: 700974, dtype: int64"
      ]
     },
     "execution_count": 42,
     "metadata": {},
     "output_type": "execute_result"
    }
   ],
   "source": [
    "# What are the values Present\n",
    "part_b[\"Tot_Sbmtd_Chrg\"].value_counts()"
   ]
  },
  {
   "cell_type": "markdown",
   "id": "a38ddc4e",
   "metadata": {},
   "source": [
    "### Tot_Mdcr_Alowd_Amt"
   ]
  },
  {
   "cell_type": "code",
   "execution_count": 43,
   "id": "fe63def4",
   "metadata": {},
   "outputs": [
    {
     "data": {
      "text/plain": [
       "Series([], Name: Fraud, dtype: int64)"
      ]
     },
     "execution_count": 43,
     "metadata": {},
     "output_type": "execute_result"
    }
   ],
   "source": [
    "# No Null\n",
    "part_b[part_b['Tot_Mdcr_Alowd_Amt'].isnull()][\"Fraud\"].value_counts()"
   ]
  },
  {
   "cell_type": "code",
   "execution_count": 44,
   "id": "42b14109",
   "metadata": {},
   "outputs": [
    {
     "data": {
      "text/plain": [
       "$2,054.38     5\n",
       "$1,896.14     5\n",
       "$1,719.01     5\n",
       "$12,577.62    5\n",
       "$4,409.28     5\n",
       "             ..\n",
       "$38,676.80    1\n",
       "$48,328.60    1\n",
       "$2,119.76     1\n",
       "$14,792.19    1\n",
       "$90,924.61    1\n",
       "Name: Tot_Mdcr_Alowd_Amt, Length: 1045504, dtype: int64"
      ]
     },
     "execution_count": 44,
     "metadata": {},
     "output_type": "execute_result"
    }
   ],
   "source": [
    "part_b[\"Tot_Mdcr_Alowd_Amt\"].value_counts()"
   ]
  },
  {
   "cell_type": "code",
   "execution_count": 45,
   "id": "d1635c88",
   "metadata": {},
   "outputs": [],
   "source": [
    "part_b[\"Tot_Mdcr_Alowd_Amt\"] = part_b[\"Tot_Mdcr_Alowd_Amt\"].replace('[\\$,]', '', regex=True).astype(float)"
   ]
  },
  {
   "cell_type": "code",
   "execution_count": 46,
   "id": "7108190e",
   "metadata": {},
   "outputs": [
    {
     "data": {
      "text/plain": [
       "2054.38     5\n",
       "1896.14     5\n",
       "1719.01     5\n",
       "12577.62    5\n",
       "4409.28     5\n",
       "           ..\n",
       "38676.80    1\n",
       "48328.60    1\n",
       "2119.76     1\n",
       "14792.19    1\n",
       "90924.61    1\n",
       "Name: Tot_Mdcr_Alowd_Amt, Length: 1045504, dtype: int64"
      ]
     },
     "execution_count": 46,
     "metadata": {},
     "output_type": "execute_result"
    }
   ],
   "source": [
    "part_b[\"Tot_Mdcr_Alowd_Amt\"].value_counts()"
   ]
  },
  {
   "cell_type": "markdown",
   "id": "1caff0bf",
   "metadata": {},
   "source": [
    "### Tot_Mdcr_Pymt_Amt"
   ]
  },
  {
   "cell_type": "code",
   "execution_count": 47,
   "id": "568aec4f",
   "metadata": {},
   "outputs": [
    {
     "data": {
      "text/plain": [
       "Series([], Name: Fraud, dtype: int64)"
      ]
     },
     "execution_count": 47,
     "metadata": {},
     "output_type": "execute_result"
    }
   ],
   "source": [
    "# No Null\n",
    "part_b[part_b['Tot_Mdcr_Pymt_Amt'].isnull()][\"Fraud\"].value_counts()"
   ]
  },
  {
   "cell_type": "code",
   "execution_count": 48,
   "id": "845035c6",
   "metadata": {},
   "outputs": [
    {
     "data": {
      "text/plain": [
       "$2,083.00     6\n",
       "$0.00         6\n",
       "$3,679.20     6\n",
       "$2,482.21     6\n",
       "$5,681.52     5\n",
       "             ..\n",
       "$10,189.28    1\n",
       "$4,966.44     1\n",
       "$4,439.23     1\n",
       "$1,314.94     1\n",
       "$74,063.76    1\n",
       "Name: Tot_Mdcr_Pymt_Amt, Length: 1028450, dtype: int64"
      ]
     },
     "execution_count": 48,
     "metadata": {},
     "output_type": "execute_result"
    }
   ],
   "source": [
    "part_b[\"Tot_Mdcr_Pymt_Amt\"].value_counts()"
   ]
  },
  {
   "cell_type": "code",
   "execution_count": 49,
   "id": "2acf3a7c",
   "metadata": {},
   "outputs": [],
   "source": [
    "part_b[\"Tot_Mdcr_Pymt_Amt\"] = part_b[\"Tot_Mdcr_Pymt_Amt\"].replace('[\\$,]', '', regex=True).astype(float)"
   ]
  },
  {
   "cell_type": "code",
   "execution_count": 50,
   "id": "d95b082d",
   "metadata": {},
   "outputs": [
    {
     "data": {
      "text/plain": [
       "2083.00     6\n",
       "0.00        6\n",
       "3679.20     6\n",
       "2482.21     6\n",
       "5681.52     5\n",
       "           ..\n",
       "10189.28    1\n",
       "4966.44     1\n",
       "4439.23     1\n",
       "1314.94     1\n",
       "74063.76    1\n",
       "Name: Tot_Mdcr_Pymt_Amt, Length: 1028450, dtype: int64"
      ]
     },
     "execution_count": 50,
     "metadata": {},
     "output_type": "execute_result"
    }
   ],
   "source": [
    "part_b[\"Tot_Mdcr_Pymt_Amt\"].value_counts()"
   ]
  },
  {
   "cell_type": "markdown",
   "id": "2d15b2f1",
   "metadata": {},
   "source": [
    "### Tot_Mdcr_Stdzd_Amt"
   ]
  },
  {
   "cell_type": "code",
   "execution_count": 51,
   "id": "2ff8565f",
   "metadata": {},
   "outputs": [
    {
     "data": {
      "text/plain": [
       "Series([], Name: Fraud, dtype: int64)"
      ]
     },
     "execution_count": 51,
     "metadata": {},
     "output_type": "execute_result"
    }
   ],
   "source": [
    "# No Null\n",
    "part_b[part_b['Tot_Mdcr_Stdzd_Amt'].isnull()][\"Fraud\"].value_counts()"
   ]
  },
  {
   "cell_type": "code",
   "execution_count": 52,
   "id": "22b789d4",
   "metadata": {},
   "outputs": [
    {
     "data": {
      "text/plain": [
       "$3,026.22     7\n",
       "$1,571.58     6\n",
       "$842.18       6\n",
       "$918.42       6\n",
       "$788.17       5\n",
       "             ..\n",
       "$292.60       1\n",
       "$524.07       1\n",
       "$41,776.66    1\n",
       "$11,535.81    1\n",
       "$73,646.68    1\n",
       "Name: Tot_Mdcr_Stdzd_Amt, Length: 1028263, dtype: int64"
      ]
     },
     "execution_count": 52,
     "metadata": {},
     "output_type": "execute_result"
    }
   ],
   "source": [
    "part_b[\"Tot_Mdcr_Stdzd_Amt\"].value_counts()"
   ]
  },
  {
   "cell_type": "code",
   "execution_count": 53,
   "id": "b75a32cb",
   "metadata": {},
   "outputs": [],
   "source": [
    "part_b[\"Tot_Mdcr_Stdzd_Amt\"] = part_b[\"Tot_Mdcr_Stdzd_Amt\"].replace('[\\$,]', '', regex=True).astype(float)"
   ]
  },
  {
   "cell_type": "code",
   "execution_count": 54,
   "id": "b9228a44",
   "metadata": {},
   "outputs": [
    {
     "data": {
      "text/plain": [
       "3026.22     7\n",
       "1571.58     6\n",
       "842.18      6\n",
       "918.42      6\n",
       "788.17      5\n",
       "           ..\n",
       "292.60      1\n",
       "524.07      1\n",
       "41776.66    1\n",
       "11535.81    1\n",
       "73646.68    1\n",
       "Name: Tot_Mdcr_Stdzd_Amt, Length: 1028263, dtype: int64"
      ]
     },
     "execution_count": 54,
     "metadata": {},
     "output_type": "execute_result"
    }
   ],
   "source": [
    "part_b[\"Tot_Mdcr_Stdzd_Amt\"].value_counts()"
   ]
  },
  {
   "cell_type": "markdown",
   "id": "ec1e0b11",
   "metadata": {},
   "source": [
    "### Drug_Sprsn_Ind"
   ]
  },
  {
   "cell_type": "code",
   "execution_count": 55,
   "id": "8879c1e0",
   "metadata": {},
   "outputs": [
    {
     "data": {
      "text/plain": [
       "0    969933\n",
       "1        93\n",
       "Name: Fraud, dtype: int64"
      ]
     },
     "execution_count": 55,
     "metadata": {},
     "output_type": "execute_result"
    }
   ],
   "source": [
    "# Null Values Present use Imputation\n",
    "part_b[part_b['Drug_Sprsn_Ind'].isnull()][\"Fraud\"].value_counts()"
   ]
  },
  {
   "cell_type": "code",
   "execution_count": 56,
   "id": "10e73865",
   "metadata": {},
   "outputs": [
    {
     "data": {
      "text/plain": [
       "*    130659\n",
       "#        41\n",
       "Name: Drug_Sprsn_Ind, dtype: int64"
      ]
     },
     "execution_count": 56,
     "metadata": {},
     "output_type": "execute_result"
    }
   ],
   "source": [
    "part_b[\"Drug_Sprsn_Ind\"].value_counts()"
   ]
  },
  {
   "cell_type": "code",
   "execution_count": 57,
   "id": "778ec361",
   "metadata": {},
   "outputs": [],
   "source": [
    "replace_dict = {'#': 1, '*': 0, 'NA': pd.NA}\n",
    "part_b['Drug_Sprsn_Ind'] = part_b['Drug_Sprsn_Ind'].replace(replace_dict)"
   ]
  },
  {
   "cell_type": "code",
   "execution_count": 58,
   "id": "497200db",
   "metadata": {},
   "outputs": [
    {
     "data": {
      "text/plain": [
       "0.0    130659\n",
       "1.0        41\n",
       "Name: Drug_Sprsn_Ind, dtype: int64"
      ]
     },
     "execution_count": 58,
     "metadata": {},
     "output_type": "execute_result"
    }
   ],
   "source": [
    "part_b[\"Drug_Sprsn_Ind\"].value_counts()"
   ]
  },
  {
   "cell_type": "markdown",
   "id": "92f78052",
   "metadata": {},
   "source": [
    "### Drug_Tot_HCPCS_Cds"
   ]
  },
  {
   "cell_type": "code",
   "execution_count": 59,
   "id": "6ee69849",
   "metadata": {},
   "outputs": [
    {
     "data": {
      "text/plain": [
       "0    130677\n",
       "1        23\n",
       "Name: Fraud, dtype: int64"
      ]
     },
     "execution_count": 59,
     "metadata": {},
     "output_type": "execute_result"
    }
   ],
   "source": [
    "# Null Values Present use Imputation\n",
    "part_b[part_b['Drug_Tot_HCPCS_Cds'].isnull()][\"Fraud\"].value_counts()"
   ]
  },
  {
   "cell_type": "code",
   "execution_count": 60,
   "id": "f1ff6bc6",
   "metadata": {},
   "outputs": [
    {
     "data": {
      "text/plain": [
       "0.0      755115\n",
       "5.0       24169\n",
       "4.0       24069\n",
       "2.0       23847\n",
       "3.0       23722\n",
       "          ...  \n",
       "127.0         1\n",
       "129.0         1\n",
       "131.0         1\n",
       "119.0         1\n",
       "126.0         1\n",
       "Name: Drug_Tot_HCPCS_Cds, Length: 131, dtype: int64"
      ]
     },
     "execution_count": 60,
     "metadata": {},
     "output_type": "execute_result"
    }
   ],
   "source": [
    "part_b[\"Drug_Tot_HCPCS_Cds\"].value_counts()"
   ]
  },
  {
   "cell_type": "code",
   "execution_count": 61,
   "id": "017dd106",
   "metadata": {},
   "outputs": [],
   "source": [
    "part_b[\"Drug_Tot_HCPCS_Cds\"] = part_b[\"Drug_Tot_HCPCS_Cds\"].replace('[\\$,]', '', regex=True).astype(float)"
   ]
  },
  {
   "cell_type": "code",
   "execution_count": 62,
   "id": "0e9a17a2",
   "metadata": {},
   "outputs": [
    {
     "data": {
      "text/plain": [
       "0.0      755115\n",
       "5.0       24169\n",
       "4.0       24069\n",
       "2.0       23847\n",
       "3.0       23722\n",
       "          ...  \n",
       "127.0         1\n",
       "129.0         1\n",
       "131.0         1\n",
       "119.0         1\n",
       "126.0         1\n",
       "Name: Drug_Tot_HCPCS_Cds, Length: 131, dtype: int64"
      ]
     },
     "execution_count": 62,
     "metadata": {},
     "output_type": "execute_result"
    }
   ],
   "source": [
    "part_b[\"Drug_Tot_HCPCS_Cds\"].value_counts()"
   ]
  },
  {
   "cell_type": "markdown",
   "id": "e6f68dc0",
   "metadata": {},
   "source": [
    "### Drug_Tot_Benes"
   ]
  },
  {
   "cell_type": "code",
   "execution_count": 63,
   "id": "f10daafa",
   "metadata": {},
   "outputs": [
    {
     "data": {
      "text/plain": [
       "0    130677\n",
       "1        23\n",
       "Name: Fraud, dtype: int64"
      ]
     },
     "execution_count": 63,
     "metadata": {},
     "output_type": "execute_result"
    }
   ],
   "source": [
    "# Null Values Present use Imputation\n",
    "part_b[part_b['Drug_Tot_Benes'].isnull()][\"Fraud\"].value_counts()"
   ]
  },
  {
   "cell_type": "code",
   "execution_count": 64,
   "id": "3c62fc92",
   "metadata": {},
   "outputs": [
    {
     "data": {
      "text/plain": [
       "0        755115\n",
       "11         5951\n",
       "12         5429\n",
       "13         5035\n",
       "14         4828\n",
       "          ...  \n",
       "1,125         1\n",
       "796           1\n",
       "751           1\n",
       "959           1\n",
       "1,106         1\n",
       "Name: Drug_Tot_Benes, Length: 967, dtype: int64"
      ]
     },
     "execution_count": 64,
     "metadata": {},
     "output_type": "execute_result"
    }
   ],
   "source": [
    "part_b[\"Drug_Tot_Benes\"].value_counts()"
   ]
  },
  {
   "cell_type": "code",
   "execution_count": 65,
   "id": "48aabf23",
   "metadata": {},
   "outputs": [],
   "source": [
    "part_b[\"Drug_Tot_Benes\"] = part_b[\"Drug_Tot_Benes\"].replace(',', '', regex=True).astype(float)"
   ]
  },
  {
   "cell_type": "code",
   "execution_count": 66,
   "id": "ed2042e0",
   "metadata": {},
   "outputs": [
    {
     "data": {
      "text/plain": [
       "0           0.0\n",
       "1           0.0\n",
       "2           NaN\n",
       "3           NaN\n",
       "4           0.0\n",
       "           ... \n",
       "1161536     0.0\n",
       "1161537    78.0\n",
       "1161538     0.0\n",
       "1161540     NaN\n",
       "1161541     0.0\n",
       "Name: Drug_Tot_Benes, Length: 1100726, dtype: float64"
      ]
     },
     "execution_count": 66,
     "metadata": {},
     "output_type": "execute_result"
    }
   ],
   "source": [
    "part_b[\"Drug_Tot_Benes\"]"
   ]
  },
  {
   "cell_type": "markdown",
   "id": "f57127bf",
   "metadata": {},
   "source": [
    "### Drug_Tot_Srvcs"
   ]
  },
  {
   "cell_type": "code",
   "execution_count": 67,
   "id": "2d7c9d20",
   "metadata": {},
   "outputs": [
    {
     "data": {
      "text/plain": [
       "0    130677\n",
       "1        23\n",
       "Name: Fraud, dtype: int64"
      ]
     },
     "execution_count": 67,
     "metadata": {},
     "output_type": "execute_result"
    }
   ],
   "source": [
    "# Null Values Present use Imputation\n",
    "part_b[part_b['Drug_Tot_Srvcs'].isnull()][\"Fraud\"].value_counts()"
   ]
  },
  {
   "cell_type": "code",
   "execution_count": 68,
   "id": "7bcbb95d",
   "metadata": {},
   "outputs": [
    {
     "data": {
      "text/plain": [
       "0          755115\n",
       "17           1492\n",
       "19           1455\n",
       "22           1448\n",
       "20           1433\n",
       "            ...  \n",
       "97,816          1\n",
       "14,226          1\n",
       "28,164          1\n",
       "333,340         1\n",
       "15,087          1\n",
       "Name: Drug_Tot_Srvcs, Length: 23743, dtype: int64"
      ]
     },
     "execution_count": 68,
     "metadata": {},
     "output_type": "execute_result"
    }
   ],
   "source": [
    "part_b[\"Drug_Tot_Srvcs\"].value_counts()"
   ]
  },
  {
   "cell_type": "code",
   "execution_count": 69,
   "id": "b3fcd79d",
   "metadata": {},
   "outputs": [],
   "source": [
    "part_b[\"Drug_Tot_Srvcs\"] = part_b[\"Drug_Tot_Srvcs\"].str.replace(',','').astype(float)"
   ]
  },
  {
   "cell_type": "code",
   "execution_count": 70,
   "id": "be69da8f",
   "metadata": {},
   "outputs": [
    {
     "data": {
      "text/plain": [
       "0.0         755115\n",
       "17.0          1492\n",
       "19.0          1455\n",
       "22.0          1448\n",
       "20.0          1433\n",
       "             ...  \n",
       "97816.0          1\n",
       "14226.0          1\n",
       "28164.0          1\n",
       "333340.0         1\n",
       "15087.0          1\n",
       "Name: Drug_Tot_Srvcs, Length: 23743, dtype: int64"
      ]
     },
     "execution_count": 70,
     "metadata": {},
     "output_type": "execute_result"
    }
   ],
   "source": [
    "part_b[\"Drug_Tot_Srvcs\"].value_counts()"
   ]
  },
  {
   "cell_type": "markdown",
   "id": "fdbd11b1",
   "metadata": {},
   "source": [
    "### Drug_Sbmtd_Chrg"
   ]
  },
  {
   "cell_type": "code",
   "execution_count": 71,
   "id": "c3e30ed6",
   "metadata": {},
   "outputs": [
    {
     "data": {
      "text/plain": [
       "0    130677\n",
       "1        23\n",
       "Name: Fraud, dtype: int64"
      ]
     },
     "execution_count": 71,
     "metadata": {},
     "output_type": "execute_result"
    }
   ],
   "source": [
    "# Null Values Present use Imputation\n",
    "part_b[part_b['Drug_Sbmtd_Chrg'].isnull()][\"Fraud\"].value_counts()"
   ]
  },
  {
   "cell_type": "code",
   "execution_count": 72,
   "id": "17ca2273",
   "metadata": {},
   "outputs": [
    {
     "data": {
      "text/plain": [
       "$0.00            755115\n",
       "$600.00              99\n",
       "$480.00              90\n",
       "$840.00              90\n",
       "$900.00              86\n",
       "                  ...  \n",
       "$6,726,867.68         1\n",
       "$264.66               1\n",
       "$76,925.00            1\n",
       "$69,713.02            1\n",
       "$1,077,270.00         1\n",
       "Name: Drug_Sbmtd_Chrg, Length: 114350, dtype: int64"
      ]
     },
     "execution_count": 72,
     "metadata": {},
     "output_type": "execute_result"
    }
   ],
   "source": [
    "part_b[\"Drug_Sbmtd_Chrg\"].value_counts()"
   ]
  },
  {
   "cell_type": "code",
   "execution_count": 73,
   "id": "88064835",
   "metadata": {},
   "outputs": [],
   "source": [
    "part_b[\"Drug_Sbmtd_Chrg\"] = part_b[\"Drug_Sbmtd_Chrg\"].replace('[\\$,]', '', regex=True).astype(float)"
   ]
  },
  {
   "cell_type": "code",
   "execution_count": 74,
   "id": "f7d7479f",
   "metadata": {},
   "outputs": [
    {
     "data": {
      "text/plain": [
       "0              0.0\n",
       "1              0.0\n",
       "2              NaN\n",
       "3              NaN\n",
       "4              0.0\n",
       "            ...   \n",
       "1161536        0.0\n",
       "1161537    11406.0\n",
       "1161538        0.0\n",
       "1161540        NaN\n",
       "1161541        0.0\n",
       "Name: Drug_Sbmtd_Chrg, Length: 1100726, dtype: float64"
      ]
     },
     "execution_count": 74,
     "metadata": {},
     "output_type": "execute_result"
    }
   ],
   "source": [
    "part_b[\"Drug_Sbmtd_Chrg\"]"
   ]
  },
  {
   "cell_type": "markdown",
   "id": "5c5c3edf",
   "metadata": {},
   "source": [
    "### Drug_Mdcr_Alowd_Amt"
   ]
  },
  {
   "cell_type": "code",
   "execution_count": 75,
   "id": "703e507a",
   "metadata": {},
   "outputs": [
    {
     "data": {
      "text/plain": [
       "0    130677\n",
       "1        23\n",
       "Name: Fraud, dtype: int64"
      ]
     },
     "execution_count": 75,
     "metadata": {},
     "output_type": "execute_result"
    }
   ],
   "source": [
    "# Null Values Present use Imputation\n",
    "part_b[part_b['Drug_Mdcr_Alowd_Amt'].isnull()][\"Fraud\"].value_counts()"
   ]
  },
  {
   "cell_type": "code",
   "execution_count": 76,
   "id": "3d1fb0ca",
   "metadata": {},
   "outputs": [
    {
     "data": {
      "text/plain": [
       "$0.00         755115\n",
       "$670.78           34\n",
       "$731.76           23\n",
       "$215.38           21\n",
       "$304.70           17\n",
       "               ...  \n",
       "$2,263.72          1\n",
       "$29,729.90         1\n",
       "$3,661.88          1\n",
       "$4,330.51          1\n",
       "$7,150.38          1\n",
       "Name: Drug_Mdcr_Alowd_Amt, Length: 192989, dtype: int64"
      ]
     },
     "execution_count": 76,
     "metadata": {},
     "output_type": "execute_result"
    }
   ],
   "source": [
    "part_b[\"Drug_Mdcr_Alowd_Amt\"].value_counts()"
   ]
  },
  {
   "cell_type": "code",
   "execution_count": 77,
   "id": "fa72f7d4",
   "metadata": {},
   "outputs": [],
   "source": [
    "part_b[\"Drug_Mdcr_Alowd_Amt\"] = part_b[\"Drug_Mdcr_Alowd_Amt\"].replace('[\\$,]', '', regex=True).astype(float)"
   ]
  },
  {
   "cell_type": "code",
   "execution_count": 81,
   "id": "79270d6e",
   "metadata": {},
   "outputs": [
    {
     "data": {
      "text/plain": [
       "0             0.00\n",
       "1             0.00\n",
       "2              NaN\n",
       "3              NaN\n",
       "4             0.00\n",
       "            ...   \n",
       "1161536       0.00\n",
       "1161537    7150.38\n",
       "1161538       0.00\n",
       "1161540        NaN\n",
       "1161541       0.00\n",
       "Name: Drug_Mdcr_Alowd_Amt, Length: 1100726, dtype: float64"
      ]
     },
     "execution_count": 81,
     "metadata": {},
     "output_type": "execute_result"
    }
   ],
   "source": [
    "# Null Values Present use Imputation\n",
    "part_b['Drug_Mdcr_Alowd_Amt']"
   ]
  },
  {
   "cell_type": "markdown",
   "id": "899d9c7e",
   "metadata": {},
   "source": [
    "### Drug_Mdcr_Pymt_Amt"
   ]
  },
  {
   "cell_type": "code",
   "execution_count": 82,
   "id": "507ddf4c",
   "metadata": {},
   "outputs": [
    {
     "data": {
      "text/plain": [
       "0    130677\n",
       "1        23\n",
       "Name: Fraud, dtype: int64"
      ]
     },
     "execution_count": 82,
     "metadata": {},
     "output_type": "execute_result"
    }
   ],
   "source": [
    "# Null Values Present use Imputation\n",
    "part_b[part_b['Drug_Mdcr_Pymt_Amt'].isnull()][\"Fraud\"].value_counts()"
   ]
  },
  {
   "cell_type": "code",
   "execution_count": 83,
   "id": "d2208519",
   "metadata": {},
   "outputs": [
    {
     "data": {
      "text/plain": [
       "$0.00         755116\n",
       "$670.78           34\n",
       "$731.76           23\n",
       "$215.38           21\n",
       "$914.70           19\n",
       "               ...  \n",
       "$26,820.17         1\n",
       "$566.90            1\n",
       "$4,992.97          1\n",
       "$745.54            1\n",
       "$7,146.82          1\n",
       "Name: Drug_Mdcr_Pymt_Amt, Length: 190517, dtype: int64"
      ]
     },
     "execution_count": 83,
     "metadata": {},
     "output_type": "execute_result"
    }
   ],
   "source": [
    "part_b[\"Drug_Mdcr_Pymt_Amt\"].value_counts()"
   ]
  },
  {
   "cell_type": "code",
   "execution_count": 84,
   "id": "af52a4af",
   "metadata": {},
   "outputs": [],
   "source": [
    "part_b[\"Drug_Mdcr_Pymt_Amt\"] = part_b[\"Drug_Mdcr_Pymt_Amt\"].replace('[\\$,]', '', regex=True).astype(float)"
   ]
  },
  {
   "cell_type": "code",
   "execution_count": 85,
   "id": "a50ea249",
   "metadata": {},
   "outputs": [
    {
     "data": {
      "text/plain": [
       "0             0.00\n",
       "1             0.00\n",
       "2              NaN\n",
       "3              NaN\n",
       "4             0.00\n",
       "            ...   \n",
       "1161536       0.00\n",
       "1161537    7146.82\n",
       "1161538       0.00\n",
       "1161540        NaN\n",
       "1161541       0.00\n",
       "Name: Drug_Mdcr_Pymt_Amt, Length: 1100726, dtype: float64"
      ]
     },
     "execution_count": 85,
     "metadata": {},
     "output_type": "execute_result"
    }
   ],
   "source": [
    "part_b[\"Drug_Mdcr_Pymt_Amt\"]"
   ]
  },
  {
   "cell_type": "markdown",
   "id": "0bba8cb6",
   "metadata": {},
   "source": [
    "### Drug_Mdcr_Stdzd_Amt"
   ]
  },
  {
   "cell_type": "code",
   "execution_count": 86,
   "id": "dd81c078",
   "metadata": {},
   "outputs": [
    {
     "data": {
      "text/plain": [
       "0    130677\n",
       "1        23\n",
       "Name: Fraud, dtype: int64"
      ]
     },
     "execution_count": 86,
     "metadata": {},
     "output_type": "execute_result"
    }
   ],
   "source": [
    "# Null Values Present use Imputation\n",
    "part_b[part_b['Drug_Mdcr_Stdzd_Amt'].isnull()][\"Fraud\"].value_counts()"
   ]
  },
  {
   "cell_type": "code",
   "execution_count": 87,
   "id": "5b39e6bf",
   "metadata": {},
   "outputs": [
    {
     "data": {
      "text/plain": [
       "$0.00         755116\n",
       "$657.36           30\n",
       "$717.12           20\n",
       "$211.09           18\n",
       "$776.88           17\n",
       "               ...  \n",
       "$32,598.47         1\n",
       "$28,457.63         1\n",
       "$787.64            1\n",
       "$4,893.30          1\n",
       "$7,041.10          1\n",
       "Name: Drug_Mdcr_Stdzd_Amt, Length: 190451, dtype: int64"
      ]
     },
     "execution_count": 87,
     "metadata": {},
     "output_type": "execute_result"
    }
   ],
   "source": [
    "part_b[\"Drug_Mdcr_Stdzd_Amt\"].value_counts()"
   ]
  },
  {
   "cell_type": "code",
   "execution_count": 88,
   "id": "f5514c77",
   "metadata": {},
   "outputs": [],
   "source": [
    "part_b[\"Drug_Mdcr_Stdzd_Amt\"] = part_b[\"Drug_Mdcr_Stdzd_Amt\"].replace('[\\$,]', '', regex=True).astype(float)"
   ]
  },
  {
   "cell_type": "code",
   "execution_count": 89,
   "id": "68239bc9",
   "metadata": {},
   "outputs": [
    {
     "data": {
      "text/plain": [
       "0             0.0\n",
       "1             0.0\n",
       "2             NaN\n",
       "3             NaN\n",
       "4             0.0\n",
       "            ...  \n",
       "1161536       0.0\n",
       "1161537    7041.1\n",
       "1161538       0.0\n",
       "1161540       NaN\n",
       "1161541       0.0\n",
       "Name: Drug_Mdcr_Stdzd_Amt, Length: 1100726, dtype: float64"
      ]
     },
     "execution_count": 89,
     "metadata": {},
     "output_type": "execute_result"
    }
   ],
   "source": [
    "part_b[\"Drug_Mdcr_Stdzd_Amt\"]"
   ]
  },
  {
   "cell_type": "markdown",
   "id": "6c9de19a",
   "metadata": {},
   "source": [
    "###  Med_Sprsn_Ind "
   ]
  },
  {
   "cell_type": "code",
   "execution_count": 90,
   "id": "06f61532",
   "metadata": {},
   "outputs": [
    {
     "data": {
      "text/plain": [
       "0    969933\n",
       "1        93\n",
       "Name: Fraud, dtype: int64"
      ]
     },
     "execution_count": 90,
     "metadata": {},
     "output_type": "execute_result"
    }
   ],
   "source": [
    "# Null Values Present use Imputation\n",
    "part_b[part_b['Med_Sprsn_Ind'].isnull()][\"Fraud\"].value_counts()"
   ]
  },
  {
   "cell_type": "code",
   "execution_count": 91,
   "id": "da49eee6",
   "metadata": {},
   "outputs": [
    {
     "data": {
      "text/plain": [
       "#    130480\n",
       "*       220\n",
       "Name: Med_Sprsn_Ind, dtype: int64"
      ]
     },
     "execution_count": 91,
     "metadata": {},
     "output_type": "execute_result"
    }
   ],
   "source": [
    "part_b[\"Med_Sprsn_Ind\"].value_counts()"
   ]
  },
  {
   "cell_type": "code",
   "execution_count": 92,
   "id": "92e9168f",
   "metadata": {},
   "outputs": [],
   "source": [
    "replace_dict = {'#': 1, '*': 0, 'NA': pd.NA}\n",
    "part_b['Med_Sprsn_Ind'] = part_b['Med_Sprsn_Ind'].replace(replace_dict)"
   ]
  },
  {
   "cell_type": "code",
   "execution_count": 93,
   "id": "72ca4d6c",
   "metadata": {},
   "outputs": [
    {
     "data": {
      "text/plain": [
       "0          NaN\n",
       "1          NaN\n",
       "2          1.0\n",
       "3          1.0\n",
       "4          NaN\n",
       "          ... \n",
       "1161536    NaN\n",
       "1161537    NaN\n",
       "1161538    NaN\n",
       "1161540    1.0\n",
       "1161541    NaN\n",
       "Name: Med_Sprsn_Ind, Length: 1100726, dtype: float64"
      ]
     },
     "execution_count": 93,
     "metadata": {},
     "output_type": "execute_result"
    }
   ],
   "source": [
    "part_b[\"Med_Sprsn_Ind\"]"
   ]
  },
  {
   "cell_type": "markdown",
   "id": "8f6e2156",
   "metadata": {},
   "source": [
    "### Med_Tot_HCPCS_Cds"
   ]
  },
  {
   "cell_type": "code",
   "execution_count": 94,
   "id": "6b764329",
   "metadata": {},
   "outputs": [
    {
     "data": {
      "text/plain": [
       "0    130677\n",
       "1        23\n",
       "Name: Fraud, dtype: int64"
      ]
     },
     "execution_count": 94,
     "metadata": {},
     "output_type": "execute_result"
    }
   ],
   "source": [
    "# Null Values Present use Imputation\n",
    "part_b[part_b['Med_Tot_HCPCS_Cds'].isnull()][\"Fraud\"].value_counts()"
   ]
  },
  {
   "cell_type": "code",
   "execution_count": 95,
   "id": "57d8a60a",
   "metadata": {},
   "outputs": [
    {
     "data": {
      "text/plain": [
       "9.0      35224\n",
       "8.0      34854\n",
       "10.0     34570\n",
       "7.0      33475\n",
       "11.0     32966\n",
       "         ...  \n",
       "623.0        1\n",
       "334.0        1\n",
       "378.0        1\n",
       "411.0        1\n",
       "330.0        1\n",
       "Name: Med_Tot_HCPCS_Cds, Length: 323, dtype: int64"
      ]
     },
     "execution_count": 95,
     "metadata": {},
     "output_type": "execute_result"
    }
   ],
   "source": [
    "part_b[\"Med_Tot_HCPCS_Cds\"].value_counts()"
   ]
  },
  {
   "cell_type": "code",
   "execution_count": 96,
   "id": "477d8b40",
   "metadata": {},
   "outputs": [],
   "source": [
    "part_b[\"Med_Tot_HCPCS_Cds\"] = part_b[\"Med_Tot_HCPCS_Cds\"].astype(float)"
   ]
  },
  {
   "cell_type": "code",
   "execution_count": 97,
   "id": "efd11991",
   "metadata": {},
   "outputs": [
    {
     "data": {
      "text/plain": [
       "0          16.0\n",
       "1          18.0\n",
       "2           NaN\n",
       "3           NaN\n",
       "4          30.0\n",
       "           ... \n",
       "1161536     9.0\n",
       "1161537    29.0\n",
       "1161538     2.0\n",
       "1161540     NaN\n",
       "1161541    15.0\n",
       "Name: Med_Tot_HCPCS_Cds, Length: 1100726, dtype: float64"
      ]
     },
     "execution_count": 97,
     "metadata": {},
     "output_type": "execute_result"
    }
   ],
   "source": [
    "part_b[\"Med_Tot_HCPCS_Cds\"]"
   ]
  },
  {
   "cell_type": "markdown",
   "id": "c13d9574",
   "metadata": {},
   "source": [
    "### Med_Tot_Benes"
   ]
  },
  {
   "cell_type": "code",
   "execution_count": 98,
   "id": "a88ed5d0",
   "metadata": {},
   "outputs": [
    {
     "data": {
      "text/plain": [
       "0    130677\n",
       "1        23\n",
       "Name: Fraud, dtype: int64"
      ]
     },
     "execution_count": 98,
     "metadata": {},
     "output_type": "execute_result"
    }
   ],
   "source": [
    "# Null Values Present use Imputation\n",
    "part_b[part_b['Med_Tot_Benes'].isnull()][\"Fraud\"].value_counts()"
   ]
  },
  {
   "cell_type": "code",
   "execution_count": 99,
   "id": "b1508d9a",
   "metadata": {},
   "outputs": [
    {
     "data": {
      "text/plain": [
       "11       9730\n",
       "12       9168\n",
       "13       8790\n",
       "14       8250\n",
       "15       7978\n",
       "         ... \n",
       "4,986       1\n",
       "4,346       1\n",
       "7,722       1\n",
       "4,372       1\n",
       "6,919       1\n",
       "Name: Med_Tot_Benes, Length: 5406, dtype: int64"
      ]
     },
     "execution_count": 99,
     "metadata": {},
     "output_type": "execute_result"
    }
   ],
   "source": [
    "part_b[\"Med_Tot_Benes\"].value_counts()"
   ]
  },
  {
   "cell_type": "code",
   "execution_count": 100,
   "id": "5383cf07",
   "metadata": {},
   "outputs": [],
   "source": [
    "part_b[\"Med_Tot_Benes\"] = part_b[\"Med_Tot_Benes\"].replace(',', '', regex=True).astype(float)"
   ]
  },
  {
   "cell_type": "code",
   "execution_count": 101,
   "id": "7df44731",
   "metadata": {},
   "outputs": [
    {
     "data": {
      "text/plain": [
       "0           291.0\n",
       "1          2633.0\n",
       "2             NaN\n",
       "3             NaN\n",
       "4            89.0\n",
       "            ...  \n",
       "1161536     155.0\n",
       "1161537     333.0\n",
       "1161538      66.0\n",
       "1161540       NaN\n",
       "1161541     407.0\n",
       "Name: Med_Tot_Benes, Length: 1100726, dtype: float64"
      ]
     },
     "execution_count": 101,
     "metadata": {},
     "output_type": "execute_result"
    }
   ],
   "source": [
    "part_b[\"Med_Tot_Benes\"]"
   ]
  },
  {
   "cell_type": "markdown",
   "id": "039a61fd",
   "metadata": {},
   "source": [
    "### Med_Tot_Srvcs"
   ]
  },
  {
   "cell_type": "code",
   "execution_count": 102,
   "id": "882825c1",
   "metadata": {},
   "outputs": [
    {
     "data": {
      "text/plain": [
       "0    130677\n",
       "1        23\n",
       "Name: Fraud, dtype: int64"
      ]
     },
     "execution_count": 102,
     "metadata": {},
     "output_type": "execute_result"
    }
   ],
   "source": [
    "# Null Values Present use Imputation\n",
    "part_b[part_b['Med_Tot_Srvcs'].isnull()][\"Fraud\"].value_counts()"
   ]
  },
  {
   "cell_type": "code",
   "execution_count": 103,
   "id": "f9b29d75",
   "metadata": {},
   "outputs": [
    {
     "data": {
      "text/plain": [
       "20        2256\n",
       "23        2250\n",
       "21        2237\n",
       "29        2233\n",
       "22        2217\n",
       "          ... \n",
       "14,615       1\n",
       "24,502       1\n",
       "21,673       1\n",
       "18,283       1\n",
       "9,870        1\n",
       "Name: Med_Tot_Srvcs, Length: 15095, dtype: int64"
      ]
     },
     "execution_count": 103,
     "metadata": {},
     "output_type": "execute_result"
    }
   ],
   "source": [
    "part_b[\"Med_Tot_Srvcs\"].value_counts()"
   ]
  },
  {
   "cell_type": "code",
   "execution_count": 104,
   "id": "2e343324",
   "metadata": {},
   "outputs": [],
   "source": [
    "part_b[\"Med_Tot_Srvcs\"] = part_b[\"Med_Tot_Srvcs\"].replace(',', '', regex=True).astype(float)"
   ]
  },
  {
   "cell_type": "code",
   "execution_count": 105,
   "id": "d771330a",
   "metadata": {},
   "outputs": [
    {
     "data": {
      "text/plain": [
       "0           764.0\n",
       "1          5930.0\n",
       "2             NaN\n",
       "3             NaN\n",
       "4           125.0\n",
       "            ...  \n",
       "1161536     171.0\n",
       "1161537     976.0\n",
       "1161538     415.0\n",
       "1161540       NaN\n",
       "1161541     884.0\n",
       "Name: Med_Tot_Srvcs, Length: 1100726, dtype: float64"
      ]
     },
     "execution_count": 105,
     "metadata": {},
     "output_type": "execute_result"
    }
   ],
   "source": [
    "part_b[\"Med_Tot_Srvcs\"]"
   ]
  },
  {
   "cell_type": "markdown",
   "id": "911078f1",
   "metadata": {},
   "source": [
    "### Med_Sbmtd_Chrg"
   ]
  },
  {
   "cell_type": "code",
   "execution_count": 106,
   "id": "3f158850",
   "metadata": {},
   "outputs": [
    {
     "data": {
      "text/plain": [
       "0    130677\n",
       "1        23\n",
       "Name: Fraud, dtype: int64"
      ]
     },
     "execution_count": 106,
     "metadata": {},
     "output_type": "execute_result"
    }
   ],
   "source": [
    "# Null Values Present use Imputation\n",
    "part_b[part_b['Med_Sbmtd_Chrg'].isnull()][\"Fraud\"].value_counts()"
   ]
  },
  {
   "cell_type": "code",
   "execution_count": 107,
   "id": "2f5582ce",
   "metadata": {},
   "outputs": [
    {
     "data": {
      "text/plain": [
       "$4,800.00      44\n",
       "$7,200.00      42\n",
       "$11,700.00     42\n",
       "$10,800.00     39\n",
       "$5,400.00      38\n",
       "               ..\n",
       "$339,175.00     1\n",
       "$214,315.80     1\n",
       "$460,429.00     1\n",
       "$100,343.56     1\n",
       "$340,479.02     1\n",
       "Name: Med_Sbmtd_Chrg, Length: 612522, dtype: int64"
      ]
     },
     "execution_count": 107,
     "metadata": {},
     "output_type": "execute_result"
    }
   ],
   "source": [
    "part_b[\"Med_Sbmtd_Chrg\"].value_counts()"
   ]
  },
  {
   "cell_type": "code",
   "execution_count": 108,
   "id": "ce52ec33",
   "metadata": {},
   "outputs": [],
   "source": [
    "part_b[\"Med_Sbmtd_Chrg\"] = part_b[\"Med_Sbmtd_Chrg\"].replace('[\\$,]', '', regex=True).astype(float)"
   ]
  },
  {
   "cell_type": "code",
   "execution_count": 109,
   "id": "ae55bd34",
   "metadata": {},
   "outputs": [
    {
     "data": {
      "text/plain": [
       "0          402812.00\n",
       "1          915291.00\n",
       "2                NaN\n",
       "3                NaN\n",
       "4          152154.00\n",
       "             ...    \n",
       "1161536    329504.00\n",
       "1161537    171109.00\n",
       "1161538     20985.00\n",
       "1161540          NaN\n",
       "1161541    340479.02\n",
       "Name: Med_Sbmtd_Chrg, Length: 1100726, dtype: float64"
      ]
     },
     "execution_count": 109,
     "metadata": {},
     "output_type": "execute_result"
    }
   ],
   "source": [
    "part_b[\"Med_Sbmtd_Chrg\"]"
   ]
  },
  {
   "cell_type": "markdown",
   "id": "92fa4fc1",
   "metadata": {},
   "source": [
    "### Med_Mdcr_Alowd_Amt"
   ]
  },
  {
   "cell_type": "code",
   "execution_count": 110,
   "id": "7efdd21a",
   "metadata": {},
   "outputs": [
    {
     "data": {
      "text/plain": [
       "0    130677\n",
       "1        23\n",
       "Name: Fraud, dtype: int64"
      ]
     },
     "execution_count": 110,
     "metadata": {},
     "output_type": "execute_result"
    }
   ],
   "source": [
    "# Null Values Present use Imputation\n",
    "part_b[part_b['Med_Mdcr_Alowd_Amt'].isnull()][\"Fraud\"].value_counts()"
   ]
  },
  {
   "cell_type": "code",
   "execution_count": 111,
   "id": "9d7cae95",
   "metadata": {},
   "outputs": [
    {
     "data": {
      "text/plain": [
       "$0.00         9\n",
       "$1,896.14     5\n",
       "$4,193.13     5\n",
       "$6,992.11     5\n",
       "$13,006.76    5\n",
       "             ..\n",
       "$29,822.62    1\n",
       "$49,441.66    1\n",
       "$645.29       1\n",
       "$11,029.16    1\n",
       "$90,924.61    1\n",
       "Name: Med_Mdcr_Alowd_Amt, Length: 927407, dtype: int64"
      ]
     },
     "execution_count": 111,
     "metadata": {},
     "output_type": "execute_result"
    }
   ],
   "source": [
    "part_b[\"Med_Mdcr_Alowd_Amt\"].value_counts()"
   ]
  },
  {
   "cell_type": "code",
   "execution_count": 112,
   "id": "87ea1ed5",
   "metadata": {},
   "outputs": [],
   "source": [
    "part_b[\"Med_Mdcr_Alowd_Amt\"] = part_b[\"Med_Mdcr_Alowd_Amt\"].replace('[\\$,]', '', regex=True).astype(float)"
   ]
  },
  {
   "cell_type": "code",
   "execution_count": 113,
   "id": "1193605a",
   "metadata": {},
   "outputs": [
    {
     "data": {
      "text/plain": [
       "0           85319.63\n",
       "1          227372.53\n",
       "2                NaN\n",
       "3                NaN\n",
       "4           30631.10\n",
       "             ...    \n",
       "1161536     32266.94\n",
       "1161537     86354.76\n",
       "1161538     16171.02\n",
       "1161540          NaN\n",
       "1161541     90924.61\n",
       "Name: Med_Mdcr_Alowd_Amt, Length: 1100726, dtype: float64"
      ]
     },
     "execution_count": 113,
     "metadata": {},
     "output_type": "execute_result"
    }
   ],
   "source": [
    "part_b[\"Med_Mdcr_Alowd_Amt\"]"
   ]
  },
  {
   "cell_type": "markdown",
   "id": "2be2ce39",
   "metadata": {},
   "source": [
    "### Med_Mdcr_Pymt_Amt"
   ]
  },
  {
   "cell_type": "code",
   "execution_count": 114,
   "id": "37d51992",
   "metadata": {},
   "outputs": [
    {
     "data": {
      "text/plain": [
       "0    130677\n",
       "1        23\n",
       "Name: Fraud, dtype: int64"
      ]
     },
     "execution_count": 114,
     "metadata": {},
     "output_type": "execute_result"
    }
   ],
   "source": [
    "# Null Values Present use Imputation\n",
    "part_b[part_b['Med_Mdcr_Pymt_Amt'].isnull()][\"Fraud\"].value_counts()"
   ]
  },
  {
   "cell_type": "code",
   "execution_count": 115,
   "id": "906d778d",
   "metadata": {},
   "outputs": [
    {
     "data": {
      "text/plain": [
       "$0.00         15\n",
       "$2,083.00      6\n",
       "$2,482.21      6\n",
       "$3,268.47      5\n",
       "$585.06        5\n",
       "              ..\n",
       "$59,853.56     1\n",
       "$5,138.15      1\n",
       "$89,594.61     1\n",
       "$10,366.00     1\n",
       "$74,063.76     1\n",
       "Name: Med_Mdcr_Pymt_Amt, Length: 913985, dtype: int64"
      ]
     },
     "execution_count": 115,
     "metadata": {},
     "output_type": "execute_result"
    }
   ],
   "source": [
    "part_b[\"Med_Mdcr_Pymt_Amt\"].value_counts()"
   ]
  },
  {
   "cell_type": "code",
   "execution_count": 116,
   "id": "0bca75b1",
   "metadata": {},
   "outputs": [],
   "source": [
    "part_b[\"Med_Mdcr_Pymt_Amt\"] = part_b[\"Med_Mdcr_Pymt_Amt\"].replace('[\\$,]', '', regex=True).astype(float)"
   ]
  },
  {
   "cell_type": "code",
   "execution_count": 117,
   "id": "023d4d8b",
   "metadata": {},
   "outputs": [
    {
     "data": {
      "text/plain": [
       "0           69175.78\n",
       "1          176497.74\n",
       "2                NaN\n",
       "3                NaN\n",
       "4           23962.85\n",
       "             ...    \n",
       "1161536     25803.90\n",
       "1161537     61105.21\n",
       "1161538     11759.42\n",
       "1161540          NaN\n",
       "1161541     74063.76\n",
       "Name: Med_Mdcr_Pymt_Amt, Length: 1100726, dtype: float64"
      ]
     },
     "execution_count": 117,
     "metadata": {},
     "output_type": "execute_result"
    }
   ],
   "source": [
    "part_b[\"Med_Mdcr_Pymt_Amt\"]"
   ]
  },
  {
   "cell_type": "markdown",
   "id": "b39fe51c",
   "metadata": {},
   "source": [
    "### Med_Mdcr_Stdzd_Amt"
   ]
  },
  {
   "cell_type": "code",
   "execution_count": 118,
   "id": "a777e38a",
   "metadata": {},
   "outputs": [
    {
     "data": {
      "text/plain": [
       "0    130677\n",
       "1        23\n",
       "Name: Fraud, dtype: int64"
      ]
     },
     "execution_count": 118,
     "metadata": {},
     "output_type": "execute_result"
    }
   ],
   "source": [
    "# Null Values Present use Imputation\n",
    "part_b[part_b['Med_Mdcr_Stdzd_Amt'].isnull()][\"Fraud\"].value_counts()"
   ]
  },
  {
   "cell_type": "code",
   "execution_count": 119,
   "id": "faa09473",
   "metadata": {},
   "outputs": [
    {
     "data": {
      "text/plain": [
       "$0.00         12\n",
       "$3,026.22      7\n",
       "$4,121.52      5\n",
       "$566.00        5\n",
       "$6,045.22      5\n",
       "              ..\n",
       "$11,072.90     1\n",
       "$897.06        1\n",
       "$3,599.82      1\n",
       "$3,023.17      1\n",
       "$73,646.68     1\n",
       "Name: Med_Mdcr_Stdzd_Amt, Length: 913964, dtype: int64"
      ]
     },
     "execution_count": 119,
     "metadata": {},
     "output_type": "execute_result"
    }
   ],
   "source": [
    "part_b[\"Med_Mdcr_Stdzd_Amt\"].value_counts()"
   ]
  },
  {
   "cell_type": "code",
   "execution_count": 120,
   "id": "f546beb2",
   "metadata": {},
   "outputs": [],
   "source": [
    "part_b[\"Med_Mdcr_Stdzd_Amt\"] = part_b[\"Med_Mdcr_Stdzd_Amt\"].replace('[\\$,]', '', regex=True).astype(float)"
   ]
  },
  {
   "cell_type": "code",
   "execution_count": 121,
   "id": "41974495",
   "metadata": {},
   "outputs": [
    {
     "data": {
      "text/plain": [
       "0           66401.61\n",
       "1          167363.18\n",
       "2                NaN\n",
       "3                NaN\n",
       "4           23463.98\n",
       "             ...    \n",
       "1161536     22622.59\n",
       "1161537     55630.65\n",
       "1161538     11851.98\n",
       "1161540          NaN\n",
       "1161541     73646.68\n",
       "Name: Med_Mdcr_Stdzd_Amt, Length: 1100726, dtype: float64"
      ]
     },
     "execution_count": 121,
     "metadata": {},
     "output_type": "execute_result"
    }
   ],
   "source": [
    "part_b[\"Med_Mdcr_Stdzd_Amt\"]"
   ]
  },
  {
   "cell_type": "markdown",
   "id": "18641fe0",
   "metadata": {},
   "source": [
    "### Bene_Avg_Age"
   ]
  },
  {
   "cell_type": "code",
   "execution_count": 122,
   "id": "3eb7409f",
   "metadata": {},
   "outputs": [
    {
     "data": {
      "text/plain": [
       "Series([], Name: Fraud, dtype: int64)"
      ]
     },
     "execution_count": 122,
     "metadata": {},
     "output_type": "execute_result"
    }
   ],
   "source": [
    "# Null Values Present use Imputation\n",
    "part_b[part_b['Bene_Avg_Age'].isnull()][\"Fraud\"].value_counts()"
   ]
  },
  {
   "cell_type": "code",
   "execution_count": 123,
   "id": "8bed07d8",
   "metadata": {},
   "outputs": [
    {
     "data": {
      "text/plain": [
       "73    142154\n",
       "72    137102\n",
       "74    120544\n",
       "71    112759\n",
       "75     87965\n",
       "       ...  \n",
       "92         8\n",
       "21         7\n",
       "9          5\n",
       "94         1\n",
       "8          1\n",
       "Name: Bene_Avg_Age, Length: 86, dtype: int64"
      ]
     },
     "execution_count": 123,
     "metadata": {},
     "output_type": "execute_result"
    }
   ],
   "source": [
    "part_b[\"Bene_Avg_Age\"].value_counts()"
   ]
  },
  {
   "cell_type": "code",
   "execution_count": 125,
   "id": "a289c272",
   "metadata": {},
   "outputs": [],
   "source": [
    "part_b[\"Bene_Avg_Age\"] = part_b[\"Bene_Avg_Age\"].astype(float)"
   ]
  },
  {
   "cell_type": "code",
   "execution_count": 126,
   "id": "9cb1b8d0",
   "metadata": {},
   "outputs": [
    {
     "data": {
      "text/plain": [
       "0          77.0\n",
       "1          76.0\n",
       "2          65.0\n",
       "3          67.0\n",
       "4          64.0\n",
       "           ... \n",
       "1161536    77.0\n",
       "1161537    76.0\n",
       "1161538    71.0\n",
       "1161540    74.0\n",
       "1161541    75.0\n",
       "Name: Bene_Avg_Age, Length: 1100726, dtype: float64"
      ]
     },
     "execution_count": 126,
     "metadata": {},
     "output_type": "execute_result"
    }
   ],
   "source": [
    "part_b[\"Bene_Avg_Age\"]"
   ]
  },
  {
   "cell_type": "markdown",
   "id": "8d39fa1c",
   "metadata": {},
   "source": [
    "### Bene_Age_LT_65_Cnt"
   ]
  },
  {
   "cell_type": "code",
   "execution_count": 127,
   "id": "fcc592f1",
   "metadata": {},
   "outputs": [
    {
     "data": {
      "text/plain": [
       "0    463045\n",
       "1        48\n",
       "Name: Fraud, dtype: int64"
      ]
     },
     "execution_count": 127,
     "metadata": {},
     "output_type": "execute_result"
    }
   ],
   "source": [
    "# Null Values Present use Imputation\n",
    "part_b[part_b['Bene_Age_LT_65_Cnt'].isnull()][\"Fraud\"].value_counts()"
   ]
  },
  {
   "cell_type": "code",
   "execution_count": 128,
   "id": "bdcfcc87",
   "metadata": {},
   "outputs": [
    {
     "data": {
      "text/plain": [
       "0        16734\n",
       "15       14298\n",
       "14       14135\n",
       "13       14050\n",
       "16       13995\n",
       "         ...  \n",
       "1,486        1\n",
       "1,176        1\n",
       "986          1\n",
       "989          1\n",
       "2,982        1\n",
       "Name: Bene_Age_LT_65_Cnt, Length: 1153, dtype: int64"
      ]
     },
     "execution_count": 128,
     "metadata": {},
     "output_type": "execute_result"
    }
   ],
   "source": [
    "part_b[\"Bene_Age_LT_65_Cnt\"].value_counts()"
   ]
  },
  {
   "cell_type": "code",
   "execution_count": 129,
   "id": "5d4e55d7",
   "metadata": {},
   "outputs": [],
   "source": [
    "part_b[\"Bene_Age_LT_65_Cnt\"] = part_b[\"Bene_Age_LT_65_Cnt\"].replace(',', '', regex=True).astype(float)"
   ]
  },
  {
   "cell_type": "code",
   "execution_count": 131,
   "id": "2948373a",
   "metadata": {},
   "outputs": [
    {
     "data": {
      "text/plain": [
       "0          27.0\n",
       "1          69.0\n",
       "2          70.0\n",
       "3          12.0\n",
       "4          34.0\n",
       "           ... \n",
       "1161536    21.0\n",
       "1161537    21.0\n",
       "1161538     NaN\n",
       "1161540    33.0\n",
       "1161541    47.0\n",
       "Name: Bene_Age_LT_65_Cnt, Length: 1100726, dtype: float64"
      ]
     },
     "execution_count": 131,
     "metadata": {},
     "output_type": "execute_result"
    }
   ],
   "source": [
    "part_b[\"Bene_Age_LT_65_Cnt\"]"
   ]
  },
  {
   "cell_type": "markdown",
   "id": "76d2249e",
   "metadata": {},
   "source": [
    "### Bene_Age_65_74_Cnt"
   ]
  },
  {
   "cell_type": "code",
   "execution_count": 132,
   "id": "d960dcfd",
   "metadata": {},
   "outputs": [
    {
     "data": {
      "text/plain": [
       "0    192046\n",
       "1        37\n",
       "Name: Fraud, dtype: int64"
      ]
     },
     "execution_count": 132,
     "metadata": {},
     "output_type": "execute_result"
    }
   ],
   "source": [
    "# Null Values Present use Imputation\n",
    "part_b[part_b['Bene_Age_65_74_Cnt'].isnull()][\"Fraud\"].value_counts()"
   ]
  },
  {
   "cell_type": "code",
   "execution_count": 133,
   "id": "16b8fb53",
   "metadata": {},
   "outputs": [
    {
     "data": {
      "text/plain": [
       "25       8425\n",
       "22       8402\n",
       "24       8380\n",
       "23       8352\n",
       "20       8349\n",
       "         ... \n",
       "3,235       1\n",
       "3,463       1\n",
       "1,967       1\n",
       "2,597       1\n",
       "2,406       1\n",
       "Name: Bene_Age_65_74_Cnt, Length: 2818, dtype: int64"
      ]
     },
     "execution_count": 133,
     "metadata": {},
     "output_type": "execute_result"
    }
   ],
   "source": [
    "part_b[\"Bene_Age_65_74_Cnt\"].value_counts()"
   ]
  },
  {
   "cell_type": "code",
   "execution_count": 134,
   "id": "662c4127",
   "metadata": {},
   "outputs": [],
   "source": [
    "part_b[\"Bene_Age_65_74_Cnt\"] = part_b[\"Bene_Age_65_74_Cnt\"].replace(',', '', regex=True).astype(float)"
   ]
  },
  {
   "cell_type": "code",
   "execution_count": 135,
   "id": "e14addaf",
   "metadata": {},
   "outputs": [
    {
     "data": {
      "text/plain": [
       "0            88.0\n",
       "1          1189.0\n",
       "2            61.0\n",
       "3            33.0\n",
       "4            43.0\n",
       "            ...  \n",
       "1161536      39.0\n",
       "1161537     129.0\n",
       "1161538      37.0\n",
       "1161540     205.0\n",
       "1161541     133.0\n",
       "Name: Bene_Age_65_74_Cnt, Length: 1100726, dtype: float64"
      ]
     },
     "execution_count": 135,
     "metadata": {},
     "output_type": "execute_result"
    }
   ],
   "source": [
    "part_b[\"Bene_Age_65_74_Cnt\"]"
   ]
  },
  {
   "cell_type": "markdown",
   "id": "d30e4d96",
   "metadata": {},
   "source": [
    "### Bene_Age_75_84_Cnt"
   ]
  },
  {
   "cell_type": "code",
   "execution_count": 136,
   "id": "117ba164",
   "metadata": {},
   "outputs": [
    {
     "data": {
      "text/plain": [
       "0    342438\n",
       "1        53\n",
       "Name: Fraud, dtype: int64"
      ]
     },
     "execution_count": 136,
     "metadata": {},
     "output_type": "execute_result"
    }
   ],
   "source": [
    "# Null Values Present use Imputation\n",
    "part_b[part_b['Bene_Age_75_84_Cnt'].isnull()][\"Fraud\"].value_counts()"
   ]
  },
  {
   "cell_type": "code",
   "execution_count": 137,
   "id": "7d708b03",
   "metadata": {},
   "outputs": [
    {
     "data": {
      "text/plain": [
       "25       8221\n",
       "26       8210\n",
       "27       8179\n",
       "30       8080\n",
       "28       8078\n",
       "         ... \n",
       "2,092       1\n",
       "2,775       1\n",
       "3,776       1\n",
       "2,173       1\n",
       "2,559       1\n",
       "Name: Bene_Age_75_84_Cnt, Length: 2214, dtype: int64"
      ]
     },
     "execution_count": 137,
     "metadata": {},
     "output_type": "execute_result"
    }
   ],
   "source": [
    "part_b[\"Bene_Age_75_84_Cnt\"].value_counts()"
   ]
  },
  {
   "cell_type": "code",
   "execution_count": 138,
   "id": "79a23875",
   "metadata": {},
   "outputs": [],
   "source": [
    "part_b[\"Bene_Age_75_84_Cnt\"] = part_b[\"Bene_Age_75_84_Cnt\"].replace(',', '', regex=True).astype(float)"
   ]
  },
  {
   "cell_type": "code",
   "execution_count": 139,
   "id": "2982ea4c",
   "metadata": {},
   "outputs": [
    {
     "data": {
      "text/plain": [
       "0          104.0\n",
       "1          963.0\n",
       "2            NaN\n",
       "3            NaN\n",
       "4            NaN\n",
       "           ...  \n",
       "1161536     52.0\n",
       "1161537    111.0\n",
       "1161538     17.0\n",
       "1161540    152.0\n",
       "1161541    132.0\n",
       "Name: Bene_Age_75_84_Cnt, Length: 1100726, dtype: float64"
      ]
     },
     "execution_count": 139,
     "metadata": {},
     "output_type": "execute_result"
    }
   ],
   "source": [
    "part_b[\"Bene_Age_75_84_Cnt\"]"
   ]
  },
  {
   "cell_type": "markdown",
   "id": "e2f84f57",
   "metadata": {},
   "source": [
    "### Bene_Age_GT_84_Cnt"
   ]
  },
  {
   "cell_type": "code",
   "execution_count": 140,
   "id": "79acdf51",
   "metadata": {},
   "outputs": [
    {
     "data": {
      "text/plain": [
       "0    505797\n",
       "1        51\n",
       "Name: Fraud, dtype: int64"
      ]
     },
     "execution_count": 140,
     "metadata": {},
     "output_type": "execute_result"
    }
   ],
   "source": [
    "# Null Values Present use Imputation\n",
    "part_b[part_b['Bene_Age_GT_84_Cnt'].isnull()][\"Fraud\"].value_counts()"
   ]
  },
  {
   "cell_type": "code",
   "execution_count": 141,
   "id": "2c24132e",
   "metadata": {},
   "outputs": [
    {
     "data": {
      "text/plain": [
       "0        43408\n",
       "11       15762\n",
       "12       15080\n",
       "13       14659\n",
       "14       13876\n",
       "         ...  \n",
       "1,573        1\n",
       "1,264        1\n",
       "976          1\n",
       "1,246        1\n",
       "1,157        1\n",
       "Name: Bene_Age_GT_84_Cnt, Length: 1261, dtype: int64"
      ]
     },
     "execution_count": 141,
     "metadata": {},
     "output_type": "execute_result"
    }
   ],
   "source": [
    "part_b[\"Bene_Age_GT_84_Cnt\"].value_counts()"
   ]
  },
  {
   "cell_type": "code",
   "execution_count": 142,
   "id": "49048ff2",
   "metadata": {},
   "outputs": [],
   "source": [
    "part_b[\"Bene_Age_GT_84_Cnt\"] = part_b[\"Bene_Age_GT_84_Cnt\"].replace(',', '', regex=True).astype(float)"
   ]
  },
  {
   "cell_type": "code",
   "execution_count": 143,
   "id": "6c41ca85",
   "metadata": {},
   "outputs": [
    {
     "data": {
      "text/plain": [
       "0           72.0\n",
       "1          412.0\n",
       "2            NaN\n",
       "3            NaN\n",
       "4            NaN\n",
       "           ...  \n",
       "1161536     43.0\n",
       "1161537     72.0\n",
       "1161538      NaN\n",
       "1161540     66.0\n",
       "1161541     95.0\n",
       "Name: Bene_Age_GT_84_Cnt, Length: 1100726, dtype: float64"
      ]
     },
     "execution_count": 143,
     "metadata": {},
     "output_type": "execute_result"
    }
   ],
   "source": [
    "part_b[\"Bene_Age_GT_84_Cnt\"]"
   ]
  },
  {
   "cell_type": "markdown",
   "id": "a3923c85",
   "metadata": {},
   "source": [
    "### Bene_Feml_Cnt"
   ]
  },
  {
   "cell_type": "code",
   "execution_count": 144,
   "id": "729777ba",
   "metadata": {},
   "outputs": [
    {
     "data": {
      "text/plain": [
       "0    140744\n",
       "1        23\n",
       "Name: Fraud, dtype: int64"
      ]
     },
     "execution_count": 144,
     "metadata": {},
     "output_type": "execute_result"
    }
   ],
   "source": [
    "# Null Values Present use Imputation\n",
    "part_b[part_b['Bene_Feml_Cnt'].isnull()][\"Fraud\"].value_counts()"
   ]
  },
  {
   "cell_type": "code",
   "execution_count": 145,
   "id": "ad796886",
   "metadata": {},
   "outputs": [
    {
     "data": {
      "text/plain": [
       "23       7560\n",
       "22       7466\n",
       "26       7459\n",
       "25       7455\n",
       "29       7439\n",
       "         ... \n",
       "3,257       1\n",
       "4,027       1\n",
       "2,847       1\n",
       "3,628       1\n",
       "2,936       1\n",
       "Name: Bene_Feml_Cnt, Length: 3669, dtype: int64"
      ]
     },
     "execution_count": 145,
     "metadata": {},
     "output_type": "execute_result"
    }
   ],
   "source": [
    "part_b[\"Bene_Feml_Cnt\"].value_counts()"
   ]
  },
  {
   "cell_type": "code",
   "execution_count": 146,
   "id": "f8681226",
   "metadata": {},
   "outputs": [],
   "source": [
    "part_b[\"Bene_Feml_Cnt\"] = part_b[\"Bene_Feml_Cnt\"].replace(',', '', regex=True).astype(float)"
   ]
  },
  {
   "cell_type": "code",
   "execution_count": 147,
   "id": "622f7375",
   "metadata": {},
   "outputs": [
    {
     "data": {
      "text/plain": [
       "0           161.0\n",
       "1          1310.0\n",
       "2           100.0\n",
       "3            56.0\n",
       "4            48.0\n",
       "            ...  \n",
       "1161536      85.0\n",
       "1161537     243.0\n",
       "1161538      33.0\n",
       "1161540     242.0\n",
       "1161541     202.0\n",
       "Name: Bene_Feml_Cnt, Length: 1100726, dtype: float64"
      ]
     },
     "execution_count": 147,
     "metadata": {},
     "output_type": "execute_result"
    }
   ],
   "source": [
    "part_b[\"Bene_Feml_Cnt\"]"
   ]
  },
  {
   "cell_type": "markdown",
   "id": "07ed5eca",
   "metadata": {},
   "source": [
    "### Bene_Male_Cnt"
   ]
  },
  {
   "cell_type": "code",
   "execution_count": 148,
   "id": "ca09e560",
   "metadata": {},
   "outputs": [
    {
     "data": {
      "text/plain": [
       "0    140744\n",
       "1        23\n",
       "Name: Fraud, dtype: int64"
      ]
     },
     "execution_count": 148,
     "metadata": {},
     "output_type": "execute_result"
    }
   ],
   "source": [
    "# Null Values Present use Imputation\n",
    "part_b[part_b['Bene_Male_Cnt'].isnull()][\"Fraud\"].value_counts()"
   ]
  },
  {
   "cell_type": "code",
   "execution_count": 149,
   "id": "4415794b",
   "metadata": {},
   "outputs": [
    {
     "data": {
      "text/plain": [
       "0        31707\n",
       "13       10740\n",
       "14       10683\n",
       "15       10605\n",
       "16       10573\n",
       "         ...  \n",
       "2,461        1\n",
       "3,736        1\n",
       "3,445        1\n",
       "2,315        1\n",
       "3,383        1\n",
       "Name: Bene_Male_Cnt, Length: 2807, dtype: int64"
      ]
     },
     "execution_count": 149,
     "metadata": {},
     "output_type": "execute_result"
    }
   ],
   "source": [
    "part_b[\"Bene_Male_Cnt\"].value_counts()"
   ]
  },
  {
   "cell_type": "code",
   "execution_count": 150,
   "id": "12f32b36",
   "metadata": {},
   "outputs": [],
   "source": [
    "part_b[\"Bene_Male_Cnt\"] = part_b[\"Bene_Male_Cnt\"].replace(',', '', regex=True).astype(float)"
   ]
  },
  {
   "cell_type": "code",
   "execution_count": 151,
   "id": "79d167fa",
   "metadata": {},
   "outputs": [
    {
     "data": {
      "text/plain": [
       "0           130.0\n",
       "1          1323.0\n",
       "2            67.0\n",
       "3             0.0\n",
       "4            41.0\n",
       "            ...  \n",
       "1161536      70.0\n",
       "1161537      90.0\n",
       "1161538      33.0\n",
       "1161540     214.0\n",
       "1161541     205.0\n",
       "Name: Bene_Male_Cnt, Length: 1100726, dtype: float64"
      ]
     },
     "execution_count": 151,
     "metadata": {},
     "output_type": "execute_result"
    }
   ],
   "source": [
    "part_b[\"Bene_Male_Cnt\"]"
   ]
  },
  {
   "cell_type": "markdown",
   "id": "21c53963",
   "metadata": {},
   "source": [
    "### Bene_Race_Wht_Cnt"
   ]
  },
  {
   "cell_type": "code",
   "execution_count": 152,
   "id": "4ea5dcf4",
   "metadata": {},
   "outputs": [
    {
     "data": {
      "text/plain": [
       "0    379126\n",
       "1        46\n",
       "Name: Fraud, dtype: int64"
      ]
     },
     "execution_count": 152,
     "metadata": {},
     "output_type": "execute_result"
    }
   ],
   "source": [
    "# Null Values Present use Imputation\n",
    "part_b[part_b['Bene_Race_Wht_Cnt'].isnull()][\"Fraud\"].value_counts()"
   ]
  },
  {
   "cell_type": "code",
   "execution_count": 153,
   "id": "25f3b2c6",
   "metadata": {},
   "outputs": [
    {
     "data": {
      "text/plain": [
       "11        3218\n",
       "12        3173\n",
       "13        3028\n",
       "14        2834\n",
       "15        2795\n",
       "          ... \n",
       "4,513        1\n",
       "3,956        1\n",
       "6,329        1\n",
       "11,646       1\n",
       "6,381        1\n",
       "Name: Bene_Race_Wht_Cnt, Length: 4869, dtype: int64"
      ]
     },
     "execution_count": 153,
     "metadata": {},
     "output_type": "execute_result"
    }
   ],
   "source": [
    "part_b[\"Bene_Race_Wht_Cnt\"].value_counts()"
   ]
  },
  {
   "cell_type": "code",
   "execution_count": 154,
   "id": "665b0518",
   "metadata": {},
   "outputs": [],
   "source": [
    "part_b[\"Bene_Race_Wht_Cnt\"] = part_b[\"Bene_Race_Wht_Cnt\"].replace(',', '', regex=True).astype(float)"
   ]
  },
  {
   "cell_type": "code",
   "execution_count": 155,
   "id": "32143313",
   "metadata": {},
   "outputs": [
    {
     "data": {
      "text/plain": [
       "0           210.0\n",
       "1          2385.0\n",
       "2           115.0\n",
       "3             NaN\n",
       "4            68.0\n",
       "            ...  \n",
       "1161536       NaN\n",
       "1161537     274.0\n",
       "1161538       NaN\n",
       "1161540     399.0\n",
       "1161541     305.0\n",
       "Name: Bene_Race_Wht_Cnt, Length: 1100726, dtype: float64"
      ]
     },
     "execution_count": 155,
     "metadata": {},
     "output_type": "execute_result"
    }
   ],
   "source": [
    "part_b[\"Bene_Race_Wht_Cnt\"]"
   ]
  },
  {
   "cell_type": "markdown",
   "id": "1ec7c81c",
   "metadata": {},
   "source": [
    "### Bene_Race_Black_Cnt"
   ]
  },
  {
   "cell_type": "code",
   "execution_count": 156,
   "id": "0c8f958c",
   "metadata": {},
   "outputs": [
    {
     "data": {
      "text/plain": [
       "0    751158\n",
       "1        73\n",
       "Name: Fraud, dtype: int64"
      ]
     },
     "execution_count": 156,
     "metadata": {},
     "output_type": "execute_result"
    }
   ],
   "source": [
    "# Null Values Present use Imputation\n",
    "part_b[part_b['Bene_Race_Black_Cnt'].isnull()][\"Fraud\"].value_counts()"
   ]
  },
  {
   "cell_type": "code",
   "execution_count": 157,
   "id": "509211da",
   "metadata": {},
   "outputs": [
    {
     "data": {
      "text/plain": [
       "0        52074\n",
       "12        7898\n",
       "13        7878\n",
       "11        7751\n",
       "14        7454\n",
       "         ...  \n",
       "1,076        1\n",
       "1,577        1\n",
       "1,573        1\n",
       "1,926        1\n",
       "1,320        1\n",
       "Name: Bene_Race_Black_Cnt, Length: 1429, dtype: int64"
      ]
     },
     "execution_count": 157,
     "metadata": {},
     "output_type": "execute_result"
    }
   ],
   "source": [
    "part_b[\"Bene_Race_Black_Cnt\"].value_counts()"
   ]
  },
  {
   "cell_type": "code",
   "execution_count": 158,
   "id": "51722ab2",
   "metadata": {},
   "outputs": [],
   "source": [
    "part_b[\"Bene_Race_Black_Cnt\"] = part_b[\"Bene_Race_Black_Cnt\"].replace(',', '', regex=True).astype(float)"
   ]
  },
  {
   "cell_type": "code",
   "execution_count": 159,
   "id": "7ec67b9d",
   "metadata": {},
   "outputs": [
    {
     "data": {
      "text/plain": [
       "0          50.0\n",
       "1           NaN\n",
       "2          39.0\n",
       "3           NaN\n",
       "4           NaN\n",
       "           ... \n",
       "1161536     NaN\n",
       "1161537     NaN\n",
       "1161538     NaN\n",
       "1161540     NaN\n",
       "1161541    89.0\n",
       "Name: Bene_Race_Black_Cnt, Length: 1100726, dtype: float64"
      ]
     },
     "execution_count": 159,
     "metadata": {},
     "output_type": "execute_result"
    }
   ],
   "source": [
    "part_b[\"Bene_Race_Black_Cnt\"]"
   ]
  },
  {
   "cell_type": "markdown",
   "id": "7730c872",
   "metadata": {},
   "source": [
    "### Bene_Race_API_Cnt"
   ]
  },
  {
   "cell_type": "code",
   "execution_count": 160,
   "id": "d4dd195e",
   "metadata": {},
   "outputs": [
    {
     "data": {
      "text/plain": [
       "0    910549\n",
       "1        91\n",
       "Name: Fraud, dtype: int64"
      ]
     },
     "execution_count": 160,
     "metadata": {},
     "output_type": "execute_result"
    }
   ],
   "source": [
    "# Null Values Present use Imputation\n",
    "part_b[part_b['Bene_Race_API_Cnt'].isnull()][\"Fraud\"].value_counts()"
   ]
  },
  {
   "cell_type": "code",
   "execution_count": 161,
   "id": "c1e76ee1",
   "metadata": {},
   "outputs": [
    {
     "data": {
      "text/plain": [
       "0        106099\n",
       "11         4622\n",
       "12         4438\n",
       "13         4065\n",
       "14         3879\n",
       "          ...  \n",
       "1,207         1\n",
       "680           1\n",
       "1,023         1\n",
       "845           1\n",
       "647           1\n",
       "Name: Bene_Race_API_Cnt, Length: 788, dtype: int64"
      ]
     },
     "execution_count": 161,
     "metadata": {},
     "output_type": "execute_result"
    }
   ],
   "source": [
    "part_b[\"Bene_Race_API_Cnt\"].value_counts()"
   ]
  },
  {
   "cell_type": "code",
   "execution_count": 162,
   "id": "5672a145",
   "metadata": {},
   "outputs": [],
   "source": [
    "part_b[\"Bene_Race_API_Cnt\"] = part_b[\"Bene_Race_API_Cnt\"].replace(',', '', regex=True).astype(float)"
   ]
  },
  {
   "cell_type": "code",
   "execution_count": 163,
   "id": "57aef2ab",
   "metadata": {},
   "outputs": [
    {
     "data": {
      "text/plain": [
       "0           NaN\n",
       "1          45.0\n",
       "2           0.0\n",
       "3           NaN\n",
       "4           NaN\n",
       "           ... \n",
       "1161536     NaN\n",
       "1161537    16.0\n",
       "1161538     NaN\n",
       "1161540    18.0\n",
       "1161541     NaN\n",
       "Name: Bene_Race_API_Cnt, Length: 1100726, dtype: float64"
      ]
     },
     "execution_count": 163,
     "metadata": {},
     "output_type": "execute_result"
    }
   ],
   "source": [
    "part_b[\"Bene_Race_API_Cnt\"]"
   ]
  },
  {
   "cell_type": "markdown",
   "id": "79141974",
   "metadata": {},
   "source": [
    "### Bene_Race_Hspnc_Cnt"
   ]
  },
  {
   "cell_type": "code",
   "execution_count": 164,
   "id": "39a46b47",
   "metadata": {},
   "outputs": [
    {
     "data": {
      "text/plain": [
       "0    830342\n",
       "1        80\n",
       "Name: Fraud, dtype: int64"
      ]
     },
     "execution_count": 164,
     "metadata": {},
     "output_type": "execute_result"
    }
   ],
   "source": [
    "# Null Values Present use Imputation\n",
    "part_b[part_b['Bene_Race_Hspnc_Cnt'].isnull()][\"Fraud\"].value_counts()"
   ]
  },
  {
   "cell_type": "code",
   "execution_count": 165,
   "id": "d3a93eb0",
   "metadata": {},
   "outputs": [
    {
     "data": {
      "text/plain": [
       "0        53175\n",
       "12        8046\n",
       "11        7970\n",
       "13        7868\n",
       "14        7592\n",
       "         ...  \n",
       "1,034        1\n",
       "951          1\n",
       "1,118        1\n",
       "1,221        1\n",
       "1,080        1\n",
       "Name: Bene_Race_Hspnc_Cnt, Length: 1099, dtype: int64"
      ]
     },
     "execution_count": 165,
     "metadata": {},
     "output_type": "execute_result"
    }
   ],
   "source": [
    "part_b[\"Bene_Race_Hspnc_Cnt\"].value_counts()"
   ]
  },
  {
   "cell_type": "code",
   "execution_count": 166,
   "id": "5fdc77bf",
   "metadata": {},
   "outputs": [],
   "source": [
    "part_b[\"Bene_Race_Hspnc_Cnt\"] = part_b[\"Bene_Race_Hspnc_Cnt\"].replace(',', '', regex=True).astype(float)"
   ]
  },
  {
   "cell_type": "code",
   "execution_count": 167,
   "id": "e9cb870f",
   "metadata": {},
   "outputs": [
    {
     "data": {
      "text/plain": [
       "0           12.0\n",
       "1           49.0\n",
       "2            NaN\n",
       "3            NaN\n",
       "4            NaN\n",
       "           ...  \n",
       "1161536    131.0\n",
       "1161537     31.0\n",
       "1161538      NaN\n",
       "1161540      NaN\n",
       "1161541      NaN\n",
       "Name: Bene_Race_Hspnc_Cnt, Length: 1100726, dtype: float64"
      ]
     },
     "execution_count": 167,
     "metadata": {},
     "output_type": "execute_result"
    }
   ],
   "source": [
    "part_b[\"Bene_Race_Hspnc_Cnt\"]"
   ]
  },
  {
   "cell_type": "markdown",
   "id": "a0a0b81b",
   "metadata": {},
   "source": [
    "### Bene_Race_NatInd_Cnt"
   ]
  },
  {
   "cell_type": "code",
   "execution_count": 168,
   "id": "9b5e2062",
   "metadata": {},
   "outputs": [
    {
     "data": {
      "text/plain": [
       "0    753225\n",
       "1        80\n",
       "Name: Fraud, dtype: int64"
      ]
     },
     "execution_count": 168,
     "metadata": {},
     "output_type": "execute_result"
    }
   ],
   "source": [
    "# Null Values Present use Imputation\n",
    "part_b[part_b['Bene_Race_NatInd_Cnt'].isnull()][\"Fraud\"].value_counts()"
   ]
  },
  {
   "cell_type": "code",
   "execution_count": 169,
   "id": "8df43ab8",
   "metadata": {},
   "outputs": [
    {
     "data": {
      "text/plain": [
       "0        328214\n",
       "11         1145\n",
       "13         1002\n",
       "12          996\n",
       "14          895\n",
       "          ...  \n",
       "899           1\n",
       "414           1\n",
       "798           1\n",
       "501           1\n",
       "1,412         1\n",
       "Name: Bene_Race_NatInd_Cnt, Length: 458, dtype: int64"
      ]
     },
     "execution_count": 169,
     "metadata": {},
     "output_type": "execute_result"
    }
   ],
   "source": [
    "part_b[\"Bene_Race_NatInd_Cnt\"].value_counts()"
   ]
  },
  {
   "cell_type": "code",
   "execution_count": 170,
   "id": "86a6999b",
   "metadata": {},
   "outputs": [],
   "source": [
    "part_b[\"Bene_Race_NatInd_Cnt\"] = part_b[\"Bene_Race_NatInd_Cnt\"].replace(',', '', regex=True).astype(float)"
   ]
  },
  {
   "cell_type": "code",
   "execution_count": 171,
   "id": "fbea9336",
   "metadata": {},
   "outputs": [
    {
     "data": {
      "text/plain": [
       "0          NaN\n",
       "1          NaN\n",
       "2          0.0\n",
       "3          NaN\n",
       "4          NaN\n",
       "          ... \n",
       "1161536    NaN\n",
       "1161537    NaN\n",
       "1161538    NaN\n",
       "1161540    NaN\n",
       "1161541    0.0\n",
       "Name: Bene_Race_NatInd_Cnt, Length: 1100726, dtype: float64"
      ]
     },
     "execution_count": 171,
     "metadata": {},
     "output_type": "execute_result"
    }
   ],
   "source": [
    "part_b[\"Bene_Race_NatInd_Cnt\"]"
   ]
  },
  {
   "cell_type": "markdown",
   "id": "088e2a01",
   "metadata": {},
   "source": [
    "### Bene_Race_Othr_Cnt"
   ]
  },
  {
   "cell_type": "code",
   "execution_count": 172,
   "id": "8284fd32",
   "metadata": {},
   "outputs": [
    {
     "data": {
      "text/plain": [
       "0    917687\n",
       "1        98\n",
       "Name: Fraud, dtype: int64"
      ]
     },
     "execution_count": 172,
     "metadata": {},
     "output_type": "execute_result"
    }
   ],
   "source": [
    "# Null Values Present use Imputation\n",
    "part_b[part_b['Bene_Race_Othr_Cnt'].isnull()][\"Fraud\"].value_counts()"
   ]
  },
  {
   "cell_type": "code",
   "execution_count": 173,
   "id": "c7e25c3a",
   "metadata": {},
   "outputs": [
    {
     "data": {
      "text/plain": [
       "0      63473\n",
       "11      7424\n",
       "12      7265\n",
       "13      6884\n",
       "14      6370\n",
       "       ...  \n",
       "530        1\n",
       "332        1\n",
       "317        1\n",
       "536        1\n",
       "328        1\n",
       "Name: Bene_Race_Othr_Cnt, Length: 366, dtype: int64"
      ]
     },
     "execution_count": 173,
     "metadata": {},
     "output_type": "execute_result"
    }
   ],
   "source": [
    "part_b[\"Bene_Race_Othr_Cnt\"].value_counts()"
   ]
  },
  {
   "cell_type": "code",
   "execution_count": 174,
   "id": "3ab0f704",
   "metadata": {},
   "outputs": [],
   "source": [
    "part_b[\"Bene_Race_Othr_Cnt\"] = part_b[\"Bene_Race_Othr_Cnt\"].replace(',', '', regex=True).astype(float)"
   ]
  },
  {
   "cell_type": "code",
   "execution_count": 175,
   "id": "d7fac3c8",
   "metadata": {},
   "outputs": [
    {
     "data": {
      "text/plain": [
       "0            NaN\n",
       "1          128.0\n",
       "2            NaN\n",
       "3            NaN\n",
       "4            NaN\n",
       "           ...  \n",
       "1161536      NaN\n",
       "1161537      NaN\n",
       "1161538      NaN\n",
       "1161540     17.0\n",
       "1161541      NaN\n",
       "Name: Bene_Race_Othr_Cnt, Length: 1100726, dtype: float64"
      ]
     },
     "execution_count": 175,
     "metadata": {},
     "output_type": "execute_result"
    }
   ],
   "source": [
    "part_b[\"Bene_Race_Othr_Cnt\"]"
   ]
  },
  {
   "cell_type": "markdown",
   "id": "6a069cba",
   "metadata": {},
   "source": [
    "### Bene_Dual_Cnt"
   ]
  },
  {
   "cell_type": "code",
   "execution_count": 176,
   "id": "20d1b4ad",
   "metadata": {},
   "outputs": [
    {
     "data": {
      "text/plain": [
       "0    318169\n",
       "1        31\n",
       "Name: Fraud, dtype: int64"
      ]
     },
     "execution_count": 176,
     "metadata": {},
     "output_type": "execute_result"
    }
   ],
   "source": [
    "# Null Values Present use Imputation\n",
    "part_b[part_b['Bene_Dual_Cnt'].isnull()][\"Fraud\"].value_counts()"
   ]
  },
  {
   "cell_type": "code",
   "execution_count": 177,
   "id": "e5997bf4",
   "metadata": {},
   "outputs": [
    {
     "data": {
      "text/plain": [
       "0        36092\n",
       "11       18505\n",
       "12       17364\n",
       "13       16877\n",
       "14       16284\n",
       "         ...  \n",
       "2,020        1\n",
       "1,984        1\n",
       "2,698        1\n",
       "1,573        1\n",
       "1,939        1\n",
       "Name: Bene_Dual_Cnt, Length: 1971, dtype: int64"
      ]
     },
     "execution_count": 177,
     "metadata": {},
     "output_type": "execute_result"
    }
   ],
   "source": [
    "part_b[\"Bene_Dual_Cnt\"].value_counts()"
   ]
  },
  {
   "cell_type": "code",
   "execution_count": 178,
   "id": "7676e29b",
   "metadata": {},
   "outputs": [],
   "source": [
    "part_b[\"Bene_Dual_Cnt\"] = part_b[\"Bene_Dual_Cnt\"].replace(',', '', regex=True).astype(float)"
   ]
  },
  {
   "cell_type": "code",
   "execution_count": 179,
   "id": "72b0bf57",
   "metadata": {},
   "outputs": [
    {
     "data": {
      "text/plain": [
       "0           61.0\n",
       "1          125.0\n",
       "2           59.0\n",
       "3           11.0\n",
       "4           38.0\n",
       "           ...  \n",
       "1161536    127.0\n",
       "1161537     35.0\n",
       "1161538      NaN\n",
       "1161540     44.0\n",
       "1161541     85.0\n",
       "Name: Bene_Dual_Cnt, Length: 1100726, dtype: float64"
      ]
     },
     "execution_count": 179,
     "metadata": {},
     "output_type": "execute_result"
    }
   ],
   "source": [
    "part_b[\"Bene_Dual_Cnt\"]"
   ]
  },
  {
   "cell_type": "markdown",
   "id": "56f983ba",
   "metadata": {},
   "source": [
    "### Bene_Ndual_Cnt"
   ]
  },
  {
   "cell_type": "code",
   "execution_count": 180,
   "id": "a6d432fa",
   "metadata": {},
   "outputs": [
    {
     "data": {
      "text/plain": [
       "0    318169\n",
       "1        31\n",
       "Name: Fraud, dtype: int64"
      ]
     },
     "execution_count": 180,
     "metadata": {},
     "output_type": "execute_result"
    }
   ],
   "source": [
    "# Null Values Present use Imputation\n",
    "part_b[part_b['Bene_Ndual_Cnt'].isnull()][\"Fraud\"].value_counts()"
   ]
  },
  {
   "cell_type": "code",
   "execution_count": 181,
   "id": "1ce8832c",
   "metadata": {},
   "outputs": [
    {
     "data": {
      "text/plain": [
       "11        5496\n",
       "12        5166\n",
       "13        4767\n",
       "14        4582\n",
       "16        4446\n",
       "          ... \n",
       "3,846        1\n",
       "3,673        1\n",
       "15,668       1\n",
       "3,120        1\n",
       "6,423        1\n",
       "Name: Bene_Ndual_Cnt, Length: 4677, dtype: int64"
      ]
     },
     "execution_count": 181,
     "metadata": {},
     "output_type": "execute_result"
    }
   ],
   "source": [
    "part_b[\"Bene_Ndual_Cnt\"].value_counts()"
   ]
  },
  {
   "cell_type": "code",
   "execution_count": 182,
   "id": "3573c597",
   "metadata": {},
   "outputs": [],
   "source": [
    "part_b[\"Bene_Ndual_Cnt\"] = part_b[\"Bene_Ndual_Cnt\"].replace(',', '', regex=True).astype(float)"
   ]
  },
  {
   "cell_type": "code",
   "execution_count": 183,
   "id": "3d3addd7",
   "metadata": {},
   "outputs": [
    {
     "data": {
      "text/plain": [
       "0           230.0\n",
       "1          2508.0\n",
       "2           108.0\n",
       "3            45.0\n",
       "4            51.0\n",
       "            ...  \n",
       "1161536      28.0\n",
       "1161537     298.0\n",
       "1161538       NaN\n",
       "1161540     412.0\n",
       "1161541     322.0\n",
       "Name: Bene_Ndual_Cnt, Length: 1100726, dtype: float64"
      ]
     },
     "execution_count": 183,
     "metadata": {},
     "output_type": "execute_result"
    }
   ],
   "source": [
    "part_b[\"Bene_Ndual_Cnt\"]"
   ]
  },
  {
   "cell_type": "markdown",
   "id": "a5abe432",
   "metadata": {},
   "source": [
    "### Bene_CC_AF_Pct"
   ]
  },
  {
   "cell_type": "code",
   "execution_count": 186,
   "id": "1efb241e",
   "metadata": {},
   "outputs": [
    {
     "data": {
      "text/plain": [
       "0    378624\n",
       "1        52\n",
       "Name: Fraud, dtype: int64"
      ]
     },
     "execution_count": 186,
     "metadata": {},
     "output_type": "execute_result"
    }
   ],
   "source": [
    "# Null Values Present use Imputation\n",
    "part_b[part_b['Bene_CC_AF_Pct'].isnull()][\"Fraud\"].value_counts()"
   ]
  },
  {
   "cell_type": "code",
   "execution_count": 187,
   "id": "a55afde7",
   "metadata": {},
   "outputs": [
    {
     "data": {
      "text/plain": [
       "0%        51829\n",
       "10%       46896\n",
       "11.00%    46082\n",
       "9.00%     42781\n",
       "12.00%    42015\n",
       "          ...  \n",
       "73.00%       54\n",
       "74.00%       42\n",
       "72.00%       41\n",
       "2.00%        33\n",
       "1.0%          1\n",
       "Name: Bene_CC_AF_Pct, Length: 76, dtype: int64"
      ]
     },
     "execution_count": 187,
     "metadata": {},
     "output_type": "execute_result"
    }
   ],
   "source": [
    "part_b[\"Bene_CC_AF_Pct\"].value_counts()"
   ]
  },
  {
   "cell_type": "code",
   "execution_count": 190,
   "id": "70e38c45",
   "metadata": {},
   "outputs": [],
   "source": [
    "part_b[\"Bene_CC_AF_Pct\"] = part_b[\"Bene_CC_AF_Pct\"].replace('%', '', regex=True).astype(float)"
   ]
  },
  {
   "cell_type": "code",
   "execution_count": 191,
   "id": "2d4ae6c3",
   "metadata": {},
   "outputs": [
    {
     "data": {
      "text/plain": [
       "0          31.0\n",
       "1          10.0\n",
       "2           8.0\n",
       "3           NaN\n",
       "4           NaN\n",
       "           ... \n",
       "1161536    24.0\n",
       "1161537    14.0\n",
       "1161538     NaN\n",
       "1161540    12.0\n",
       "1161541    30.0\n",
       "Name: Bene_CC_AF_Pct, Length: 1100726, dtype: float64"
      ]
     },
     "execution_count": 191,
     "metadata": {},
     "output_type": "execute_result"
    }
   ],
   "source": [
    "part_b[\"Bene_CC_AF_Pct\"]"
   ]
  },
  {
   "cell_type": "markdown",
   "id": "b02df903",
   "metadata": {},
   "source": [
    "### Bene_CC_Alzhmr_Pct"
   ]
  },
  {
   "cell_type": "code",
   "execution_count": 192,
   "id": "1b2aff28",
   "metadata": {},
   "outputs": [
    {
     "data": {
      "text/plain": [
       "0    379013\n",
       "1        46\n",
       "Name: Fraud, dtype: int64"
      ]
     },
     "execution_count": 192,
     "metadata": {},
     "output_type": "execute_result"
    }
   ],
   "source": [
    "# Null Values Present use Imputation\n",
    "part_b[part_b['Bene_CC_Alzhmr_Pct'].isnull()][\"Fraud\"].value_counts()"
   ]
  },
  {
   "cell_type": "code",
   "execution_count": 193,
   "id": "925d2171",
   "metadata": {},
   "outputs": [
    {
     "data": {
      "text/plain": [
       "0%        47371\n",
       "8.00%     38798\n",
       "9.00%     38016\n",
       "7.00%     35497\n",
       "10%       34999\n",
       "          ...  \n",
       "73.00%     1027\n",
       "72.00%      987\n",
       "74.00%      929\n",
       "2.00%       278\n",
       "1.0%          2\n",
       "Name: Bene_CC_Alzhmr_Pct, Length: 76, dtype: int64"
      ]
     },
     "execution_count": 193,
     "metadata": {},
     "output_type": "execute_result"
    }
   ],
   "source": [
    "part_b[\"Bene_CC_Alzhmr_Pct\"].value_counts()"
   ]
  },
  {
   "cell_type": "code",
   "execution_count": 194,
   "id": "2dfa5aa5",
   "metadata": {},
   "outputs": [],
   "source": [
    "part_b[\"Bene_CC_Alzhmr_Pct\"] = part_b[\"Bene_CC_Alzhmr_Pct\"].replace('%', '', regex=True).astype(float)"
   ]
  },
  {
   "cell_type": "code",
   "execution_count": 195,
   "id": "4f347c7c",
   "metadata": {},
   "outputs": [
    {
     "data": {
      "text/plain": [
       "0          43.0\n",
       "1           6.0\n",
       "2           NaN\n",
       "3           NaN\n",
       "4          13.0\n",
       "           ... \n",
       "1161536    54.0\n",
       "1161537    12.0\n",
       "1161538     NaN\n",
       "1161540    10.0\n",
       "1161541    43.0\n",
       "Name: Bene_CC_Alzhmr_Pct, Length: 1100726, dtype: float64"
      ]
     },
     "execution_count": 195,
     "metadata": {},
     "output_type": "execute_result"
    }
   ],
   "source": [
    "part_b[\"Bene_CC_Alzhmr_Pct\"]"
   ]
  },
  {
   "cell_type": "markdown",
   "id": "344b9a23",
   "metadata": {},
   "source": [
    "### Bene_CC_Asthma_Pct"
   ]
  },
  {
   "cell_type": "code",
   "execution_count": 196,
   "id": "e1cb7a27",
   "metadata": {},
   "outputs": [
    {
     "data": {
      "text/plain": [
       "0    473689\n",
       "1        59\n",
       "Name: Fraud, dtype: int64"
      ]
     },
     "execution_count": 196,
     "metadata": {},
     "output_type": "execute_result"
    }
   ],
   "source": [
    "# Null Values Present use Imputation\n",
    "part_b[part_b['Bene_CC_Asthma_Pct'].isnull()][\"Fraud\"].value_counts()"
   ]
  },
  {
   "cell_type": "code",
   "execution_count": 197,
   "id": "b082c76e",
   "metadata": {},
   "outputs": [
    {
     "data": {
      "text/plain": [
       "8.00%     67589\n",
       "9.00%     66940\n",
       "10%       61426\n",
       "7.00%     61358\n",
       "11.00%    52285\n",
       "          ...  \n",
       "63.00%        6\n",
       "72.00%        6\n",
       "70.0%         5\n",
       "74.00%        4\n",
       "1.0%          3\n",
       "Name: Bene_CC_Asthma_Pct, Length: 76, dtype: int64"
      ]
     },
     "execution_count": 197,
     "metadata": {},
     "output_type": "execute_result"
    }
   ],
   "source": [
    "part_b[\"Bene_CC_Asthma_Pct\"].value_counts()"
   ]
  },
  {
   "cell_type": "code",
   "execution_count": 198,
   "id": "2c3f1d9d",
   "metadata": {},
   "outputs": [],
   "source": [
    "part_b[\"Bene_CC_Asthma_Pct\"] = part_b[\"Bene_CC_Asthma_Pct\"].replace('%', '', regex=True).astype(float)"
   ]
  },
  {
   "cell_type": "code",
   "execution_count": 199,
   "id": "9c77bd19",
   "metadata": {},
   "outputs": [
    {
     "data": {
      "text/plain": [
       "0          15.0\n",
       "1           4.0\n",
       "2          13.0\n",
       "3           NaN\n",
       "4          20.0\n",
       "           ... \n",
       "1161536     8.0\n",
       "1161537     5.0\n",
       "1161538     NaN\n",
       "1161540     9.0\n",
       "1161541    13.0\n",
       "Name: Bene_CC_Asthma_Pct, Length: 1100726, dtype: float64"
      ]
     },
     "execution_count": 199,
     "metadata": {},
     "output_type": "execute_result"
    }
   ],
   "source": [
    "part_b[\"Bene_CC_Asthma_Pct\"]"
   ]
  },
  {
   "cell_type": "markdown",
   "id": "6fe9169e",
   "metadata": {},
   "source": [
    "### Bene_CC_Cncr_Pct"
   ]
  },
  {
   "cell_type": "code",
   "execution_count": 200,
   "id": "e51ac75f",
   "metadata": {},
   "outputs": [
    {
     "data": {
      "text/plain": [
       "0    387680\n",
       "1        59\n",
       "Name: Fraud, dtype: int64"
      ]
     },
     "execution_count": 200,
     "metadata": {},
     "output_type": "execute_result"
    }
   ],
   "source": [
    "# Null Values Present use Imputation\n",
    "part_b[part_b['Bene_CC_Cncr_Pct'].isnull()][\"Fraud\"].value_counts()"
   ]
  },
  {
   "cell_type": "code",
   "execution_count": 201,
   "id": "d203e0a6",
   "metadata": {},
   "outputs": [
    {
     "data": {
      "text/plain": [
       "11.00%    62465\n",
       "12.00%    59683\n",
       "10%       59072\n",
       "13.00%    57537\n",
       "9.00%     50585\n",
       "          ...  \n",
       "68.00%      352\n",
       "64.00%      348\n",
       "72.00%      347\n",
       "3.00%       174\n",
       "2.00%        16\n",
       "Name: Bene_CC_Cncr_Pct, Length: 75, dtype: int64"
      ]
     },
     "execution_count": 201,
     "metadata": {},
     "output_type": "execute_result"
    }
   ],
   "source": [
    "part_b[\"Bene_CC_Cncr_Pct\"].value_counts()"
   ]
  },
  {
   "cell_type": "code",
   "execution_count": 202,
   "id": "d8350a2c",
   "metadata": {},
   "outputs": [],
   "source": [
    "part_b[\"Bene_CC_Cncr_Pct\"] = part_b[\"Bene_CC_Cncr_Pct\"].replace('%', '', regex=True).astype(float)"
   ]
  },
  {
   "cell_type": "code",
   "execution_count": 203,
   "id": "793198ad",
   "metadata": {},
   "outputs": [
    {
     "data": {
      "text/plain": [
       "0          18.0\n",
       "1          14.0\n",
       "2          10.0\n",
       "3           NaN\n",
       "4           NaN\n",
       "           ... \n",
       "1161536    12.0\n",
       "1161537    10.0\n",
       "1161538     NaN\n",
       "1161540     9.0\n",
       "1161541    22.0\n",
       "Name: Bene_CC_Cncr_Pct, Length: 1100726, dtype: float64"
      ]
     },
     "execution_count": 203,
     "metadata": {},
     "output_type": "execute_result"
    }
   ],
   "source": [
    "part_b[\"Bene_CC_Cncr_Pct\"]"
   ]
  },
  {
   "cell_type": "markdown",
   "id": "4caafe2b",
   "metadata": {},
   "source": [
    "### Bene_CC_CHF_Pct"
   ]
  },
  {
   "cell_type": "code",
   "execution_count": 204,
   "id": "5daf93e8",
   "metadata": {},
   "outputs": [
    {
     "data": {
      "text/plain": [
       "0    290372\n",
       "1        37\n",
       "Name: Fraud, dtype: int64"
      ]
     },
     "execution_count": 204,
     "metadata": {},
     "output_type": "execute_result"
    }
   ],
   "source": [
    "# Null Values Present use Imputation\n",
    "part_b[part_b['Bene_CC_CHF_Pct'].isnull()][\"Fraud\"].value_counts()"
   ]
  },
  {
   "cell_type": "code",
   "execution_count": 205,
   "id": "b6625dde",
   "metadata": {},
   "outputs": [
    {
     "data": {
      "text/plain": [
       "13.00%    30195\n",
       "14.00%    29597\n",
       "15.00%    29371\n",
       "16.00%    28084\n",
       "12.00%    26404\n",
       "          ...  \n",
       "72.00%      893\n",
       "74.00%      753\n",
       "4.00%       465\n",
       "3.00%        97\n",
       "2.00%         4\n",
       "Name: Bene_CC_CHF_Pct, Length: 75, dtype: int64"
      ]
     },
     "execution_count": 205,
     "metadata": {},
     "output_type": "execute_result"
    }
   ],
   "source": [
    "part_b[\"Bene_CC_CHF_Pct\"].value_counts()"
   ]
  },
  {
   "cell_type": "code",
   "execution_count": 206,
   "id": "1abf82a5",
   "metadata": {},
   "outputs": [],
   "source": [
    "part_b[\"Bene_CC_CHF_Pct\"] = part_b[\"Bene_CC_CHF_Pct\"].replace('%', '', regex=True).astype(float)"
   ]
  },
  {
   "cell_type": "code",
   "execution_count": 207,
   "id": "b2bad75d",
   "metadata": {},
   "outputs": [
    {
     "data": {
      "text/plain": [
       "0          48.0\n",
       "1          12.0\n",
       "2          21.0\n",
       "3           NaN\n",
       "4          20.0\n",
       "           ... \n",
       "1161536    55.0\n",
       "1161537    15.0\n",
       "1161538     NaN\n",
       "1161540    15.0\n",
       "1161541    55.0\n",
       "Name: Bene_CC_CHF_Pct, Length: 1100726, dtype: float64"
      ]
     },
     "execution_count": 207,
     "metadata": {},
     "output_type": "execute_result"
    }
   ],
   "source": [
    "part_b[\"Bene_CC_CHF_Pct\"]"
   ]
  },
  {
   "cell_type": "markdown",
   "id": "2bee9d11",
   "metadata": {},
   "source": [
    "### Bene_CC_CKD_Pct"
   ]
  },
  {
   "cell_type": "code",
   "execution_count": 208,
   "id": "77ac8ac6",
   "metadata": {},
   "outputs": [
    {
     "data": {
      "text/plain": [
       "0    176881\n",
       "1        23\n",
       "Name: Fraud, dtype: int64"
      ]
     },
     "execution_count": 208,
     "metadata": {},
     "output_type": "execute_result"
    }
   ],
   "source": [
    "# Null Values Present use Imputation\n",
    "part_b[part_b['Bene_CC_CKD_Pct'].isnull()][\"Fraud\"].value_counts()"
   ]
  },
  {
   "cell_type": "code",
   "execution_count": 209,
   "id": "f9b2a67a",
   "metadata": {},
   "outputs": [
    {
     "data": {
      "text/plain": [
       "75.00%    53954\n",
       "28.00%    23472\n",
       "27.00%    23019\n",
       "29.00%    22970\n",
       "30.0%     22711\n",
       "          ...  \n",
       "7.00%        73\n",
       "6.00%        21\n",
       "5.00%         4\n",
       "4.00%         1\n",
       "3.00%         1\n",
       "Name: Bene_CC_CKD_Pct, Length: 74, dtype: int64"
      ]
     },
     "execution_count": 209,
     "metadata": {},
     "output_type": "execute_result"
    }
   ],
   "source": [
    "part_b[\"Bene_CC_CKD_Pct\"].value_counts()"
   ]
  },
  {
   "cell_type": "code",
   "execution_count": 210,
   "id": "1fb6001a",
   "metadata": {},
   "outputs": [],
   "source": [
    "part_b[\"Bene_CC_CKD_Pct\"] = part_b[\"Bene_CC_CKD_Pct\"].replace('%', '', regex=True).astype(float)"
   ]
  },
  {
   "cell_type": "code",
   "execution_count": 211,
   "id": "7df50438",
   "metadata": {},
   "outputs": [
    {
     "data": {
      "text/plain": [
       "0          65.0\n",
       "1          22.0\n",
       "2          34.0\n",
       "3           NaN\n",
       "4          31.0\n",
       "           ... \n",
       "1161536    66.0\n",
       "1161537    34.0\n",
       "1161538    17.0\n",
       "1161540    23.0\n",
       "1161541    75.0\n",
       "Name: Bene_CC_CKD_Pct, Length: 1100726, dtype: float64"
      ]
     },
     "execution_count": 211,
     "metadata": {},
     "output_type": "execute_result"
    }
   ],
   "source": [
    "part_b[\"Bene_CC_CKD_Pct\"]"
   ]
  },
  {
   "cell_type": "markdown",
   "id": "d9b21bfc",
   "metadata": {},
   "source": [
    "### Bene_CC_COPD_Pct"
   ]
  },
  {
   "cell_type": "code",
   "execution_count": 212,
   "id": "45dd82c1",
   "metadata": {},
   "outputs": [
    {
     "data": {
      "text/plain": [
       "0    338761\n",
       "1        41\n",
       "Name: Fraud, dtype: int64"
      ]
     },
     "execution_count": 212,
     "metadata": {},
     "output_type": "execute_result"
    }
   ],
   "source": [
    "# Null Values Present use Imputation\n",
    "part_b[part_b['Bene_CC_COPD_Pct'].isnull()][\"Fraud\"].value_counts()"
   ]
  },
  {
   "cell_type": "code",
   "execution_count": 213,
   "id": "910de981",
   "metadata": {},
   "outputs": [
    {
     "data": {
      "text/plain": [
       "13.00%    32199\n",
       "11.00%    31267\n",
       "12.00%    30586\n",
       "0%        30447\n",
       "14.00%    30073\n",
       "          ...  \n",
       "72.00%       87\n",
       "73.00%       82\n",
       "74.00%       54\n",
       "2.00%        41\n",
       "1.0%          2\n",
       "Name: Bene_CC_COPD_Pct, Length: 76, dtype: int64"
      ]
     },
     "execution_count": 213,
     "metadata": {},
     "output_type": "execute_result"
    }
   ],
   "source": [
    "part_b[\"Bene_CC_COPD_Pct\"].value_counts()"
   ]
  },
  {
   "cell_type": "code",
   "execution_count": 214,
   "id": "9e46fa21",
   "metadata": {},
   "outputs": [],
   "source": [
    "part_b[\"Bene_CC_COPD_Pct\"] = part_b[\"Bene_CC_COPD_Pct\"].replace('%', '', regex=True).astype(float)"
   ]
  },
  {
   "cell_type": "code",
   "execution_count": 215,
   "id": "3a0f96c6",
   "metadata": {},
   "outputs": [
    {
     "data": {
      "text/plain": [
       "0          29.0\n",
       "1           6.0\n",
       "2          26.0\n",
       "3           NaN\n",
       "4          12.0\n",
       "           ... \n",
       "1161536    40.0\n",
       "1161537     9.0\n",
       "1161538     NaN\n",
       "1161540     9.0\n",
       "1161541    38.0\n",
       "Name: Bene_CC_COPD_Pct, Length: 1100726, dtype: float64"
      ]
     },
     "execution_count": 215,
     "metadata": {},
     "output_type": "execute_result"
    }
   ],
   "source": [
    "part_b[\"Bene_CC_COPD_Pct\"]"
   ]
  },
  {
   "cell_type": "markdown",
   "id": "0bd3f481",
   "metadata": {},
   "source": [
    "### Bene_CC_Dprssn_Pct"
   ]
  },
  {
   "cell_type": "code",
   "execution_count": 216,
   "id": "592788ec",
   "metadata": {},
   "outputs": [
    {
     "data": {
      "text/plain": [
       "0    178866\n",
       "1        30\n",
       "Name: Fraud, dtype: int64"
      ]
     },
     "execution_count": 216,
     "metadata": {},
     "output_type": "execute_result"
    }
   ],
   "source": [
    "# Null Values Present use Imputation\n",
    "part_b[part_b['Bene_CC_Dprssn_Pct'].isnull()][\"Fraud\"].value_counts()"
   ]
  },
  {
   "cell_type": "code",
   "execution_count": 217,
   "id": "64979e92",
   "metadata": {},
   "outputs": [
    {
     "data": {
      "text/plain": [
       "75.00%    41380\n",
       "25.00%    30386\n",
       "26.00%    30307\n",
       "24.00%    30178\n",
       "27.00%    29961\n",
       "          ...  \n",
       "6.00%       260\n",
       "5.00%       131\n",
       "4.00%        52\n",
       "3.00%        27\n",
       "2.00%         5\n",
       "Name: Bene_CC_Dprssn_Pct, Length: 75, dtype: int64"
      ]
     },
     "execution_count": 217,
     "metadata": {},
     "output_type": "execute_result"
    }
   ],
   "source": [
    "part_b[\"Bene_CC_Dprssn_Pct\"].value_counts()"
   ]
  },
  {
   "cell_type": "code",
   "execution_count": 218,
   "id": "e8349a42",
   "metadata": {},
   "outputs": [],
   "source": [
    "part_b[\"Bene_CC_Dprssn_Pct\"] = part_b[\"Bene_CC_Dprssn_Pct\"].replace('%', '', regex=True).astype(float)"
   ]
  },
  {
   "cell_type": "code",
   "execution_count": 219,
   "id": "c45b23f4",
   "metadata": {},
   "outputs": [
    {
     "data": {
      "text/plain": [
       "0          35.0\n",
       "1          15.0\n",
       "2          37.0\n",
       "3          27.0\n",
       "4          43.0\n",
       "           ... \n",
       "1161536    52.0\n",
       "1161537    28.0\n",
       "1161538    24.0\n",
       "1161540    19.0\n",
       "1161541    41.0\n",
       "Name: Bene_CC_Dprssn_Pct, Length: 1100726, dtype: float64"
      ]
     },
     "execution_count": 219,
     "metadata": {},
     "output_type": "execute_result"
    }
   ],
   "source": [
    "part_b[\"Bene_CC_Dprssn_Pct\"]"
   ]
  },
  {
   "cell_type": "markdown",
   "id": "5e9a9650",
   "metadata": {},
   "source": [
    "### Bene_CC_Dbts_Pct"
   ]
  },
  {
   "cell_type": "code",
   "execution_count": 220,
   "id": "1fe4df95",
   "metadata": {},
   "outputs": [
    {
     "data": {
      "text/plain": [
       "0    180122\n",
       "1        24\n",
       "Name: Fraud, dtype: int64"
      ]
     },
     "execution_count": 220,
     "metadata": {},
     "output_type": "execute_result"
    }
   ],
   "source": [
    "# Null Values Present use Imputation\n",
    "part_b[part_b['Bene_CC_Dbts_Pct'].isnull()][\"Fraud\"].value_counts()"
   ]
  },
  {
   "cell_type": "code",
   "execution_count": 221,
   "id": "8628d7be",
   "metadata": {},
   "outputs": [
    {
     "data": {
      "text/plain": [
       "33.00%    31577\n",
       "31.00%    31331\n",
       "32.00%    30895\n",
       "30.0%     30741\n",
       "29.00%    30206\n",
       "          ...  \n",
       "8.00%       187\n",
       "7.00%        81\n",
       "6.00%        46\n",
       "5.00%        18\n",
       "4.00%         3\n",
       "Name: Bene_CC_Dbts_Pct, Length: 73, dtype: int64"
      ]
     },
     "execution_count": 221,
     "metadata": {},
     "output_type": "execute_result"
    }
   ],
   "source": [
    "part_b[\"Bene_CC_Dbts_Pct\"].value_counts()"
   ]
  },
  {
   "cell_type": "code",
   "execution_count": 222,
   "id": "99034afc",
   "metadata": {},
   "outputs": [],
   "source": [
    "part_b[\"Bene_CC_Dbts_Pct\"] = part_b[\"Bene_CC_Dbts_Pct\"].replace('%', '', regex=True).astype(float)"
   ]
  },
  {
   "cell_type": "code",
   "execution_count": 223,
   "id": "12672e84",
   "metadata": {},
   "outputs": [
    {
     "data": {
      "text/plain": [
       "0          47.0\n",
       "1          20.0\n",
       "2          35.0\n",
       "3           NaN\n",
       "4          39.0\n",
       "           ... \n",
       "1161536    58.0\n",
       "1161537    26.0\n",
       "1161538    26.0\n",
       "1161540    21.0\n",
       "1161541    48.0\n",
       "Name: Bene_CC_Dbts_Pct, Length: 1100726, dtype: float64"
      ]
     },
     "execution_count": 223,
     "metadata": {},
     "output_type": "execute_result"
    }
   ],
   "source": [
    "part_b[\"Bene_CC_Dbts_Pct\"]"
   ]
  },
  {
   "cell_type": "markdown",
   "id": "6bd25daf",
   "metadata": {},
   "source": [
    "### Bene_CC_Hyplpdma_Pct"
   ]
  },
  {
   "cell_type": "code",
   "execution_count": 224,
   "id": "196ccb3c",
   "metadata": {},
   "outputs": [
    {
     "data": {
      "text/plain": [
       "0    90438\n",
       "1       16\n",
       "Name: Fraud, dtype: int64"
      ]
     },
     "execution_count": 224,
     "metadata": {},
     "output_type": "execute_result"
    }
   ],
   "source": [
    "# Null Values Present use Imputation\n",
    "part_b[part_b['Bene_CC_Hyplpdma_Pct'].isnull()][\"Fraud\"].value_counts()"
   ]
  },
  {
   "cell_type": "code",
   "execution_count": 225,
   "id": "b9d97a70",
   "metadata": {},
   "outputs": [
    {
     "data": {
      "text/plain": [
       "75.00%    156698\n",
       "63.00%     32806\n",
       "65.00%     32083\n",
       "67.00%     31829\n",
       "68.00%     31418\n",
       "           ...  \n",
       "14.00%        43\n",
       "13.00%        13\n",
       "11.00%         7\n",
       "12.00%         6\n",
       "10%            3\n",
       "Name: Bene_CC_Hyplpdma_Pct, Length: 67, dtype: int64"
      ]
     },
     "execution_count": 225,
     "metadata": {},
     "output_type": "execute_result"
    }
   ],
   "source": [
    "part_b[\"Bene_CC_Hyplpdma_Pct\"].value_counts()"
   ]
  },
  {
   "cell_type": "code",
   "execution_count": 226,
   "id": "b9db78e5",
   "metadata": {},
   "outputs": [],
   "source": [
    "part_b[\"Bene_CC_Hyplpdma_Pct\"] = part_b[\"Bene_CC_Hyplpdma_Pct\"].replace('%', '', regex=True).astype(float)"
   ]
  },
  {
   "cell_type": "code",
   "execution_count": 227,
   "id": "76f9bcdf",
   "metadata": {},
   "outputs": [
    {
     "data": {
      "text/plain": [
       "0          73.0\n",
       "1          48.0\n",
       "2          52.0\n",
       "3          52.0\n",
       "4          43.0\n",
       "           ... \n",
       "1161536    71.0\n",
       "1161537    49.0\n",
       "1161538    61.0\n",
       "1161540    44.0\n",
       "1161541    75.0\n",
       "Name: Bene_CC_Hyplpdma_Pct, Length: 1100726, dtype: float64"
      ]
     },
     "execution_count": 227,
     "metadata": {},
     "output_type": "execute_result"
    }
   ],
   "source": [
    "part_b[\"Bene_CC_Hyplpdma_Pct\"]"
   ]
  },
  {
   "cell_type": "markdown",
   "id": "c728d880",
   "metadata": {},
   "source": [
    "### Bene_CC_Hyprtnsn_Pct"
   ]
  },
  {
   "cell_type": "code",
   "execution_count": 228,
   "id": "be47312a",
   "metadata": {},
   "outputs": [
    {
     "data": {
      "text/plain": [
       "0    68403\n",
       "1       12\n",
       "Name: Fraud, dtype: int64"
      ]
     },
     "execution_count": 228,
     "metadata": {},
     "output_type": "execute_result"
    }
   ],
   "source": [
    "# Null Values Present use Imputation\n",
    "part_b[part_b['Bene_CC_Hyprtnsn_Pct'].isnull()][\"Fraud\"].value_counts()"
   ]
  },
  {
   "cell_type": "code",
   "execution_count": 229,
   "id": "f0215339",
   "metadata": {},
   "outputs": [
    {
     "data": {
      "text/plain": [
       "75.00%    463852\n",
       "71.00%     26722\n",
       "73.00%     26458\n",
       "74.00%     25983\n",
       "68.00%     25549\n",
       "           ...  \n",
       "17.00%         6\n",
       "15.00%         5\n",
       "14.00%         4\n",
       "13.00%         4\n",
       "9.00%          2\n",
       "Name: Bene_CC_Hyprtnsn_Pct, Length: 65, dtype: int64"
      ]
     },
     "execution_count": 229,
     "metadata": {},
     "output_type": "execute_result"
    }
   ],
   "source": [
    "part_b[\"Bene_CC_Hyprtnsn_Pct\"].value_counts()"
   ]
  },
  {
   "cell_type": "code",
   "execution_count": 230,
   "id": "cf1b497b",
   "metadata": {},
   "outputs": [],
   "source": [
    "part_b[\"Bene_CC_Hyprtnsn_Pct\"] = part_b[\"Bene_CC_Hyprtnsn_Pct\"].replace('%', '', regex=True).astype(float)"
   ]
  },
  {
   "cell_type": "code",
   "execution_count": 231,
   "id": "4a07e96a",
   "metadata": {},
   "outputs": [
    {
     "data": {
      "text/plain": [
       "0          75.0\n",
       "1          48.0\n",
       "2          68.0\n",
       "3          50.0\n",
       "4          60.0\n",
       "           ... \n",
       "1161536    75.0\n",
       "1161537    66.0\n",
       "1161538    53.0\n",
       "1161540    53.0\n",
       "1161541    75.0\n",
       "Name: Bene_CC_Hyprtnsn_Pct, Length: 1100726, dtype: float64"
      ]
     },
     "execution_count": 231,
     "metadata": {},
     "output_type": "execute_result"
    }
   ],
   "source": [
    "part_b[\"Bene_CC_Hyprtnsn_Pct\"]"
   ]
  },
  {
   "cell_type": "markdown",
   "id": "f99d0352",
   "metadata": {},
   "source": [
    "### Bene_CC_IHD_Pct"
   ]
  },
  {
   "cell_type": "code",
   "execution_count": 232,
   "id": "9c3186bb",
   "metadata": {},
   "outputs": [
    {
     "data": {
      "text/plain": [
       "0    181276\n",
       "1        26\n",
       "Name: Fraud, dtype: int64"
      ]
     },
     "execution_count": 232,
     "metadata": {},
     "output_type": "execute_result"
    }
   ],
   "source": [
    "# Null Values Present use Imputation\n",
    "part_b[part_b['Bene_CC_IHD_Pct'].isnull()][\"Fraud\"].value_counts()"
   ]
  },
  {
   "cell_type": "code",
   "execution_count": 233,
   "id": "3fac13e3",
   "metadata": {},
   "outputs": [
    {
     "data": {
      "text/plain": [
       "75.00%    27175\n",
       "33.00%    26541\n",
       "31.00%    26121\n",
       "30.0%     25759\n",
       "32.00%    25534\n",
       "          ...  \n",
       "7.00%        53\n",
       "6.00%        31\n",
       "5.00%         9\n",
       "4.00%         3\n",
       "3.00%         1\n",
       "Name: Bene_CC_IHD_Pct, Length: 74, dtype: int64"
      ]
     },
     "execution_count": 233,
     "metadata": {},
     "output_type": "execute_result"
    }
   ],
   "source": [
    "part_b[\"Bene_CC_IHD_Pct\"].value_counts()"
   ]
  },
  {
   "cell_type": "code",
   "execution_count": 234,
   "id": "e4627f58",
   "metadata": {},
   "outputs": [],
   "source": [
    "part_b[\"Bene_CC_IHD_Pct\"] = part_b[\"Bene_CC_IHD_Pct\"].replace('%', '', regex=True).astype(float)"
   ]
  },
  {
   "cell_type": "code",
   "execution_count": 235,
   "id": "cec26660",
   "metadata": {},
   "outputs": [
    {
     "data": {
      "text/plain": [
       "0          66.0\n",
       "1          24.0\n",
       "2          31.0\n",
       "3          23.0\n",
       "4          33.0\n",
       "           ... \n",
       "1161536    70.0\n",
       "1161537    25.0\n",
       "1161538    26.0\n",
       "1161540    26.0\n",
       "1161541    61.0\n",
       "Name: Bene_CC_IHD_Pct, Length: 1100726, dtype: float64"
      ]
     },
     "execution_count": 235,
     "metadata": {},
     "output_type": "execute_result"
    }
   ],
   "source": [
    "part_b[\"Bene_CC_IHD_Pct\"]"
   ]
  },
  {
   "cell_type": "markdown",
   "id": "65ce3978",
   "metadata": {},
   "source": [
    "### Bene_CC_Opo_Pct"
   ]
  },
  {
   "cell_type": "code",
   "execution_count": 236,
   "id": "9def0c3d",
   "metadata": {},
   "outputs": [
    {
     "data": {
      "text/plain": [
       "0    439811\n",
       "1        57\n",
       "Name: Fraud, dtype: int64"
      ]
     },
     "execution_count": 236,
     "metadata": {},
     "output_type": "execute_result"
    }
   ],
   "source": [
    "# Null Values Present use Imputation\n",
    "part_b[part_b['Bene_CC_Opo_Pct'].isnull()][\"Fraud\"].value_counts()"
   ]
  },
  {
   "cell_type": "code",
   "execution_count": 237,
   "id": "896a9775",
   "metadata": {},
   "outputs": [
    {
     "data": {
      "text/plain": [
       "10%       68599\n",
       "9.00%     68255\n",
       "11.00%    62782\n",
       "8.00%     60822\n",
       "12.00%    53053\n",
       "          ...  \n",
       "68.00%       14\n",
       "73.00%        8\n",
       "72.00%        7\n",
       "74.00%        5\n",
       "1.0%          4\n",
       "Name: Bene_CC_Opo_Pct, Length: 76, dtype: int64"
      ]
     },
     "execution_count": 237,
     "metadata": {},
     "output_type": "execute_result"
    }
   ],
   "source": [
    "part_b[\"Bene_CC_Opo_Pct\"].value_counts()"
   ]
  },
  {
   "cell_type": "code",
   "execution_count": 238,
   "id": "9fe34c0b",
   "metadata": {},
   "outputs": [],
   "source": [
    "part_b[\"Bene_CC_Opo_Pct\"] = part_b[\"Bene_CC_Opo_Pct\"].replace('%', '', regex=True).astype(float)"
   ]
  },
  {
   "cell_type": "code",
   "execution_count": 239,
   "id": "4777dba9",
   "metadata": {},
   "outputs": [
    {
     "data": {
      "text/plain": [
       "0          11.0\n",
       "1          10.0\n",
       "2           NaN\n",
       "3          20.0\n",
       "4          13.0\n",
       "           ... \n",
       "1161536     9.0\n",
       "1161537     9.0\n",
       "1161538     NaN\n",
       "1161540     9.0\n",
       "1161541    11.0\n",
       "Name: Bene_CC_Opo_Pct, Length: 1100726, dtype: float64"
      ]
     },
     "execution_count": 239,
     "metadata": {},
     "output_type": "execute_result"
    }
   ],
   "source": [
    "part_b[\"Bene_CC_Opo_Pct\"]"
   ]
  },
  {
   "cell_type": "markdown",
   "id": "ac0f44b8",
   "metadata": {},
   "source": [
    "### Bene_CC_RAOA_Pct"
   ]
  },
  {
   "cell_type": "code",
   "execution_count": 240,
   "id": "529a77dc",
   "metadata": {},
   "outputs": [
    {
     "data": {
      "text/plain": [
       "0    115750\n",
       "1        19\n",
       "Name: Fraud, dtype: int64"
      ]
     },
     "execution_count": 240,
     "metadata": {},
     "output_type": "execute_result"
    }
   ],
   "source": [
    "# Null Values Present use Imputation\n",
    "part_b[part_b['Bene_CC_RAOA_Pct'].isnull()][\"Fraud\"].value_counts()"
   ]
  },
  {
   "cell_type": "code",
   "execution_count": 241,
   "id": "ce6db059",
   "metadata": {},
   "outputs": [
    {
     "data": {
      "text/plain": [
       "75.00%    67447\n",
       "44.00%    36138\n",
       "46.00%    35461\n",
       "48.00%    35345\n",
       "45.00%    35177\n",
       "          ...  \n",
       "9.00%        23\n",
       "8.00%        10\n",
       "7.00%         4\n",
       "6.00%         1\n",
       "4.00%         1\n",
       "Name: Bene_CC_RAOA_Pct, Length: 72, dtype: int64"
      ]
     },
     "execution_count": 241,
     "metadata": {},
     "output_type": "execute_result"
    }
   ],
   "source": [
    "part_b[\"Bene_CC_RAOA_Pct\"].value_counts()"
   ]
  },
  {
   "cell_type": "code",
   "execution_count": 242,
   "id": "b482df61",
   "metadata": {},
   "outputs": [],
   "source": [
    "part_b[\"Bene_CC_RAOA_Pct\"] = part_b[\"Bene_CC_RAOA_Pct\"].replace('%', '', regex=True).astype(float)"
   ]
  },
  {
   "cell_type": "code",
   "execution_count": 243,
   "id": "37502f4d",
   "metadata": {},
   "outputs": [
    {
     "data": {
      "text/plain": [
       "0          51.0\n",
       "1          38.0\n",
       "2          75.0\n",
       "3          32.0\n",
       "4          57.0\n",
       "           ... \n",
       "1161536    48.0\n",
       "1161537    41.0\n",
       "1161538    56.0\n",
       "1161540    37.0\n",
       "1161541    48.0\n",
       "Name: Bene_CC_RAOA_Pct, Length: 1100726, dtype: float64"
      ]
     },
     "execution_count": 243,
     "metadata": {},
     "output_type": "execute_result"
    }
   ],
   "source": [
    "part_b[\"Bene_CC_RAOA_Pct\"]"
   ]
  },
  {
   "cell_type": "markdown",
   "id": "670b123a",
   "metadata": {},
   "source": [
    "### Bene_CC_Sz_Pct"
   ]
  },
  {
   "cell_type": "code",
   "execution_count": 244,
   "id": "78cbd418",
   "metadata": {},
   "outputs": [
    {
     "data": {
      "text/plain": [
       "0    625252\n",
       "1        61\n",
       "Name: Fraud, dtype: int64"
      ]
     },
     "execution_count": 244,
     "metadata": {},
     "output_type": "execute_result"
    }
   ],
   "source": [
    "# Null Values Present use Imputation\n",
    "part_b[part_b['Bene_CC_Sz_Pct'].isnull()][\"Fraud\"].value_counts()"
   ]
  },
  {
   "cell_type": "code",
   "execution_count": 245,
   "id": "453711ac",
   "metadata": {},
   "outputs": [
    {
     "data": {
      "text/plain": [
       "0%        182760\n",
       "3.00%      28362\n",
       "4.00%      28035\n",
       "5.00%      25656\n",
       "6.00%      23623\n",
       "           ...  \n",
       "73.00%       339\n",
       "74.00%       318\n",
       "70.0%        314\n",
       "72.00%       297\n",
       "66.00%       277\n",
       "Name: Bene_CC_Sz_Pct, Length: 76, dtype: int64"
      ]
     },
     "execution_count": 245,
     "metadata": {},
     "output_type": "execute_result"
    }
   ],
   "source": [
    "part_b[\"Bene_CC_Sz_Pct\"].value_counts()"
   ]
  },
  {
   "cell_type": "code",
   "execution_count": 246,
   "id": "9d653b47",
   "metadata": {},
   "outputs": [],
   "source": [
    "part_b[\"Bene_CC_Sz_Pct\"] = part_b[\"Bene_CC_Sz_Pct\"].replace('%', '', regex=True).astype(float)"
   ]
  },
  {
   "cell_type": "code",
   "execution_count": 247,
   "id": "dc604131",
   "metadata": {},
   "outputs": [
    {
     "data": {
      "text/plain": [
       "0           9.0\n",
       "1           1.0\n",
       "2           NaN\n",
       "3           0.0\n",
       "4           NaN\n",
       "           ... \n",
       "1161536    27.0\n",
       "1161537     NaN\n",
       "1161538     NaN\n",
       "1161540     NaN\n",
       "1161541     7.0\n",
       "Name: Bene_CC_Sz_Pct, Length: 1100726, dtype: float64"
      ]
     },
     "execution_count": 247,
     "metadata": {},
     "output_type": "execute_result"
    }
   ],
   "source": [
    "part_b[\"Bene_CC_Sz_Pct\"]"
   ]
  },
  {
   "cell_type": "markdown",
   "id": "6ca6cd15",
   "metadata": {},
   "source": [
    "### Bene_CC_Strok_Pct"
   ]
  },
  {
   "cell_type": "code",
   "execution_count": 248,
   "id": "1c18004c",
   "metadata": {},
   "outputs": [
    {
     "data": {
      "text/plain": [
       "0    532691\n",
       "1        60\n",
       "Name: Fraud, dtype: int64"
      ]
     },
     "execution_count": 248,
     "metadata": {},
     "output_type": "execute_result"
    }
   ],
   "source": [
    "# Null Values Present use Imputation\n",
    "part_b[part_b['Bene_CC_Strok_Pct'].isnull()][\"Fraud\"].value_counts()"
   ]
  },
  {
   "cell_type": "code",
   "execution_count": 249,
   "id": "d9276730",
   "metadata": {},
   "outputs": [
    {
     "data": {
      "text/plain": [
       "0%        107214\n",
       "4.00%      43820\n",
       "5.00%      42907\n",
       "6.00%      36678\n",
       "7.00%      31577\n",
       "           ...  \n",
       "71.00%       117\n",
       "73.00%       113\n",
       "70.0%        108\n",
       "74.00%        98\n",
       "72.00%        96\n",
       "Name: Bene_CC_Strok_Pct, Length: 76, dtype: int64"
      ]
     },
     "execution_count": 249,
     "metadata": {},
     "output_type": "execute_result"
    }
   ],
   "source": [
    "part_b[\"Bene_CC_Strok_Pct\"].value_counts()"
   ]
  },
  {
   "cell_type": "code",
   "execution_count": 250,
   "id": "92010594",
   "metadata": {},
   "outputs": [],
   "source": [
    "part_b[\"Bene_CC_Strok_Pct\"] = part_b[\"Bene_CC_Strok_Pct\"].replace('%', '', regex=True).astype(float)"
   ]
  },
  {
   "cell_type": "code",
   "execution_count": 251,
   "id": "37f357d8",
   "metadata": {},
   "outputs": [
    {
     "data": {
      "text/plain": [
       "0          19.0\n",
       "1           3.0\n",
       "2           NaN\n",
       "3           NaN\n",
       "4           NaN\n",
       "           ... \n",
       "1161536    15.0\n",
       "1161537     4.0\n",
       "1161538     NaN\n",
       "1161540     2.0\n",
       "1161541    23.0\n",
       "Name: Bene_CC_Strok_Pct, Length: 1100726, dtype: float64"
      ]
     },
     "execution_count": 251,
     "metadata": {},
     "output_type": "execute_result"
    }
   ],
   "source": [
    "part_b[\"Bene_CC_Strok_Pct\"]"
   ]
  },
  {
   "cell_type": "markdown",
   "id": "1efcc9e2",
   "metadata": {},
   "source": [
    "### Bene_Avg_Risk_Scre"
   ]
  },
  {
   "cell_type": "code",
   "execution_count": 252,
   "id": "9615edeb",
   "metadata": {},
   "outputs": [
    {
     "data": {
      "text/plain": [
       "Series([], Name: Fraud, dtype: int64)"
      ]
     },
     "execution_count": 252,
     "metadata": {},
     "output_type": "execute_result"
    }
   ],
   "source": [
    "# Null Values Present use Imputation\n",
    "part_b[part_b['Bene_Avg_Risk_Scre'].isnull()][\"Fraud\"].value_counts()"
   ]
  },
  {
   "cell_type": "code",
   "execution_count": 253,
   "id": "de8bb79e",
   "metadata": {},
   "outputs": [
    {
     "data": {
      "text/plain": [
       "1.1567    125\n",
       "1.1256    124\n",
       "1.0264    124\n",
       "1.0714    123\n",
       "1.0378    122\n",
       "         ... \n",
       "4.1688      1\n",
       "8.8134      1\n",
       "4.1579      1\n",
       "6.4915      1\n",
       "4.3047      1\n",
       "Name: Bene_Avg_Risk_Scre, Length: 49042, dtype: int64"
      ]
     },
     "execution_count": 253,
     "metadata": {},
     "output_type": "execute_result"
    }
   ],
   "source": [
    "part_b[\"Bene_Avg_Risk_Scre\"].value_counts()"
   ]
  },
  {
   "cell_type": "code",
   "execution_count": 254,
   "id": "8d202727",
   "metadata": {},
   "outputs": [],
   "source": [
    "part_b[\"Bene_Avg_Risk_Scre\"] = part_b[\"Bene_Avg_Risk_Scre\"].astype(float)"
   ]
  },
  {
   "cell_type": "code",
   "execution_count": 255,
   "id": "097aa477",
   "metadata": {},
   "outputs": [
    {
     "data": {
      "text/plain": [
       "0          2.5028\n",
       "1          1.1124\n",
       "2          1.6935\n",
       "3          0.7089\n",
       "4          2.1137\n",
       "            ...  \n",
       "1161536    3.4526\n",
       "1161537    1.2418\n",
       "1161538    0.9525\n",
       "1161540    1.1737\n",
       "1161541    2.7672\n",
       "Name: Bene_Avg_Risk_Scre, Length: 1100726, dtype: float64"
      ]
     },
     "execution_count": 255,
     "metadata": {},
     "output_type": "execute_result"
    }
   ],
   "source": [
    "part_b[\"Bene_Avg_Risk_Scre\"]"
   ]
  },
  {
   "cell_type": "markdown",
   "id": "3e03bc8a",
   "metadata": {},
   "source": [
    "### Rndrng_Prvdr_Crdntls"
   ]
  },
  {
   "cell_type": "code",
   "execution_count": 261,
   "id": "0c51dbf1",
   "metadata": {},
   "outputs": [
    {
     "data": {
      "text/plain": [
       "0    71535\n",
       "1        5\n",
       "Name: Fraud, dtype: int64"
      ]
     },
     "execution_count": 261,
     "metadata": {},
     "output_type": "execute_result"
    }
   ],
   "source": [
    "# Null Values Present use Imputation\n",
    "part_b[part_b['Rndrng_Prvdr_Crdntls'].isnull()][\"Fraud\"].value_counts()"
   ]
  },
  {
   "cell_type": "code",
   "execution_count": 262,
   "id": "cfad2e05",
   "metadata": {},
   "outputs": [
    {
     "data": {
      "text/plain": [
       "M.D.                    251923\n",
       "MD                      251357\n",
       "PA-C                     44840\n",
       "CRNA                     37011\n",
       "D.O.                     35005\n",
       "                         ...  \n",
       "PT, MSPT,  ATC, CSCS         1\n",
       "DC, DACRB, CSCS              1\n",
       "RN MS PMHNP                  1\n",
       "PA AA                        1\n",
       "DMD, MD, MHS                 1\n",
       "Name: Rndrng_Prvdr_Crdntls, Length: 17582, dtype: int64"
      ]
     },
     "execution_count": 262,
     "metadata": {},
     "output_type": "execute_result"
    }
   ],
   "source": [
    "part_b[\"Rndrng_Prvdr_Crdntls\"].value_counts()"
   ]
  },
  {
   "cell_type": "markdown",
   "id": "9dde7930",
   "metadata": {},
   "source": [
    "### Rndrng_Prvdr_Gndr"
   ]
  },
  {
   "cell_type": "code",
   "execution_count": 265,
   "id": "b16846c3",
   "metadata": {},
   "outputs": [
    {
     "data": {
      "text/plain": [
       "Series([], Name: Fraud, dtype: int64)"
      ]
     },
     "execution_count": 265,
     "metadata": {},
     "output_type": "execute_result"
    }
   ],
   "source": [
    "# Null Values Present use Imputation\n",
    "part_b[part_b['Rndrng_Prvdr_Gndr'].isnull()][\"Fraud\"].value_counts()"
   ]
  },
  {
   "cell_type": "code",
   "execution_count": 266,
   "id": "8afc7d5a",
   "metadata": {},
   "outputs": [
    {
     "data": {
      "text/plain": [
       "M    582943\n",
       "F    517783\n",
       "Name: Rndrng_Prvdr_Gndr, dtype: int64"
      ]
     },
     "execution_count": 266,
     "metadata": {},
     "output_type": "execute_result"
    }
   ],
   "source": [
    "part_b[\"Rndrng_Prvdr_Gndr\"].value_counts()"
   ]
  },
  {
   "cell_type": "code",
   "execution_count": 268,
   "id": "5e96fd98",
   "metadata": {},
   "outputs": [],
   "source": [
    "part_b[\"Rndrng_Prvdr_Gndr\"] = part_b[\"Rndrng_Prvdr_Gndr\"].apply(lambda row : 1 if row == 'F' else 0)"
   ]
  },
  {
   "cell_type": "code",
   "execution_count": 269,
   "id": "ff2a3fe8",
   "metadata": {},
   "outputs": [],
   "source": [
    "part_b[\"Rndrng_Prvdr_Gndr\"] = part_b[\"Rndrng_Prvdr_Gndr\"].astype(float)"
   ]
  },
  {
   "cell_type": "code",
   "execution_count": 270,
   "id": "c61dd742",
   "metadata": {},
   "outputs": [
    {
     "data": {
      "text/plain": [
       "0          0.0\n",
       "1          0.0\n",
       "2          0.0\n",
       "3          1.0\n",
       "4          0.0\n",
       "          ... \n",
       "1161536    0.0\n",
       "1161537    1.0\n",
       "1161538    0.0\n",
       "1161540    0.0\n",
       "1161541    1.0\n",
       "Name: Rndrng_Prvdr_Gndr, Length: 1100726, dtype: float64"
      ]
     },
     "execution_count": 270,
     "metadata": {},
     "output_type": "execute_result"
    }
   ],
   "source": [
    "part_b[\"Rndrng_Prvdr_Gndr\"]"
   ]
  },
  {
   "cell_type": "markdown",
   "id": "92bfbd39",
   "metadata": {},
   "source": [
    "### Rndrng_Prvdr_Ent_Cd"
   ]
  },
  {
   "cell_type": "code",
   "execution_count": 272,
   "id": "4081f4f4",
   "metadata": {},
   "outputs": [
    {
     "data": {
      "text/plain": [
       "Series([], Name: Fraud, dtype: int64)"
      ]
     },
     "execution_count": 272,
     "metadata": {},
     "output_type": "execute_result"
    }
   ],
   "source": [
    "# Null Values Present use Imputation\n",
    "part_b[part_b['Rndrng_Prvdr_Ent_Cd'].isnull()][\"Fraud\"].value_counts()"
   ]
  },
  {
   "cell_type": "code",
   "execution_count": 273,
   "id": "63dc32a7",
   "metadata": {},
   "outputs": [
    {
     "data": {
      "text/plain": [
       "I    1100726\n",
       "Name: Rndrng_Prvdr_Ent_Cd, dtype: int64"
      ]
     },
     "execution_count": 273,
     "metadata": {},
     "output_type": "execute_result"
    }
   ],
   "source": [
    "part_b[\"Rndrng_Prvdr_Ent_Cd\"].value_counts() # drop it"
   ]
  },
  {
   "cell_type": "code",
   "execution_count": 275,
   "id": "585cbf3d",
   "metadata": {},
   "outputs": [],
   "source": [
    "part_b = part_b.drop(\"Rndrng_Prvdr_Ent_Cd\",axis=1)"
   ]
  },
  {
   "cell_type": "code",
   "execution_count": null,
   "id": "5d13d092",
   "metadata": {},
   "outputs": [],
   "source": []
  },
  {
   "cell_type": "code",
   "execution_count": null,
   "id": "5cd7945a",
   "metadata": {},
   "outputs": [],
   "source": []
  },
  {
   "cell_type": "code",
   "execution_count": null,
   "id": "5a2457a8",
   "metadata": {},
   "outputs": [],
   "source": []
  },
  {
   "cell_type": "code",
   "execution_count": null,
   "id": "d010f7ae",
   "metadata": {},
   "outputs": [],
   "source": []
  },
  {
   "cell_type": "code",
   "execution_count": null,
   "id": "cbc996ff",
   "metadata": {},
   "outputs": [],
   "source": []
  },
  {
   "cell_type": "code",
   "execution_count": null,
   "id": "c3975935",
   "metadata": {},
   "outputs": [],
   "source": []
  },
  {
   "cell_type": "code",
   "execution_count": null,
   "id": "319e048f",
   "metadata": {},
   "outputs": [],
   "source": []
  },
  {
   "cell_type": "code",
   "execution_count": 257,
   "id": "96186ba6",
   "metadata": {},
   "outputs": [
    {
     "data": {
      "text/plain": [
       "Index(['Rndrng_Prvdr_Last_Org_Name', 'Rndrng_Prvdr_First_Name',\n",
       "       'Rndrng_Prvdr_MI', 'Rndrng_Prvdr_Crdntls', 'Rndrng_Prvdr_Gndr',\n",
       "       'Rndrng_Prvdr_Ent_Cd', 'Rndrng_Prvdr_St1', 'Rndrng_Prvdr_St2',\n",
       "       'Rndrng_Prvdr_City', 'Rndrng_Prvdr_State_Abrvtn',\n",
       "       'Rndrng_Prvdr_State_FIPS', 'Rndrng_Prvdr_Zip5', 'Rndrng_Prvdr_RUCA',\n",
       "       'Rndrng_Prvdr_RUCA_Desc', 'Rndrng_Prvdr_Cntry', 'Rndrng_Prvdr_Type',\n",
       "       'Rndrng_Prvdr_Mdcr_Prtcptg_Ind', 'Tot_HCPCS_Cds', 'Tot_Benes',\n",
       "       'Tot_Srvcs', 'Tot_Sbmtd_Chrg', 'Tot_Mdcr_Alowd_Amt',\n",
       "       'Tot_Mdcr_Pymt_Amt', 'Tot_Mdcr_Stdzd_Amt', 'Drug_Sprsn_Ind',\n",
       "       'Drug_Tot_HCPCS_Cds', 'Drug_Tot_Benes', 'Drug_Tot_Srvcs',\n",
       "       'Drug_Sbmtd_Chrg', 'Drug_Mdcr_Alowd_Amt', 'Drug_Mdcr_Pymt_Amt',\n",
       "       'Drug_Mdcr_Stdzd_Amt', 'Med_Sprsn_Ind', 'Med_Tot_HCPCS_Cds',\n",
       "       'Med_Tot_Benes', 'Med_Tot_Srvcs', 'Med_Sbmtd_Chrg',\n",
       "       'Med_Mdcr_Alowd_Amt', 'Med_Mdcr_Pymt_Amt', 'Med_Mdcr_Stdzd_Amt',\n",
       "       'Bene_Avg_Age', 'Bene_Age_LT_65_Cnt', 'Bene_Age_65_74_Cnt',\n",
       "       'Bene_Age_75_84_Cnt', 'Bene_Age_GT_84_Cnt', 'Bene_Feml_Cnt',\n",
       "       'Bene_Male_Cnt', 'Bene_Race_Wht_Cnt', 'Bene_Race_Black_Cnt',\n",
       "       'Bene_Race_API_Cnt', 'Bene_Race_Hspnc_Cnt', 'Bene_Race_NatInd_Cnt',\n",
       "       'Bene_Race_Othr_Cnt', 'Bene_Dual_Cnt', 'Bene_Ndual_Cnt',\n",
       "       'Bene_CC_AF_Pct', 'Bene_CC_Alzhmr_Pct', 'Bene_CC_Asthma_Pct',\n",
       "       'Bene_CC_Cncr_Pct', 'Bene_CC_CHF_Pct', 'Bene_CC_CKD_Pct',\n",
       "       'Bene_CC_COPD_Pct', 'Bene_CC_Dprssn_Pct', 'Bene_CC_Dbts_Pct',\n",
       "       'Bene_CC_Hyplpdma_Pct', 'Bene_CC_Hyprtnsn_Pct', 'Bene_CC_IHD_Pct',\n",
       "       'Bene_CC_Opo_Pct', 'Bene_CC_RAOA_Pct', 'Bene_CC_Sz_Pct',\n",
       "       'Bene_CC_Strok_Pct', 'Bene_Avg_Risk_Scre', 'Rndrng_NPI', 'Fraud',\n",
       "       'FraudType'],\n",
       "      dtype='object')"
      ]
     },
     "execution_count": 257,
     "metadata": {},
     "output_type": "execute_result"
    }
   ],
   "source": [
    "part_b.columns"
   ]
  },
  {
   "cell_type": "code",
   "execution_count": 259,
   "id": "70f63c4c",
   "metadata": {},
   "outputs": [],
   "source": [
    "drop_cols = ['Rndrng_Prvdr_Last_Org_Name', 'Rndrng_Prvdr_First_Name',\n",
    "       'Rndrng_Prvdr_MI','Rndrng_Prvdr_St1', 'Rndrng_Prvdr_St2',\n",
    "       'Rndrng_Prvdr_City', 'Rndrng_Prvdr_State_Abrvtn',\n",
    "       'Rndrng_Prvdr_State_FIPS', 'Rndrng_Prvdr_Zip5', 'Rndrng_Prvdr_RUCA',\n",
    "       'Rndrng_Prvdr_RUCA_Desc', 'Rndrng_Prvdr_Cntry']\n",
    "part_b = part_b.drop(drop_cols,axis=1)"
   ]
  },
  {
   "cell_type": "code",
   "execution_count": 276,
   "id": "e4004d1f",
   "metadata": {},
   "outputs": [
    {
     "name": "stdout",
     "output_type": "stream",
     "text": [
      "<class 'pandas.core.frame.DataFrame'>\n",
      "Int64Index: 1100726 entries, 0 to 1161541\n",
      "Data columns (total 62 columns):\n",
      " #   Column                         Non-Null Count    Dtype  \n",
      "---  ------                         --------------    -----  \n",
      " 0   Rndrng_Prvdr_Crdntls           1029186 non-null  object \n",
      " 1   Rndrng_Prvdr_Gndr              1100726 non-null  float64\n",
      " 2   Rndrng_Prvdr_Type              1100726 non-null  object \n",
      " 3   Rndrng_Prvdr_Mdcr_Prtcptg_Ind  1100726 non-null  int64  \n",
      " 4   Tot_HCPCS_Cds                  1100726 non-null  float64\n",
      " 5   Tot_Benes                      1100726 non-null  float64\n",
      " 6   Tot_Srvcs                      1100726 non-null  float64\n",
      " 7   Tot_Sbmtd_Chrg                 1100726 non-null  float64\n",
      " 8   Tot_Mdcr_Alowd_Amt             1100726 non-null  float64\n",
      " 9   Tot_Mdcr_Pymt_Amt              1100726 non-null  float64\n",
      " 10  Tot_Mdcr_Stdzd_Amt             1100726 non-null  float64\n",
      " 11  Drug_Sprsn_Ind                 130700 non-null   float64\n",
      " 12  Drug_Tot_HCPCS_Cds             970026 non-null   float64\n",
      " 13  Drug_Tot_Benes                 970026 non-null   float64\n",
      " 14  Drug_Tot_Srvcs                 970026 non-null   float64\n",
      " 15  Drug_Sbmtd_Chrg                970026 non-null   float64\n",
      " 16  Drug_Mdcr_Alowd_Amt            970026 non-null   float64\n",
      " 17  Drug_Mdcr_Pymt_Amt             970026 non-null   float64\n",
      " 18  Drug_Mdcr_Stdzd_Amt            970026 non-null   float64\n",
      " 19  Med_Sprsn_Ind                  130700 non-null   float64\n",
      " 20  Med_Tot_HCPCS_Cds              970026 non-null   float64\n",
      " 21  Med_Tot_Benes                  970026 non-null   float64\n",
      " 22  Med_Tot_Srvcs                  970026 non-null   float64\n",
      " 23  Med_Sbmtd_Chrg                 970026 non-null   float64\n",
      " 24  Med_Mdcr_Alowd_Amt             970026 non-null   float64\n",
      " 25  Med_Mdcr_Pymt_Amt              970026 non-null   float64\n",
      " 26  Med_Mdcr_Stdzd_Amt             970026 non-null   float64\n",
      " 27  Bene_Avg_Age                   1100726 non-null  float64\n",
      " 28  Bene_Age_LT_65_Cnt             637633 non-null   float64\n",
      " 29  Bene_Age_65_74_Cnt             908643 non-null   float64\n",
      " 30  Bene_Age_75_84_Cnt             758235 non-null   float64\n",
      " 31  Bene_Age_GT_84_Cnt             594878 non-null   float64\n",
      " 32  Bene_Feml_Cnt                  959959 non-null   float64\n",
      " 33  Bene_Male_Cnt                  959959 non-null   float64\n",
      " 34  Bene_Race_Wht_Cnt              721554 non-null   float64\n",
      " 35  Bene_Race_Black_Cnt            349495 non-null   float64\n",
      " 36  Bene_Race_API_Cnt              190086 non-null   float64\n",
      " 37  Bene_Race_Hspnc_Cnt            270304 non-null   float64\n",
      " 38  Bene_Race_NatInd_Cnt           347421 non-null   float64\n",
      " 39  Bene_Race_Othr_Cnt             182941 non-null   float64\n",
      " 40  Bene_Dual_Cnt                  782526 non-null   float64\n",
      " 41  Bene_Ndual_Cnt                 782526 non-null   float64\n",
      " 42  Bene_CC_AF_Pct                 722050 non-null   float64\n",
      " 43  Bene_CC_Alzhmr_Pct             721667 non-null   float64\n",
      " 44  Bene_CC_Asthma_Pct             626978 non-null   float64\n",
      " 45  Bene_CC_Cncr_Pct               712987 non-null   float64\n",
      " 46  Bene_CC_CHF_Pct                810317 non-null   float64\n",
      " 47  Bene_CC_CKD_Pct                923822 non-null   float64\n",
      " 48  Bene_CC_COPD_Pct               761924 non-null   float64\n",
      " 49  Bene_CC_Dprssn_Pct             921830 non-null   float64\n",
      " 50  Bene_CC_Dbts_Pct               920580 non-null   float64\n",
      " 51  Bene_CC_Hyplpdma_Pct           1010272 non-null  float64\n",
      " 52  Bene_CC_Hyprtnsn_Pct           1032311 non-null  float64\n",
      " 53  Bene_CC_IHD_Pct                919424 non-null   float64\n",
      " 54  Bene_CC_Opo_Pct                660858 non-null   float64\n",
      " 55  Bene_CC_RAOA_Pct               984957 non-null   float64\n",
      " 56  Bene_CC_Sz_Pct                 475413 non-null   float64\n",
      " 57  Bene_CC_Strok_Pct              567975 non-null   float64\n",
      " 58  Bene_Avg_Risk_Scre             1100726 non-null  float64\n",
      " 59  Rndrng_NPI                     1100726 non-null  int64  \n",
      " 60  Fraud                          1100726 non-null  int64  \n",
      " 61  FraudType                      1100726 non-null  object \n",
      "dtypes: float64(56), int64(3), object(3)\n",
      "memory usage: 529.1+ MB\n"
     ]
    }
   ],
   "source": [
    "part_b.info()"
   ]
  },
  {
   "cell_type": "code",
   "execution_count": 278,
   "id": "93b1b23e",
   "metadata": {},
   "outputs": [
    {
     "data": {
      "text/html": [
       "<div>\n",
       "<style scoped>\n",
       "    .dataframe tbody tr th:only-of-type {\n",
       "        vertical-align: middle;\n",
       "    }\n",
       "\n",
       "    .dataframe tbody tr th {\n",
       "        vertical-align: top;\n",
       "    }\n",
       "\n",
       "    .dataframe thead th {\n",
       "        text-align: right;\n",
       "    }\n",
       "</style>\n",
       "<table border=\"1\" class=\"dataframe\">\n",
       "  <thead>\n",
       "    <tr style=\"text-align: right;\">\n",
       "      <th></th>\n",
       "      <th>Rndrng_Prvdr_Crdntls</th>\n",
       "      <th>Rndrng_Prvdr_Gndr</th>\n",
       "      <th>Rndrng_Prvdr_Type</th>\n",
       "      <th>Rndrng_Prvdr_Mdcr_Prtcptg_Ind</th>\n",
       "      <th>Tot_HCPCS_Cds</th>\n",
       "      <th>Tot_Benes</th>\n",
       "      <th>Tot_Srvcs</th>\n",
       "      <th>Tot_Sbmtd_Chrg</th>\n",
       "      <th>Tot_Mdcr_Alowd_Amt</th>\n",
       "      <th>Tot_Mdcr_Pymt_Amt</th>\n",
       "      <th>...</th>\n",
       "      <th>Bene_CC_Hyprtnsn_Pct</th>\n",
       "      <th>Bene_CC_IHD_Pct</th>\n",
       "      <th>Bene_CC_Opo_Pct</th>\n",
       "      <th>Bene_CC_RAOA_Pct</th>\n",
       "      <th>Bene_CC_Sz_Pct</th>\n",
       "      <th>Bene_CC_Strok_Pct</th>\n",
       "      <th>Bene_Avg_Risk_Scre</th>\n",
       "      <th>Rndrng_NPI</th>\n",
       "      <th>Fraud</th>\n",
       "      <th>FraudType</th>\n",
       "    </tr>\n",
       "  </thead>\n",
       "  <tbody>\n",
       "    <tr>\n",
       "      <th>0</th>\n",
       "      <td>M.D.</td>\n",
       "      <td>0.0</td>\n",
       "      <td>Internal Medicine</td>\n",
       "      <td>1</td>\n",
       "      <td>16.0</td>\n",
       "      <td>291.0</td>\n",
       "      <td>764.0</td>\n",
       "      <td>402812.00</td>\n",
       "      <td>85319.63</td>\n",
       "      <td>69175.78</td>\n",
       "      <td>...</td>\n",
       "      <td>75.0</td>\n",
       "      <td>66.0</td>\n",
       "      <td>11.0</td>\n",
       "      <td>51.0</td>\n",
       "      <td>9.0</td>\n",
       "      <td>19.0</td>\n",
       "      <td>2.5028</td>\n",
       "      <td>1003000126</td>\n",
       "      <td>0</td>\n",
       "      <td>0</td>\n",
       "    </tr>\n",
       "    <tr>\n",
       "      <th>1</th>\n",
       "      <td>M.D.</td>\n",
       "      <td>0.0</td>\n",
       "      <td>Pathology</td>\n",
       "      <td>1</td>\n",
       "      <td>18.0</td>\n",
       "      <td>2633.0</td>\n",
       "      <td>5930.0</td>\n",
       "      <td>915291.00</td>\n",
       "      <td>227372.53</td>\n",
       "      <td>176497.74</td>\n",
       "      <td>...</td>\n",
       "      <td>48.0</td>\n",
       "      <td>24.0</td>\n",
       "      <td>10.0</td>\n",
       "      <td>38.0</td>\n",
       "      <td>1.0</td>\n",
       "      <td>3.0</td>\n",
       "      <td>1.1124</td>\n",
       "      <td>1003000134</td>\n",
       "      <td>0</td>\n",
       "      <td>0</td>\n",
       "    </tr>\n",
       "    <tr>\n",
       "      <th>2</th>\n",
       "      <td>M.D.</td>\n",
       "      <td>0.0</td>\n",
       "      <td>Anesthesiology</td>\n",
       "      <td>1</td>\n",
       "      <td>54.0</td>\n",
       "      <td>167.0</td>\n",
       "      <td>2003.0</td>\n",
       "      <td>182532.48</td>\n",
       "      <td>101757.15</td>\n",
       "      <td>76938.82</td>\n",
       "      <td>...</td>\n",
       "      <td>68.0</td>\n",
       "      <td>31.0</td>\n",
       "      <td>NaN</td>\n",
       "      <td>75.0</td>\n",
       "      <td>NaN</td>\n",
       "      <td>NaN</td>\n",
       "      <td>1.6935</td>\n",
       "      <td>1003000142</td>\n",
       "      <td>0</td>\n",
       "      <td>0</td>\n",
       "    </tr>\n",
       "    <tr>\n",
       "      <th>3</th>\n",
       "      <td>M.D.</td>\n",
       "      <td>1.0</td>\n",
       "      <td>Obstetrics &amp; Gynecology</td>\n",
       "      <td>1</td>\n",
       "      <td>21.0</td>\n",
       "      <td>56.0</td>\n",
       "      <td>571.0</td>\n",
       "      <td>23680.00</td>\n",
       "      <td>9011.99</td>\n",
       "      <td>7224.35</td>\n",
       "      <td>...</td>\n",
       "      <td>50.0</td>\n",
       "      <td>23.0</td>\n",
       "      <td>20.0</td>\n",
       "      <td>32.0</td>\n",
       "      <td>0.0</td>\n",
       "      <td>NaN</td>\n",
       "      <td>0.7089</td>\n",
       "      <td>1003000423</td>\n",
       "      <td>0</td>\n",
       "      <td>0</td>\n",
       "    </tr>\n",
       "    <tr>\n",
       "      <th>4</th>\n",
       "      <td>MD</td>\n",
       "      <td>0.0</td>\n",
       "      <td>General Surgery</td>\n",
       "      <td>1</td>\n",
       "      <td>30.0</td>\n",
       "      <td>89.0</td>\n",
       "      <td>125.0</td>\n",
       "      <td>152154.00</td>\n",
       "      <td>30631.10</td>\n",
       "      <td>23962.85</td>\n",
       "      <td>...</td>\n",
       "      <td>60.0</td>\n",
       "      <td>33.0</td>\n",
       "      <td>13.0</td>\n",
       "      <td>57.0</td>\n",
       "      <td>NaN</td>\n",
       "      <td>NaN</td>\n",
       "      <td>2.1137</td>\n",
       "      <td>1003000480</td>\n",
       "      <td>0</td>\n",
       "      <td>0</td>\n",
       "    </tr>\n",
       "    <tr>\n",
       "      <th>...</th>\n",
       "      <td>...</td>\n",
       "      <td>...</td>\n",
       "      <td>...</td>\n",
       "      <td>...</td>\n",
       "      <td>...</td>\n",
       "      <td>...</td>\n",
       "      <td>...</td>\n",
       "      <td>...</td>\n",
       "      <td>...</td>\n",
       "      <td>...</td>\n",
       "      <td>...</td>\n",
       "      <td>...</td>\n",
       "      <td>...</td>\n",
       "      <td>...</td>\n",
       "      <td>...</td>\n",
       "      <td>...</td>\n",
       "      <td>...</td>\n",
       "      <td>...</td>\n",
       "      <td>...</td>\n",
       "      <td>...</td>\n",
       "      <td>...</td>\n",
       "    </tr>\n",
       "    <tr>\n",
       "      <th>1161536</th>\n",
       "      <td>M.D.</td>\n",
       "      <td>0.0</td>\n",
       "      <td>Emergency Medicine</td>\n",
       "      <td>1</td>\n",
       "      <td>9.0</td>\n",
       "      <td>155.0</td>\n",
       "      <td>171.0</td>\n",
       "      <td>329504.00</td>\n",
       "      <td>32266.94</td>\n",
       "      <td>25803.90</td>\n",
       "      <td>...</td>\n",
       "      <td>75.0</td>\n",
       "      <td>70.0</td>\n",
       "      <td>9.0</td>\n",
       "      <td>48.0</td>\n",
       "      <td>27.0</td>\n",
       "      <td>15.0</td>\n",
       "      <td>3.4526</td>\n",
       "      <td>1992999437</td>\n",
       "      <td>0</td>\n",
       "      <td>0</td>\n",
       "    </tr>\n",
       "    <tr>\n",
       "      <th>1161537</th>\n",
       "      <td>M.D.</td>\n",
       "      <td>1.0</td>\n",
       "      <td>Internal Medicine</td>\n",
       "      <td>1</td>\n",
       "      <td>40.0</td>\n",
       "      <td>333.0</td>\n",
       "      <td>1093.0</td>\n",
       "      <td>182515.00</td>\n",
       "      <td>93505.14</td>\n",
       "      <td>68252.03</td>\n",
       "      <td>...</td>\n",
       "      <td>66.0</td>\n",
       "      <td>25.0</td>\n",
       "      <td>9.0</td>\n",
       "      <td>41.0</td>\n",
       "      <td>NaN</td>\n",
       "      <td>4.0</td>\n",
       "      <td>1.2418</td>\n",
       "      <td>1992999551</td>\n",
       "      <td>0</td>\n",
       "      <td>0</td>\n",
       "    </tr>\n",
       "    <tr>\n",
       "      <th>1161538</th>\n",
       "      <td>D.C.</td>\n",
       "      <td>0.0</td>\n",
       "      <td>Chiropractic</td>\n",
       "      <td>1</td>\n",
       "      <td>2.0</td>\n",
       "      <td>66.0</td>\n",
       "      <td>415.0</td>\n",
       "      <td>20985.00</td>\n",
       "      <td>16171.02</td>\n",
       "      <td>11759.42</td>\n",
       "      <td>...</td>\n",
       "      <td>53.0</td>\n",
       "      <td>26.0</td>\n",
       "      <td>NaN</td>\n",
       "      <td>56.0</td>\n",
       "      <td>NaN</td>\n",
       "      <td>NaN</td>\n",
       "      <td>0.9525</td>\n",
       "      <td>1992999585</td>\n",
       "      <td>0</td>\n",
       "      <td>0</td>\n",
       "    </tr>\n",
       "    <tr>\n",
       "      <th>1161540</th>\n",
       "      <td>M.D.</td>\n",
       "      <td>0.0</td>\n",
       "      <td>Otolaryngology</td>\n",
       "      <td>1</td>\n",
       "      <td>46.0</td>\n",
       "      <td>456.0</td>\n",
       "      <td>851.0</td>\n",
       "      <td>304460.56</td>\n",
       "      <td>113283.09</td>\n",
       "      <td>85463.83</td>\n",
       "      <td>...</td>\n",
       "      <td>53.0</td>\n",
       "      <td>26.0</td>\n",
       "      <td>9.0</td>\n",
       "      <td>37.0</td>\n",
       "      <td>NaN</td>\n",
       "      <td>2.0</td>\n",
       "      <td>1.1737</td>\n",
       "      <td>1992999825</td>\n",
       "      <td>0</td>\n",
       "      <td>0</td>\n",
       "    </tr>\n",
       "    <tr>\n",
       "      <th>1161541</th>\n",
       "      <td>NaN</td>\n",
       "      <td>1.0</td>\n",
       "      <td>Internal Medicine</td>\n",
       "      <td>1</td>\n",
       "      <td>15.0</td>\n",
       "      <td>407.0</td>\n",
       "      <td>884.0</td>\n",
       "      <td>340479.02</td>\n",
       "      <td>90924.61</td>\n",
       "      <td>74063.76</td>\n",
       "      <td>...</td>\n",
       "      <td>75.0</td>\n",
       "      <td>61.0</td>\n",
       "      <td>11.0</td>\n",
       "      <td>48.0</td>\n",
       "      <td>7.0</td>\n",
       "      <td>23.0</td>\n",
       "      <td>2.7672</td>\n",
       "      <td>1992999874</td>\n",
       "      <td>0</td>\n",
       "      <td>0</td>\n",
       "    </tr>\n",
       "  </tbody>\n",
       "</table>\n",
       "<p>1100726 rows × 62 columns</p>\n",
       "</div>"
      ],
      "text/plain": [
       "        Rndrng_Prvdr_Crdntls  Rndrng_Prvdr_Gndr        Rndrng_Prvdr_Type  \\\n",
       "0                       M.D.                0.0        Internal Medicine   \n",
       "1                       M.D.                0.0                Pathology   \n",
       "2                       M.D.                0.0           Anesthesiology   \n",
       "3                       M.D.                1.0  Obstetrics & Gynecology   \n",
       "4                         MD                0.0          General Surgery   \n",
       "...                      ...                ...                      ...   \n",
       "1161536                 M.D.                0.0       Emergency Medicine   \n",
       "1161537                 M.D.                1.0        Internal Medicine   \n",
       "1161538                 D.C.                0.0             Chiropractic   \n",
       "1161540                 M.D.                0.0           Otolaryngology   \n",
       "1161541                  NaN                1.0        Internal Medicine   \n",
       "\n",
       "         Rndrng_Prvdr_Mdcr_Prtcptg_Ind  Tot_HCPCS_Cds  Tot_Benes  Tot_Srvcs  \\\n",
       "0                                    1           16.0      291.0      764.0   \n",
       "1                                    1           18.0     2633.0     5930.0   \n",
       "2                                    1           54.0      167.0     2003.0   \n",
       "3                                    1           21.0       56.0      571.0   \n",
       "4                                    1           30.0       89.0      125.0   \n",
       "...                                ...            ...        ...        ...   \n",
       "1161536                              1            9.0      155.0      171.0   \n",
       "1161537                              1           40.0      333.0     1093.0   \n",
       "1161538                              1            2.0       66.0      415.0   \n",
       "1161540                              1           46.0      456.0      851.0   \n",
       "1161541                              1           15.0      407.0      884.0   \n",
       "\n",
       "         Tot_Sbmtd_Chrg  Tot_Mdcr_Alowd_Amt  Tot_Mdcr_Pymt_Amt  ...  \\\n",
       "0             402812.00            85319.63           69175.78  ...   \n",
       "1             915291.00           227372.53          176497.74  ...   \n",
       "2             182532.48           101757.15           76938.82  ...   \n",
       "3              23680.00             9011.99            7224.35  ...   \n",
       "4             152154.00            30631.10           23962.85  ...   \n",
       "...                 ...                 ...                ...  ...   \n",
       "1161536       329504.00            32266.94           25803.90  ...   \n",
       "1161537       182515.00            93505.14           68252.03  ...   \n",
       "1161538        20985.00            16171.02           11759.42  ...   \n",
       "1161540       304460.56           113283.09           85463.83  ...   \n",
       "1161541       340479.02            90924.61           74063.76  ...   \n",
       "\n",
       "         Bene_CC_Hyprtnsn_Pct  Bene_CC_IHD_Pct  Bene_CC_Opo_Pct  \\\n",
       "0                        75.0             66.0             11.0   \n",
       "1                        48.0             24.0             10.0   \n",
       "2                        68.0             31.0              NaN   \n",
       "3                        50.0             23.0             20.0   \n",
       "4                        60.0             33.0             13.0   \n",
       "...                       ...              ...              ...   \n",
       "1161536                  75.0             70.0              9.0   \n",
       "1161537                  66.0             25.0              9.0   \n",
       "1161538                  53.0             26.0              NaN   \n",
       "1161540                  53.0             26.0              9.0   \n",
       "1161541                  75.0             61.0             11.0   \n",
       "\n",
       "         Bene_CC_RAOA_Pct  Bene_CC_Sz_Pct  Bene_CC_Strok_Pct  \\\n",
       "0                    51.0             9.0               19.0   \n",
       "1                    38.0             1.0                3.0   \n",
       "2                    75.0             NaN                NaN   \n",
       "3                    32.0             0.0                NaN   \n",
       "4                    57.0             NaN                NaN   \n",
       "...                   ...             ...                ...   \n",
       "1161536              48.0            27.0               15.0   \n",
       "1161537              41.0             NaN                4.0   \n",
       "1161538              56.0             NaN                NaN   \n",
       "1161540              37.0             NaN                2.0   \n",
       "1161541              48.0             7.0               23.0   \n",
       "\n",
       "         Bene_Avg_Risk_Scre  Rndrng_NPI  Fraud  FraudType  \n",
       "0                    2.5028  1003000126      0          0  \n",
       "1                    1.1124  1003000134      0          0  \n",
       "2                    1.6935  1003000142      0          0  \n",
       "3                    0.7089  1003000423      0          0  \n",
       "4                    2.1137  1003000480      0          0  \n",
       "...                     ...         ...    ...        ...  \n",
       "1161536              3.4526  1992999437      0          0  \n",
       "1161537              1.2418  1992999551      0          0  \n",
       "1161538              0.9525  1992999585      0          0  \n",
       "1161540              1.1737  1992999825      0          0  \n",
       "1161541              2.7672  1992999874      0          0  \n",
       "\n",
       "[1100726 rows x 62 columns]"
      ]
     },
     "execution_count": 278,
     "metadata": {},
     "output_type": "execute_result"
    }
   ],
   "source": [
    "part_b"
   ]
  },
  {
   "cell_type": "code",
   "execution_count": 280,
   "id": "cf042584",
   "metadata": {},
   "outputs": [],
   "source": [
    "from sklearn.preprocessing import LabelEncoder\n",
    "label_encoder = LabelEncoder()\n",
    "part_b['Rndrng_Prvdr_Type'] = label_encoder.fit_transform(part_b['Rndrng_Prvdr_Type'])"
   ]
  },
  {
   "cell_type": "code",
   "execution_count": 281,
   "id": "ce7f0e58",
   "metadata": {},
   "outputs": [],
   "source": [
    "from sklearn.preprocessing import LabelEncoder\n",
    "label_encoder = LabelEncoder()\n",
    "part_b['Rndrng_Prvdr_Crdntls'] = label_encoder.fit_transform(part_b['Rndrng_Prvdr_Crdntls'])"
   ]
  },
  {
   "cell_type": "code",
   "execution_count": 295,
   "id": "d22bd1df",
   "metadata": {},
   "outputs": [],
   "source": [
    "part_b['FraudType'] = part_b['FraudType'].astype(str)"
   ]
  },
  {
   "cell_type": "code",
   "execution_count": 296,
   "id": "ee6c0d98",
   "metadata": {},
   "outputs": [],
   "source": [
    "from sklearn.preprocessing import LabelEncoder\n",
    "label_encoder1 = LabelEncoder()\n",
    "part_b['FraudType'] = label_encoder1.fit_transform(part_b['FraudType'])"
   ]
  },
  {
   "cell_type": "code",
   "execution_count": 298,
   "id": "a048d780",
   "metadata": {},
   "outputs": [
    {
     "data": {
      "text/plain": [
       "0     1100610\n",
       "10         35\n",
       "1          30\n",
       "7          14\n",
       "2          13\n",
       "5           8\n",
       "11          8\n",
       "8           2\n",
       "4           2\n",
       "12          1\n",
       "3           1\n",
       "9           1\n",
       "6           1\n",
       "Name: FraudType, dtype: int64"
      ]
     },
     "execution_count": 298,
     "metadata": {},
     "output_type": "execute_result"
    }
   ],
   "source": [
    "part_b['FraudType'].value_counts()"
   ]
  },
  {
   "cell_type": "code",
   "execution_count": 299,
   "id": "7c3f2105",
   "metadata": {},
   "outputs": [
    {
     "name": "stdout",
     "output_type": "stream",
     "text": [
      "<class 'pandas.core.frame.DataFrame'>\n",
      "Int64Index: 1100726 entries, 0 to 1161541\n",
      "Data columns (total 62 columns):\n",
      " #   Column                         Non-Null Count    Dtype  \n",
      "---  ------                         --------------    -----  \n",
      " 0   Rndrng_Prvdr_Crdntls           1100726 non-null  int64  \n",
      " 1   Rndrng_Prvdr_Gndr              1100726 non-null  float64\n",
      " 2   Rndrng_Prvdr_Type              1100726 non-null  int64  \n",
      " 3   Rndrng_Prvdr_Mdcr_Prtcptg_Ind  1100726 non-null  int64  \n",
      " 4   Tot_HCPCS_Cds                  1100726 non-null  float64\n",
      " 5   Tot_Benes                      1100726 non-null  float64\n",
      " 6   Tot_Srvcs                      1100726 non-null  float64\n",
      " 7   Tot_Sbmtd_Chrg                 1100726 non-null  float64\n",
      " 8   Tot_Mdcr_Alowd_Amt             1100726 non-null  float64\n",
      " 9   Tot_Mdcr_Pymt_Amt              1100726 non-null  float64\n",
      " 10  Tot_Mdcr_Stdzd_Amt             1100726 non-null  float64\n",
      " 11  Drug_Sprsn_Ind                 130700 non-null   float64\n",
      " 12  Drug_Tot_HCPCS_Cds             970026 non-null   float64\n",
      " 13  Drug_Tot_Benes                 970026 non-null   float64\n",
      " 14  Drug_Tot_Srvcs                 970026 non-null   float64\n",
      " 15  Drug_Sbmtd_Chrg                970026 non-null   float64\n",
      " 16  Drug_Mdcr_Alowd_Amt            970026 non-null   float64\n",
      " 17  Drug_Mdcr_Pymt_Amt             970026 non-null   float64\n",
      " 18  Drug_Mdcr_Stdzd_Amt            970026 non-null   float64\n",
      " 19  Med_Sprsn_Ind                  130700 non-null   float64\n",
      " 20  Med_Tot_HCPCS_Cds              970026 non-null   float64\n",
      " 21  Med_Tot_Benes                  970026 non-null   float64\n",
      " 22  Med_Tot_Srvcs                  970026 non-null   float64\n",
      " 23  Med_Sbmtd_Chrg                 970026 non-null   float64\n",
      " 24  Med_Mdcr_Alowd_Amt             970026 non-null   float64\n",
      " 25  Med_Mdcr_Pymt_Amt              970026 non-null   float64\n",
      " 26  Med_Mdcr_Stdzd_Amt             970026 non-null   float64\n",
      " 27  Bene_Avg_Age                   1100726 non-null  float64\n",
      " 28  Bene_Age_LT_65_Cnt             637633 non-null   float64\n",
      " 29  Bene_Age_65_74_Cnt             908643 non-null   float64\n",
      " 30  Bene_Age_75_84_Cnt             758235 non-null   float64\n",
      " 31  Bene_Age_GT_84_Cnt             594878 non-null   float64\n",
      " 32  Bene_Feml_Cnt                  959959 non-null   float64\n",
      " 33  Bene_Male_Cnt                  959959 non-null   float64\n",
      " 34  Bene_Race_Wht_Cnt              721554 non-null   float64\n",
      " 35  Bene_Race_Black_Cnt            349495 non-null   float64\n",
      " 36  Bene_Race_API_Cnt              190086 non-null   float64\n",
      " 37  Bene_Race_Hspnc_Cnt            270304 non-null   float64\n",
      " 38  Bene_Race_NatInd_Cnt           347421 non-null   float64\n",
      " 39  Bene_Race_Othr_Cnt             182941 non-null   float64\n",
      " 40  Bene_Dual_Cnt                  782526 non-null   float64\n",
      " 41  Bene_Ndual_Cnt                 782526 non-null   float64\n",
      " 42  Bene_CC_AF_Pct                 722050 non-null   float64\n",
      " 43  Bene_CC_Alzhmr_Pct             721667 non-null   float64\n",
      " 44  Bene_CC_Asthma_Pct             626978 non-null   float64\n",
      " 45  Bene_CC_Cncr_Pct               712987 non-null   float64\n",
      " 46  Bene_CC_CHF_Pct                810317 non-null   float64\n",
      " 47  Bene_CC_CKD_Pct                923822 non-null   float64\n",
      " 48  Bene_CC_COPD_Pct               761924 non-null   float64\n",
      " 49  Bene_CC_Dprssn_Pct             921830 non-null   float64\n",
      " 50  Bene_CC_Dbts_Pct               920580 non-null   float64\n",
      " 51  Bene_CC_Hyplpdma_Pct           1010272 non-null  float64\n",
      " 52  Bene_CC_Hyprtnsn_Pct           1032311 non-null  float64\n",
      " 53  Bene_CC_IHD_Pct                919424 non-null   float64\n",
      " 54  Bene_CC_Opo_Pct                660858 non-null   float64\n",
      " 55  Bene_CC_RAOA_Pct               984957 non-null   float64\n",
      " 56  Bene_CC_Sz_Pct                 475413 non-null   float64\n",
      " 57  Bene_CC_Strok_Pct              567975 non-null   float64\n",
      " 58  Bene_Avg_Risk_Scre             1100726 non-null  float64\n",
      " 59  Rndrng_NPI                     1100726 non-null  int64  \n",
      " 60  Fraud                          1100726 non-null  int64  \n",
      " 61  FraudType                      1100726 non-null  int64  \n",
      "dtypes: float64(56), int64(6)\n",
      "memory usage: 529.1 MB\n"
     ]
    }
   ],
   "source": [
    "part_b.info()"
   ]
  },
  {
   "cell_type": "code",
   "execution_count": 305,
   "id": "dfaa0514",
   "metadata": {},
   "outputs": [
    {
     "data": {
      "text/plain": [
       "Index(['Rndrng_Prvdr_Crdntls', 'Rndrng_Prvdr_Gndr', 'Rndrng_Prvdr_Type',\n",
       "       'Rndrng_Prvdr_Mdcr_Prtcptg_Ind', 'Tot_HCPCS_Cds', 'Tot_Benes',\n",
       "       'Tot_Srvcs', 'Tot_Sbmtd_Chrg', 'Tot_Mdcr_Alowd_Amt',\n",
       "       'Tot_Mdcr_Pymt_Amt', 'Tot_Mdcr_Stdzd_Amt', 'Drug_Sprsn_Ind',\n",
       "       'Drug_Tot_HCPCS_Cds', 'Drug_Tot_Benes', 'Drug_Tot_Srvcs',\n",
       "       'Drug_Sbmtd_Chrg', 'Drug_Mdcr_Alowd_Amt', 'Drug_Mdcr_Pymt_Amt',\n",
       "       'Drug_Mdcr_Stdzd_Amt', 'Med_Sprsn_Ind', 'Med_Tot_HCPCS_Cds',\n",
       "       'Med_Tot_Benes', 'Med_Tot_Srvcs', 'Med_Sbmtd_Chrg',\n",
       "       'Med_Mdcr_Alowd_Amt', 'Med_Mdcr_Pymt_Amt', 'Med_Mdcr_Stdzd_Amt',\n",
       "       'Bene_Avg_Age', 'Bene_Age_LT_65_Cnt', 'Bene_Age_65_74_Cnt',\n",
       "       'Bene_Age_75_84_Cnt', 'Bene_Age_GT_84_Cnt', 'Bene_Feml_Cnt',\n",
       "       'Bene_Male_Cnt', 'Bene_Race_Wht_Cnt', 'Bene_Race_Black_Cnt',\n",
       "       'Bene_Race_API_Cnt', 'Bene_Race_Hspnc_Cnt', 'Bene_Race_NatInd_Cnt',\n",
       "       'Bene_Race_Othr_Cnt', 'Bene_Dual_Cnt', 'Bene_Ndual_Cnt',\n",
       "       'Bene_CC_AF_Pct', 'Bene_CC_Alzhmr_Pct', 'Bene_CC_Asthma_Pct',\n",
       "       'Bene_CC_Cncr_Pct', 'Bene_CC_CHF_Pct', 'Bene_CC_CKD_Pct',\n",
       "       'Bene_CC_COPD_Pct', 'Bene_CC_Dprssn_Pct', 'Bene_CC_Dbts_Pct',\n",
       "       'Bene_CC_Hyplpdma_Pct', 'Bene_CC_Hyprtnsn_Pct', 'Bene_CC_IHD_Pct',\n",
       "       'Bene_CC_Opo_Pct', 'Bene_CC_RAOA_Pct', 'Bene_CC_Sz_Pct',\n",
       "       'Bene_CC_Strok_Pct', 'Bene_Avg_Risk_Scre', 'Rndrng_NPI', 'Fraud',\n",
       "       'FraudType'],\n",
       "      dtype='object')"
      ]
     },
     "execution_count": 305,
     "metadata": {},
     "output_type": "execute_result"
    }
   ],
   "source": [
    "part_b.columns"
   ]
  },
  {
   "cell_type": "code",
   "execution_count": 328,
   "id": "f537f000",
   "metadata": {},
   "outputs": [
    {
     "name": "stdout",
     "output_type": "stream",
     "text": [
      "(1100726, 23)\n"
     ]
    }
   ],
   "source": [
    "import pandas as pd\n",
    "from sklearn.experimental import enable_iterative_imputer\n",
    "from sklearn.impute import IterativeImputer\n",
    "from sklearn.preprocessing import StandardScaler\n",
    "import statsmodels.imputation.mice as mice\n",
    "from sklearn.impute import KNNImputer\n",
    "\n",
    "feature_cols = ['Rndrng_Prvdr_Crdntls', 'Rndrng_Prvdr_Gndr', 'Rndrng_Prvdr_Type',\n",
    "       'Rndrng_Prvdr_Mdcr_Prtcptg_Ind', 'Tot_HCPCS_Cds', 'Tot_Benes',\n",
    "       'Tot_Srvcs', 'Tot_Sbmtd_Chrg', 'Tot_Mdcr_Alowd_Amt',\n",
    "       'Tot_Mdcr_Pymt_Amt','Tot_Mdcr_Stdzd_Amt', 'Drug_Sprsn_Ind',\n",
    "       'Drug_Tot_HCPCS_Cds', 'Drug_Tot_Benes', 'Drug_Tot_Srvcs',\n",
    "       'Drug_Sbmtd_Chrg', 'Drug_Mdcr_Alowd_Amt', 'Drug_Mdcr_Pymt_Amt',\n",
    "       'Drug_Mdcr_Stdzd_Amt', 'Med_Sprsn_Ind','Med_Tot_HCPCS_Cds',\n",
    "       'Med_Tot_Benes', 'Med_Tot_Srvcs']\n",
    "\n",
    "part_b_imputed = part_b.copy()\n",
    "\n",
    "# Create an imputer\n",
    "imputer = IterativeImputer(max_iter=10, random_state=42)\n",
    "\n",
    "# Perform imputation\n",
    "imputed_values = imputer.fit_transform(part_b_imputed[feature_cols])\n",
    "\n",
    "# Convert the imputed values back to a DataFrame\n",
    "print(imputed_values.shape)"
   ]
  },
  {
   "cell_type": "code",
   "execution_count": 311,
   "id": "96372d0f",
   "metadata": {},
   "outputs": [
    {
     "name": "stdout",
     "output_type": "stream",
     "text": [
      "Rndrng_Prvdr_Crdntls             0\n",
      "Rndrng_Prvdr_Gndr                0\n",
      "Rndrng_Prvdr_Type                0\n",
      "Rndrng_Prvdr_Mdcr_Prtcptg_Ind    0\n",
      "Tot_HCPCS_Cds                    0\n",
      "Tot_Benes                        0\n",
      "Tot_Srvcs                        0\n",
      "Tot_Sbmtd_Chrg                   0\n",
      "Tot_Mdcr_Alowd_Amt               0\n",
      "Tot_Mdcr_Pymt_Amt                0\n",
      "dtype: int64\n"
     ]
    },
    {
     "data": {
      "text/html": [
       "<div>\n",
       "<style scoped>\n",
       "    .dataframe tbody tr th:only-of-type {\n",
       "        vertical-align: middle;\n",
       "    }\n",
       "\n",
       "    .dataframe tbody tr th {\n",
       "        vertical-align: top;\n",
       "    }\n",
       "\n",
       "    .dataframe thead th {\n",
       "        text-align: right;\n",
       "    }\n",
       "</style>\n",
       "<table border=\"1\" class=\"dataframe\">\n",
       "  <thead>\n",
       "    <tr style=\"text-align: right;\">\n",
       "      <th></th>\n",
       "      <th>Rndrng_Prvdr_Crdntls</th>\n",
       "      <th>Rndrng_Prvdr_Gndr</th>\n",
       "      <th>Rndrng_Prvdr_Type</th>\n",
       "      <th>Rndrng_Prvdr_Mdcr_Prtcptg_Ind</th>\n",
       "      <th>Tot_HCPCS_Cds</th>\n",
       "      <th>Tot_Benes</th>\n",
       "      <th>Tot_Srvcs</th>\n",
       "      <th>Tot_Sbmtd_Chrg</th>\n",
       "      <th>Tot_Mdcr_Alowd_Amt</th>\n",
       "      <th>Tot_Mdcr_Pymt_Amt</th>\n",
       "    </tr>\n",
       "  </thead>\n",
       "  <tbody>\n",
       "    <tr>\n",
       "      <th>0</th>\n",
       "      <td>7310.0</td>\n",
       "      <td>0.0</td>\n",
       "      <td>39.0</td>\n",
       "      <td>1.0</td>\n",
       "      <td>16.0</td>\n",
       "      <td>291.0</td>\n",
       "      <td>764.0</td>\n",
       "      <td>402812.00</td>\n",
       "      <td>85319.63</td>\n",
       "      <td>69175.78</td>\n",
       "    </tr>\n",
       "    <tr>\n",
       "      <th>1</th>\n",
       "      <td>7310.0</td>\n",
       "      <td>0.0</td>\n",
       "      <td>65.0</td>\n",
       "      <td>1.0</td>\n",
       "      <td>18.0</td>\n",
       "      <td>2633.0</td>\n",
       "      <td>5930.0</td>\n",
       "      <td>915291.00</td>\n",
       "      <td>227372.53</td>\n",
       "      <td>176497.74</td>\n",
       "    </tr>\n",
       "    <tr>\n",
       "      <th>2</th>\n",
       "      <td>7310.0</td>\n",
       "      <td>0.0</td>\n",
       "      <td>5.0</td>\n",
       "      <td>1.0</td>\n",
       "      <td>54.0</td>\n",
       "      <td>167.0</td>\n",
       "      <td>2003.0</td>\n",
       "      <td>182532.48</td>\n",
       "      <td>101757.15</td>\n",
       "      <td>76938.82</td>\n",
       "    </tr>\n",
       "    <tr>\n",
       "      <th>3</th>\n",
       "      <td>7310.0</td>\n",
       "      <td>1.0</td>\n",
       "      <td>56.0</td>\n",
       "      <td>1.0</td>\n",
       "      <td>21.0</td>\n",
       "      <td>56.0</td>\n",
       "      <td>571.0</td>\n",
       "      <td>23680.00</td>\n",
       "      <td>9011.99</td>\n",
       "      <td>7224.35</td>\n",
       "    </tr>\n",
       "    <tr>\n",
       "      <th>4</th>\n",
       "      <td>9043.0</td>\n",
       "      <td>0.0</td>\n",
       "      <td>27.0</td>\n",
       "      <td>1.0</td>\n",
       "      <td>30.0</td>\n",
       "      <td>89.0</td>\n",
       "      <td>125.0</td>\n",
       "      <td>152154.00</td>\n",
       "      <td>30631.10</td>\n",
       "      <td>23962.85</td>\n",
       "    </tr>\n",
       "    <tr>\n",
       "      <th>...</th>\n",
       "      <td>...</td>\n",
       "      <td>...</td>\n",
       "      <td>...</td>\n",
       "      <td>...</td>\n",
       "      <td>...</td>\n",
       "      <td>...</td>\n",
       "      <td>...</td>\n",
       "      <td>...</td>\n",
       "      <td>...</td>\n",
       "      <td>...</td>\n",
       "    </tr>\n",
       "    <tr>\n",
       "      <th>1161536</th>\n",
       "      <td>7310.0</td>\n",
       "      <td>0.0</td>\n",
       "      <td>22.0</td>\n",
       "      <td>1.0</td>\n",
       "      <td>9.0</td>\n",
       "      <td>155.0</td>\n",
       "      <td>171.0</td>\n",
       "      <td>329504.00</td>\n",
       "      <td>32266.94</td>\n",
       "      <td>25803.90</td>\n",
       "    </tr>\n",
       "    <tr>\n",
       "      <th>1161537</th>\n",
       "      <td>7310.0</td>\n",
       "      <td>1.0</td>\n",
       "      <td>39.0</td>\n",
       "      <td>1.0</td>\n",
       "      <td>40.0</td>\n",
       "      <td>333.0</td>\n",
       "      <td>1093.0</td>\n",
       "      <td>182515.00</td>\n",
       "      <td>93505.14</td>\n",
       "      <td>68252.03</td>\n",
       "    </tr>\n",
       "    <tr>\n",
       "      <th>1161538</th>\n",
       "      <td>3073.0</td>\n",
       "      <td>0.0</td>\n",
       "      <td>13.0</td>\n",
       "      <td>1.0</td>\n",
       "      <td>2.0</td>\n",
       "      <td>66.0</td>\n",
       "      <td>415.0</td>\n",
       "      <td>20985.00</td>\n",
       "      <td>16171.02</td>\n",
       "      <td>11759.42</td>\n",
       "    </tr>\n",
       "    <tr>\n",
       "      <th>1161540</th>\n",
       "      <td>7310.0</td>\n",
       "      <td>0.0</td>\n",
       "      <td>63.0</td>\n",
       "      <td>1.0</td>\n",
       "      <td>46.0</td>\n",
       "      <td>456.0</td>\n",
       "      <td>851.0</td>\n",
       "      <td>304460.56</td>\n",
       "      <td>113283.09</td>\n",
       "      <td>85463.83</td>\n",
       "    </tr>\n",
       "    <tr>\n",
       "      <th>1161541</th>\n",
       "      <td>17582.0</td>\n",
       "      <td>1.0</td>\n",
       "      <td>39.0</td>\n",
       "      <td>1.0</td>\n",
       "      <td>15.0</td>\n",
       "      <td>407.0</td>\n",
       "      <td>884.0</td>\n",
       "      <td>340479.02</td>\n",
       "      <td>90924.61</td>\n",
       "      <td>74063.76</td>\n",
       "    </tr>\n",
       "  </tbody>\n",
       "</table>\n",
       "<p>1100726 rows × 10 columns</p>\n",
       "</div>"
      ],
      "text/plain": [
       "         Rndrng_Prvdr_Crdntls  Rndrng_Prvdr_Gndr  Rndrng_Prvdr_Type  \\\n",
       "0                      7310.0                0.0               39.0   \n",
       "1                      7310.0                0.0               65.0   \n",
       "2                      7310.0                0.0                5.0   \n",
       "3                      7310.0                1.0               56.0   \n",
       "4                      9043.0                0.0               27.0   \n",
       "...                       ...                ...                ...   \n",
       "1161536                7310.0                0.0               22.0   \n",
       "1161537                7310.0                1.0               39.0   \n",
       "1161538                3073.0                0.0               13.0   \n",
       "1161540                7310.0                0.0               63.0   \n",
       "1161541               17582.0                1.0               39.0   \n",
       "\n",
       "         Rndrng_Prvdr_Mdcr_Prtcptg_Ind  Tot_HCPCS_Cds  Tot_Benes  Tot_Srvcs  \\\n",
       "0                                  1.0           16.0      291.0      764.0   \n",
       "1                                  1.0           18.0     2633.0     5930.0   \n",
       "2                                  1.0           54.0      167.0     2003.0   \n",
       "3                                  1.0           21.0       56.0      571.0   \n",
       "4                                  1.0           30.0       89.0      125.0   \n",
       "...                                ...            ...        ...        ...   \n",
       "1161536                            1.0            9.0      155.0      171.0   \n",
       "1161537                            1.0           40.0      333.0     1093.0   \n",
       "1161538                            1.0            2.0       66.0      415.0   \n",
       "1161540                            1.0           46.0      456.0      851.0   \n",
       "1161541                            1.0           15.0      407.0      884.0   \n",
       "\n",
       "         Tot_Sbmtd_Chrg  Tot_Mdcr_Alowd_Amt  Tot_Mdcr_Pymt_Amt  \n",
       "0             402812.00            85319.63           69175.78  \n",
       "1             915291.00           227372.53          176497.74  \n",
       "2             182532.48           101757.15           76938.82  \n",
       "3              23680.00             9011.99            7224.35  \n",
       "4             152154.00            30631.10           23962.85  \n",
       "...                 ...                 ...                ...  \n",
       "1161536       329504.00            32266.94           25803.90  \n",
       "1161537       182515.00            93505.14           68252.03  \n",
       "1161538        20985.00            16171.02           11759.42  \n",
       "1161540       304460.56           113283.09           85463.83  \n",
       "1161541       340479.02            90924.61           74063.76  \n",
       "\n",
       "[1100726 rows x 10 columns]"
      ]
     },
     "execution_count": 311,
     "metadata": {},
     "output_type": "execute_result"
    }
   ],
   "source": [
    "# Assign the imputed values back to the DataFrame\n",
    "part_b_imputed[feature_cols] = imputed_values\n",
    "print(part_b_imputed[feature_cols].isnull().sum())\n",
    "part_b_imputed[feature_cols]"
   ]
  },
  {
   "cell_type": "code",
   "execution_count": 312,
   "id": "7a7a5f33",
   "metadata": {},
   "outputs": [
    {
     "name": "stdout",
     "output_type": "stream",
     "text": [
      "Rndrng_Prvdr_Crdntls             0\n",
      "Rndrng_Prvdr_Gndr                0\n",
      "Rndrng_Prvdr_Type                0\n",
      "Rndrng_Prvdr_Mdcr_Prtcptg_Ind    0\n",
      "Tot_HCPCS_Cds                    0\n",
      "Tot_Benes                        0\n",
      "Tot_Srvcs                        0\n",
      "Tot_Sbmtd_Chrg                   0\n",
      "Tot_Mdcr_Alowd_Amt               0\n",
      "Tot_Mdcr_Pymt_Amt                0\n",
      "dtype: int64\n"
     ]
    },
    {
     "data": {
      "text/html": [
       "<div>\n",
       "<style scoped>\n",
       "    .dataframe tbody tr th:only-of-type {\n",
       "        vertical-align: middle;\n",
       "    }\n",
       "\n",
       "    .dataframe tbody tr th {\n",
       "        vertical-align: top;\n",
       "    }\n",
       "\n",
       "    .dataframe thead th {\n",
       "        text-align: right;\n",
       "    }\n",
       "</style>\n",
       "<table border=\"1\" class=\"dataframe\">\n",
       "  <thead>\n",
       "    <tr style=\"text-align: right;\">\n",
       "      <th></th>\n",
       "      <th>Rndrng_Prvdr_Crdntls</th>\n",
       "      <th>Rndrng_Prvdr_Gndr</th>\n",
       "      <th>Rndrng_Prvdr_Type</th>\n",
       "      <th>Rndrng_Prvdr_Mdcr_Prtcptg_Ind</th>\n",
       "      <th>Tot_HCPCS_Cds</th>\n",
       "      <th>Tot_Benes</th>\n",
       "      <th>Tot_Srvcs</th>\n",
       "      <th>Tot_Sbmtd_Chrg</th>\n",
       "      <th>Tot_Mdcr_Alowd_Amt</th>\n",
       "      <th>Tot_Mdcr_Pymt_Amt</th>\n",
       "    </tr>\n",
       "  </thead>\n",
       "  <tbody>\n",
       "    <tr>\n",
       "      <th>0</th>\n",
       "      <td>7310</td>\n",
       "      <td>0.0</td>\n",
       "      <td>39</td>\n",
       "      <td>1</td>\n",
       "      <td>16.0</td>\n",
       "      <td>291.0</td>\n",
       "      <td>764.0</td>\n",
       "      <td>402812.00</td>\n",
       "      <td>85319.63</td>\n",
       "      <td>69175.78</td>\n",
       "    </tr>\n",
       "    <tr>\n",
       "      <th>1</th>\n",
       "      <td>7310</td>\n",
       "      <td>0.0</td>\n",
       "      <td>65</td>\n",
       "      <td>1</td>\n",
       "      <td>18.0</td>\n",
       "      <td>2633.0</td>\n",
       "      <td>5930.0</td>\n",
       "      <td>915291.00</td>\n",
       "      <td>227372.53</td>\n",
       "      <td>176497.74</td>\n",
       "    </tr>\n",
       "    <tr>\n",
       "      <th>2</th>\n",
       "      <td>7310</td>\n",
       "      <td>0.0</td>\n",
       "      <td>5</td>\n",
       "      <td>1</td>\n",
       "      <td>54.0</td>\n",
       "      <td>167.0</td>\n",
       "      <td>2003.0</td>\n",
       "      <td>182532.48</td>\n",
       "      <td>101757.15</td>\n",
       "      <td>76938.82</td>\n",
       "    </tr>\n",
       "    <tr>\n",
       "      <th>3</th>\n",
       "      <td>7310</td>\n",
       "      <td>1.0</td>\n",
       "      <td>56</td>\n",
       "      <td>1</td>\n",
       "      <td>21.0</td>\n",
       "      <td>56.0</td>\n",
       "      <td>571.0</td>\n",
       "      <td>23680.00</td>\n",
       "      <td>9011.99</td>\n",
       "      <td>7224.35</td>\n",
       "    </tr>\n",
       "    <tr>\n",
       "      <th>4</th>\n",
       "      <td>9043</td>\n",
       "      <td>0.0</td>\n",
       "      <td>27</td>\n",
       "      <td>1</td>\n",
       "      <td>30.0</td>\n",
       "      <td>89.0</td>\n",
       "      <td>125.0</td>\n",
       "      <td>152154.00</td>\n",
       "      <td>30631.10</td>\n",
       "      <td>23962.85</td>\n",
       "    </tr>\n",
       "    <tr>\n",
       "      <th>...</th>\n",
       "      <td>...</td>\n",
       "      <td>...</td>\n",
       "      <td>...</td>\n",
       "      <td>...</td>\n",
       "      <td>...</td>\n",
       "      <td>...</td>\n",
       "      <td>...</td>\n",
       "      <td>...</td>\n",
       "      <td>...</td>\n",
       "      <td>...</td>\n",
       "    </tr>\n",
       "    <tr>\n",
       "      <th>1161536</th>\n",
       "      <td>7310</td>\n",
       "      <td>0.0</td>\n",
       "      <td>22</td>\n",
       "      <td>1</td>\n",
       "      <td>9.0</td>\n",
       "      <td>155.0</td>\n",
       "      <td>171.0</td>\n",
       "      <td>329504.00</td>\n",
       "      <td>32266.94</td>\n",
       "      <td>25803.90</td>\n",
       "    </tr>\n",
       "    <tr>\n",
       "      <th>1161537</th>\n",
       "      <td>7310</td>\n",
       "      <td>1.0</td>\n",
       "      <td>39</td>\n",
       "      <td>1</td>\n",
       "      <td>40.0</td>\n",
       "      <td>333.0</td>\n",
       "      <td>1093.0</td>\n",
       "      <td>182515.00</td>\n",
       "      <td>93505.14</td>\n",
       "      <td>68252.03</td>\n",
       "    </tr>\n",
       "    <tr>\n",
       "      <th>1161538</th>\n",
       "      <td>3073</td>\n",
       "      <td>0.0</td>\n",
       "      <td>13</td>\n",
       "      <td>1</td>\n",
       "      <td>2.0</td>\n",
       "      <td>66.0</td>\n",
       "      <td>415.0</td>\n",
       "      <td>20985.00</td>\n",
       "      <td>16171.02</td>\n",
       "      <td>11759.42</td>\n",
       "    </tr>\n",
       "    <tr>\n",
       "      <th>1161540</th>\n",
       "      <td>7310</td>\n",
       "      <td>0.0</td>\n",
       "      <td>63</td>\n",
       "      <td>1</td>\n",
       "      <td>46.0</td>\n",
       "      <td>456.0</td>\n",
       "      <td>851.0</td>\n",
       "      <td>304460.56</td>\n",
       "      <td>113283.09</td>\n",
       "      <td>85463.83</td>\n",
       "    </tr>\n",
       "    <tr>\n",
       "      <th>1161541</th>\n",
       "      <td>17582</td>\n",
       "      <td>1.0</td>\n",
       "      <td>39</td>\n",
       "      <td>1</td>\n",
       "      <td>15.0</td>\n",
       "      <td>407.0</td>\n",
       "      <td>884.0</td>\n",
       "      <td>340479.02</td>\n",
       "      <td>90924.61</td>\n",
       "      <td>74063.76</td>\n",
       "    </tr>\n",
       "  </tbody>\n",
       "</table>\n",
       "<p>1100726 rows × 10 columns</p>\n",
       "</div>"
      ],
      "text/plain": [
       "         Rndrng_Prvdr_Crdntls  Rndrng_Prvdr_Gndr  Rndrng_Prvdr_Type  \\\n",
       "0                        7310                0.0                 39   \n",
       "1                        7310                0.0                 65   \n",
       "2                        7310                0.0                  5   \n",
       "3                        7310                1.0                 56   \n",
       "4                        9043                0.0                 27   \n",
       "...                       ...                ...                ...   \n",
       "1161536                  7310                0.0                 22   \n",
       "1161537                  7310                1.0                 39   \n",
       "1161538                  3073                0.0                 13   \n",
       "1161540                  7310                0.0                 63   \n",
       "1161541                 17582                1.0                 39   \n",
       "\n",
       "         Rndrng_Prvdr_Mdcr_Prtcptg_Ind  Tot_HCPCS_Cds  Tot_Benes  Tot_Srvcs  \\\n",
       "0                                    1           16.0      291.0      764.0   \n",
       "1                                    1           18.0     2633.0     5930.0   \n",
       "2                                    1           54.0      167.0     2003.0   \n",
       "3                                    1           21.0       56.0      571.0   \n",
       "4                                    1           30.0       89.0      125.0   \n",
       "...                                ...            ...        ...        ...   \n",
       "1161536                              1            9.0      155.0      171.0   \n",
       "1161537                              1           40.0      333.0     1093.0   \n",
       "1161538                              1            2.0       66.0      415.0   \n",
       "1161540                              1           46.0      456.0      851.0   \n",
       "1161541                              1           15.0      407.0      884.0   \n",
       "\n",
       "         Tot_Sbmtd_Chrg  Tot_Mdcr_Alowd_Amt  Tot_Mdcr_Pymt_Amt  \n",
       "0             402812.00            85319.63           69175.78  \n",
       "1             915291.00           227372.53          176497.74  \n",
       "2             182532.48           101757.15           76938.82  \n",
       "3              23680.00             9011.99            7224.35  \n",
       "4             152154.00            30631.10           23962.85  \n",
       "...                 ...                 ...                ...  \n",
       "1161536       329504.00            32266.94           25803.90  \n",
       "1161537       182515.00            93505.14           68252.03  \n",
       "1161538        20985.00            16171.02           11759.42  \n",
       "1161540       304460.56           113283.09           85463.83  \n",
       "1161541       340479.02            90924.61           74063.76  \n",
       "\n",
       "[1100726 rows x 10 columns]"
      ]
     },
     "execution_count": 312,
     "metadata": {},
     "output_type": "execute_result"
    }
   ],
   "source": [
    "print(part_b[feature_cols].isnull().sum())\n",
    "part_b[feature_cols]"
   ]
  },
  {
   "cell_type": "code",
   "execution_count": null,
   "id": "5e208a58",
   "metadata": {},
   "outputs": [],
   "source": []
  },
  {
   "cell_type": "code",
   "execution_count": null,
   "id": "28ead7e1",
   "metadata": {},
   "outputs": [],
   "source": []
  },
  {
   "cell_type": "code",
   "execution_count": null,
   "id": "a9934ccb",
   "metadata": {},
   "outputs": [],
   "source": []
  },
  {
   "cell_type": "code",
   "execution_count": null,
   "id": "5d526f55",
   "metadata": {},
   "outputs": [],
   "source": []
  },
  {
   "cell_type": "code",
   "execution_count": null,
   "id": "a6e1bad3",
   "metadata": {},
   "outputs": [],
   "source": []
  },
  {
   "cell_type": "code",
   "execution_count": null,
   "id": "cb4165ee",
   "metadata": {},
   "outputs": [],
   "source": []
  },
  {
   "cell_type": "code",
   "execution_count": null,
   "id": "dde8f4d7",
   "metadata": {},
   "outputs": [],
   "source": []
  },
  {
   "cell_type": "code",
   "execution_count": null,
   "id": "b1d1a608",
   "metadata": {},
   "outputs": [],
   "source": []
  },
  {
   "cell_type": "code",
   "execution_count": null,
   "id": "8914ba74",
   "metadata": {},
   "outputs": [],
   "source": []
  },
  {
   "cell_type": "code",
   "execution_count": 300,
   "id": "05487315",
   "metadata": {},
   "outputs": [],
   "source": [
    "part_b.to_csv(\"processed_partb.csv\")"
   ]
  },
  {
   "cell_type": "code",
   "execution_count": null,
   "id": "f267cf7f",
   "metadata": {},
   "outputs": [],
   "source": []
  },
  {
   "cell_type": "code",
   "execution_count": null,
   "id": "f520b907",
   "metadata": {},
   "outputs": [],
   "source": []
  },
  {
   "cell_type": "code",
   "execution_count": null,
   "id": "e325c49f",
   "metadata": {},
   "outputs": [],
   "source": []
  },
  {
   "cell_type": "code",
   "execution_count": null,
   "id": "407dd543",
   "metadata": {},
   "outputs": [],
   "source": []
  },
  {
   "cell_type": "code",
   "execution_count": null,
   "id": "1a8b34f0",
   "metadata": {},
   "outputs": [],
   "source": []
  },
  {
   "cell_type": "code",
   "execution_count": null,
   "id": "e6c4ae9a",
   "metadata": {},
   "outputs": [],
   "source": []
  },
  {
   "cell_type": "code",
   "execution_count": null,
   "id": "5b41da45",
   "metadata": {},
   "outputs": [],
   "source": []
  },
  {
   "cell_type": "code",
   "execution_count": null,
   "id": "8c140390",
   "metadata": {},
   "outputs": [],
   "source": []
  },
  {
   "cell_type": "code",
   "execution_count": null,
   "id": "6227bc2e",
   "metadata": {},
   "outputs": [],
   "source": []
  },
  {
   "cell_type": "code",
   "execution_count": null,
   "id": "38b40e63",
   "metadata": {},
   "outputs": [],
   "source": [
    "part_b_imputed"
   ]
  },
  {
   "cell_type": "code",
   "execution_count": null,
   "id": "80fc715f",
   "metadata": {},
   "outputs": [],
   "source": [
    "part_b_imputed.to_csv(\"imputedKNN5.csv\")"
   ]
  },
  {
   "cell_type": "code",
   "execution_count": null,
   "id": "071e4d1e",
   "metadata": {},
   "outputs": [],
   "source": [
    "part_b_imputed[part_b_imputed['Bene_CC_CHF_Pct'].isnull()][\"Fraud\"].value_counts()"
   ]
  },
  {
   "cell_type": "code",
   "execution_count": null,
   "id": "1b9a5ce7",
   "metadata": {},
   "outputs": [],
   "source": [
    "import matplotlib.pyplot as plt\n",
    "import seaborn as sns\n",
    "\n",
    "# List of features with missing values\n",
    "features_with_missing = part_b.columns\n",
    "\n",
    "# Plotting\n",
    "data = []\n",
    "for feature in features_with_missing:\n",
    "    data.append(part_b[part_b[feature].isnull()][\"Fraud\"].value_counts())"
   ]
  },
  {
   "cell_type": "code",
   "execution_count": null,
   "id": "15e94270",
   "metadata": {},
   "outputs": [],
   "source": [
    "# Create a new DataFrame\n",
    "df = pd.DataFrame()\n",
    "\n",
    "# Extract feature names, \"Fraud\" counts, and \"Non-Fraud\" counts\n",
    "feature_names = [s.name for s in data]\n",
    "fraud_counts = [s.iloc[1] if len(s) == 2 else 0 for s in data]\n",
    "non_fraud_counts = [s.iloc[0] if len(s) == 2 else s.iloc[0] if len(s) == 1 else 0 for s in data]\n",
    "\n",
    "# Add columns to the new DataFrame\n",
    "df['Feature'] = feature_names\n",
    "df['Fraud'] = fraud_counts\n",
    "df['Non-Fraud'] = non_fraud_counts"
   ]
  },
  {
   "cell_type": "code",
   "execution_count": null,
   "id": "2fe7575d",
   "metadata": {},
   "outputs": [],
   "source": [
    "df['Feature'] = range(1, len(part_b.columns) + 1)\n",
    "df"
   ]
  },
  {
   "cell_type": "code",
   "execution_count": null,
   "id": "1d6f7539",
   "metadata": {},
   "outputs": [],
   "source": [
    "# Create two subplots\n",
    "fig, (ax1, ax2) = plt.subplots(2, 1, figsize=(10, 8), sharex=True)\n",
    "\n",
    "# Plot for Fraud counts\n",
    "ax1.bar(df['Feature'], df['Fraud'], color='black', label='Fraud')\n",
    "ax1.set_ylabel('Fraud Count')\n",
    "ax1.set_title('Fraud Counts for Each Feature')\n",
    "\n",
    "# Plot for Non-Fraud counts\n",
    "ax2.bar(df['Feature'], df['Non-Fraud'], color='gray', label='Non-Fraud')\n",
    "ax2.set_xlabel('Part B data features (columns)')\n",
    "ax2.set_ylabel('Non-Fraud Count')\n",
    "ax2.set_title('Non-Fraud Counts for Each Feature')\n",
    "\n",
    "# Adjust layout to prevent clipping of ylabel\n",
    "plt.tight_layout()\n",
    "\n",
    "plt.show()"
   ]
  },
  {
   "cell_type": "code",
   "execution_count": null,
   "id": "ca43eac9",
   "metadata": {},
   "outputs": [],
   "source": []
  },
  {
   "cell_type": "code",
   "execution_count": null,
   "id": "a8726a54",
   "metadata": {},
   "outputs": [],
   "source": []
  },
  {
   "cell_type": "code",
   "execution_count": null,
   "id": "41928759",
   "metadata": {},
   "outputs": [],
   "source": []
  },
  {
   "cell_type": "code",
   "execution_count": null,
   "id": "af5f1881",
   "metadata": {},
   "outputs": [],
   "source": [
    "part_b.dropna(axis=0)"
   ]
  },
  {
   "cell_type": "markdown",
   "id": "3c51cbfe",
   "metadata": {},
   "source": [
    "### SAVE ALL THESE AS .CSV FOR PROCESSING FURTHER"
   ]
  },
  {
   "cell_type": "code",
   "execution_count": null,
   "id": "1fa1f57a",
   "metadata": {},
   "outputs": [],
   "source": [
    "part_b.columns"
   ]
  },
  {
   "cell_type": "code",
   "execution_count": null,
   "id": "336a2c8c",
   "metadata": {},
   "outputs": [],
   "source": [
    "part_b_features = part_b[[\"Rndrng_NPI\",\"Rndrng_Prvdr_Type\",\"Rndrng_Prvdr_Gndr\",\"Tot_Srvcs\",\"Tot_Benes\",\n",
    "        \"Tot_Sbmtd_Chrg\",\"Tot_Mdcr_Alowd_Amt\",\"Tot_Mdcr_Pymt_Amt\",\"Tot_Mdcr_Stdzd_Amt\",\"Fraud\",\"FraudType\"]].dropna(axis=0)"
   ]
  },
  {
   "cell_type": "code",
   "execution_count": null,
   "id": "1bba7212",
   "metadata": {},
   "outputs": [],
   "source": [
    "part_b_features.info()"
   ]
  },
  {
   "cell_type": "code",
   "execution_count": null,
   "id": "5b6da39b",
   "metadata": {},
   "outputs": [],
   "source": [
    "part_b_features.to_csv('labelled_data/part_B/partb_features_data.csv')"
   ]
  },
  {
   "cell_type": "code",
   "execution_count": null,
   "id": "5199e5ec",
   "metadata": {},
   "outputs": [],
   "source": [
    "part_b_features[\"Fraud\"].value_counts()"
   ]
  },
  {
   "cell_type": "code",
   "execution_count": null,
   "id": "23750c07",
   "metadata": {},
   "outputs": [],
   "source": []
  }
 ],
 "metadata": {
  "kernelspec": {
   "display_name": "Python 3 (ipykernel)",
   "language": "python",
   "name": "python3"
  },
  "language_info": {
   "codemirror_mode": {
    "name": "ipython",
    "version": 3
   },
   "file_extension": ".py",
   "mimetype": "text/x-python",
   "name": "python",
   "nbconvert_exporter": "python",
   "pygments_lexer": "ipython3",
   "version": "3.10.12"
  }
 },
 "nbformat": 4,
 "nbformat_minor": 5
}
