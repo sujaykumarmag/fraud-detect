{
 "cells": [
  {
   "cell_type": "code",
   "execution_count": 1,
   "metadata": {
    "executionInfo": {
     "elapsed": 511,
     "status": "ok",
     "timestamp": 1684149459180,
     "user": {
      "displayName": "Sujay Kumar",
      "userId": "11350121372854375026"
     },
     "user_tz": -330
    },
    "id": "jEQx415CIOtP"
   },
   "outputs": [],
   "source": [
    "import pandas as pd\n",
    "import numpy as np\n",
    "import warnings\n",
    "warnings.filterwarnings(\"ignore\")"
   ]
  },
  {
   "cell_type": "code",
   "execution_count": 2,
   "metadata": {
    "executionInfo": {
     "elapsed": 16332,
     "status": "ok",
     "timestamp": 1684149504274,
     "user": {
      "displayName": "Sujay Kumar",
      "userId": "11350121372854375026"
     },
     "user_tz": -330
    },
    "id": "61BxKqV1ITZO"
   },
   "outputs": [],
   "source": [
    "dmepos = pd.read_csv(\"provider_data/dmepos/DMEPOS.csv\",encoding='ISO-8859-1',low_memory=False)\n",
    "leie_ex = pd.read_csv(\"provider_data/LEIE_Exclusion.csv\",encoding='ISO-8859-1',low_memory=False)"
   ]
  },
  {
   "cell_type": "code",
   "execution_count": 3,
   "metadata": {
    "colab": {
     "base_uri": "https://localhost:8080/",
     "height": 540
    },
    "executionInfo": {
     "elapsed": 704,
     "status": "ok",
     "timestamp": 1684149507697,
     "user": {
      "displayName": "Sujay Kumar",
      "userId": "11350121372854375026"
     },
     "user_tz": -330
    },
    "id": "zVpVfTLsIcaO",
    "outputId": "bafa9591-46f5-483d-af6e-7908d13850a3"
   },
   "outputs": [
    {
     "data": {
      "text/html": [
       "<div>\n",
       "<style scoped>\n",
       "    .dataframe tbody tr th:only-of-type {\n",
       "        vertical-align: middle;\n",
       "    }\n",
       "\n",
       "    .dataframe tbody tr th {\n",
       "        vertical-align: top;\n",
       "    }\n",
       "\n",
       "    .dataframe thead th {\n",
       "        text-align: right;\n",
       "    }\n",
       "</style>\n",
       "<table border=\"1\" class=\"dataframe\">\n",
       "  <thead>\n",
       "    <tr style=\"text-align: right;\">\n",
       "      <th></th>\n",
       "      <th>Rfrg_NPI</th>\n",
       "      <th>Rfrg_Prvdr_Last_Name_Org</th>\n",
       "      <th>Rfrg_Prvdr_First_Name</th>\n",
       "      <th>Rfrg_Prvdr_MI</th>\n",
       "      <th>Rfrg_Prvdr_Crdntls</th>\n",
       "      <th>Rfrg_Prvdr_Gndr</th>\n",
       "      <th>Rfrg_Prvdr_Ent_Cd</th>\n",
       "      <th>Rfrg_Prvdr_St1</th>\n",
       "      <th>Rfrg_Prvdr_St2</th>\n",
       "      <th>Rfrg_Prvdr_City</th>\n",
       "      <th>...</th>\n",
       "      <th>Bene_CC_Dprssn_Pct</th>\n",
       "      <th>Bene_CC_Dbts_Pct</th>\n",
       "      <th>Bene_CC_Hyplpdma_Pct</th>\n",
       "      <th>Bene_CC_Hyprtnsn_Pct</th>\n",
       "      <th>Bene_CC_IHD_Pct</th>\n",
       "      <th>Bene_CC_Opo_Pct</th>\n",
       "      <th>Bene_CC_RAOA_Pct</th>\n",
       "      <th>Bene_CC_Sz_Pct</th>\n",
       "      <th>Bene_CC_Strok_Pct</th>\n",
       "      <th>Bene_Avg_Risk_Scre</th>\n",
       "    </tr>\n",
       "  </thead>\n",
       "  <tbody>\n",
       "    <tr>\n",
       "      <th>0</th>\n",
       "      <td>1003000126</td>\n",
       "      <td>Enkeshafi</td>\n",
       "      <td>Ardalan</td>\n",
       "      <td>NaN</td>\n",
       "      <td>M.D.</td>\n",
       "      <td>M</td>\n",
       "      <td>I</td>\n",
       "      <td>6410 Rockledge Dr Ste 304</td>\n",
       "      <td>NaN</td>\n",
       "      <td>Bethesda</td>\n",
       "      <td>...</td>\n",
       "      <td>NaN</td>\n",
       "      <td>NaN</td>\n",
       "      <td>NaN</td>\n",
       "      <td>NaN</td>\n",
       "      <td>NaN</td>\n",
       "      <td>NaN</td>\n",
       "      <td>NaN</td>\n",
       "      <td>NaN</td>\n",
       "      <td>NaN</td>\n",
       "      <td>3.729650</td>\n",
       "    </tr>\n",
       "    <tr>\n",
       "      <th>1</th>\n",
       "      <td>1003000522</td>\n",
       "      <td>Weigand</td>\n",
       "      <td>Frederick</td>\n",
       "      <td>J</td>\n",
       "      <td>MD</td>\n",
       "      <td>M</td>\n",
       "      <td>I</td>\n",
       "      <td>1565 Saxon Blvd</td>\n",
       "      <td>Suite 102</td>\n",
       "      <td>Deltona</td>\n",
       "      <td>...</td>\n",
       "      <td>NaN</td>\n",
       "      <td>0.75</td>\n",
       "      <td>0.73</td>\n",
       "      <td>0.75</td>\n",
       "      <td>0.39</td>\n",
       "      <td>NaN</td>\n",
       "      <td>0.58</td>\n",
       "      <td>0.0</td>\n",
       "      <td>NaN</td>\n",
       "      <td>1.654308</td>\n",
       "    </tr>\n",
       "    <tr>\n",
       "      <th>2</th>\n",
       "      <td>1003000530</td>\n",
       "      <td>Semonche</td>\n",
       "      <td>Amanda</td>\n",
       "      <td>M</td>\n",
       "      <td>DO</td>\n",
       "      <td>F</td>\n",
       "      <td>I</td>\n",
       "      <td>1021 Park Ave</td>\n",
       "      <td>Suite 203</td>\n",
       "      <td>Quakertown</td>\n",
       "      <td>...</td>\n",
       "      <td>NaN</td>\n",
       "      <td>0.68</td>\n",
       "      <td>0.74</td>\n",
       "      <td>0.75</td>\n",
       "      <td>NaN</td>\n",
       "      <td>NaN</td>\n",
       "      <td>NaN</td>\n",
       "      <td>NaN</td>\n",
       "      <td>NaN</td>\n",
       "      <td>1.894526</td>\n",
       "    </tr>\n",
       "    <tr>\n",
       "      <th>3</th>\n",
       "      <td>1003000597</td>\n",
       "      <td>Kim</td>\n",
       "      <td>Dae</td>\n",
       "      <td>Y</td>\n",
       "      <td>M.D., PH.D</td>\n",
       "      <td>M</td>\n",
       "      <td>I</td>\n",
       "      <td>1145 S Utica Ave</td>\n",
       "      <td>Suite 202</td>\n",
       "      <td>Tulsa</td>\n",
       "      <td>...</td>\n",
       "      <td>NaN</td>\n",
       "      <td>NaN</td>\n",
       "      <td>NaN</td>\n",
       "      <td>NaN</td>\n",
       "      <td>NaN</td>\n",
       "      <td>NaN</td>\n",
       "      <td>NaN</td>\n",
       "      <td>NaN</td>\n",
       "      <td>NaN</td>\n",
       "      <td>2.173167</td>\n",
       "    </tr>\n",
       "    <tr>\n",
       "      <th>4</th>\n",
       "      <td>1003000738</td>\n",
       "      <td>Zumwalt</td>\n",
       "      <td>Juliette</td>\n",
       "      <td>A</td>\n",
       "      <td>P.A.</td>\n",
       "      <td>F</td>\n",
       "      <td>I</td>\n",
       "      <td>7401 S. Main</td>\n",
       "      <td>NaN</td>\n",
       "      <td>Houston</td>\n",
       "      <td>...</td>\n",
       "      <td>NaN</td>\n",
       "      <td>NaN</td>\n",
       "      <td>NaN</td>\n",
       "      <td>NaN</td>\n",
       "      <td>NaN</td>\n",
       "      <td>NaN</td>\n",
       "      <td>NaN</td>\n",
       "      <td>0.0</td>\n",
       "      <td>0.0</td>\n",
       "      <td>0.819692</td>\n",
       "    </tr>\n",
       "    <tr>\n",
       "      <th>...</th>\n",
       "      <td>...</td>\n",
       "      <td>...</td>\n",
       "      <td>...</td>\n",
       "      <td>...</td>\n",
       "      <td>...</td>\n",
       "      <td>...</td>\n",
       "      <td>...</td>\n",
       "      <td>...</td>\n",
       "      <td>...</td>\n",
       "      <td>...</td>\n",
       "      <td>...</td>\n",
       "      <td>...</td>\n",
       "      <td>...</td>\n",
       "      <td>...</td>\n",
       "      <td>...</td>\n",
       "      <td>...</td>\n",
       "      <td>...</td>\n",
       "      <td>...</td>\n",
       "      <td>...</td>\n",
       "      <td>...</td>\n",
       "      <td>...</td>\n",
       "    </tr>\n",
       "    <tr>\n",
       "      <th>383483</th>\n",
       "      <td>1992998645</td>\n",
       "      <td>Marupudi</td>\n",
       "      <td>Seshasree</td>\n",
       "      <td>NaN</td>\n",
       "      <td>MD</td>\n",
       "      <td>F</td>\n",
       "      <td>I</td>\n",
       "      <td>129 Vision Park Blvd</td>\n",
       "      <td>Ste 300</td>\n",
       "      <td>Shenandoah</td>\n",
       "      <td>...</td>\n",
       "      <td>0.48</td>\n",
       "      <td>0.65</td>\n",
       "      <td>0.75</td>\n",
       "      <td>0.75</td>\n",
       "      <td>0.50</td>\n",
       "      <td>NaN</td>\n",
       "      <td>0.57</td>\n",
       "      <td>NaN</td>\n",
       "      <td>NaN</td>\n",
       "      <td>2.350335</td>\n",
       "    </tr>\n",
       "    <tr>\n",
       "      <th>383484</th>\n",
       "      <td>1992998736</td>\n",
       "      <td>Langley</td>\n",
       "      <td>Adam</td>\n",
       "      <td>W</td>\n",
       "      <td>M.D.</td>\n",
       "      <td>M</td>\n",
       "      <td>I</td>\n",
       "      <td>2940 Maguire Rd</td>\n",
       "      <td>NaN</td>\n",
       "      <td>Ocoee</td>\n",
       "      <td>...</td>\n",
       "      <td>NaN</td>\n",
       "      <td>NaN</td>\n",
       "      <td>NaN</td>\n",
       "      <td>NaN</td>\n",
       "      <td>NaN</td>\n",
       "      <td>NaN</td>\n",
       "      <td>NaN</td>\n",
       "      <td>0.0</td>\n",
       "      <td>NaN</td>\n",
       "      <td>1.382273</td>\n",
       "    </tr>\n",
       "    <tr>\n",
       "      <th>383485</th>\n",
       "      <td>1992999122</td>\n",
       "      <td>Johnson</td>\n",
       "      <td>Charles</td>\n",
       "      <td>R</td>\n",
       "      <td>D.O.</td>\n",
       "      <td>M</td>\n",
       "      <td>I</td>\n",
       "      <td>1601 Clint Moore Rd</td>\n",
       "      <td>155</td>\n",
       "      <td>Boca Raton</td>\n",
       "      <td>...</td>\n",
       "      <td>0.26</td>\n",
       "      <td>0.60</td>\n",
       "      <td>0.60</td>\n",
       "      <td>0.73</td>\n",
       "      <td>0.66</td>\n",
       "      <td>NaN</td>\n",
       "      <td>0.47</td>\n",
       "      <td>NaN</td>\n",
       "      <td>NaN</td>\n",
       "      <td>2.096019</td>\n",
       "    </tr>\n",
       "    <tr>\n",
       "      <th>383486</th>\n",
       "      <td>1992999551</td>\n",
       "      <td>Molai</td>\n",
       "      <td>Indira</td>\n",
       "      <td>NaN</td>\n",
       "      <td>M.D.</td>\n",
       "      <td>F</td>\n",
       "      <td>I</td>\n",
       "      <td>625 E Grand Ave</td>\n",
       "      <td>NaN</td>\n",
       "      <td>Escondido</td>\n",
       "      <td>...</td>\n",
       "      <td>NaN</td>\n",
       "      <td>NaN</td>\n",
       "      <td>NaN</td>\n",
       "      <td>NaN</td>\n",
       "      <td>NaN</td>\n",
       "      <td>0.0</td>\n",
       "      <td>NaN</td>\n",
       "      <td>0.0</td>\n",
       "      <td>NaN</td>\n",
       "      <td>1.451024</td>\n",
       "    </tr>\n",
       "    <tr>\n",
       "      <th>383487</th>\n",
       "      <td>1992999874</td>\n",
       "      <td>Joffe</td>\n",
       "      <td>Gabriella</td>\n",
       "      <td>NaN</td>\n",
       "      <td>NaN</td>\n",
       "      <td>F</td>\n",
       "      <td>I</td>\n",
       "      <td>5620 Brook Rd</td>\n",
       "      <td>NaN</td>\n",
       "      <td>Richmond</td>\n",
       "      <td>...</td>\n",
       "      <td>NaN</td>\n",
       "      <td>NaN</td>\n",
       "      <td>NaN</td>\n",
       "      <td>NaN</td>\n",
       "      <td>NaN</td>\n",
       "      <td>NaN</td>\n",
       "      <td>NaN</td>\n",
       "      <td>NaN</td>\n",
       "      <td>NaN</td>\n",
       "      <td>1.572100</td>\n",
       "    </tr>\n",
       "  </tbody>\n",
       "</table>\n",
       "<p>383488 rows × 89 columns</p>\n",
       "</div>"
      ],
      "text/plain": [
       "          Rfrg_NPI Rfrg_Prvdr_Last_Name_Org Rfrg_Prvdr_First_Name  \\\n",
       "0       1003000126                Enkeshafi               Ardalan   \n",
       "1       1003000522                  Weigand             Frederick   \n",
       "2       1003000530                 Semonche                Amanda   \n",
       "3       1003000597                      Kim                   Dae   \n",
       "4       1003000738                  Zumwalt              Juliette   \n",
       "...            ...                      ...                   ...   \n",
       "383483  1992998645                 Marupudi             Seshasree   \n",
       "383484  1992998736                  Langley                  Adam   \n",
       "383485  1992999122                  Johnson               Charles   \n",
       "383486  1992999551                    Molai                Indira   \n",
       "383487  1992999874                    Joffe             Gabriella   \n",
       "\n",
       "       Rfrg_Prvdr_MI Rfrg_Prvdr_Crdntls Rfrg_Prvdr_Gndr Rfrg_Prvdr_Ent_Cd  \\\n",
       "0                NaN               M.D.               M                 I   \n",
       "1                  J                 MD               M                 I   \n",
       "2                  M                 DO               F                 I   \n",
       "3                  Y         M.D., PH.D               M                 I   \n",
       "4                  A               P.A.               F                 I   \n",
       "...              ...                ...             ...               ...   \n",
       "383483           NaN                 MD               F                 I   \n",
       "383484             W               M.D.               M                 I   \n",
       "383485             R               D.O.               M                 I   \n",
       "383486           NaN               M.D.               F                 I   \n",
       "383487           NaN                NaN               F                 I   \n",
       "\n",
       "                   Rfrg_Prvdr_St1 Rfrg_Prvdr_St2 Rfrg_Prvdr_City  ...  \\\n",
       "0       6410 Rockledge Dr Ste 304            NaN        Bethesda  ...   \n",
       "1                 1565 Saxon Blvd      Suite 102         Deltona  ...   \n",
       "2                   1021 Park Ave      Suite 203      Quakertown  ...   \n",
       "3                1145 S Utica Ave      Suite 202           Tulsa  ...   \n",
       "4                    7401 S. Main            NaN         Houston  ...   \n",
       "...                           ...            ...             ...  ...   \n",
       "383483       129 Vision Park Blvd        Ste 300      Shenandoah  ...   \n",
       "383484            2940 Maguire Rd            NaN           Ocoee  ...   \n",
       "383485        1601 Clint Moore Rd            155      Boca Raton  ...   \n",
       "383486            625 E Grand Ave            NaN       Escondido  ...   \n",
       "383487              5620 Brook Rd            NaN        Richmond  ...   \n",
       "\n",
       "       Bene_CC_Dprssn_Pct Bene_CC_Dbts_Pct Bene_CC_Hyplpdma_Pct  \\\n",
       "0                     NaN              NaN                  NaN   \n",
       "1                     NaN             0.75                 0.73   \n",
       "2                     NaN             0.68                 0.74   \n",
       "3                     NaN              NaN                  NaN   \n",
       "4                     NaN              NaN                  NaN   \n",
       "...                   ...              ...                  ...   \n",
       "383483               0.48             0.65                 0.75   \n",
       "383484                NaN              NaN                  NaN   \n",
       "383485               0.26             0.60                 0.60   \n",
       "383486                NaN              NaN                  NaN   \n",
       "383487                NaN              NaN                  NaN   \n",
       "\n",
       "        Bene_CC_Hyprtnsn_Pct Bene_CC_IHD_Pct Bene_CC_Opo_Pct Bene_CC_RAOA_Pct  \\\n",
       "0                        NaN             NaN             NaN              NaN   \n",
       "1                       0.75            0.39             NaN             0.58   \n",
       "2                       0.75             NaN             NaN              NaN   \n",
       "3                        NaN             NaN             NaN              NaN   \n",
       "4                        NaN             NaN             NaN              NaN   \n",
       "...                      ...             ...             ...              ...   \n",
       "383483                  0.75            0.50             NaN             0.57   \n",
       "383484                   NaN             NaN             NaN              NaN   \n",
       "383485                  0.73            0.66             NaN             0.47   \n",
       "383486                   NaN             NaN             0.0              NaN   \n",
       "383487                   NaN             NaN             NaN              NaN   \n",
       "\n",
       "       Bene_CC_Sz_Pct  Bene_CC_Strok_Pct  Bene_Avg_Risk_Scre  \n",
       "0                 NaN                NaN            3.729650  \n",
       "1                 0.0                NaN            1.654308  \n",
       "2                 NaN                NaN            1.894526  \n",
       "3                 NaN                NaN            2.173167  \n",
       "4                 0.0                0.0            0.819692  \n",
       "...               ...                ...                 ...  \n",
       "383483            NaN                NaN            2.350335  \n",
       "383484            0.0                NaN            1.382273  \n",
       "383485            NaN                NaN            2.096019  \n",
       "383486            0.0                NaN            1.451024  \n",
       "383487            NaN                NaN            1.572100  \n",
       "\n",
       "[383488 rows x 89 columns]"
      ]
     },
     "execution_count": 3,
     "metadata": {},
     "output_type": "execute_result"
    }
   ],
   "source": [
    "dmepos"
   ]
  },
  {
   "cell_type": "code",
   "execution_count": 4,
   "metadata": {
    "colab": {
     "base_uri": "https://localhost:8080/"
    },
    "executionInfo": {
     "elapsed": 440,
     "status": "ok",
     "timestamp": 1684149528235,
     "user": {
      "displayName": "Sujay Kumar",
      "userId": "11350121372854375026"
     },
     "user_tz": -330
    },
    "id": "MJellxy8IgKe",
    "outputId": "830b29fd-b050-4a4a-b3d0-3aeddc64f5d1"
   },
   "outputs": [
    {
     "data": {
      "text/plain": [
       "Index(['Rfrg_NPI', 'Rfrg_Prvdr_Last_Name_Org', 'Rfrg_Prvdr_First_Name',\n",
       "       'Rfrg_Prvdr_MI', 'Rfrg_Prvdr_Crdntls', 'Rfrg_Prvdr_Gndr',\n",
       "       'Rfrg_Prvdr_Ent_Cd', 'Rfrg_Prvdr_St1', 'Rfrg_Prvdr_St2',\n",
       "       'Rfrg_Prvdr_City', 'Rfrg_Prvdr_State_Abrvtn', 'Rfrg_Prvdr_State_FIPS',\n",
       "       'Rfrg_Prvdr_Zip5', 'Rfrg_Prvdr_RUCA', 'Rfrg_Prvdr_RUCA_Desc',\n",
       "       'Rfrg_Prvdr_Cntry', 'Rfrg_Prvdr_Type', 'Rfrg_Prvdr_Type_Flag',\n",
       "       'Tot_Suplrs', 'Tot_Suplr_HCPCS_Cds', 'Tot_Suplr_Benes',\n",
       "       'Tot_Suplr_Clms', 'Tot_Suplr_Srvcs', 'Suplr_Sbmtd_Chrgs',\n",
       "       'Suplr_Mdcr_Alowd_Amt', 'Suplr_Mdcr_Pymt_Amt',\n",
       "       'Suplr_Mdcr_Stdzd_Pymt_Amt', 'DME_Sprsn_Ind', 'DME_Tot_Suplrs',\n",
       "       'DME_Tot_Suplr_HCPCS_Cds', 'DME_Tot_Suplr_Benes', 'DME_Tot_Suplr_Clms',\n",
       "       'DME_Tot_Suplr_Srvcs', 'DME_Suplr_Sbmtd_Chrgs',\n",
       "       'DME_Suplr_Mdcr_Alowd_Amt', 'DME_Suplr_Mdcr_Pymt_Amt',\n",
       "       'DME_Suplr_Mdcr_Stdzd_Pymt_Amt', 'POS_Sprsn_Ind', 'POS_Tot_Suplrs',\n",
       "       'POS_Tot_Suplr_HCPCS_Cds', 'POS_Tot_Suplr_Benes', 'POS_Tot_Suplr_Clms',\n",
       "       'POS_Tot_Suplr_Srvcs', 'POS_Suplr_Sbmtd_Chrgs',\n",
       "       'POS_Suplr_Mdcr_Alowd_Amt', 'POS_Suplr_Mdcr_Pymt_Amt',\n",
       "       'POS_Suplr_Mdcr_Stdzd_Pymt_Amt', 'Drug_Sprsn_Ind', 'Drug_Tot_Suplrs',\n",
       "       'Drug_Tot_Suplr_HCPCS_Cds', 'Drug_Tot_Suplr_Benes',\n",
       "       'Drug_Tot_Suplr_Clms', 'Drug_Tot_Suplr_Srvcs', 'Drug_Suplr_Sbmtd_Chrgs',\n",
       "       'Drug_Suplr_Mdcr_Alowd_Amt', 'Drug_Suplr_Mdcr_Pymt_Amt',\n",
       "       'Drug_Suplr_Mdcr_Stdzd_Pymt_Amt', 'Bene_Avg_Age', 'Bene_Age_LT_65_Cnt',\n",
       "       'Bene_Age_65_74_Cnt', 'Bene_Age_75_84_Cnt', 'Bene_Age_GT_84_Cnt',\n",
       "       'Bene_Feml_Cnt', 'Bene_Male_Cnt', 'Bene_Race_Wht_Cnt',\n",
       "       'Bene_Race_Black_Cnt', 'Bene_Race_Api_Cnt', 'Bene_Race_Hspnc_Cnt',\n",
       "       'Bene_Race_Natind_Cnt', 'Bene_Race_Othr_Cnt', 'Bene_Ndual_Cnt',\n",
       "       'Bene_Dual_Cnt', 'Bene_CC_AF_Pct', 'Bene_CC_Alzhmr_Pct',\n",
       "       'Bene_CC_Asthma_Pct', 'Bene_CC_Cncr_Pct', 'Bene_CC_CHF_Pct',\n",
       "       'Bene_CC_CKD_Pct', 'Bene_CC_COPD_Pct', 'Bene_CC_Dprssn_Pct',\n",
       "       'Bene_CC_Dbts_Pct', 'Bene_CC_Hyplpdma_Pct', 'Bene_CC_Hyprtnsn_Pct',\n",
       "       'Bene_CC_IHD_Pct', 'Bene_CC_Opo_Pct', 'Bene_CC_RAOA_Pct',\n",
       "       'Bene_CC_Sz_Pct', 'Bene_CC_Strok_Pct', 'Bene_Avg_Risk_Scre'],\n",
       "      dtype='object')"
      ]
     },
     "execution_count": 4,
     "metadata": {},
     "output_type": "execute_result"
    }
   ],
   "source": [
    "dmepos.columns"
   ]
  },
  {
   "cell_type": "code",
   "execution_count": 5,
   "metadata": {
    "executionInfo": {
     "elapsed": 1136,
     "status": "ok",
     "timestamp": 1684149570757,
     "user": {
      "displayName": "Sujay Kumar",
      "userId": "11350121372854375026"
     },
     "user_tz": -330
    },
    "id": "eVx_GsvXIlwB"
   },
   "outputs": [],
   "source": [
    "dmepos = dmepos.dropna(subset=[\"Rfrg_NPI\"],axis=0)\n",
    "dmepos = dmepos.dropna(subset=[\"Rfrg_Prvdr_Last_Name_Org\"],axis=0)\n",
    "dmepos = dmepos.dropna(subset=[\"Rfrg_Prvdr_First_Name\"],axis=0)"
   ]
  },
  {
   "cell_type": "code",
   "execution_count": 6,
   "metadata": {
    "executionInfo": {
     "elapsed": 391,
     "status": "ok",
     "timestamp": 1684149582993,
     "user": {
      "displayName": "Sujay Kumar",
      "userId": "11350121372854375026"
     },
     "user_tz": -330
    },
    "id": "2dcjiv5sIwIW"
   },
   "outputs": [],
   "source": [
    "leie_ex = leie_ex.dropna(subset=[\"NPI\"],axis=0)\n",
    "ex_npi = leie_ex[leie_ex[\"NPI\"]!=0][\"NPI\"]\n",
    "ex_lnames = leie_ex.dropna(subset=[\"LASTNAME\"],axis=0)[\"LASTNAME\"]\n",
    "ex_fnames = leie_ex.dropna(subset=[\"FIRSTNAME\"],axis=0)[\"FIRSTNAME\"]\n",
    "leie_ex[\"MIDNAME\"] = leie_ex[\"MIDNAME\"].apply(lambda row : row if row!= \" \" else 0)\n",
    "ex_mi = leie_ex[leie_ex[\"MIDNAME\"]!=0][\"MIDNAME\"]"
   ]
  },
  {
   "cell_type": "code",
   "execution_count": 7,
   "metadata": {
    "colab": {
     "base_uri": "https://localhost:8080/"
    },
    "executionInfo": {
     "elapsed": 6,
     "status": "ok",
     "timestamp": 1684149594247,
     "user": {
      "displayName": "Sujay Kumar",
      "userId": "11350121372854375026"
     },
     "user_tz": -330
    },
    "id": "rEx3YYH8IzOZ",
    "outputId": "47dba801-4d28-42ce-a898-8d6786aac096"
   },
   "outputs": [
    {
     "name": "stdout",
     "output_type": "stream",
     "text": [
      "(76546, 18)\n",
      "(383477, 89)\n"
     ]
    }
   ],
   "source": [
    "print(leie_ex.shape)\n",
    "print(dmepos.shape)"
   ]
  },
  {
   "cell_type": "code",
   "execution_count": 8,
   "metadata": {
    "colab": {
     "base_uri": "https://localhost:8080/"
    },
    "executionInfo": {
     "elapsed": 5247862,
     "status": "ok",
     "timestamp": 1684154919699,
     "user": {
      "displayName": "Sujay Kumar",
      "userId": "11350121372854375026"
     },
     "user_tz": -330
    },
    "id": "ZaJWz8NLI1_U",
    "outputId": "5b5535d5-77be-428f-f30f-e56d420fdc55"
   },
   "outputs": [],
   "source": [
    "ex_npi_unique = leie_ex.drop_duplicates(\"NPI\")  # Remove duplicate NPI values\n",
    "ex_npi_dict = dict(zip(ex_npi_unique['NPI'], ex_npi_unique['EXCLTYPE']))\n",
    "\n",
    "dmepos['Fraud'] = np.where(dmepos['Rfrg_NPI'].isin(ex_npi_dict), 1, 0)\n",
    "dmepos['FraudType'] = np.where(dmepos['Fraud'] == 1,dmepos['Rfrg_NPI'].map(ex_npi_dict),0)"
   ]
  },
  {
   "cell_type": "code",
   "execution_count": 9,
   "metadata": {
    "colab": {
     "base_uri": "https://localhost:8080/"
    },
    "executionInfo": {
     "elapsed": 3,
     "status": "ok",
     "timestamp": 1684154921754,
     "user": {
      "displayName": "Sujay Kumar",
      "userId": "11350121372854375026"
     },
     "user_tz": -330
    },
    "id": "MorHmW8dJJA8",
    "outputId": "e0402c9d-3d6d-46d3-a88c-6718c4d6afde"
   },
   "outputs": [
    {
     "data": {
      "text/plain": [
       "0    383375\n",
       "1       102\n",
       "Name: Fraud, dtype: int64"
      ]
     },
     "execution_count": 9,
     "metadata": {},
     "output_type": "execute_result"
    }
   ],
   "source": [
    "dmepos[\"Fraud\"].value_counts()"
   ]
  },
  {
   "cell_type": "code",
   "execution_count": 11,
   "metadata": {
    "executionInfo": {
     "elapsed": 27623,
     "status": "ok",
     "timestamp": 1684155868561,
     "user": {
      "displayName": "Sujay Kumar",
      "userId": "11350121372854375026"
     },
     "user_tz": -330
    },
    "id": "08zOeSTQJLIb"
   },
   "outputs": [
    {
     "name": "stdout",
     "output_type": "stream",
     "text": [
      "<class 'pandas.core.frame.DataFrame'>\n",
      "Int64Index: 383477 entries, 0 to 383487\n",
      "Data columns (total 91 columns):\n",
      " #   Column                          Non-Null Count   Dtype  \n",
      "---  ------                          --------------   -----  \n",
      " 0   Rfrg_NPI                        383477 non-null  int64  \n",
      " 1   Rfrg_Prvdr_Last_Name_Org        383477 non-null  object \n",
      " 2   Rfrg_Prvdr_First_Name           383477 non-null  object \n",
      " 3   Rfrg_Prvdr_MI                   269163 non-null  object \n",
      " 4   Rfrg_Prvdr_Crdntls              365244 non-null  object \n",
      " 5   Rfrg_Prvdr_Gndr                 383477 non-null  object \n",
      " 6   Rfrg_Prvdr_Ent_Cd               383477 non-null  object \n",
      " 7   Rfrg_Prvdr_St1                  383477 non-null  object \n",
      " 8   Rfrg_Prvdr_St2                  114735 non-null  object \n",
      " 9   Rfrg_Prvdr_City                 383477 non-null  object \n",
      " 10  Rfrg_Prvdr_State_Abrvtn         383477 non-null  object \n",
      " 11  Rfrg_Prvdr_State_FIPS           383475 non-null  object \n",
      " 12  Rfrg_Prvdr_Zip5                 383477 non-null  object \n",
      " 13  Rfrg_Prvdr_RUCA                 383236 non-null  float64\n",
      " 14  Rfrg_Prvdr_RUCA_Desc            383236 non-null  object \n",
      " 15  Rfrg_Prvdr_Cntry                383477 non-null  object \n",
      " 16  Rfrg_Prvdr_Type                 383477 non-null  object \n",
      " 17  Rfrg_Prvdr_Type_Flag            383477 non-null  object \n",
      " 18  Tot_Suplrs                      383477 non-null  int64  \n",
      " 19  Tot_Suplr_HCPCS_Cds             383477 non-null  int64  \n",
      " 20  Tot_Suplr_Benes                 230782 non-null  float64\n",
      " 21  Tot_Suplr_Clms                  383477 non-null  int64  \n",
      " 22  Tot_Suplr_Srvcs                 383477 non-null  int64  \n",
      " 23  Suplr_Sbmtd_Chrgs               383477 non-null  float64\n",
      " 24  Suplr_Mdcr_Alowd_Amt            383477 non-null  float64\n",
      " 25  Suplr_Mdcr_Pymt_Amt             383477 non-null  float64\n",
      " 26  Suplr_Mdcr_Stdzd_Pymt_Amt       383477 non-null  float64\n",
      " 27  DME_Sprsn_Ind                   45578 non-null   object \n",
      " 28  DME_Tot_Suplrs                  337899 non-null  float64\n",
      " 29  DME_Tot_Suplr_HCPCS_Cds         337899 non-null  float64\n",
      " 30  DME_Tot_Suplr_Benes             188601 non-null  float64\n",
      " 31  DME_Tot_Suplr_Clms              337899 non-null  float64\n",
      " 32  DME_Tot_Suplr_Srvcs             337899 non-null  float64\n",
      " 33  DME_Suplr_Sbmtd_Chrgs           337899 non-null  float64\n",
      " 34  DME_Suplr_Mdcr_Alowd_Amt        337899 non-null  float64\n",
      " 35  DME_Suplr_Mdcr_Pymt_Amt         337899 non-null  float64\n",
      " 36  DME_Suplr_Mdcr_Stdzd_Pymt_Amt   337899 non-null  float64\n",
      " 37  POS_Sprsn_Ind                   190162 non-null  object \n",
      " 38  POS_Tot_Suplrs                  193315 non-null  float64\n",
      " 39  POS_Tot_Suplr_HCPCS_Cds         193315 non-null  float64\n",
      " 40  POS_Tot_Suplr_Benes             89029 non-null   float64\n",
      " 41  POS_Tot_Suplr_Clms              193315 non-null  float64\n",
      " 42  POS_Tot_Suplr_Srvcs             193315 non-null  float64\n",
      " 43  POS_Suplr_Sbmtd_Chrgs           193315 non-null  float64\n",
      " 44  POS_Suplr_Mdcr_Alowd_Amt        193315 non-null  float64\n",
      " 45  POS_Suplr_Mdcr_Pymt_Amt         193315 non-null  float64\n",
      " 46  POS_Suplr_Mdcr_Stdzd_Pymt_Amt   193315 non-null  float64\n",
      " 47  Drug_Sprsn_Ind                  195572 non-null  object \n",
      " 48  Drug_Tot_Suplrs                 187905 non-null  float64\n",
      " 49  Drug_Tot_Suplr_HCPCS_Cds        187905 non-null  float64\n",
      " 50  Drug_Tot_Suplr_Benes            71246 non-null   float64\n",
      " 51  Drug_Tot_Suplr_Clms             187905 non-null  float64\n",
      " 52  Drug_Tot_Suplr_Srvcs            187905 non-null  float64\n",
      " 53  Drug_Suplr_Sbmtd_Chrgs          187905 non-null  float64\n",
      " 54  Drug_Suplr_Mdcr_Alowd_Amt       187905 non-null  float64\n",
      " 55  Drug_Suplr_Mdcr_Pymt_Amt        187905 non-null  float64\n",
      " 56  Drug_Suplr_Mdcr_Stdzd_Pymt_Amt  187905 non-null  float64\n",
      " 57  Bene_Avg_Age                    383477 non-null  float64\n",
      " 58  Bene_Age_LT_65_Cnt              47587 non-null   float64\n",
      " 59  Bene_Age_65_74_Cnt              112309 non-null  float64\n",
      " 60  Bene_Age_75_84_Cnt              82305 non-null   float64\n",
      " 61  Bene_Age_GT_84_Cnt              47832 non-null   float64\n",
      " 62  Bene_Feml_Cnt                   105775 non-null  float64\n",
      " 63  Bene_Male_Cnt                   105775 non-null  float64\n",
      " 64  Bene_Race_Wht_Cnt               189666 non-null  float64\n",
      " 65  Bene_Race_Black_Cnt             80853 non-null   float64\n",
      " 66  Bene_Race_Api_Cnt               136813 non-null  float64\n",
      " 67  Bene_Race_Hspnc_Cnt             122751 non-null  float64\n",
      " 68  Bene_Race_Natind_Cnt            210272 non-null  float64\n",
      " 69  Bene_Race_Othr_Cnt              126780 non-null  float64\n",
      " 70  Bene_Ndual_Cnt                  69720 non-null   float64\n",
      " 71  Bene_Dual_Cnt                   69720 non-null   float64\n",
      " 72  Bene_CC_AF_Pct                  50852 non-null   float64\n",
      " 73  Bene_CC_Alzhmr_Pct              55184 non-null   float64\n",
      " 74  Bene_CC_Asthma_Pct              48773 non-null   float64\n",
      " 75  Bene_CC_Cncr_Pct                46950 non-null   float64\n",
      " 76  Bene_CC_CHF_Pct                 82169 non-null   float64\n",
      " 77  Bene_CC_CKD_Pct                 134819 non-null  float64\n",
      " 78  Bene_CC_COPD_Pct                70310 non-null   float64\n",
      " 79  Bene_CC_Dprssn_Pct              81622 non-null   float64\n",
      " 80  Bene_CC_Dbts_Pct                148119 non-null  float64\n",
      " 81  Bene_CC_Hyplpdma_Pct            164225 non-null  float64\n",
      " 82  Bene_CC_Hyprtnsn_Pct            188690 non-null  float64\n",
      " 83  Bene_CC_IHD_Pct                 117639 non-null  float64\n",
      " 84  Bene_CC_Opo_Pct                 55901 non-null   float64\n",
      " 85  Bene_CC_RAOA_Pct                133955 non-null  float64\n",
      " 86  Bene_CC_Sz_Pct                  114346 non-null  float64\n",
      " 87  Bene_CC_Strok_Pct               71528 non-null   float64\n",
      " 88  Bene_Avg_Risk_Scre              383476 non-null  float64\n",
      " 89  Fraud                           383477 non-null  int64  \n",
      " 90  FraudType                       383477 non-null  object \n",
      "dtypes: float64(65), int64(6), object(20)\n",
      "memory usage: 269.2+ MB\n"
     ]
    }
   ],
   "source": [
    "dmepos.info()"
   ]
  },
  {
   "cell_type": "code",
   "execution_count": 12,
   "metadata": {
    "id": "ULrWiMokgrXI"
   },
   "outputs": [
    {
     "data": {
      "text/plain": [
       "Index(['Rfrg_NPI', 'Rfrg_Prvdr_Last_Name_Org', 'Rfrg_Prvdr_First_Name',\n",
       "       'Rfrg_Prvdr_MI', 'Rfrg_Prvdr_Crdntls', 'Rfrg_Prvdr_Gndr',\n",
       "       'Rfrg_Prvdr_Ent_Cd', 'Rfrg_Prvdr_St1', 'Rfrg_Prvdr_St2',\n",
       "       'Rfrg_Prvdr_City', 'Rfrg_Prvdr_State_Abrvtn', 'Rfrg_Prvdr_State_FIPS',\n",
       "       'Rfrg_Prvdr_Zip5', 'Rfrg_Prvdr_RUCA', 'Rfrg_Prvdr_RUCA_Desc',\n",
       "       'Rfrg_Prvdr_Cntry', 'Rfrg_Prvdr_Type', 'Rfrg_Prvdr_Type_Flag',\n",
       "       'Tot_Suplrs', 'Tot_Suplr_HCPCS_Cds', 'Tot_Suplr_Benes',\n",
       "       'Tot_Suplr_Clms', 'Tot_Suplr_Srvcs', 'Suplr_Sbmtd_Chrgs',\n",
       "       'Suplr_Mdcr_Alowd_Amt', 'Suplr_Mdcr_Pymt_Amt',\n",
       "       'Suplr_Mdcr_Stdzd_Pymt_Amt', 'DME_Sprsn_Ind', 'DME_Tot_Suplrs',\n",
       "       'DME_Tot_Suplr_HCPCS_Cds', 'DME_Tot_Suplr_Benes', 'DME_Tot_Suplr_Clms',\n",
       "       'DME_Tot_Suplr_Srvcs', 'DME_Suplr_Sbmtd_Chrgs',\n",
       "       'DME_Suplr_Mdcr_Alowd_Amt', 'DME_Suplr_Mdcr_Pymt_Amt',\n",
       "       'DME_Suplr_Mdcr_Stdzd_Pymt_Amt', 'POS_Sprsn_Ind', 'POS_Tot_Suplrs',\n",
       "       'POS_Tot_Suplr_HCPCS_Cds', 'POS_Tot_Suplr_Benes', 'POS_Tot_Suplr_Clms',\n",
       "       'POS_Tot_Suplr_Srvcs', 'POS_Suplr_Sbmtd_Chrgs',\n",
       "       'POS_Suplr_Mdcr_Alowd_Amt', 'POS_Suplr_Mdcr_Pymt_Amt',\n",
       "       'POS_Suplr_Mdcr_Stdzd_Pymt_Amt', 'Drug_Sprsn_Ind', 'Drug_Tot_Suplrs',\n",
       "       'Drug_Tot_Suplr_HCPCS_Cds', 'Drug_Tot_Suplr_Benes',\n",
       "       'Drug_Tot_Suplr_Clms', 'Drug_Tot_Suplr_Srvcs', 'Drug_Suplr_Sbmtd_Chrgs',\n",
       "       'Drug_Suplr_Mdcr_Alowd_Amt', 'Drug_Suplr_Mdcr_Pymt_Amt',\n",
       "       'Drug_Suplr_Mdcr_Stdzd_Pymt_Amt', 'Bene_Avg_Age', 'Bene_Age_LT_65_Cnt',\n",
       "       'Bene_Age_65_74_Cnt', 'Bene_Age_75_84_Cnt', 'Bene_Age_GT_84_Cnt',\n",
       "       'Bene_Feml_Cnt', 'Bene_Male_Cnt', 'Bene_Race_Wht_Cnt',\n",
       "       'Bene_Race_Black_Cnt', 'Bene_Race_Api_Cnt', 'Bene_Race_Hspnc_Cnt',\n",
       "       'Bene_Race_Natind_Cnt', 'Bene_Race_Othr_Cnt', 'Bene_Ndual_Cnt',\n",
       "       'Bene_Dual_Cnt', 'Bene_CC_AF_Pct', 'Bene_CC_Alzhmr_Pct',\n",
       "       'Bene_CC_Asthma_Pct', 'Bene_CC_Cncr_Pct', 'Bene_CC_CHF_Pct',\n",
       "       'Bene_CC_CKD_Pct', 'Bene_CC_COPD_Pct', 'Bene_CC_Dprssn_Pct',\n",
       "       'Bene_CC_Dbts_Pct', 'Bene_CC_Hyplpdma_Pct', 'Bene_CC_Hyprtnsn_Pct',\n",
       "       'Bene_CC_IHD_Pct', 'Bene_CC_Opo_Pct', 'Bene_CC_RAOA_Pct',\n",
       "       'Bene_CC_Sz_Pct', 'Bene_CC_Strok_Pct', 'Bene_Avg_Risk_Scre', 'Fraud',\n",
       "       'FraudType'],\n",
       "      dtype='object')"
      ]
     },
     "execution_count": 12,
     "metadata": {},
     "output_type": "execute_result"
    }
   ],
   "source": [
    "dmepos.columns"
   ]
  },
  {
   "cell_type": "code",
   "execution_count": 13,
   "metadata": {},
   "outputs": [
    {
     "data": {
      "text/plain": [
       "0    383375\n",
       "1       102\n",
       "Name: Fraud, dtype: int64"
      ]
     },
     "execution_count": 13,
     "metadata": {},
     "output_type": "execute_result"
    }
   ],
   "source": [
    "dmepos[\"Fraud\"].value_counts()"
   ]
  },
  {
   "cell_type": "code",
   "execution_count": 14,
   "metadata": {},
   "outputs": [
    {
     "data": {
      "text/plain": [
       "I    383477\n",
       "Name: Rfrg_Prvdr_Ent_Cd, dtype: int64"
      ]
     },
     "execution_count": 14,
     "metadata": {},
     "output_type": "execute_result"
    }
   ],
   "source": [
    "dmepos['Rfrg_Prvdr_Ent_Cd'].value_counts()"
   ]
  },
  {
   "cell_type": "code",
   "execution_count": 15,
   "metadata": {},
   "outputs": [
    {
     "data": {
      "text/plain": [
       "Series([], Name: Fraud, dtype: int64)"
      ]
     },
     "execution_count": 15,
     "metadata": {},
     "output_type": "execute_result"
    }
   ],
   "source": [
    "dmepos[dmepos['FraudType'].isnull()][\"Fraud\"].value_counts()"
   ]
  },
  {
   "cell_type": "code",
   "execution_count": 20,
   "metadata": {},
   "outputs": [],
   "source": [
    "# Only US Frauds\n",
    "dmepos = dmepos[dmepos[\"Rfrg_Prvdr_Cntry\"] == 'US']"
   ]
  },
  {
   "cell_type": "markdown",
   "metadata": {},
   "source": [
    "### Rfrg_Prvdr_Crdntls"
   ]
  },
  {
   "cell_type": "code",
   "execution_count": 17,
   "metadata": {},
   "outputs": [
    {
     "data": {
      "text/plain": [
       "MD                    114066\n",
       "M.D.                  108552\n",
       "D.O.                   17575\n",
       "PA-C                   15426\n",
       "DO                     13217\n",
       "                       ...  \n",
       "AGACNP, RN, APRN           1\n",
       "MSN ARNP FNP               1\n",
       "DNP,  APRN, FNP-BC         1\n",
       "CR-NP                      1\n",
       "M.D., M.S., FAAFP          1\n",
       "Name: Rfrg_Prvdr_Crdntls, Length: 5465, dtype: int64"
      ]
     },
     "execution_count": 17,
     "metadata": {},
     "output_type": "execute_result"
    }
   ],
   "source": [
    "dmepos[\"Rfrg_Prvdr_Crdntls\"].value_counts()"
   ]
  },
  {
   "cell_type": "code",
   "execution_count": 18,
   "metadata": {},
   "outputs": [],
   "source": [
    "from sklearn.preprocessing import LabelEncoder\n",
    "label_encoder = LabelEncoder()\n",
    "dmepos['Rfrg_Prvdr_Crdntls'] = label_encoder.fit_transform(dmepos['Rfrg_Prvdr_Crdntls'])"
   ]
  },
  {
   "cell_type": "code",
   "execution_count": 19,
   "metadata": {},
   "outputs": [
    {
     "data": {
      "text/plain": [
       "3017    114066\n",
       "2362    108552\n",
       "5465     18233\n",
       "1186     17575\n",
       "4587     15426\n",
       "         ...  \n",
       "156          1\n",
       "3793         1\n",
       "1394         1\n",
       "1040         1\n",
       "2620         1\n",
       "Name: Rfrg_Prvdr_Crdntls, Length: 5466, dtype: int64"
      ]
     },
     "execution_count": 19,
     "metadata": {},
     "output_type": "execute_result"
    }
   ],
   "source": [
    "dmepos[\"Rfrg_Prvdr_Crdntls\"].value_counts()"
   ]
  },
  {
   "cell_type": "markdown",
   "metadata": {},
   "source": [
    "### Rfrg_Prvdr_Gndr"
   ]
  },
  {
   "cell_type": "code",
   "execution_count": 21,
   "metadata": {},
   "outputs": [
    {
     "data": {
      "text/plain": [
       "M    214431\n",
       "F    169026\n",
       "Name: Rfrg_Prvdr_Gndr, dtype: int64"
      ]
     },
     "execution_count": 21,
     "metadata": {},
     "output_type": "execute_result"
    }
   ],
   "source": [
    "dmepos[\"Rfrg_Prvdr_Gndr\"].value_counts()"
   ]
  },
  {
   "cell_type": "code",
   "execution_count": 23,
   "metadata": {},
   "outputs": [],
   "source": [
    "# Binary Encoding\n",
    "dmepos[\"Rfrg_Prvdr_Gndr\"] = dmepos[\"Rfrg_Prvdr_Gndr\"].apply(lambda row : 1 if row == \"F\" else 0).astype(float)"
   ]
  },
  {
   "cell_type": "code",
   "execution_count": 24,
   "metadata": {},
   "outputs": [
    {
     "data": {
      "text/plain": [
       "0.0    214431\n",
       "1.0    169026\n",
       "Name: Rfrg_Prvdr_Gndr, dtype: int64"
      ]
     },
     "execution_count": 24,
     "metadata": {},
     "output_type": "execute_result"
    }
   ],
   "source": [
    "dmepos[\"Rfrg_Prvdr_Gndr\"].value_counts()"
   ]
  },
  {
   "cell_type": "markdown",
   "metadata": {},
   "source": [
    "### Rfrg_Prvdr_Type"
   ]
  },
  {
   "cell_type": "code",
   "execution_count": 26,
   "metadata": {},
   "outputs": [
    {
     "data": {
      "text/plain": [
       "Family Practice                            75080\n",
       "Internal Medicine                          75012\n",
       "Nurse Practitioner                         64663\n",
       "Physician Assistant                        29538\n",
       "Orthopedic Surgery                         15949\n",
       "                                           ...  \n",
       "Religious Nonmedical Nursing Personnel         1\n",
       "Licensed Vocational Nurse                      1\n",
       "Skilled Nursing Facility                       1\n",
       "Counselor                                      1\n",
       "Emergency Medical Technician, Paramedic        1\n",
       "Name: Rfrg_Prvdr_Type, Length: 119, dtype: int64"
      ]
     },
     "execution_count": 26,
     "metadata": {},
     "output_type": "execute_result"
    }
   ],
   "source": [
    "dmepos[\"Rfrg_Prvdr_Type\"].value_counts()"
   ]
  },
  {
   "cell_type": "code",
   "execution_count": 27,
   "metadata": {},
   "outputs": [],
   "source": [
    "from sklearn.preprocessing import LabelEncoder\n",
    "label_encoder = LabelEncoder()\n",
    "dmepos['Rfrg_Prvdr_Type'] = label_encoder.fit_transform(dmepos['Rfrg_Prvdr_Type'])"
   ]
  },
  {
   "cell_type": "code",
   "execution_count": 28,
   "metadata": {},
   "outputs": [
    {
     "data": {
      "text/plain": [
       "26     75080\n",
       "44     75012\n",
       "65     64663\n",
       "87     29538\n",
       "72     15949\n",
       "       ...  \n",
       "102        1\n",
       "51         1\n",
       "105        1\n",
       "17         1\n",
       "22         1\n",
       "Name: Rfrg_Prvdr_Type, Length: 119, dtype: int64"
      ]
     },
     "execution_count": 28,
     "metadata": {},
     "output_type": "execute_result"
    }
   ],
   "source": [
    "dmepos[\"Rfrg_Prvdr_Type\"].value_counts()"
   ]
  },
  {
   "cell_type": "markdown",
   "metadata": {},
   "source": [
    "### Rfrg_Prvdr_Type_Flag"
   ]
  },
  {
   "cell_type": "code",
   "execution_count": 29,
   "metadata": {},
   "outputs": [
    {
     "data": {
      "text/plain": [
       "S    378254\n",
       "T      5203\n",
       "Name: Rfrg_Prvdr_Type_Flag, dtype: int64"
      ]
     },
     "execution_count": 29,
     "metadata": {},
     "output_type": "execute_result"
    }
   ],
   "source": [
    "dmepos[\"Rfrg_Prvdr_Type_Flag\"].value_counts()"
   ]
  },
  {
   "cell_type": "code",
   "execution_count": 30,
   "metadata": {},
   "outputs": [],
   "source": [
    "# Binary Encoding\n",
    "dmepos[\"Rfrg_Prvdr_Type_Flag\"] = dmepos[\"Rfrg_Prvdr_Type_Flag\"].apply(lambda row : 1 if row == \"S\" else 0).astype(float)"
   ]
  },
  {
   "cell_type": "code",
   "execution_count": 31,
   "metadata": {},
   "outputs": [
    {
     "data": {
      "text/plain": [
       "1.0    378254\n",
       "0.0      5203\n",
       "Name: Rfrg_Prvdr_Type_Flag, dtype: int64"
      ]
     },
     "execution_count": 31,
     "metadata": {},
     "output_type": "execute_result"
    }
   ],
   "source": [
    "dmepos[\"Rfrg_Prvdr_Type_Flag\"].value_counts()"
   ]
  },
  {
   "cell_type": "markdown",
   "metadata": {},
   "source": [
    "### DME_Sprsn_Ind"
   ]
  },
  {
   "cell_type": "code",
   "execution_count": 32,
   "metadata": {},
   "outputs": [
    {
     "data": {
      "text/plain": [
       "*    41627\n",
       "#     3950\n",
       "Name: DME_Sprsn_Ind, dtype: int64"
      ]
     },
     "execution_count": 32,
     "metadata": {},
     "output_type": "execute_result"
    }
   ],
   "source": [
    "dmepos[\"DME_Sprsn_Ind\"].value_counts()"
   ]
  },
  {
   "cell_type": "code",
   "execution_count": 33,
   "metadata": {},
   "outputs": [],
   "source": [
    "# Binary Encoding\n",
    "dmepos[\"DME_Sprsn_Ind\"] = dmepos[\"DME_Sprsn_Ind\"].apply(lambda row : 1 if row == \"#\" else 0).astype(float)"
   ]
  },
  {
   "cell_type": "code",
   "execution_count": 34,
   "metadata": {},
   "outputs": [
    {
     "data": {
      "text/plain": [
       "0.0    379507\n",
       "1.0      3950\n",
       "Name: DME_Sprsn_Ind, dtype: int64"
      ]
     },
     "execution_count": 34,
     "metadata": {},
     "output_type": "execute_result"
    }
   ],
   "source": [
    "dmepos[\"DME_Sprsn_Ind\"].value_counts()"
   ]
  },
  {
   "cell_type": "markdown",
   "metadata": {},
   "source": [
    "### POS_Sprsn_Ind"
   ]
  },
  {
   "cell_type": "code",
   "execution_count": 35,
   "metadata": {},
   "outputs": [
    {
     "data": {
      "text/plain": [
       "*    134920\n",
       "#     55230\n",
       "Name: POS_Sprsn_Ind, dtype: int64"
      ]
     },
     "execution_count": 35,
     "metadata": {},
     "output_type": "execute_result"
    }
   ],
   "source": [
    "dmepos[\"POS_Sprsn_Ind\"].value_counts()"
   ]
  },
  {
   "cell_type": "code",
   "execution_count": 36,
   "metadata": {},
   "outputs": [],
   "source": [
    "# Binary Encoding\n",
    "dmepos[\"POS_Sprsn_Ind\"] = dmepos[\"POS_Sprsn_Ind\"].apply(lambda row : 1 if row == \"#\" else 0).astype(float)"
   ]
  },
  {
   "cell_type": "code",
   "execution_count": 37,
   "metadata": {},
   "outputs": [
    {
     "data": {
      "text/plain": [
       "0.0    328227\n",
       "1.0     55230\n",
       "Name: POS_Sprsn_Ind, dtype: int64"
      ]
     },
     "execution_count": 37,
     "metadata": {},
     "output_type": "execute_result"
    }
   ],
   "source": [
    "dmepos[\"POS_Sprsn_Ind\"].value_counts()"
   ]
  },
  {
   "cell_type": "markdown",
   "metadata": {},
   "source": [
    "### Drug_Sprsn_Ind"
   ]
  },
  {
   "cell_type": "code",
   "execution_count": 38,
   "metadata": {},
   "outputs": [
    {
     "data": {
      "text/plain": [
       "*    100434\n",
       "#     95125\n",
       "Name: Drug_Sprsn_Ind, dtype: int64"
      ]
     },
     "execution_count": 38,
     "metadata": {},
     "output_type": "execute_result"
    }
   ],
   "source": [
    "dmepos[\"Drug_Sprsn_Ind\"].value_counts()"
   ]
  },
  {
   "cell_type": "code",
   "execution_count": 39,
   "metadata": {},
   "outputs": [],
   "source": [
    "# Binary Encoding\n",
    "dmepos[\"Drug_Sprsn_Ind\"] = dmepos[\"Drug_Sprsn_Ind\"].apply(lambda row : 1 if row == \"#\" else 0).astype(float)"
   ]
  },
  {
   "cell_type": "code",
   "execution_count": 40,
   "metadata": {},
   "outputs": [
    {
     "data": {
      "text/plain": [
       "0.0    288332\n",
       "1.0     95125\n",
       "Name: Drug_Sprsn_Ind, dtype: int64"
      ]
     },
     "execution_count": 40,
     "metadata": {},
     "output_type": "execute_result"
    }
   ],
   "source": [
    "dmepos[\"Drug_Sprsn_Ind\"].value_counts()"
   ]
  },
  {
   "cell_type": "markdown",
   "metadata": {},
   "source": [
    "### FraudType"
   ]
  },
  {
   "cell_type": "code",
   "execution_count": 41,
   "metadata": {},
   "outputs": [
    {
     "data": {
      "text/plain": [
       "0            383355\n",
       "1128a1           32\n",
       "1128b4           23\n",
       "1128a4           20\n",
       "1128a1            9\n",
       "1128a3            6\n",
       "1128b7            5\n",
       "1128a2            4\n",
       "1128a2            1\n",
       "1128a3            1\n",
       "1128b2            1\n",
       "Name: FraudType, dtype: int64"
      ]
     },
     "execution_count": 41,
     "metadata": {},
     "output_type": "execute_result"
    }
   ],
   "source": [
    "dmepos[\"FraudType\"].value_counts()"
   ]
  },
  {
   "cell_type": "code",
   "execution_count": 45,
   "metadata": {},
   "outputs": [],
   "source": [
    "dmepos[\"FraudType\"] = dmepos[\"FraudType\"].astype('str')"
   ]
  },
  {
   "cell_type": "code",
   "execution_count": 46,
   "metadata": {},
   "outputs": [],
   "source": [
    "from sklearn.preprocessing import LabelEncoder\n",
    "label_encoder = LabelEncoder()\n",
    "dmepos['FraudType'] = label_encoder.fit_transform(dmepos['FraudType'])"
   ]
  },
  {
   "cell_type": "code",
   "execution_count": 47,
   "metadata": {},
   "outputs": [
    {
     "data": {
      "text/plain": [
       "0     383355\n",
       "1         32\n",
       "9         23\n",
       "7         20\n",
       "2          9\n",
       "5          6\n",
       "10         5\n",
       "3          4\n",
       "4          1\n",
       "6          1\n",
       "8          1\n",
       "Name: FraudType, dtype: int64"
      ]
     },
     "execution_count": 47,
     "metadata": {},
     "output_type": "execute_result"
    }
   ],
   "source": [
    "dmepos[\"FraudType\"].value_counts()"
   ]
  },
  {
   "cell_type": "code",
   "execution_count": 52,
   "metadata": {},
   "outputs": [
    {
     "data": {
      "text/plain": [
       "US    383457\n",
       "Name: Rfrg_Prvdr_Cntry, dtype: int64"
      ]
     },
     "execution_count": 52,
     "metadata": {},
     "output_type": "execute_result"
    }
   ],
   "source": [
    "dmepos[\"Rfrg_Prvdr_Cntry\"].value_counts()"
   ]
  },
  {
   "cell_type": "code",
   "execution_count": 49,
   "metadata": {},
   "outputs": [
    {
     "data": {
      "text/plain": [
       "Index(['Rfrg_NPI', 'Rfrg_Prvdr_Last_Name_Org', 'Rfrg_Prvdr_First_Name',\n",
       "       'Rfrg_Prvdr_MI', 'Rfrg_Prvdr_Crdntls', 'Rfrg_Prvdr_Gndr',\n",
       "       'Rfrg_Prvdr_Ent_Cd', 'Rfrg_Prvdr_St1', 'Rfrg_Prvdr_St2',\n",
       "       'Rfrg_Prvdr_City', 'Rfrg_Prvdr_State_Abrvtn', 'Rfrg_Prvdr_State_FIPS',\n",
       "       'Rfrg_Prvdr_Zip5', 'Rfrg_Prvdr_RUCA', 'Rfrg_Prvdr_RUCA_Desc',\n",
       "       'Rfrg_Prvdr_Cntry', 'Rfrg_Prvdr_Type', 'Rfrg_Prvdr_Type_Flag',\n",
       "       'Tot_Suplrs', 'Tot_Suplr_HCPCS_Cds', 'Tot_Suplr_Benes',\n",
       "       'Tot_Suplr_Clms', 'Tot_Suplr_Srvcs', 'Suplr_Sbmtd_Chrgs',\n",
       "       'Suplr_Mdcr_Alowd_Amt', 'Suplr_Mdcr_Pymt_Amt',\n",
       "       'Suplr_Mdcr_Stdzd_Pymt_Amt', 'DME_Sprsn_Ind', 'DME_Tot_Suplrs',\n",
       "       'DME_Tot_Suplr_HCPCS_Cds', 'DME_Tot_Suplr_Benes', 'DME_Tot_Suplr_Clms',\n",
       "       'DME_Tot_Suplr_Srvcs', 'DME_Suplr_Sbmtd_Chrgs',\n",
       "       'DME_Suplr_Mdcr_Alowd_Amt', 'DME_Suplr_Mdcr_Pymt_Amt',\n",
       "       'DME_Suplr_Mdcr_Stdzd_Pymt_Amt', 'POS_Sprsn_Ind', 'POS_Tot_Suplrs',\n",
       "       'POS_Tot_Suplr_HCPCS_Cds', 'POS_Tot_Suplr_Benes', 'POS_Tot_Suplr_Clms',\n",
       "       'POS_Tot_Suplr_Srvcs', 'POS_Suplr_Sbmtd_Chrgs',\n",
       "       'POS_Suplr_Mdcr_Alowd_Amt', 'POS_Suplr_Mdcr_Pymt_Amt',\n",
       "       'POS_Suplr_Mdcr_Stdzd_Pymt_Amt', 'Drug_Sprsn_Ind', 'Drug_Tot_Suplrs',\n",
       "       'Drug_Tot_Suplr_HCPCS_Cds', 'Drug_Tot_Suplr_Benes',\n",
       "       'Drug_Tot_Suplr_Clms', 'Drug_Tot_Suplr_Srvcs', 'Drug_Suplr_Sbmtd_Chrgs',\n",
       "       'Drug_Suplr_Mdcr_Alowd_Amt', 'Drug_Suplr_Mdcr_Pymt_Amt',\n",
       "       'Drug_Suplr_Mdcr_Stdzd_Pymt_Amt', 'Bene_Avg_Age', 'Bene_Age_LT_65_Cnt',\n",
       "       'Bene_Age_65_74_Cnt', 'Bene_Age_75_84_Cnt', 'Bene_Age_GT_84_Cnt',\n",
       "       'Bene_Feml_Cnt', 'Bene_Male_Cnt', 'Bene_Race_Wht_Cnt',\n",
       "       'Bene_Race_Black_Cnt', 'Bene_Race_Api_Cnt', 'Bene_Race_Hspnc_Cnt',\n",
       "       'Bene_Race_Natind_Cnt', 'Bene_Race_Othr_Cnt', 'Bene_Ndual_Cnt',\n",
       "       'Bene_Dual_Cnt', 'Bene_CC_AF_Pct', 'Bene_CC_Alzhmr_Pct',\n",
       "       'Bene_CC_Asthma_Pct', 'Bene_CC_Cncr_Pct', 'Bene_CC_CHF_Pct',\n",
       "       'Bene_CC_CKD_Pct', 'Bene_CC_COPD_Pct', 'Bene_CC_Dprssn_Pct',\n",
       "       'Bene_CC_Dbts_Pct', 'Bene_CC_Hyplpdma_Pct', 'Bene_CC_Hyprtnsn_Pct',\n",
       "       'Bene_CC_IHD_Pct', 'Bene_CC_Opo_Pct', 'Bene_CC_RAOA_Pct',\n",
       "       'Bene_CC_Sz_Pct', 'Bene_CC_Strok_Pct', 'Bene_Avg_Risk_Scre', 'Fraud',\n",
       "       'FraudType'],\n",
       "      dtype='object')"
      ]
     },
     "execution_count": 49,
     "metadata": {},
     "output_type": "execute_result"
    }
   ],
   "source": [
    "dmepos.columns"
   ]
  },
  {
   "cell_type": "code",
   "execution_count": 53,
   "metadata": {},
   "outputs": [],
   "source": [
    "drop_cols = ['Rfrg_Prvdr_Last_Name_Org', 'Rfrg_Prvdr_First_Name',\n",
    "       'Rfrg_Prvdr_MI','Rfrg_Prvdr_Ent_Cd', 'Rfrg_Prvdr_St1', 'Rfrg_Prvdr_St2',\n",
    "       'Rfrg_Prvdr_City', 'Rfrg_Prvdr_State_Abrvtn', 'Rfrg_Prvdr_State_FIPS',\n",
    "       'Rfrg_Prvdr_Zip5', 'Rfrg_Prvdr_RUCA', 'Rfrg_Prvdr_RUCA_Desc',\n",
    "       'Rfrg_Prvdr_Cntry']\n",
    "dmepos = dmepos.drop(drop_cols,axis=1)"
   ]
  },
  {
   "cell_type": "code",
   "execution_count": 54,
   "metadata": {},
   "outputs": [
    {
     "name": "stdout",
     "output_type": "stream",
     "text": [
      "<class 'pandas.core.frame.DataFrame'>\n",
      "Int64Index: 383457 entries, 0 to 383487\n",
      "Data columns (total 78 columns):\n",
      " #   Column                          Non-Null Count   Dtype  \n",
      "---  ------                          --------------   -----  \n",
      " 0   Rfrg_NPI                        383457 non-null  int64  \n",
      " 1   Rfrg_Prvdr_Crdntls              383457 non-null  int64  \n",
      " 2   Rfrg_Prvdr_Gndr                 383457 non-null  float64\n",
      " 3   Rfrg_Prvdr_Type                 383457 non-null  int64  \n",
      " 4   Rfrg_Prvdr_Type_Flag            383457 non-null  float64\n",
      " 5   Tot_Suplrs                      383457 non-null  int64  \n",
      " 6   Tot_Suplr_HCPCS_Cds             383457 non-null  int64  \n",
      " 7   Tot_Suplr_Benes                 230774 non-null  float64\n",
      " 8   Tot_Suplr_Clms                  383457 non-null  int64  \n",
      " 9   Tot_Suplr_Srvcs                 383457 non-null  int64  \n",
      " 10  Suplr_Sbmtd_Chrgs               383457 non-null  float64\n",
      " 11  Suplr_Mdcr_Alowd_Amt            383457 non-null  float64\n",
      " 12  Suplr_Mdcr_Pymt_Amt             383457 non-null  float64\n",
      " 13  Suplr_Mdcr_Stdzd_Pymt_Amt       383457 non-null  float64\n",
      " 14  DME_Sprsn_Ind                   383457 non-null  float64\n",
      " 15  DME_Tot_Suplrs                  337880 non-null  float64\n",
      " 16  DME_Tot_Suplr_HCPCS_Cds         337880 non-null  float64\n",
      " 17  DME_Tot_Suplr_Benes             188595 non-null  float64\n",
      " 18  DME_Tot_Suplr_Clms              337880 non-null  float64\n",
      " 19  DME_Tot_Suplr_Srvcs             337880 non-null  float64\n",
      " 20  DME_Suplr_Sbmtd_Chrgs           337880 non-null  float64\n",
      " 21  DME_Suplr_Mdcr_Alowd_Amt        337880 non-null  float64\n",
      " 22  DME_Suplr_Mdcr_Pymt_Amt         337880 non-null  float64\n",
      " 23  DME_Suplr_Mdcr_Stdzd_Pymt_Amt   337880 non-null  float64\n",
      " 24  POS_Sprsn_Ind                   383457 non-null  float64\n",
      " 25  POS_Tot_Suplrs                  193307 non-null  float64\n",
      " 26  POS_Tot_Suplr_HCPCS_Cds         193307 non-null  float64\n",
      " 27  POS_Tot_Suplr_Benes             89027 non-null   float64\n",
      " 28  POS_Tot_Suplr_Clms              193307 non-null  float64\n",
      " 29  POS_Tot_Suplr_Srvcs             193307 non-null  float64\n",
      " 30  POS_Suplr_Sbmtd_Chrgs           193307 non-null  float64\n",
      " 31  POS_Suplr_Mdcr_Alowd_Amt        193307 non-null  float64\n",
      " 32  POS_Suplr_Mdcr_Pymt_Amt         193307 non-null  float64\n",
      " 33  POS_Suplr_Mdcr_Stdzd_Pymt_Amt   193307 non-null  float64\n",
      " 34  Drug_Sprsn_Ind                  383457 non-null  float64\n",
      " 35  Drug_Tot_Suplrs                 187898 non-null  float64\n",
      " 36  Drug_Tot_Suplr_HCPCS_Cds        187898 non-null  float64\n",
      " 37  Drug_Tot_Suplr_Benes            71245 non-null   float64\n",
      " 38  Drug_Tot_Suplr_Clms             187898 non-null  float64\n",
      " 39  Drug_Tot_Suplr_Srvcs            187898 non-null  float64\n",
      " 40  Drug_Suplr_Sbmtd_Chrgs          187898 non-null  float64\n",
      " 41  Drug_Suplr_Mdcr_Alowd_Amt       187898 non-null  float64\n",
      " 42  Drug_Suplr_Mdcr_Pymt_Amt        187898 non-null  float64\n",
      " 43  Drug_Suplr_Mdcr_Stdzd_Pymt_Amt  187898 non-null  float64\n",
      " 44  Bene_Avg_Age                    383457 non-null  float64\n",
      " 45  Bene_Age_LT_65_Cnt              47586 non-null   float64\n",
      " 46  Bene_Age_65_74_Cnt              112307 non-null  float64\n",
      " 47  Bene_Age_75_84_Cnt              82303 non-null   float64\n",
      " 48  Bene_Age_GT_84_Cnt              47830 non-null   float64\n",
      " 49  Bene_Feml_Cnt                   105773 non-null  float64\n",
      " 50  Bene_Male_Cnt                   105773 non-null  float64\n",
      " 51  Bene_Race_Wht_Cnt               189659 non-null  float64\n",
      " 52  Bene_Race_Black_Cnt             80849 non-null   float64\n",
      " 53  Bene_Race_Api_Cnt               136809 non-null  float64\n",
      " 54  Bene_Race_Hspnc_Cnt             122750 non-null  float64\n",
      " 55  Bene_Race_Natind_Cnt            210264 non-null  float64\n",
      " 56  Bene_Race_Othr_Cnt              126775 non-null  float64\n",
      " 57  Bene_Ndual_Cnt                  69719 non-null   float64\n",
      " 58  Bene_Dual_Cnt                   69719 non-null   float64\n",
      " 59  Bene_CC_AF_Pct                  50850 non-null   float64\n",
      " 60  Bene_CC_Alzhmr_Pct              55182 non-null   float64\n",
      " 61  Bene_CC_Asthma_Pct              48771 non-null   float64\n",
      " 62  Bene_CC_Cncr_Pct                46947 non-null   float64\n",
      " 63  Bene_CC_CHF_Pct                 82167 non-null   float64\n",
      " 64  Bene_CC_CKD_Pct                 134816 non-null  float64\n",
      " 65  Bene_CC_COPD_Pct                70309 non-null   float64\n",
      " 66  Bene_CC_Dprssn_Pct              81621 non-null   float64\n",
      " 67  Bene_CC_Dbts_Pct                148117 non-null  float64\n",
      " 68  Bene_CC_Hyplpdma_Pct            164220 non-null  float64\n",
      " 69  Bene_CC_Hyprtnsn_Pct            188685 non-null  float64\n",
      " 70  Bene_CC_IHD_Pct                 117636 non-null  float64\n",
      " 71  Bene_CC_Opo_Pct                 55900 non-null   float64\n",
      " 72  Bene_CC_RAOA_Pct                133951 non-null  float64\n",
      " 73  Bene_CC_Sz_Pct                  114343 non-null  float64\n",
      " 74  Bene_CC_Strok_Pct               71527 non-null   float64\n",
      " 75  Bene_Avg_Risk_Scre              383456 non-null  float64\n",
      " 76  Fraud                           383457 non-null  int64  \n",
      " 77  FraudType                       383457 non-null  int64  \n",
      "dtypes: float64(69), int64(9)\n",
      "memory usage: 231.1 MB\n"
     ]
    }
   ],
   "source": [
    "dmepos.info()"
   ]
  },
  {
   "cell_type": "code",
   "execution_count": 55,
   "metadata": {},
   "outputs": [],
   "source": [
    "dmepos.to_csv(\"processed_dmepos.csv\")"
   ]
  },
  {
   "cell_type": "code",
   "execution_count": null,
   "metadata": {},
   "outputs": [],
   "source": []
  },
  {
   "cell_type": "code",
   "execution_count": null,
   "metadata": {},
   "outputs": [],
   "source": []
  },
  {
   "cell_type": "code",
   "execution_count": null,
   "metadata": {},
   "outputs": [],
   "source": []
  },
  {
   "cell_type": "code",
   "execution_count": null,
   "metadata": {},
   "outputs": [],
   "source": []
  },
  {
   "cell_type": "code",
   "execution_count": null,
   "metadata": {},
   "outputs": [],
   "source": []
  },
  {
   "cell_type": "code",
   "execution_count": null,
   "metadata": {},
   "outputs": [],
   "source": []
  },
  {
   "cell_type": "code",
   "execution_count": null,
   "metadata": {},
   "outputs": [],
   "source": []
  },
  {
   "cell_type": "code",
   "execution_count": null,
   "metadata": {},
   "outputs": [],
   "source": []
  },
  {
   "cell_type": "code",
   "execution_count": null,
   "metadata": {},
   "outputs": [],
   "source": []
  },
  {
   "cell_type": "code",
   "execution_count": null,
   "metadata": {},
   "outputs": [],
   "source": []
  },
  {
   "cell_type": "code",
   "execution_count": null,
   "metadata": {},
   "outputs": [],
   "source": []
  },
  {
   "cell_type": "code",
   "execution_count": null,
   "metadata": {},
   "outputs": [],
   "source": []
  },
  {
   "cell_type": "code",
   "execution_count": null,
   "metadata": {},
   "outputs": [],
   "source": []
  },
  {
   "cell_type": "code",
   "execution_count": null,
   "metadata": {},
   "outputs": [],
   "source": []
  },
  {
   "cell_type": "code",
   "execution_count": null,
   "metadata": {},
   "outputs": [],
   "source": []
  },
  {
   "cell_type": "code",
   "execution_count": null,
   "metadata": {},
   "outputs": [],
   "source": []
  },
  {
   "cell_type": "code",
   "execution_count": null,
   "metadata": {},
   "outputs": [],
   "source": []
  },
  {
   "cell_type": "code",
   "execution_count": null,
   "metadata": {},
   "outputs": [],
   "source": []
  },
  {
   "cell_type": "code",
   "execution_count": null,
   "metadata": {},
   "outputs": [],
   "source": []
  },
  {
   "cell_type": "code",
   "execution_count": null,
   "metadata": {},
   "outputs": [],
   "source": []
  },
  {
   "cell_type": "code",
   "execution_count": null,
   "metadata": {},
   "outputs": [],
   "source": []
  },
  {
   "cell_type": "code",
   "execution_count": null,
   "metadata": {},
   "outputs": [],
   "source": []
  },
  {
   "cell_type": "code",
   "execution_count": null,
   "metadata": {},
   "outputs": [],
   "source": []
  },
  {
   "cell_type": "code",
   "execution_count": null,
   "metadata": {},
   "outputs": [],
   "source": []
  },
  {
   "cell_type": "code",
   "execution_count": null,
   "metadata": {},
   "outputs": [],
   "source": []
  },
  {
   "cell_type": "code",
   "execution_count": null,
   "metadata": {},
   "outputs": [],
   "source": []
  },
  {
   "cell_type": "code",
   "execution_count": null,
   "metadata": {},
   "outputs": [],
   "source": []
  },
  {
   "cell_type": "code",
   "execution_count": null,
   "metadata": {},
   "outputs": [],
   "source": []
  },
  {
   "cell_type": "code",
   "execution_count": null,
   "metadata": {},
   "outputs": [],
   "source": []
  },
  {
   "cell_type": "code",
   "execution_count": null,
   "metadata": {},
   "outputs": [],
   "source": []
  },
  {
   "cell_type": "code",
   "execution_count": null,
   "metadata": {},
   "outputs": [],
   "source": []
  },
  {
   "cell_type": "code",
   "execution_count": null,
   "metadata": {},
   "outputs": [],
   "source": []
  },
  {
   "cell_type": "code",
   "execution_count": null,
   "metadata": {},
   "outputs": [],
   "source": []
  },
  {
   "cell_type": "code",
   "execution_count": null,
   "metadata": {},
   "outputs": [],
   "source": []
  },
  {
   "cell_type": "code",
   "execution_count": null,
   "metadata": {},
   "outputs": [],
   "source": []
  },
  {
   "cell_type": "code",
   "execution_count": null,
   "metadata": {},
   "outputs": [],
   "source": []
  },
  {
   "cell_type": "code",
   "execution_count": null,
   "metadata": {},
   "outputs": [],
   "source": []
  },
  {
   "cell_type": "code",
   "execution_count": null,
   "metadata": {},
   "outputs": [],
   "source": []
  },
  {
   "cell_type": "code",
   "execution_count": null,
   "metadata": {},
   "outputs": [],
   "source": []
  },
  {
   "cell_type": "code",
   "execution_count": null,
   "metadata": {},
   "outputs": [],
   "source": []
  },
  {
   "cell_type": "code",
   "execution_count": null,
   "metadata": {},
   "outputs": [],
   "source": []
  },
  {
   "cell_type": "code",
   "execution_count": null,
   "metadata": {},
   "outputs": [],
   "source": []
  },
  {
   "cell_type": "code",
   "execution_count": 15,
   "metadata": {},
   "outputs": [
    {
     "data": {
      "text/plain": [
       "63"
      ]
     },
     "execution_count": 15,
     "metadata": {},
     "output_type": "execute_result"
    }
   ],
   "source": [
    "feature_cols = ['Rfrg_Prvdr_Crdntls','Tot_Suplr_Benes','DME_Sprsn_Ind', 'DME_Tot_Suplrs',\n",
    "       'DME_Tot_Suplr_HCPCS_Cds', 'DME_Tot_Suplr_Benes', 'DME_Tot_Suplr_Clms',\n",
    "       'DME_Tot_Suplr_Srvcs', 'DME_Suplr_Sbmtd_Chrgs',\n",
    "       'DME_Suplr_Mdcr_Alowd_Amt', 'DME_Suplr_Mdcr_Pymt_Amt',\n",
    "       'DME_Suplr_Mdcr_Stdzd_Pymt_Amt', 'POS_Sprsn_Ind', 'POS_Tot_Suplrs',\n",
    "       'POS_Tot_Suplr_HCPCS_Cds', 'POS_Tot_Suplr_Benes', 'POS_Tot_Suplr_Clms',\n",
    "       'POS_Tot_Suplr_Srvcs', 'POS_Suplr_Sbmtd_Chrgs',\n",
    "       'POS_Suplr_Mdcr_Alowd_Amt', 'POS_Suplr_Mdcr_Pymt_Amt',\n",
    "       'POS_Suplr_Mdcr_Stdzd_Pymt_Amt', 'Drug_Sprsn_Ind', 'Drug_Tot_Suplrs',\n",
    "       'Drug_Tot_Suplr_HCPCS_Cds', 'Drug_Tot_Suplr_Benes',\n",
    "       'Drug_Tot_Suplr_Clms', 'Drug_Tot_Suplr_Srvcs', 'Drug_Suplr_Sbmtd_Chrgs',\n",
    "       'Drug_Suplr_Mdcr_Alowd_Amt', 'Drug_Suplr_Mdcr_Pymt_Amt',\n",
    "       'Drug_Suplr_Mdcr_Stdzd_Pymt_Amt', 'Bene_Age_LT_65_Cnt',\n",
    "       'Bene_Age_65_74_Cnt', 'Bene_Age_75_84_Cnt', 'Bene_Age_GT_84_Cnt',\n",
    "       'Bene_Feml_Cnt', 'Bene_Male_Cnt', 'Bene_Race_Wht_Cnt',\n",
    "       'Bene_Race_Black_Cnt', 'Bene_Race_Api_Cnt', 'Bene_Race_Hspnc_Cnt',\n",
    "       'Bene_Race_Natind_Cnt', 'Bene_Race_Othr_Cnt', 'Bene_Ndual_Cnt',\n",
    "       'Bene_Dual_Cnt', 'Bene_CC_AF_Pct', 'Bene_CC_Alzhmr_Pct',\n",
    "       'Bene_CC_Asthma_Pct', 'Bene_CC_Cncr_Pct', 'Bene_CC_CHF_Pct',\n",
    "       'Bene_CC_CKD_Pct', 'Bene_CC_COPD_Pct', 'Bene_CC_Dprssn_Pct',\n",
    "       'Bene_CC_Dbts_Pct', 'Bene_CC_Hyplpdma_Pct', 'Bene_CC_Hyprtnsn_Pct',\n",
    "       'Bene_CC_IHD_Pct', 'Bene_CC_Opo_Pct', 'Bene_CC_RAOA_Pct',\n",
    "       'Bene_CC_Sz_Pct', 'Bene_CC_Strok_Pct', 'Bene_Avg_Risk_Scre',]\n",
    "len(feature_cols)"
   ]
  },
  {
   "cell_type": "code",
   "execution_count": 17,
   "metadata": {},
   "outputs": [],
   "source": [
    "import matplotlib.pyplot as plt\n",
    "import seaborn as sns\n",
    "\n",
    "# List of features with missing values\n",
    "features_with_missing = dmepos.columns\n",
    "\n",
    "# Plotting\n",
    "data = []\n",
    "for feature in features_with_missing:\n",
    "    data.append(dmepos[dmepos[feature].isnull()][\"Fraud\"].value_counts())"
   ]
  },
  {
   "cell_type": "code",
   "execution_count": 18,
   "metadata": {},
   "outputs": [],
   "source": [
    "# Create a new DataFrame\n",
    "df = pd.DataFrame()\n",
    "\n",
    "# Extract feature names, \"Fraud\" counts, and \"Non-Fraud\" counts\n",
    "feature_names = [s.name for s in data]\n",
    "fraud_counts = [s.iloc[1] if len(s) == 2 else 0 for s in data]\n",
    "non_fraud_counts = [s.iloc[0] if len(s) == 2 else s.iloc[0] if len(s) == 1 else 0 for s in data]\n",
    "\n",
    "# Add columns to the new DataFrame\n",
    "df['Feature'] = feature_names\n",
    "df['Fraud'] = fraud_counts\n",
    "df['Non-Fraud'] = non_fraud_counts"
   ]
  },
  {
   "cell_type": "code",
   "execution_count": 20,
   "metadata": {},
   "outputs": [
    {
     "data": {
      "text/html": [
       "<div>\n",
       "<style scoped>\n",
       "    .dataframe tbody tr th:only-of-type {\n",
       "        vertical-align: middle;\n",
       "    }\n",
       "\n",
       "    .dataframe tbody tr th {\n",
       "        vertical-align: top;\n",
       "    }\n",
       "\n",
       "    .dataframe thead th {\n",
       "        text-align: right;\n",
       "    }\n",
       "</style>\n",
       "<table border=\"1\" class=\"dataframe\">\n",
       "  <thead>\n",
       "    <tr style=\"text-align: right;\">\n",
       "      <th></th>\n",
       "      <th>Feature</th>\n",
       "      <th>Fraud</th>\n",
       "      <th>Non-Fraud</th>\n",
       "    </tr>\n",
       "  </thead>\n",
       "  <tbody>\n",
       "    <tr>\n",
       "      <th>0</th>\n",
       "      <td>1</td>\n",
       "      <td>0</td>\n",
       "      <td>0</td>\n",
       "    </tr>\n",
       "    <tr>\n",
       "      <th>1</th>\n",
       "      <td>2</td>\n",
       "      <td>0</td>\n",
       "      <td>0</td>\n",
       "    </tr>\n",
       "    <tr>\n",
       "      <th>2</th>\n",
       "      <td>3</td>\n",
       "      <td>0</td>\n",
       "      <td>0</td>\n",
       "    </tr>\n",
       "    <tr>\n",
       "      <th>3</th>\n",
       "      <td>4</td>\n",
       "      <td>26</td>\n",
       "      <td>114288</td>\n",
       "    </tr>\n",
       "    <tr>\n",
       "      <th>4</th>\n",
       "      <td>5</td>\n",
       "      <td>2</td>\n",
       "      <td>18231</td>\n",
       "    </tr>\n",
       "    <tr>\n",
       "      <th>...</th>\n",
       "      <td>...</td>\n",
       "      <td>...</td>\n",
       "      <td>...</td>\n",
       "    </tr>\n",
       "    <tr>\n",
       "      <th>86</th>\n",
       "      <td>87</td>\n",
       "      <td>75</td>\n",
       "      <td>269056</td>\n",
       "    </tr>\n",
       "    <tr>\n",
       "      <th>87</th>\n",
       "      <td>88</td>\n",
       "      <td>86</td>\n",
       "      <td>311863</td>\n",
       "    </tr>\n",
       "    <tr>\n",
       "      <th>88</th>\n",
       "      <td>89</td>\n",
       "      <td>0</td>\n",
       "      <td>1</td>\n",
       "    </tr>\n",
       "    <tr>\n",
       "      <th>89</th>\n",
       "      <td>90</td>\n",
       "      <td>0</td>\n",
       "      <td>0</td>\n",
       "    </tr>\n",
       "    <tr>\n",
       "      <th>90</th>\n",
       "      <td>91</td>\n",
       "      <td>0</td>\n",
       "      <td>0</td>\n",
       "    </tr>\n",
       "  </tbody>\n",
       "</table>\n",
       "<p>91 rows × 3 columns</p>\n",
       "</div>"
      ],
      "text/plain": [
       "    Feature  Fraud  Non-Fraud\n",
       "0         1      0          0\n",
       "1         2      0          0\n",
       "2         3      0          0\n",
       "3         4     26     114288\n",
       "4         5      2      18231\n",
       "..      ...    ...        ...\n",
       "86       87     75     269056\n",
       "87       88     86     311863\n",
       "88       89      0          1\n",
       "89       90      0          0\n",
       "90       91      0          0\n",
       "\n",
       "[91 rows x 3 columns]"
      ]
     },
     "execution_count": 20,
     "metadata": {},
     "output_type": "execute_result"
    }
   ],
   "source": [
    "df['Feature'] = range(1, len(dmepos.columns) + 1)\n",
    "df"
   ]
  },
  {
   "cell_type": "code",
   "execution_count": 22,
   "metadata": {},
   "outputs": [
    {
     "data": {
      "image/png": "[encoded data removed]",
      "text/plain": [
       "<Figure size 1000x800 with 2 Axes>"
      ]
     },
     "metadata": {},
     "output_type": "display_data"
    }
   ],
   "source": [
    "# Create two subplots\n",
    "fig, (ax1, ax2) = plt.subplots(2, 1, figsize=(10, 8), sharex=True)\n",
    "\n",
    "# Plot for Fraud counts\n",
    "ax1.bar(df['Feature'], df['Fraud'], color='black', label='Fraud')\n",
    "ax1.set_ylabel('Fraud Count')\n",
    "ax1.set_title('Fraud Counts for Each Feature')\n",
    "\n",
    "# Plot for Non-Fraud counts\n",
    "ax2.bar(df['Feature'], df['Non-Fraud'], color='gray', label='Non-Fraud')\n",
    "ax2.set_xlabel('DMEPOS data features (columns)')\n",
    "ax2.set_ylabel('Non-Fraud Count')\n",
    "ax2.set_title('Non-Fraud Counts for Each Feature')\n",
    "\n",
    "# Adjust layout to prevent clipping of ylabel\n",
    "plt.tight_layout()\n",
    "\n",
    "plt.show()"
   ]
  },
  {
   "cell_type": "code",
   "execution_count": null,
   "metadata": {},
   "outputs": [],
   "source": []
  },
  {
   "cell_type": "code",
   "execution_count": null,
   "metadata": {},
   "outputs": [],
   "source": []
  },
  {
   "cell_type": "code",
   "execution_count": null,
   "metadata": {},
   "outputs": [],
   "source": []
  },
  {
   "cell_type": "code",
   "execution_count": null,
   "metadata": {},
   "outputs": [],
   "source": []
  },
  {
   "cell_type": "code",
   "execution_count": null,
   "metadata": {},
   "outputs": [],
   "source": []
  },
  {
   "cell_type": "code",
   "execution_count": null,
   "metadata": {},
   "outputs": [],
   "source": []
  },
  {
   "cell_type": "code",
   "execution_count": null,
   "metadata": {},
   "outputs": [],
   "source": []
  },
  {
   "cell_type": "code",
   "execution_count": null,
   "metadata": {},
   "outputs": [],
   "source": []
  },
  {
   "cell_type": "code",
   "execution_count": null,
   "metadata": {},
   "outputs": [],
   "source": []
  },
  {
   "cell_type": "code",
   "execution_count": null,
   "metadata": {},
   "outputs": [],
   "source": []
  },
  {
   "cell_type": "code",
   "execution_count": null,
   "metadata": {},
   "outputs": [],
   "source": []
  },
  {
   "cell_type": "code",
   "execution_count": null,
   "metadata": {},
   "outputs": [],
   "source": []
  },
  {
   "cell_type": "code",
   "execution_count": null,
   "metadata": {},
   "outputs": [],
   "source": []
  },
  {
   "cell_type": "code",
   "execution_count": null,
   "metadata": {},
   "outputs": [],
   "source": []
  },
  {
   "cell_type": "code",
   "execution_count": null,
   "metadata": {},
   "outputs": [],
   "source": []
  },
  {
   "cell_type": "code",
   "execution_count": null,
   "metadata": {},
   "outputs": [],
   "source": []
  },
  {
   "cell_type": "code",
   "execution_count": null,
   "metadata": {},
   "outputs": [],
   "source": []
  },
  {
   "cell_type": "code",
   "execution_count": 12,
   "metadata": {},
   "outputs": [],
   "source": [
    "dmepos_features = dmepos[[\"Rfrg_NPI\",\"Rfrg_Prvdr_Type\",\"Rfrg_Prvdr_Gndr\",\"Tot_Suplrs\",\"Tot_Suplr_Benes\",\n",
    "        \"Tot_Suplr_Clms\",\"Tot_Suplr_Srvcs\",\"Suplr_Sbmtd_Chrgs\",\"Suplr_Mdcr_Alowd_Amt\",\n",
    "        \"Suplr_Mdcr_Pymt_Amt\",\"Suplr_Mdcr_Stdzd_Pymt_Amt\",\"Fraud\",\"FraudType\"]].dropna(axis=0)"
   ]
  },
  {
   "cell_type": "code",
   "execution_count": 13,
   "metadata": {},
   "outputs": [
    {
     "name": "stdout",
     "output_type": "stream",
     "text": [
      "<class 'pandas.core.frame.DataFrame'>\n",
      "Int64Index: 230782 entries, 1 to 383486\n",
      "Data columns (total 13 columns):\n",
      " #   Column                     Non-Null Count   Dtype  \n",
      "---  ------                     --------------   -----  \n",
      " 0   Rfrg_NPI                   230782 non-null  int64  \n",
      " 1   Rfrg_Prvdr_Type            230782 non-null  object \n",
      " 2   Rfrg_Prvdr_Gndr            230782 non-null  object \n",
      " 3   Tot_Suplrs                 230782 non-null  int64  \n",
      " 4   Tot_Suplr_Benes            230782 non-null  float64\n",
      " 5   Tot_Suplr_Clms             230782 non-null  int64  \n",
      " 6   Tot_Suplr_Srvcs            230782 non-null  int64  \n",
      " 7   Suplr_Sbmtd_Chrgs          230782 non-null  float64\n",
      " 8   Suplr_Mdcr_Alowd_Amt       230782 non-null  float64\n",
      " 9   Suplr_Mdcr_Pymt_Amt        230782 non-null  float64\n",
      " 10  Suplr_Mdcr_Stdzd_Pymt_Amt  230782 non-null  float64\n",
      " 11  Fraud                      230782 non-null  int64  \n",
      " 12  FraudType                  230782 non-null  object \n",
      "dtypes: float64(5), int64(5), object(3)\n",
      "memory usage: 24.7+ MB\n"
     ]
    }
   ],
   "source": [
    "dmepos_features.info()"
   ]
  },
  {
   "cell_type": "code",
   "execution_count": 17,
   "metadata": {},
   "outputs": [
    {
     "data": {
      "text/plain": [
       "0    230721\n",
       "1        61\n",
       "Name: Fraud, dtype: int64"
      ]
     },
     "execution_count": 17,
     "metadata": {},
     "output_type": "execute_result"
    }
   ],
   "source": [
    "dmepos_features[\"Fraud\"].value_counts()"
   ]
  },
  {
   "cell_type": "code",
   "execution_count": 18,
   "metadata": {},
   "outputs": [],
   "source": [
    "dmepos_features.to_csv('labelled_data/DMEPOS/dmepos_features_data.csv')"
   ]
  },
  {
   "cell_type": "code",
   "execution_count": null,
   "metadata": {},
   "outputs": [],
   "source": []
  }
 ],
 "metadata": {
  "colab": {
   "authorship_tag": "ABX9TyM39VHeJAwTjrS2tA8pWbUj",
   "provenance": []
  },
  "kernelspec": {
   "display_name": "Python 3 (ipykernel)",
   "language": "python",
   "name": "python3"
  },
  "language_info": {
   "codemirror_mode": {
    "name": "ipython",
    "version": 3
   },
   "file_extension": ".py",
   "mimetype": "text/x-python",
   "name": "python",
   "nbconvert_exporter": "python",
   "pygments_lexer": "ipython3",
   "version": "3.10.12"
  }
 },
 "nbformat": 4,
 "nbformat_minor": 1
}
