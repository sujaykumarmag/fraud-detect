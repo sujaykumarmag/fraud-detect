{
 "cells": [
  {
   "cell_type": "code",
   "execution_count": 104,
   "metadata": {
    "executionInfo": {
     "elapsed": 1490,
     "status": "ok",
     "timestamp": 1684131640895,
     "user": {
      "displayName": "Sujay Kumar",
      "userId": "11350121372854375026"
     },
     "user_tz": -330
    },
    "id": "Z7mQKVEaARh2"
   },
   "outputs": [],
   "source": [
    "import pandas as pd\n",
    "import numpy as np\n",
    "import warnings\n",
    "warnings.filterwarnings(\"ignore\")"
   ]
  },
  {
   "cell_type": "code",
   "execution_count": 105,
   "metadata": {
    "executionInfo": {
     "elapsed": 28024,
     "status": "ok",
     "timestamp": 1684131862449,
     "user": {
      "displayName": "Sujay Kumar",
      "userId": "11350121372854375026"
     },
     "user_tz": -330
    },
    "id": "jHSDT4clETsx"
   },
   "outputs": [],
   "source": [
    "part_d = pd.read_csv(\"provider_data/partd/Part-D.csv\",encoding='ISO-8859-1',low_memory=False)\n",
    "leie_ex = pd.read_csv(\"provider_data/LEIE_Exclusion.csv\",encoding='ISO-8859-1',low_memory=False)"
   ]
  },
  {
   "cell_type": "code",
   "execution_count": 106,
   "metadata": {
    "colab": {
     "base_uri": "https://localhost:8080/",
     "height": 679
    },
    "executionInfo": {
     "elapsed": 1667,
     "status": "ok",
     "timestamp": 1684131875357,
     "user": {
      "displayName": "Sujay Kumar",
      "userId": "11350121372854375026"
     },
     "user_tz": -330
    },
    "id": "FnSRWHcLE2AN",
    "outputId": "2b06b2b0-c56f-4ebb-f6d2-d0d2f0d0e682"
   },
   "outputs": [
    {
     "data": {
      "text/html": [
       "<div>\n",
       "<style scoped>\n",
       "    .dataframe tbody tr th:only-of-type {\n",
       "        vertical-align: middle;\n",
       "    }\n",
       "\n",
       "    .dataframe tbody tr th {\n",
       "        vertical-align: top;\n",
       "    }\n",
       "\n",
       "    .dataframe thead th {\n",
       "        text-align: right;\n",
       "    }\n",
       "</style>\n",
       "<table border=\"1\" class=\"dataframe\">\n",
       "  <thead>\n",
       "    <tr style=\"text-align: right;\">\n",
       "      <th></th>\n",
       "      <th>PRSCRBR_NPI</th>\n",
       "      <th>Prscrbr_Last_Org_Name</th>\n",
       "      <th>Prscrbr_First_Name</th>\n",
       "      <th>Prscrbr_MI</th>\n",
       "      <th>Prscrbr_Crdntls</th>\n",
       "      <th>Prscrbr_Gndr</th>\n",
       "      <th>Prscrbr_Ent_Cd</th>\n",
       "      <th>Prscrbr_St1</th>\n",
       "      <th>Prscrbr_St2</th>\n",
       "      <th>Prscrbr_City</th>\n",
       "      <th>...</th>\n",
       "      <th>Bene_Male_Cnt</th>\n",
       "      <th>Bene_Race_Wht_Cnt</th>\n",
       "      <th>Bene_Race_Black_Cnt</th>\n",
       "      <th>Bene_Race_Api_Cnt</th>\n",
       "      <th>Bene_Race_Hspnc_Cnt</th>\n",
       "      <th>Bene_Race_Natind_Cnt</th>\n",
       "      <th>Bene_Race_Othr_Cnt</th>\n",
       "      <th>Bene_Dual_Cnt</th>\n",
       "      <th>Bene_Ndual_Cnt</th>\n",
       "      <th>Bene_Avg_Risk_Scre</th>\n",
       "    </tr>\n",
       "  </thead>\n",
       "  <tbody>\n",
       "    <tr>\n",
       "      <th>0</th>\n",
       "      <td>1003000126</td>\n",
       "      <td>Enkeshafi</td>\n",
       "      <td>Ardalan</td>\n",
       "      <td>NaN</td>\n",
       "      <td>M.D.</td>\n",
       "      <td>M</td>\n",
       "      <td>I</td>\n",
       "      <td>6410 Rockledge Dr Ste 304</td>\n",
       "      <td>NaN</td>\n",
       "      <td>Bethesda</td>\n",
       "      <td>...</td>\n",
       "      <td>49.0</td>\n",
       "      <td>67.0</td>\n",
       "      <td>27.0</td>\n",
       "      <td>NaN</td>\n",
       "      <td>NaN</td>\n",
       "      <td>0.0</td>\n",
       "      <td>NaN</td>\n",
       "      <td>28.0</td>\n",
       "      <td>78.0</td>\n",
       "      <td>2.245800</td>\n",
       "    </tr>\n",
       "    <tr>\n",
       "      <th>1</th>\n",
       "      <td>1003000142</td>\n",
       "      <td>Khalil</td>\n",
       "      <td>Rashid</td>\n",
       "      <td>NaN</td>\n",
       "      <td>M.D.</td>\n",
       "      <td>M</td>\n",
       "      <td>I</td>\n",
       "      <td>4126 N Holland Sylvania Rd</td>\n",
       "      <td>Suite 220</td>\n",
       "      <td>Toledo</td>\n",
       "      <td>...</td>\n",
       "      <td>82.0</td>\n",
       "      <td>130.0</td>\n",
       "      <td>81.0</td>\n",
       "      <td>NaN</td>\n",
       "      <td>12.0</td>\n",
       "      <td>0.0</td>\n",
       "      <td>NaN</td>\n",
       "      <td>125.0</td>\n",
       "      <td>103.0</td>\n",
       "      <td>1.695165</td>\n",
       "    </tr>\n",
       "    <tr>\n",
       "      <th>2</th>\n",
       "      <td>1003000167</td>\n",
       "      <td>Escobar</td>\n",
       "      <td>Julio</td>\n",
       "      <td>E</td>\n",
       "      <td>DDS</td>\n",
       "      <td>M</td>\n",
       "      <td>I</td>\n",
       "      <td>5 Pine Cone Rd</td>\n",
       "      <td>NaN</td>\n",
       "      <td>Dayton</td>\n",
       "      <td>...</td>\n",
       "      <td>23.0</td>\n",
       "      <td>41.0</td>\n",
       "      <td>0.0</td>\n",
       "      <td>0.0</td>\n",
       "      <td>NaN</td>\n",
       "      <td>0.0</td>\n",
       "      <td>NaN</td>\n",
       "      <td>0.0</td>\n",
       "      <td>43.0</td>\n",
       "      <td>1.006070</td>\n",
       "    </tr>\n",
       "    <tr>\n",
       "      <th>3</th>\n",
       "      <td>1003000175</td>\n",
       "      <td>Reyes-Vasquez</td>\n",
       "      <td>Belinda</td>\n",
       "      <td>NaN</td>\n",
       "      <td>D.D.S.</td>\n",
       "      <td>F</td>\n",
       "      <td>I</td>\n",
       "      <td>322 N Azusa Ave Ste 202</td>\n",
       "      <td>NaN</td>\n",
       "      <td>La Puente</td>\n",
       "      <td>...</td>\n",
       "      <td>NaN</td>\n",
       "      <td>NaN</td>\n",
       "      <td>NaN</td>\n",
       "      <td>NaN</td>\n",
       "      <td>NaN</td>\n",
       "      <td>NaN</td>\n",
       "      <td>NaN</td>\n",
       "      <td>NaN</td>\n",
       "      <td>NaN</td>\n",
       "      <td>1.251869</td>\n",
       "    </tr>\n",
       "    <tr>\n",
       "      <th>4</th>\n",
       "      <td>1003000282</td>\n",
       "      <td>Blakemore</td>\n",
       "      <td>Rosie</td>\n",
       "      <td>K</td>\n",
       "      <td>FNP</td>\n",
       "      <td>F</td>\n",
       "      <td>I</td>\n",
       "      <td>Tennessee Prison For Women</td>\n",
       "      <td>3881 Stewarts Lane</td>\n",
       "      <td>Nashville</td>\n",
       "      <td>...</td>\n",
       "      <td>NaN</td>\n",
       "      <td>NaN</td>\n",
       "      <td>NaN</td>\n",
       "      <td>NaN</td>\n",
       "      <td>NaN</td>\n",
       "      <td>NaN</td>\n",
       "      <td>NaN</td>\n",
       "      <td>NaN</td>\n",
       "      <td>NaN</td>\n",
       "      <td>4.919074</td>\n",
       "    </tr>\n",
       "    <tr>\n",
       "      <th>...</th>\n",
       "      <td>...</td>\n",
       "      <td>...</td>\n",
       "      <td>...</td>\n",
       "      <td>...</td>\n",
       "      <td>...</td>\n",
       "      <td>...</td>\n",
       "      <td>...</td>\n",
       "      <td>...</td>\n",
       "      <td>...</td>\n",
       "      <td>...</td>\n",
       "      <td>...</td>\n",
       "      <td>...</td>\n",
       "      <td>...</td>\n",
       "      <td>...</td>\n",
       "      <td>...</td>\n",
       "      <td>...</td>\n",
       "      <td>...</td>\n",
       "      <td>...</td>\n",
       "      <td>...</td>\n",
       "      <td>...</td>\n",
       "      <td>...</td>\n",
       "    </tr>\n",
       "    <tr>\n",
       "      <th>1255170</th>\n",
       "      <td>1992999569</td>\n",
       "      <td>Yuen</td>\n",
       "      <td>Jenny</td>\n",
       "      <td>F</td>\n",
       "      <td>O.D., F.A.A.O</td>\n",
       "      <td>F</td>\n",
       "      <td>I</td>\n",
       "      <td>515 Gough St</td>\n",
       "      <td>NaN</td>\n",
       "      <td>San Francisco</td>\n",
       "      <td>...</td>\n",
       "      <td>NaN</td>\n",
       "      <td>NaN</td>\n",
       "      <td>0.0</td>\n",
       "      <td>16.0</td>\n",
       "      <td>0.0</td>\n",
       "      <td>0.0</td>\n",
       "      <td>NaN</td>\n",
       "      <td>NaN</td>\n",
       "      <td>NaN</td>\n",
       "      <td>1.451353</td>\n",
       "    </tr>\n",
       "    <tr>\n",
       "      <th>1255171</th>\n",
       "      <td>1992999650</td>\n",
       "      <td>Yong</td>\n",
       "      <td>Wayne</td>\n",
       "      <td>B</td>\n",
       "      <td>DMD</td>\n",
       "      <td>M</td>\n",
       "      <td>I</td>\n",
       "      <td>28 Atlantic Avenue</td>\n",
       "      <td>121</td>\n",
       "      <td>Boston</td>\n",
       "      <td>...</td>\n",
       "      <td>13.0</td>\n",
       "      <td>NaN</td>\n",
       "      <td>NaN</td>\n",
       "      <td>18.0</td>\n",
       "      <td>0.0</td>\n",
       "      <td>0.0</td>\n",
       "      <td>NaN</td>\n",
       "      <td>NaN</td>\n",
       "      <td>NaN</td>\n",
       "      <td>1.344691</td>\n",
       "    </tr>\n",
       "    <tr>\n",
       "      <th>1255172</th>\n",
       "      <td>1992999759</td>\n",
       "      <td>Soriano</td>\n",
       "      <td>Dino</td>\n",
       "      <td>V</td>\n",
       "      <td>RN MSN HSA FNP-C</td>\n",
       "      <td>M</td>\n",
       "      <td>I</td>\n",
       "      <td>171 Clover Point Cir</td>\n",
       "      <td>NaN</td>\n",
       "      <td>Guyton</td>\n",
       "      <td>...</td>\n",
       "      <td>NaN</td>\n",
       "      <td>16.0</td>\n",
       "      <td>NaN</td>\n",
       "      <td>0.0</td>\n",
       "      <td>0.0</td>\n",
       "      <td>0.0</td>\n",
       "      <td>NaN</td>\n",
       "      <td>NaN</td>\n",
       "      <td>NaN</td>\n",
       "      <td>1.545349</td>\n",
       "    </tr>\n",
       "    <tr>\n",
       "      <th>1255173</th>\n",
       "      <td>1992999825</td>\n",
       "      <td>Deschenes</td>\n",
       "      <td>Geoffrey</td>\n",
       "      <td>R</td>\n",
       "      <td>M.D.</td>\n",
       "      <td>M</td>\n",
       "      <td>I</td>\n",
       "      <td>1100 9th Ave</td>\n",
       "      <td>Ms:m4-Pfs</td>\n",
       "      <td>Seattle</td>\n",
       "      <td>...</td>\n",
       "      <td>62.0</td>\n",
       "      <td>100.0</td>\n",
       "      <td>NaN</td>\n",
       "      <td>16.0</td>\n",
       "      <td>NaN</td>\n",
       "      <td>0.0</td>\n",
       "      <td>NaN</td>\n",
       "      <td>18.0</td>\n",
       "      <td>108.0</td>\n",
       "      <td>1.109445</td>\n",
       "    </tr>\n",
       "    <tr>\n",
       "      <th>1255174</th>\n",
       "      <td>1992999874</td>\n",
       "      <td>Joffe</td>\n",
       "      <td>Gabriella</td>\n",
       "      <td>NaN</td>\n",
       "      <td>NaN</td>\n",
       "      <td>F</td>\n",
       "      <td>I</td>\n",
       "      <td>5620 Brook Rd</td>\n",
       "      <td>NaN</td>\n",
       "      <td>Richmond</td>\n",
       "      <td>...</td>\n",
       "      <td>51.0</td>\n",
       "      <td>74.0</td>\n",
       "      <td>25.0</td>\n",
       "      <td>NaN</td>\n",
       "      <td>NaN</td>\n",
       "      <td>0.0</td>\n",
       "      <td>NaN</td>\n",
       "      <td>28.0</td>\n",
       "      <td>75.0</td>\n",
       "      <td>2.748669</td>\n",
       "    </tr>\n",
       "  </tbody>\n",
       "</table>\n",
       "<p>1255175 rows × 85 columns</p>\n",
       "</div>"
      ],
      "text/plain": [
       "         PRSCRBR_NPI Prscrbr_Last_Org_Name Prscrbr_First_Name Prscrbr_MI  \\\n",
       "0         1003000126             Enkeshafi            Ardalan        NaN   \n",
       "1         1003000142                Khalil             Rashid        NaN   \n",
       "2         1003000167               Escobar              Julio          E   \n",
       "3         1003000175         Reyes-Vasquez            Belinda        NaN   \n",
       "4         1003000282             Blakemore              Rosie          K   \n",
       "...              ...                   ...                ...        ...   \n",
       "1255170   1992999569                  Yuen              Jenny          F   \n",
       "1255171   1992999650                  Yong              Wayne          B   \n",
       "1255172   1992999759               Soriano               Dino          V   \n",
       "1255173   1992999825             Deschenes           Geoffrey          R   \n",
       "1255174   1992999874                 Joffe          Gabriella        NaN   \n",
       "\n",
       "          Prscrbr_Crdntls Prscrbr_Gndr Prscrbr_Ent_Cd  \\\n",
       "0                    M.D.            M              I   \n",
       "1                    M.D.            M              I   \n",
       "2                     DDS            M              I   \n",
       "3                  D.D.S.            F              I   \n",
       "4                     FNP            F              I   \n",
       "...                   ...          ...            ...   \n",
       "1255170     O.D., F.A.A.O            F              I   \n",
       "1255171               DMD            M              I   \n",
       "1255172  RN MSN HSA FNP-C            M              I   \n",
       "1255173              M.D.            M              I   \n",
       "1255174               NaN            F              I   \n",
       "\n",
       "                        Prscrbr_St1         Prscrbr_St2   Prscrbr_City  ...  \\\n",
       "0         6410 Rockledge Dr Ste 304                 NaN       Bethesda  ...   \n",
       "1        4126 N Holland Sylvania Rd           Suite 220         Toledo  ...   \n",
       "2                    5 Pine Cone Rd                 NaN         Dayton  ...   \n",
       "3           322 N Azusa Ave Ste 202                 NaN      La Puente  ...   \n",
       "4        Tennessee Prison For Women  3881 Stewarts Lane      Nashville  ...   \n",
       "...                             ...                 ...            ...  ...   \n",
       "1255170                515 Gough St                 NaN  San Francisco  ...   \n",
       "1255171          28 Atlantic Avenue                 121         Boston  ...   \n",
       "1255172        171 Clover Point Cir                 NaN         Guyton  ...   \n",
       "1255173                1100 9th Ave           Ms:m4-Pfs        Seattle  ...   \n",
       "1255174               5620 Brook Rd                 NaN       Richmond  ...   \n",
       "\n",
       "        Bene_Male_Cnt  Bene_Race_Wht_Cnt  Bene_Race_Black_Cnt  \\\n",
       "0                49.0               67.0                 27.0   \n",
       "1                82.0              130.0                 81.0   \n",
       "2                23.0               41.0                  0.0   \n",
       "3                 NaN                NaN                  NaN   \n",
       "4                 NaN                NaN                  NaN   \n",
       "...               ...                ...                  ...   \n",
       "1255170           NaN                NaN                  0.0   \n",
       "1255171          13.0                NaN                  NaN   \n",
       "1255172           NaN               16.0                  NaN   \n",
       "1255173          62.0              100.0                  NaN   \n",
       "1255174          51.0               74.0                 25.0   \n",
       "\n",
       "         Bene_Race_Api_Cnt Bene_Race_Hspnc_Cnt Bene_Race_Natind_Cnt  \\\n",
       "0                      NaN                 NaN                  0.0   \n",
       "1                      NaN                12.0                  0.0   \n",
       "2                      0.0                 NaN                  0.0   \n",
       "3                      NaN                 NaN                  NaN   \n",
       "4                      NaN                 NaN                  NaN   \n",
       "...                    ...                 ...                  ...   \n",
       "1255170               16.0                 0.0                  0.0   \n",
       "1255171               18.0                 0.0                  0.0   \n",
       "1255172                0.0                 0.0                  0.0   \n",
       "1255173               16.0                 NaN                  0.0   \n",
       "1255174                NaN                 NaN                  0.0   \n",
       "\n",
       "        Bene_Race_Othr_Cnt Bene_Dual_Cnt  Bene_Ndual_Cnt  Bene_Avg_Risk_Scre  \n",
       "0                      NaN          28.0            78.0            2.245800  \n",
       "1                      NaN         125.0           103.0            1.695165  \n",
       "2                      NaN           0.0            43.0            1.006070  \n",
       "3                      NaN           NaN             NaN            1.251869  \n",
       "4                      NaN           NaN             NaN            4.919074  \n",
       "...                    ...           ...             ...                 ...  \n",
       "1255170                NaN           NaN             NaN            1.451353  \n",
       "1255171                NaN           NaN             NaN            1.344691  \n",
       "1255172                NaN           NaN             NaN            1.545349  \n",
       "1255173                NaN          18.0           108.0            1.109445  \n",
       "1255174                NaN          28.0            75.0            2.748669  \n",
       "\n",
       "[1255175 rows x 85 columns]"
      ]
     },
     "execution_count": 106,
     "metadata": {},
     "output_type": "execute_result"
    }
   ],
   "source": [
    "part_d"
   ]
  },
  {
   "cell_type": "code",
   "execution_count": 107,
   "metadata": {
    "colab": {
     "base_uri": "https://localhost:8080/"
    },
    "executionInfo": {
     "elapsed": 6,
     "status": "ok",
     "timestamp": 1684131943438,
     "user": {
      "displayName": "Sujay Kumar",
      "userId": "11350121372854375026"
     },
     "user_tz": -330
    },
    "id": "zBEOwEd_Fe9y",
    "outputId": "cb81a730-383b-425a-bd0b-96dacbaaa72f"
   },
   "outputs": [
    {
     "data": {
      "text/plain": [
       "Index(['PRSCRBR_NPI', 'Prscrbr_Last_Org_Name', 'Prscrbr_First_Name',\n",
       "       'Prscrbr_MI', 'Prscrbr_Crdntls', 'Prscrbr_Gndr', 'Prscrbr_Ent_Cd',\n",
       "       'Prscrbr_St1', 'Prscrbr_St2', 'Prscrbr_City', 'Prscrbr_State_Abrvtn',\n",
       "       'Prscrbr_State_FIPS', 'Prscrbr_zip5', 'Prscrbr_RUCA',\n",
       "       'Prscrbr_RUCA_Desc', 'Prscrbr_Cntry', 'Prscrbr_Type',\n",
       "       'Prscrbr_Type_src', 'Tot_Clms', 'Tot_30day_Fills', 'Tot_Drug_Cst',\n",
       "       'Tot_Day_Suply', 'Tot_Benes', 'GE65_Sprsn_Flag', 'GE65_Tot_Clms',\n",
       "       'GE65_Tot_30day_Fills', 'GE65_Tot_Drug_Cst', 'GE65_Tot_Day_Suply',\n",
       "       'GE65_Bene_Sprsn_Flag', 'GE65_Tot_Benes', 'Brnd_Sprsn_Flag',\n",
       "       'Brnd_Tot_Clms', 'Brnd_Tot_Drug_Cst', 'Gnrc_Sprsn_Flag',\n",
       "       'Gnrc_Tot_Clms', 'Gnrc_Tot_Drug_Cst', 'Othr_Sprsn_Flag',\n",
       "       'Othr_Tot_Clms', 'Othr_Tot_Drug_Cst', 'MAPD_Sprsn_Flag',\n",
       "       'MAPD_Tot_Clms', 'MAPD_Tot_Drug_Cst', 'PDP_Sprsn_Flag', 'PDP_Tot_Clms',\n",
       "       'PDP_Tot_Drug_Cst', 'LIS_Sprsn_Flag', 'LIS_Tot_Clms', 'LIS_Drug_Cst',\n",
       "       'NonLIS_Sprsn_Flag', 'NonLIS_Tot_Clms', 'NonLIS_Drug_Cst',\n",
       "       'Opioid_Tot_Clms', 'Opioid_Tot_Drug_Cst', 'Opioid_Tot_Suply',\n",
       "       'Opioid_Tot_Benes', 'Opioid_Prscrbr_Rate', 'Opioid_LA_Tot_Clms',\n",
       "       'Opioid_LA_Tot_Drug_Cst', 'Opioid_LA_Tot_Suply', 'Opioid_LA_Tot_Benes',\n",
       "       'Opioid_LA_Prscrbr_Rate', 'Antbtc_Tot_Clms', 'Antbtc_Tot_Drug_Cst',\n",
       "       'Antbtc_Tot_Benes', 'Antpsyct_GE65_Sprsn_Flag',\n",
       "       'Antpsyct_GE65_Tot_Clms', 'Antpsyct_GE65_Tot_Drug_Cst',\n",
       "       'Antpsyct_GE65_Bene_Suprsn_Flag', 'Antpsyct_GE65_Tot_Benes',\n",
       "       'Bene_Avg_Age', 'Bene_Age_LT_65_Cnt', 'Bene_Age_65_74_Cnt',\n",
       "       'Bene_Age_75_84_Cnt', 'Bene_Age_GT_84_Cnt', 'Bene_Feml_Cnt',\n",
       "       'Bene_Male_Cnt', 'Bene_Race_Wht_Cnt', 'Bene_Race_Black_Cnt',\n",
       "       'Bene_Race_Api_Cnt', 'Bene_Race_Hspnc_Cnt', 'Bene_Race_Natind_Cnt',\n",
       "       'Bene_Race_Othr_Cnt', 'Bene_Dual_Cnt', 'Bene_Ndual_Cnt',\n",
       "       'Bene_Avg_Risk_Scre'],\n",
       "      dtype='object')"
      ]
     },
     "execution_count": 107,
     "metadata": {},
     "output_type": "execute_result"
    }
   ],
   "source": [
    "part_d.columns"
   ]
  },
  {
   "cell_type": "code",
   "execution_count": 108,
   "metadata": {
    "executionInfo": {
     "elapsed": 2254,
     "status": "ok",
     "timestamp": 1684131966480,
     "user": {
      "displayName": "Sujay Kumar",
      "userId": "11350121372854375026"
     },
     "user_tz": -330
    },
    "id": "b9CjI--NFPs1"
   },
   "outputs": [],
   "source": [
    "part_d = part_d.dropna(subset=[\"PRSCRBR_NPI\"],axis=0)\n",
    "part_d = part_d.dropna(subset=[\"Prscrbr_Last_Org_Name\"],axis=0)\n",
    "part_d = part_d.dropna(subset=[\"Prscrbr_First_Name\"],axis=0)"
   ]
  },
  {
   "cell_type": "code",
   "execution_count": 109,
   "metadata": {
    "executionInfo": {
     "elapsed": 4,
     "status": "ok",
     "timestamp": 1684131984616,
     "user": {
      "displayName": "Sujay Kumar",
      "userId": "11350121372854375026"
     },
     "user_tz": -330
    },
    "id": "22W5g84qFl0h"
   },
   "outputs": [],
   "source": [
    "leie_ex = leie_ex.dropna(subset=[\"NPI\"],axis=0)\n",
    "ex_npi = leie_ex[leie_ex[\"NPI\"]!=0][\"NPI\"]\n",
    "ex_lnames = leie_ex.dropna(subset=[\"LASTNAME\"],axis=0)[\"LASTNAME\"]\n",
    "ex_fnames = leie_ex.dropna(subset=[\"FIRSTNAME\"],axis=0)[\"FIRSTNAME\"]\n",
    "leie_ex[\"MIDNAME\"] = leie_ex[\"MIDNAME\"].apply(lambda row : row if row!= \" \" else 0)\n",
    "ex_mi = leie_ex[leie_ex[\"MIDNAME\"]!=0][\"MIDNAME\"]"
   ]
  },
  {
   "cell_type": "code",
   "execution_count": 110,
   "metadata": {
    "colab": {
     "base_uri": "https://localhost:8080/"
    },
    "executionInfo": {
     "elapsed": 5,
     "status": "ok",
     "timestamp": 1684131996584,
     "user": {
      "displayName": "Sujay Kumar",
      "userId": "11350121372854375026"
     },
     "user_tz": -330
    },
    "id": "rNPUnutpFq0C",
    "outputId": "eac69c98-07b9-479f-c4c7-9c8911acdd9e"
   },
   "outputs": [
    {
     "name": "stdout",
     "output_type": "stream",
     "text": [
      "(76546, 18)\n",
      "(1255124, 85)\n"
     ]
    }
   ],
   "source": [
    "print(leie_ex.shape)\n",
    "print(part_d.shape)"
   ]
  },
  {
   "cell_type": "code",
   "execution_count": 111,
   "metadata": {},
   "outputs": [
    {
     "data": {
      "text/plain": [
       "1003000126    1\n",
       "1669665345    1\n",
       "1669665964    1\n",
       "1669665956    1\n",
       "1669665824    1\n",
       "             ..\n",
       "1336200385    1\n",
       "1336200351    1\n",
       "1336200328    1\n",
       "1336200310    1\n",
       "1992999874    1\n",
       "Name: PRSCRBR_NPI, Length: 1255124, dtype: int64"
      ]
     },
     "execution_count": 111,
     "metadata": {},
     "output_type": "execute_result"
    }
   ],
   "source": [
    "part_d[\"PRSCRBR_NPI\"].value_counts()"
   ]
  },
  {
   "cell_type": "code",
   "execution_count": 112,
   "metadata": {
    "colab": {
     "base_uri": "https://localhost:8080/"
    },
    "executionInfo": {
     "elapsed": 15953907,
     "status": "ok",
     "timestamp": 1684148098777,
     "user": {
      "displayName": "Sujay Kumar",
      "userId": "11350121372854375026"
     },
     "user_tz": -330
    },
    "id": "rUFR1RsmFton",
    "outputId": "37545ea0-b2ed-4a1a-82e7-dfbe63b5b21e"
   },
   "outputs": [],
   "source": [
    "ex_npi_unique = leie_ex.drop_duplicates(\"NPI\")  # Remove duplicate NPI values\n",
    "ex_npi_dict = dict(zip(ex_npi_unique['NPI'], ex_npi_unique['EXCLTYPE']))\n",
    "\n",
    "part_d['Fraud'] = np.where(part_d['PRSCRBR_NPI'].isin(ex_npi_dict), 1, 0)\n",
    "part_d['FraudType'] = np.where(part_d['Fraud'] == 1,part_d['PRSCRBR_NPI'].map(ex_npi_dict),0)"
   ]
  },
  {
   "cell_type": "code",
   "execution_count": 113,
   "metadata": {
    "colab": {
     "base_uri": "https://localhost:8080/"
    },
    "executionInfo": {
     "elapsed": 13,
     "status": "ok",
     "timestamp": 1684148098777,
     "user": {
      "displayName": "Sujay Kumar",
      "userId": "11350121372854375026"
     },
     "user_tz": -330
    },
    "id": "MqNnl-6hGEEJ",
    "outputId": "cf2ec22f-9cfe-4636-8500-ebbb244b21a5"
   },
   "outputs": [
    {
     "data": {
      "text/plain": [
       "0    1254832\n",
       "1        292\n",
       "Name: Fraud, dtype: int64"
      ]
     },
     "execution_count": 113,
     "metadata": {},
     "output_type": "execute_result"
    }
   ],
   "source": [
    "part_d[\"Fraud\"].value_counts()"
   ]
  },
  {
   "cell_type": "code",
   "execution_count": 114,
   "metadata": {
    "colab": {
     "base_uri": "https://localhost:8080/",
     "height": 679
    },
    "executionInfo": {
     "elapsed": 2077,
     "status": "ok",
     "timestamp": 1684149397646,
     "user": {
      "displayName": "Sujay Kumar",
      "userId": "11350121372854375026"
     },
     "user_tz": -330
    },
    "id": "Z7JQgLN1HqtM",
    "outputId": "e0450397-b29a-493d-fb84-b4807ebc78d9"
   },
   "outputs": [
    {
     "data": {
      "text/html": [
       "<div>\n",
       "<style scoped>\n",
       "    .dataframe tbody tr th:only-of-type {\n",
       "        vertical-align: middle;\n",
       "    }\n",
       "\n",
       "    .dataframe tbody tr th {\n",
       "        vertical-align: top;\n",
       "    }\n",
       "\n",
       "    .dataframe thead th {\n",
       "        text-align: right;\n",
       "    }\n",
       "</style>\n",
       "<table border=\"1\" class=\"dataframe\">\n",
       "  <thead>\n",
       "    <tr style=\"text-align: right;\">\n",
       "      <th></th>\n",
       "      <th>PRSCRBR_NPI</th>\n",
       "      <th>Prscrbr_Last_Org_Name</th>\n",
       "      <th>Prscrbr_First_Name</th>\n",
       "      <th>Prscrbr_MI</th>\n",
       "      <th>Prscrbr_Crdntls</th>\n",
       "      <th>Prscrbr_Gndr</th>\n",
       "      <th>Prscrbr_Ent_Cd</th>\n",
       "      <th>Prscrbr_St1</th>\n",
       "      <th>Prscrbr_St2</th>\n",
       "      <th>Prscrbr_City</th>\n",
       "      <th>...</th>\n",
       "      <th>Bene_Race_Black_Cnt</th>\n",
       "      <th>Bene_Race_Api_Cnt</th>\n",
       "      <th>Bene_Race_Hspnc_Cnt</th>\n",
       "      <th>Bene_Race_Natind_Cnt</th>\n",
       "      <th>Bene_Race_Othr_Cnt</th>\n",
       "      <th>Bene_Dual_Cnt</th>\n",
       "      <th>Bene_Ndual_Cnt</th>\n",
       "      <th>Bene_Avg_Risk_Scre</th>\n",
       "      <th>Fraud</th>\n",
       "      <th>FraudType</th>\n",
       "    </tr>\n",
       "  </thead>\n",
       "  <tbody>\n",
       "    <tr>\n",
       "      <th>0</th>\n",
       "      <td>1003000126</td>\n",
       "      <td>Enkeshafi</td>\n",
       "      <td>Ardalan</td>\n",
       "      <td>NaN</td>\n",
       "      <td>M.D.</td>\n",
       "      <td>M</td>\n",
       "      <td>I</td>\n",
       "      <td>6410 Rockledge Dr Ste 304</td>\n",
       "      <td>NaN</td>\n",
       "      <td>Bethesda</td>\n",
       "      <td>...</td>\n",
       "      <td>27.0</td>\n",
       "      <td>NaN</td>\n",
       "      <td>NaN</td>\n",
       "      <td>0.0</td>\n",
       "      <td>NaN</td>\n",
       "      <td>28.0</td>\n",
       "      <td>78.0</td>\n",
       "      <td>2.245800</td>\n",
       "      <td>0</td>\n",
       "      <td>0</td>\n",
       "    </tr>\n",
       "    <tr>\n",
       "      <th>1</th>\n",
       "      <td>1003000142</td>\n",
       "      <td>Khalil</td>\n",
       "      <td>Rashid</td>\n",
       "      <td>NaN</td>\n",
       "      <td>M.D.</td>\n",
       "      <td>M</td>\n",
       "      <td>I</td>\n",
       "      <td>4126 N Holland Sylvania Rd</td>\n",
       "      <td>Suite 220</td>\n",
       "      <td>Toledo</td>\n",
       "      <td>...</td>\n",
       "      <td>81.0</td>\n",
       "      <td>NaN</td>\n",
       "      <td>12.0</td>\n",
       "      <td>0.0</td>\n",
       "      <td>NaN</td>\n",
       "      <td>125.0</td>\n",
       "      <td>103.0</td>\n",
       "      <td>1.695165</td>\n",
       "      <td>0</td>\n",
       "      <td>0</td>\n",
       "    </tr>\n",
       "    <tr>\n",
       "      <th>2</th>\n",
       "      <td>1003000167</td>\n",
       "      <td>Escobar</td>\n",
       "      <td>Julio</td>\n",
       "      <td>E</td>\n",
       "      <td>DDS</td>\n",
       "      <td>M</td>\n",
       "      <td>I</td>\n",
       "      <td>5 Pine Cone Rd</td>\n",
       "      <td>NaN</td>\n",
       "      <td>Dayton</td>\n",
       "      <td>...</td>\n",
       "      <td>0.0</td>\n",
       "      <td>0.0</td>\n",
       "      <td>NaN</td>\n",
       "      <td>0.0</td>\n",
       "      <td>NaN</td>\n",
       "      <td>0.0</td>\n",
       "      <td>43.0</td>\n",
       "      <td>1.006070</td>\n",
       "      <td>0</td>\n",
       "      <td>0</td>\n",
       "    </tr>\n",
       "    <tr>\n",
       "      <th>3</th>\n",
       "      <td>1003000175</td>\n",
       "      <td>Reyes-Vasquez</td>\n",
       "      <td>Belinda</td>\n",
       "      <td>NaN</td>\n",
       "      <td>D.D.S.</td>\n",
       "      <td>F</td>\n",
       "      <td>I</td>\n",
       "      <td>322 N Azusa Ave Ste 202</td>\n",
       "      <td>NaN</td>\n",
       "      <td>La Puente</td>\n",
       "      <td>...</td>\n",
       "      <td>NaN</td>\n",
       "      <td>NaN</td>\n",
       "      <td>NaN</td>\n",
       "      <td>NaN</td>\n",
       "      <td>NaN</td>\n",
       "      <td>NaN</td>\n",
       "      <td>NaN</td>\n",
       "      <td>1.251869</td>\n",
       "      <td>0</td>\n",
       "      <td>0</td>\n",
       "    </tr>\n",
       "    <tr>\n",
       "      <th>4</th>\n",
       "      <td>1003000282</td>\n",
       "      <td>Blakemore</td>\n",
       "      <td>Rosie</td>\n",
       "      <td>K</td>\n",
       "      <td>FNP</td>\n",
       "      <td>F</td>\n",
       "      <td>I</td>\n",
       "      <td>Tennessee Prison For Women</td>\n",
       "      <td>3881 Stewarts Lane</td>\n",
       "      <td>Nashville</td>\n",
       "      <td>...</td>\n",
       "      <td>NaN</td>\n",
       "      <td>NaN</td>\n",
       "      <td>NaN</td>\n",
       "      <td>NaN</td>\n",
       "      <td>NaN</td>\n",
       "      <td>NaN</td>\n",
       "      <td>NaN</td>\n",
       "      <td>4.919074</td>\n",
       "      <td>0</td>\n",
       "      <td>0</td>\n",
       "    </tr>\n",
       "    <tr>\n",
       "      <th>...</th>\n",
       "      <td>...</td>\n",
       "      <td>...</td>\n",
       "      <td>...</td>\n",
       "      <td>...</td>\n",
       "      <td>...</td>\n",
       "      <td>...</td>\n",
       "      <td>...</td>\n",
       "      <td>...</td>\n",
       "      <td>...</td>\n",
       "      <td>...</td>\n",
       "      <td>...</td>\n",
       "      <td>...</td>\n",
       "      <td>...</td>\n",
       "      <td>...</td>\n",
       "      <td>...</td>\n",
       "      <td>...</td>\n",
       "      <td>...</td>\n",
       "      <td>...</td>\n",
       "      <td>...</td>\n",
       "      <td>...</td>\n",
       "      <td>...</td>\n",
       "    </tr>\n",
       "    <tr>\n",
       "      <th>1255170</th>\n",
       "      <td>1992999569</td>\n",
       "      <td>Yuen</td>\n",
       "      <td>Jenny</td>\n",
       "      <td>F</td>\n",
       "      <td>O.D., F.A.A.O</td>\n",
       "      <td>F</td>\n",
       "      <td>I</td>\n",
       "      <td>515 Gough St</td>\n",
       "      <td>NaN</td>\n",
       "      <td>San Francisco</td>\n",
       "      <td>...</td>\n",
       "      <td>0.0</td>\n",
       "      <td>16.0</td>\n",
       "      <td>0.0</td>\n",
       "      <td>0.0</td>\n",
       "      <td>NaN</td>\n",
       "      <td>NaN</td>\n",
       "      <td>NaN</td>\n",
       "      <td>1.451353</td>\n",
       "      <td>0</td>\n",
       "      <td>0</td>\n",
       "    </tr>\n",
       "    <tr>\n",
       "      <th>1255171</th>\n",
       "      <td>1992999650</td>\n",
       "      <td>Yong</td>\n",
       "      <td>Wayne</td>\n",
       "      <td>B</td>\n",
       "      <td>DMD</td>\n",
       "      <td>M</td>\n",
       "      <td>I</td>\n",
       "      <td>28 Atlantic Avenue</td>\n",
       "      <td>121</td>\n",
       "      <td>Boston</td>\n",
       "      <td>...</td>\n",
       "      <td>NaN</td>\n",
       "      <td>18.0</td>\n",
       "      <td>0.0</td>\n",
       "      <td>0.0</td>\n",
       "      <td>NaN</td>\n",
       "      <td>NaN</td>\n",
       "      <td>NaN</td>\n",
       "      <td>1.344691</td>\n",
       "      <td>0</td>\n",
       "      <td>0</td>\n",
       "    </tr>\n",
       "    <tr>\n",
       "      <th>1255172</th>\n",
       "      <td>1992999759</td>\n",
       "      <td>Soriano</td>\n",
       "      <td>Dino</td>\n",
       "      <td>V</td>\n",
       "      <td>RN MSN HSA FNP-C</td>\n",
       "      <td>M</td>\n",
       "      <td>I</td>\n",
       "      <td>171 Clover Point Cir</td>\n",
       "      <td>NaN</td>\n",
       "      <td>Guyton</td>\n",
       "      <td>...</td>\n",
       "      <td>NaN</td>\n",
       "      <td>0.0</td>\n",
       "      <td>0.0</td>\n",
       "      <td>0.0</td>\n",
       "      <td>NaN</td>\n",
       "      <td>NaN</td>\n",
       "      <td>NaN</td>\n",
       "      <td>1.545349</td>\n",
       "      <td>1</td>\n",
       "      <td>1128a1</td>\n",
       "    </tr>\n",
       "    <tr>\n",
       "      <th>1255173</th>\n",
       "      <td>1992999825</td>\n",
       "      <td>Deschenes</td>\n",
       "      <td>Geoffrey</td>\n",
       "      <td>R</td>\n",
       "      <td>M.D.</td>\n",
       "      <td>M</td>\n",
       "      <td>I</td>\n",
       "      <td>1100 9th Ave</td>\n",
       "      <td>Ms:m4-Pfs</td>\n",
       "      <td>Seattle</td>\n",
       "      <td>...</td>\n",
       "      <td>NaN</td>\n",
       "      <td>16.0</td>\n",
       "      <td>NaN</td>\n",
       "      <td>0.0</td>\n",
       "      <td>NaN</td>\n",
       "      <td>18.0</td>\n",
       "      <td>108.0</td>\n",
       "      <td>1.109445</td>\n",
       "      <td>0</td>\n",
       "      <td>0</td>\n",
       "    </tr>\n",
       "    <tr>\n",
       "      <th>1255174</th>\n",
       "      <td>1992999874</td>\n",
       "      <td>Joffe</td>\n",
       "      <td>Gabriella</td>\n",
       "      <td>NaN</td>\n",
       "      <td>NaN</td>\n",
       "      <td>F</td>\n",
       "      <td>I</td>\n",
       "      <td>5620 Brook Rd</td>\n",
       "      <td>NaN</td>\n",
       "      <td>Richmond</td>\n",
       "      <td>...</td>\n",
       "      <td>25.0</td>\n",
       "      <td>NaN</td>\n",
       "      <td>NaN</td>\n",
       "      <td>0.0</td>\n",
       "      <td>NaN</td>\n",
       "      <td>28.0</td>\n",
       "      <td>75.0</td>\n",
       "      <td>2.748669</td>\n",
       "      <td>0</td>\n",
       "      <td>0</td>\n",
       "    </tr>\n",
       "  </tbody>\n",
       "</table>\n",
       "<p>1255124 rows × 87 columns</p>\n",
       "</div>"
      ],
      "text/plain": [
       "         PRSCRBR_NPI Prscrbr_Last_Org_Name Prscrbr_First_Name Prscrbr_MI  \\\n",
       "0         1003000126             Enkeshafi            Ardalan        NaN   \n",
       "1         1003000142                Khalil             Rashid        NaN   \n",
       "2         1003000167               Escobar              Julio          E   \n",
       "3         1003000175         Reyes-Vasquez            Belinda        NaN   \n",
       "4         1003000282             Blakemore              Rosie          K   \n",
       "...              ...                   ...                ...        ...   \n",
       "1255170   1992999569                  Yuen              Jenny          F   \n",
       "1255171   1992999650                  Yong              Wayne          B   \n",
       "1255172   1992999759               Soriano               Dino          V   \n",
       "1255173   1992999825             Deschenes           Geoffrey          R   \n",
       "1255174   1992999874                 Joffe          Gabriella        NaN   \n",
       "\n",
       "          Prscrbr_Crdntls Prscrbr_Gndr Prscrbr_Ent_Cd  \\\n",
       "0                    M.D.            M              I   \n",
       "1                    M.D.            M              I   \n",
       "2                     DDS            M              I   \n",
       "3                  D.D.S.            F              I   \n",
       "4                     FNP            F              I   \n",
       "...                   ...          ...            ...   \n",
       "1255170     O.D., F.A.A.O            F              I   \n",
       "1255171               DMD            M              I   \n",
       "1255172  RN MSN HSA FNP-C            M              I   \n",
       "1255173              M.D.            M              I   \n",
       "1255174               NaN            F              I   \n",
       "\n",
       "                        Prscrbr_St1         Prscrbr_St2   Prscrbr_City  ...  \\\n",
       "0         6410 Rockledge Dr Ste 304                 NaN       Bethesda  ...   \n",
       "1        4126 N Holland Sylvania Rd           Suite 220         Toledo  ...   \n",
       "2                    5 Pine Cone Rd                 NaN         Dayton  ...   \n",
       "3           322 N Azusa Ave Ste 202                 NaN      La Puente  ...   \n",
       "4        Tennessee Prison For Women  3881 Stewarts Lane      Nashville  ...   \n",
       "...                             ...                 ...            ...  ...   \n",
       "1255170                515 Gough St                 NaN  San Francisco  ...   \n",
       "1255171          28 Atlantic Avenue                 121         Boston  ...   \n",
       "1255172        171 Clover Point Cir                 NaN         Guyton  ...   \n",
       "1255173                1100 9th Ave           Ms:m4-Pfs        Seattle  ...   \n",
       "1255174               5620 Brook Rd                 NaN       Richmond  ...   \n",
       "\n",
       "        Bene_Race_Black_Cnt  Bene_Race_Api_Cnt  Bene_Race_Hspnc_Cnt  \\\n",
       "0                      27.0                NaN                  NaN   \n",
       "1                      81.0                NaN                 12.0   \n",
       "2                       0.0                0.0                  NaN   \n",
       "3                       NaN                NaN                  NaN   \n",
       "4                       NaN                NaN                  NaN   \n",
       "...                     ...                ...                  ...   \n",
       "1255170                 0.0               16.0                  0.0   \n",
       "1255171                 NaN               18.0                  0.0   \n",
       "1255172                 NaN                0.0                  0.0   \n",
       "1255173                 NaN               16.0                  NaN   \n",
       "1255174                25.0                NaN                  NaN   \n",
       "\n",
       "         Bene_Race_Natind_Cnt Bene_Race_Othr_Cnt Bene_Dual_Cnt Bene_Ndual_Cnt  \\\n",
       "0                         0.0                NaN          28.0           78.0   \n",
       "1                         0.0                NaN         125.0          103.0   \n",
       "2                         0.0                NaN           0.0           43.0   \n",
       "3                         NaN                NaN           NaN            NaN   \n",
       "4                         NaN                NaN           NaN            NaN   \n",
       "...                       ...                ...           ...            ...   \n",
       "1255170                   0.0                NaN           NaN            NaN   \n",
       "1255171                   0.0                NaN           NaN            NaN   \n",
       "1255172                   0.0                NaN           NaN            NaN   \n",
       "1255173                   0.0                NaN          18.0          108.0   \n",
       "1255174                   0.0                NaN          28.0           75.0   \n",
       "\n",
       "        Bene_Avg_Risk_Scre  Fraud  FraudType  \n",
       "0                 2.245800      0          0  \n",
       "1                 1.695165      0          0  \n",
       "2                 1.006070      0          0  \n",
       "3                 1.251869      0          0  \n",
       "4                 4.919074      0          0  \n",
       "...                    ...    ...        ...  \n",
       "1255170           1.451353      0          0  \n",
       "1255171           1.344691      0          0  \n",
       "1255172           1.545349      1     1128a1  \n",
       "1255173           1.109445      0          0  \n",
       "1255174           2.748669      0          0  \n",
       "\n",
       "[1255124 rows x 87 columns]"
      ]
     },
     "execution_count": 114,
     "metadata": {},
     "output_type": "execute_result"
    }
   ],
   "source": [
    "part_d"
   ]
  },
  {
   "cell_type": "code",
   "execution_count": 115,
   "metadata": {},
   "outputs": [
    {
     "data": {
      "text/plain": [
       "Index(['PRSCRBR_NPI', 'Prscrbr_Last_Org_Name', 'Prscrbr_First_Name',\n",
       "       'Prscrbr_MI', 'Prscrbr_Crdntls', 'Prscrbr_Gndr', 'Prscrbr_Ent_Cd',\n",
       "       'Prscrbr_St1', 'Prscrbr_St2', 'Prscrbr_City', 'Prscrbr_State_Abrvtn',\n",
       "       'Prscrbr_State_FIPS', 'Prscrbr_zip5', 'Prscrbr_RUCA',\n",
       "       'Prscrbr_RUCA_Desc', 'Prscrbr_Cntry', 'Prscrbr_Type',\n",
       "       'Prscrbr_Type_src', 'Tot_Clms', 'Tot_30day_Fills', 'Tot_Drug_Cst',\n",
       "       'Tot_Day_Suply', 'Tot_Benes', 'GE65_Sprsn_Flag', 'GE65_Tot_Clms',\n",
       "       'GE65_Tot_30day_Fills', 'GE65_Tot_Drug_Cst', 'GE65_Tot_Day_Suply',\n",
       "       'GE65_Bene_Sprsn_Flag', 'GE65_Tot_Benes', 'Brnd_Sprsn_Flag',\n",
       "       'Brnd_Tot_Clms', 'Brnd_Tot_Drug_Cst', 'Gnrc_Sprsn_Flag',\n",
       "       'Gnrc_Tot_Clms', 'Gnrc_Tot_Drug_Cst', 'Othr_Sprsn_Flag',\n",
       "       'Othr_Tot_Clms', 'Othr_Tot_Drug_Cst', 'MAPD_Sprsn_Flag',\n",
       "       'MAPD_Tot_Clms', 'MAPD_Tot_Drug_Cst', 'PDP_Sprsn_Flag', 'PDP_Tot_Clms',\n",
       "       'PDP_Tot_Drug_Cst', 'LIS_Sprsn_Flag', 'LIS_Tot_Clms', 'LIS_Drug_Cst',\n",
       "       'NonLIS_Sprsn_Flag', 'NonLIS_Tot_Clms', 'NonLIS_Drug_Cst',\n",
       "       'Opioid_Tot_Clms', 'Opioid_Tot_Drug_Cst', 'Opioid_Tot_Suply',\n",
       "       'Opioid_Tot_Benes', 'Opioid_Prscrbr_Rate', 'Opioid_LA_Tot_Clms',\n",
       "       'Opioid_LA_Tot_Drug_Cst', 'Opioid_LA_Tot_Suply', 'Opioid_LA_Tot_Benes',\n",
       "       'Opioid_LA_Prscrbr_Rate', 'Antbtc_Tot_Clms', 'Antbtc_Tot_Drug_Cst',\n",
       "       'Antbtc_Tot_Benes', 'Antpsyct_GE65_Sprsn_Flag',\n",
       "       'Antpsyct_GE65_Tot_Clms', 'Antpsyct_GE65_Tot_Drug_Cst',\n",
       "       'Antpsyct_GE65_Bene_Suprsn_Flag', 'Antpsyct_GE65_Tot_Benes',\n",
       "       'Bene_Avg_Age', 'Bene_Age_LT_65_Cnt', 'Bene_Age_65_74_Cnt',\n",
       "       'Bene_Age_75_84_Cnt', 'Bene_Age_GT_84_Cnt', 'Bene_Feml_Cnt',\n",
       "       'Bene_Male_Cnt', 'Bene_Race_Wht_Cnt', 'Bene_Race_Black_Cnt',\n",
       "       'Bene_Race_Api_Cnt', 'Bene_Race_Hspnc_Cnt', 'Bene_Race_Natind_Cnt',\n",
       "       'Bene_Race_Othr_Cnt', 'Bene_Dual_Cnt', 'Bene_Ndual_Cnt',\n",
       "       'Bene_Avg_Risk_Scre', 'Fraud', 'FraudType'],\n",
       "      dtype='object')"
      ]
     },
     "execution_count": 115,
     "metadata": {},
     "output_type": "execute_result"
    }
   ],
   "source": [
    "part_d.columns"
   ]
  },
  {
   "cell_type": "code",
   "execution_count": 116,
   "metadata": {},
   "outputs": [
    {
     "name": "stdout",
     "output_type": "stream",
     "text": [
      "<class 'pandas.core.frame.DataFrame'>\n",
      "Int64Index: 1255124 entries, 0 to 1255174\n",
      "Data columns (total 87 columns):\n",
      " #   Column                          Non-Null Count    Dtype  \n",
      "---  ------                          --------------    -----  \n",
      " 0   PRSCRBR_NPI                     1255124 non-null  int64  \n",
      " 1   Prscrbr_Last_Org_Name           1255124 non-null  object \n",
      " 2   Prscrbr_First_Name              1255124 non-null  object \n",
      " 3   Prscrbr_MI                      839049 non-null   object \n",
      " 4   Prscrbr_Crdntls                 1155833 non-null  object \n",
      " 5   Prscrbr_Gndr                    1255124 non-null  object \n",
      " 6   Prscrbr_Ent_Cd                  1255124 non-null  object \n",
      " 7   Prscrbr_St1                     1255123 non-null  object \n",
      " 8   Prscrbr_St2                     341847 non-null   object \n",
      " 9   Prscrbr_City                    1255123 non-null  object \n",
      " 10  Prscrbr_State_Abrvtn            1255124 non-null  object \n",
      " 11  Prscrbr_State_FIPS              1253994 non-null  float64\n",
      " 12  Prscrbr_zip5                    1255079 non-null  float64\n",
      " 13  Prscrbr_RUCA                    1253994 non-null  float64\n",
      " 14  Prscrbr_RUCA_Desc               1253994 non-null  object \n",
      " 15  Prscrbr_Cntry                   1255124 non-null  object \n",
      " 16  Prscrbr_Type                    1255119 non-null  object \n",
      " 17  Prscrbr_Type_src                1255124 non-null  object \n",
      " 18  Tot_Clms                        1255124 non-null  int64  \n",
      " 19  Tot_30day_Fills                 1255124 non-null  float64\n",
      " 20  Tot_Drug_Cst                    1255124 non-null  float64\n",
      " 21  Tot_Day_Suply                   1255124 non-null  int64  \n",
      " 22  Tot_Benes                       1112168 non-null  float64\n",
      " 23  GE65_Sprsn_Flag                 294227 non-null   object \n",
      " 24  GE65_Tot_Clms                   960897 non-null   float64\n",
      " 25  GE65_Tot_30day_Fills            960897 non-null   float64\n",
      " 26  GE65_Tot_Drug_Cst               960897 non-null   float64\n",
      " 27  GE65_Tot_Day_Suply              960897 non-null   float64\n",
      " 28  GE65_Bene_Sprsn_Flag            592000 non-null   object \n",
      " 29  GE65_Tot_Benes                  663124 non-null   float64\n",
      " 30  Brnd_Sprsn_Flag                 543484 non-null   object \n",
      " 31  Brnd_Tot_Clms                   711640 non-null   float64\n",
      " 32  Brnd_Tot_Drug_Cst               711640 non-null   float64\n",
      " 33  Gnrc_Sprsn_Flag                 30172 non-null    object \n",
      " 34  Gnrc_Tot_Clms                   1224952 non-null  float64\n",
      " 35  Gnrc_Tot_Drug_Cst               1224952 non-null  float64\n",
      " 36  Othr_Sprsn_Flag                 538251 non-null   object \n",
      " 37  Othr_Tot_Clms                   716873 non-null   float64\n",
      " 38  Othr_Tot_Drug_Cst               716873 non-null   float64\n",
      " 39  MAPD_Sprsn_Flag                 231297 non-null   object \n",
      " 40  MAPD_Tot_Clms                   1023827 non-null  float64\n",
      " 41  MAPD_Tot_Drug_Cst               1023827 non-null  float64\n",
      " 42  PDP_Sprsn_Flag                  231297 non-null   object \n",
      " 43  PDP_Tot_Clms                    1023827 non-null  float64\n",
      " 44  PDP_Tot_Drug_Cst                1023827 non-null  float64\n",
      " 45  LIS_Sprsn_Flag                  266730 non-null   object \n",
      " 46  LIS_Tot_Clms                    988394 non-null   float64\n",
      " 47  LIS_Drug_Cst                    988394 non-null   float64\n",
      " 48  NonLIS_Sprsn_Flag               266730 non-null   object \n",
      " 49  NonLIS_Tot_Clms                 988394 non-null   float64\n",
      " 50  NonLIS_Drug_Cst                 988394 non-null   float64\n",
      " 51  Opioid_Tot_Clms                 907991 non-null   float64\n",
      " 52  Opioid_Tot_Drug_Cst             907991 non-null   float64\n",
      " 53  Opioid_Tot_Suply                907991 non-null   float64\n",
      " 54  Opioid_Tot_Benes                731493 non-null   float64\n",
      " 55  Opioid_Prscrbr_Rate             907991 non-null   float64\n",
      " 56  Opioid_LA_Tot_Clms              822354 non-null   float64\n",
      " 57  Opioid_LA_Tot_Drug_Cst          822354 non-null   float64\n",
      " 58  Opioid_LA_Tot_Suply             822354 non-null   float64\n",
      " 59  Opioid_LA_Tot_Benes             603474 non-null   float64\n",
      " 60  Opioid_LA_Prscrbr_Rate          351670 non-null   float64\n",
      " 61  Antbtc_Tot_Clms                 881532 non-null   float64\n",
      " 62  Antbtc_Tot_Drug_Cst             881532 non-null   float64\n",
      " 63  Antbtc_Tot_Benes                753831 non-null   float64\n",
      " 64  Antpsyct_GE65_Sprsn_Flag        459981 non-null   object \n",
      " 65  Antpsyct_GE65_Tot_Clms          795143 non-null   float64\n",
      " 66  Antpsyct_GE65_Tot_Drug_Cst      795143 non-null   float64\n",
      " 67  Antpsyct_GE65_Bene_Suprsn_Flag  0 non-null        float64\n",
      " 68  Antpsyct_GE65_Tot_Benes         457743 non-null   float64\n",
      " 69  Bene_Avg_Age                    1255124 non-null  float64\n",
      " 70  Bene_Age_LT_65_Cnt              571619 non-null   float64\n",
      " 71  Bene_Age_65_74_Cnt              626410 non-null   float64\n",
      " 72  Bene_Age_75_84_Cnt              444285 non-null   float64\n",
      " 73  Bene_Age_GT_84_Cnt              364572 non-null   float64\n",
      " 74  Bene_Feml_Cnt                   885642 non-null   float64\n",
      " 75  Bene_Male_Cnt                   885642 non-null   float64\n",
      " 76  Bene_Race_Wht_Cnt               991859 non-null   float64\n",
      " 77  Bene_Race_Black_Cnt             514991 non-null   float64\n",
      " 78  Bene_Race_Api_Cnt               493162 non-null   float64\n",
      " 79  Bene_Race_Hspnc_Cnt             505354 non-null   float64\n",
      " 80  Bene_Race_Natind_Cnt            891044 non-null   float64\n",
      " 81  Bene_Race_Othr_Cnt              389403 non-null   float64\n",
      " 82  Bene_Dual_Cnt                   722969 non-null   float64\n",
      " 83  Bene_Ndual_Cnt                  722969 non-null   float64\n",
      " 84  Bene_Avg_Risk_Scre              1255112 non-null  float64\n",
      " 85  Fraud                           1255124 non-null  int64  \n",
      " 86  FraudType                       1255124 non-null  object \n",
      "dtypes: float64(58), int64(4), object(25)\n",
      "memory usage: 842.7+ MB\n"
     ]
    }
   ],
   "source": [
    "part_d.info()"
   ]
  },
  {
   "cell_type": "code",
   "execution_count": 117,
   "metadata": {},
   "outputs": [
    {
     "data": {
      "text/plain": [
       "Series([], Name: Fraud, dtype: int64)"
      ]
     },
     "execution_count": 117,
     "metadata": {},
     "output_type": "execute_result"
    }
   ],
   "source": [
    "part_d[part_d['Prscrbr_Type_src'].isnull()][\"Fraud\"].value_counts()"
   ]
  },
  {
   "cell_type": "code",
   "execution_count": 118,
   "metadata": {},
   "outputs": [],
   "source": [
    "# Only US Frauds\n",
    "part_d = part_d[part_d[\"Prscrbr_Cntry\"] == 'US']"
   ]
  },
  {
   "cell_type": "markdown",
   "metadata": {},
   "source": [
    "### Prscrbr_Type_src"
   ]
  },
  {
   "cell_type": "code",
   "execution_count": 119,
   "metadata": {},
   "outputs": [
    {
     "data": {
      "text/plain": [
       "0          S\n",
       "1          S\n",
       "2          S\n",
       "3          S\n",
       "4          S\n",
       "          ..\n",
       "1255170    S\n",
       "1255171    S\n",
       "1255172    S\n",
       "1255173    S\n",
       "1255174    S\n",
       "Name: Prscrbr_Type_src, Length: 1254987, dtype: object"
      ]
     },
     "execution_count": 119,
     "metadata": {},
     "output_type": "execute_result"
    }
   ],
   "source": [
    "part_d[\"Prscrbr_Type_src\"]"
   ]
  },
  {
   "cell_type": "code",
   "execution_count": 120,
   "metadata": {},
   "outputs": [],
   "source": [
    "# Binary Encoding\n",
    "part_d[\"Prscrbr_Type_src\"] = part_d[\"Prscrbr_Type_src\"].apply(lambda row : 1 if row == \"S\" else 0).astype(float)"
   ]
  },
  {
   "cell_type": "code",
   "execution_count": 121,
   "metadata": {},
   "outputs": [
    {
     "data": {
      "text/plain": [
       "1.0    1115928\n",
       "0.0     139059\n",
       "Name: Prscrbr_Type_src, dtype: int64"
      ]
     },
     "execution_count": 121,
     "metadata": {},
     "output_type": "execute_result"
    }
   ],
   "source": [
    "part_d[\"Prscrbr_Type_src\"].value_counts()"
   ]
  },
  {
   "cell_type": "markdown",
   "metadata": {},
   "source": [
    "### Prscrbr_Gndr"
   ]
  },
  {
   "cell_type": "code",
   "execution_count": 122,
   "metadata": {},
   "outputs": [
    {
     "data": {
      "text/plain": [
       "0          M\n",
       "1          M\n",
       "2          M\n",
       "3          F\n",
       "4          F\n",
       "          ..\n",
       "1255170    F\n",
       "1255171    M\n",
       "1255172    M\n",
       "1255173    M\n",
       "1255174    F\n",
       "Name: Prscrbr_Gndr, Length: 1254987, dtype: object"
      ]
     },
     "execution_count": 122,
     "metadata": {},
     "output_type": "execute_result"
    }
   ],
   "source": [
    "part_d[\"Prscrbr_Gndr\"]"
   ]
  },
  {
   "cell_type": "code",
   "execution_count": 123,
   "metadata": {},
   "outputs": [],
   "source": [
    "# Binary Encoding\n",
    "part_d[\"Prscrbr_Gndr\"] = part_d[\"Prscrbr_Gndr\"].apply(lambda row : 1 if row == \"F\" else 0).astype(float)"
   ]
  },
  {
   "cell_type": "code",
   "execution_count": 124,
   "metadata": {},
   "outputs": [
    {
     "data": {
      "text/plain": [
       "0          0.0\n",
       "1          0.0\n",
       "2          0.0\n",
       "3          1.0\n",
       "4          1.0\n",
       "          ... \n",
       "1255170    1.0\n",
       "1255171    0.0\n",
       "1255172    0.0\n",
       "1255173    0.0\n",
       "1255174    1.0\n",
       "Name: Prscrbr_Gndr, Length: 1254987, dtype: float64"
      ]
     },
     "execution_count": 124,
     "metadata": {},
     "output_type": "execute_result"
    }
   ],
   "source": [
    "part_d[\"Prscrbr_Gndr\"]"
   ]
  },
  {
   "cell_type": "markdown",
   "metadata": {},
   "source": [
    "### Tot_Clms"
   ]
  },
  {
   "cell_type": "code",
   "execution_count": 125,
   "metadata": {},
   "outputs": [
    {
     "data": {
      "text/plain": [
       "0           324\n",
       "1          1992\n",
       "2            57\n",
       "3            18\n",
       "4            37\n",
       "           ... \n",
       "1255170      40\n",
       "1255171      72\n",
       "1255172      47\n",
       "1255173     249\n",
       "1255174     274\n",
       "Name: Tot_Clms, Length: 1254987, dtype: int64"
      ]
     },
     "execution_count": 125,
     "metadata": {},
     "output_type": "execute_result"
    }
   ],
   "source": [
    "part_d[\"Tot_Clms\"]"
   ]
  },
  {
   "cell_type": "code",
   "execution_count": 126,
   "metadata": {},
   "outputs": [],
   "source": [
    "part_d[\"Tot_Clms\"] = part_d[\"Tot_Clms\"].astype(float)"
   ]
  },
  {
   "cell_type": "code",
   "execution_count": 127,
   "metadata": {},
   "outputs": [
    {
     "data": {
      "text/plain": [
       "0           324.0\n",
       "1          1992.0\n",
       "2            57.0\n",
       "3            18.0\n",
       "4            37.0\n",
       "            ...  \n",
       "1255170      40.0\n",
       "1255171      72.0\n",
       "1255172      47.0\n",
       "1255173     249.0\n",
       "1255174     274.0\n",
       "Name: Tot_Clms, Length: 1254987, dtype: float64"
      ]
     },
     "execution_count": 127,
     "metadata": {},
     "output_type": "execute_result"
    }
   ],
   "source": [
    "part_d[\"Tot_Clms\"]"
   ]
  },
  {
   "cell_type": "markdown",
   "metadata": {},
   "source": [
    "### Tot_Day_Suply"
   ]
  },
  {
   "cell_type": "code",
   "execution_count": 128,
   "metadata": {},
   "outputs": [
    {
     "data": {
      "text/plain": [
       "0           8621\n",
       "1          60953\n",
       "2            554\n",
       "3            181\n",
       "4           1366\n",
       "           ...  \n",
       "1255170     2357\n",
       "1255171     1092\n",
       "1255172     2704\n",
       "1255173     5801\n",
       "1255174     6436\n",
       "Name: Tot_Day_Suply, Length: 1254987, dtype: int64"
      ]
     },
     "execution_count": 128,
     "metadata": {},
     "output_type": "execute_result"
    }
   ],
   "source": [
    "part_d[\"Tot_Day_Suply\"]"
   ]
  },
  {
   "cell_type": "code",
   "execution_count": 129,
   "metadata": {},
   "outputs": [],
   "source": [
    "part_d[\"Tot_Day_Suply\"] = part_d[\"Tot_Day_Suply\"].astype(float)"
   ]
  },
  {
   "cell_type": "code",
   "execution_count": 130,
   "metadata": {},
   "outputs": [
    {
     "data": {
      "text/plain": [
       "0           8621.0\n",
       "1          60953.0\n",
       "2            554.0\n",
       "3            181.0\n",
       "4           1366.0\n",
       "            ...   \n",
       "1255170     2357.0\n",
       "1255171     1092.0\n",
       "1255172     2704.0\n",
       "1255173     5801.0\n",
       "1255174     6436.0\n",
       "Name: Tot_Day_Suply, Length: 1254987, dtype: float64"
      ]
     },
     "execution_count": 130,
     "metadata": {},
     "output_type": "execute_result"
    }
   ],
   "source": [
    "part_d[\"Tot_Day_Suply\"]"
   ]
  },
  {
   "cell_type": "markdown",
   "metadata": {},
   "source": [
    "### GE65_Sprsn_Flag"
   ]
  },
  {
   "cell_type": "code",
   "execution_count": 131,
   "metadata": {},
   "outputs": [
    {
     "data": {
      "text/plain": [
       "0    960580\n",
       "1       224\n",
       "Name: Fraud, dtype: int64"
      ]
     },
     "execution_count": 131,
     "metadata": {},
     "output_type": "execute_result"
    }
   ],
   "source": [
    "part_d[part_d[\"GE65_Sprsn_Flag\"].isnull()][\"Fraud\"].value_counts()"
   ]
  },
  {
   "cell_type": "code",
   "execution_count": 132,
   "metadata": {},
   "outputs": [
    {
     "data": {
      "text/plain": [
       "#    247982\n",
       "*     46201\n",
       "Name: GE65_Sprsn_Flag, dtype: int64"
      ]
     },
     "execution_count": 132,
     "metadata": {},
     "output_type": "execute_result"
    }
   ],
   "source": [
    "part_d[\"GE65_Sprsn_Flag\"].value_counts()"
   ]
  },
  {
   "cell_type": "code",
   "execution_count": 133,
   "metadata": {},
   "outputs": [],
   "source": [
    "replace_dict = {'#': 1, '*': 0, 'NA': pd.NA}\n",
    "part_d['GE65_Sprsn_Flag'] = part_d['GE65_Sprsn_Flag'].replace(replace_dict)"
   ]
  },
  {
   "cell_type": "code",
   "execution_count": 134,
   "metadata": {},
   "outputs": [
    {
     "data": {
      "text/plain": [
       "1.0    247982\n",
       "0.0     46201\n",
       "Name: GE65_Sprsn_Flag, dtype: int64"
      ]
     },
     "execution_count": 134,
     "metadata": {},
     "output_type": "execute_result"
    }
   ],
   "source": [
    "part_d[\"GE65_Sprsn_Flag\"].value_counts()"
   ]
  },
  {
   "cell_type": "markdown",
   "metadata": {},
   "source": [
    "### GE65_Bene_Sprsn_Flag"
   ]
  },
  {
   "cell_type": "code",
   "execution_count": 60,
   "metadata": {},
   "outputs": [
    {
     "data": {
      "text/plain": [
       "#    384665\n",
       "*    207254\n",
       "Name: GE65_Bene_Sprsn_Flag, dtype: int64"
      ]
     },
     "execution_count": 60,
     "metadata": {},
     "output_type": "execute_result"
    }
   ],
   "source": [
    "part_d[\"GE65_Bene_Sprsn_Flag\"].value_counts()"
   ]
  },
  {
   "cell_type": "code",
   "execution_count": 61,
   "metadata": {},
   "outputs": [],
   "source": [
    "replace_dict = {'#': 1, '*': 0, 'NA': pd.NA}\n",
    "part_d['GE65_Bene_Sprsn_Flag'] = part_d['GE65_Bene_Sprsn_Flag'].replace(replace_dict)"
   ]
  },
  {
   "cell_type": "code",
   "execution_count": 62,
   "metadata": {},
   "outputs": [
    {
     "data": {
      "text/plain": [
       "1.0    384665\n",
       "0.0    207254\n",
       "Name: GE65_Bene_Sprsn_Flag, dtype: int64"
      ]
     },
     "execution_count": 62,
     "metadata": {},
     "output_type": "execute_result"
    }
   ],
   "source": [
    "part_d[\"GE65_Bene_Sprsn_Flag\"].value_counts()"
   ]
  },
  {
   "cell_type": "markdown",
   "metadata": {},
   "source": [
    "### Brnd_Sprsn_Flag"
   ]
  },
  {
   "cell_type": "code",
   "execution_count": 63,
   "metadata": {},
   "outputs": [
    {
     "data": {
      "text/plain": [
       "*    342262\n",
       "#    201152\n",
       "Name: Brnd_Sprsn_Flag, dtype: int64"
      ]
     },
     "execution_count": 63,
     "metadata": {},
     "output_type": "execute_result"
    }
   ],
   "source": [
    "part_d[\"Brnd_Sprsn_Flag\"].value_counts()"
   ]
  },
  {
   "cell_type": "code",
   "execution_count": 64,
   "metadata": {},
   "outputs": [],
   "source": [
    "replace_dict = {'#': 1, '*': 0, 'NA': pd.NA}\n",
    "part_d['Brnd_Sprsn_Flag'] = part_d['Brnd_Sprsn_Flag'].replace(replace_dict)"
   ]
  },
  {
   "cell_type": "code",
   "execution_count": 65,
   "metadata": {},
   "outputs": [
    {
     "data": {
      "text/plain": [
       "0.0    342262\n",
       "1.0    201152\n",
       "Name: Brnd_Sprsn_Flag, dtype: int64"
      ]
     },
     "execution_count": 65,
     "metadata": {},
     "output_type": "execute_result"
    }
   ],
   "source": [
    "part_d[\"Brnd_Sprsn_Flag\"].value_counts()"
   ]
  },
  {
   "cell_type": "markdown",
   "metadata": {},
   "source": [
    "### Gnrc_Sprsn_Flag"
   ]
  },
  {
   "cell_type": "code",
   "execution_count": 68,
   "metadata": {},
   "outputs": [
    {
     "data": {
      "text/plain": [
       "*    27417\n",
       "#     2749\n",
       "Name: Gnrc_Sprsn_Flag, dtype: int64"
      ]
     },
     "execution_count": 68,
     "metadata": {},
     "output_type": "execute_result"
    }
   ],
   "source": [
    "part_d[\"Gnrc_Sprsn_Flag\"].value_counts()"
   ]
  },
  {
   "cell_type": "code",
   "execution_count": 69,
   "metadata": {},
   "outputs": [],
   "source": [
    "replace_dict = {'#': 1, '*': 0, 'NA': pd.NA}\n",
    "part_d['Gnrc_Sprsn_Flag'] = part_d['Gnrc_Sprsn_Flag'].replace(replace_dict)"
   ]
  },
  {
   "cell_type": "code",
   "execution_count": 70,
   "metadata": {},
   "outputs": [
    {
     "data": {
      "text/plain": [
       "0.0    27417\n",
       "1.0     2749\n",
       "Name: Gnrc_Sprsn_Flag, dtype: int64"
      ]
     },
     "execution_count": 70,
     "metadata": {},
     "output_type": "execute_result"
    }
   ],
   "source": [
    "part_d[\"Gnrc_Sprsn_Flag\"].value_counts()"
   ]
  },
  {
   "cell_type": "markdown",
   "metadata": {},
   "source": [
    "### Othr_Sprsn_Flag"
   ]
  },
  {
   "cell_type": "code",
   "execution_count": 71,
   "metadata": {},
   "outputs": [
    {
     "data": {
      "text/plain": [
       "#    292070\n",
       "*    246111\n",
       "Name: Othr_Sprsn_Flag, dtype: int64"
      ]
     },
     "execution_count": 71,
     "metadata": {},
     "output_type": "execute_result"
    }
   ],
   "source": [
    "part_d[\"Othr_Sprsn_Flag\"].value_counts()"
   ]
  },
  {
   "cell_type": "code",
   "execution_count": 72,
   "metadata": {},
   "outputs": [],
   "source": [
    "replace_dict = {'#': 1, '*': 0, 'NA': pd.NA}\n",
    "part_d['Othr_Sprsn_Flag'] = part_d['Othr_Sprsn_Flag'].replace(replace_dict)"
   ]
  },
  {
   "cell_type": "code",
   "execution_count": 73,
   "metadata": {},
   "outputs": [
    {
     "data": {
      "text/plain": [
       "1.0    292070\n",
       "0.0    246111\n",
       "Name: Othr_Sprsn_Flag, dtype: int64"
      ]
     },
     "execution_count": 73,
     "metadata": {},
     "output_type": "execute_result"
    }
   ],
   "source": [
    "part_d[\"Othr_Sprsn_Flag\"].value_counts()"
   ]
  },
  {
   "cell_type": "markdown",
   "metadata": {},
   "source": [
    "### MAPD_Sprsn_Flag "
   ]
  },
  {
   "cell_type": "code",
   "execution_count": 75,
   "metadata": {},
   "outputs": [
    {
     "data": {
      "text/plain": [
       "*    161977\n",
       "#     69281\n",
       "Name: MAPD_Sprsn_Flag, dtype: int64"
      ]
     },
     "execution_count": 75,
     "metadata": {},
     "output_type": "execute_result"
    }
   ],
   "source": [
    "part_d[\"MAPD_Sprsn_Flag\"].value_counts()"
   ]
  },
  {
   "cell_type": "code",
   "execution_count": 76,
   "metadata": {},
   "outputs": [],
   "source": [
    "replace_dict = {'#': 1, '*': 0, 'NA': pd.NA}\n",
    "part_d['MAPD_Sprsn_Flag'] = part_d['MAPD_Sprsn_Flag'].replace(replace_dict)"
   ]
  },
  {
   "cell_type": "code",
   "execution_count": 77,
   "metadata": {},
   "outputs": [
    {
     "data": {
      "text/plain": [
       "0.0    161977\n",
       "1.0     69281\n",
       "Name: MAPD_Sprsn_Flag, dtype: int64"
      ]
     },
     "execution_count": 77,
     "metadata": {},
     "output_type": "execute_result"
    }
   ],
   "source": [
    "part_d[\"MAPD_Sprsn_Flag\"].value_counts()"
   ]
  },
  {
   "cell_type": "markdown",
   "metadata": {},
   "source": [
    "### PDP_Sprsn_Flag"
   ]
  },
  {
   "cell_type": "code",
   "execution_count": 78,
   "metadata": {},
   "outputs": [
    {
     "data": {
      "text/plain": [
       "#    120161\n",
       "*    111097\n",
       "Name: PDP_Sprsn_Flag, dtype: int64"
      ]
     },
     "execution_count": 78,
     "metadata": {},
     "output_type": "execute_result"
    }
   ],
   "source": [
    "part_d[\"PDP_Sprsn_Flag\"].value_counts()"
   ]
  },
  {
   "cell_type": "code",
   "execution_count": 79,
   "metadata": {},
   "outputs": [],
   "source": [
    "replace_dict = {'#': 1, '*': 0, 'NA': pd.NA}\n",
    "part_d['PDP_Sprsn_Flag'] = part_d['PDP_Sprsn_Flag'].replace(replace_dict)"
   ]
  },
  {
   "cell_type": "code",
   "execution_count": 80,
   "metadata": {},
   "outputs": [
    {
     "data": {
      "text/plain": [
       "1.0    120161\n",
       "0.0    111097\n",
       "Name: PDP_Sprsn_Flag, dtype: int64"
      ]
     },
     "execution_count": 80,
     "metadata": {},
     "output_type": "execute_result"
    }
   ],
   "source": [
    "part_d[\"PDP_Sprsn_Flag\"].value_counts()"
   ]
  },
  {
   "cell_type": "markdown",
   "metadata": {},
   "source": [
    "### LIS_Sprsn_Flag"
   ]
  },
  {
   "cell_type": "code",
   "execution_count": 81,
   "metadata": {},
   "outputs": [
    {
     "data": {
      "text/plain": [
       "*    203098\n",
       "#     63592\n",
       "Name: LIS_Sprsn_Flag, dtype: int64"
      ]
     },
     "execution_count": 81,
     "metadata": {},
     "output_type": "execute_result"
    }
   ],
   "source": [
    "part_d[\"LIS_Sprsn_Flag\"].value_counts()"
   ]
  },
  {
   "cell_type": "code",
   "execution_count": 82,
   "metadata": {},
   "outputs": [],
   "source": [
    "replace_dict = {'#': 1, '*': 0, 'NA': pd.NA}\n",
    "part_d['LIS_Sprsn_Flag'] = part_d['LIS_Sprsn_Flag'].replace(replace_dict)"
   ]
  },
  {
   "cell_type": "code",
   "execution_count": 83,
   "metadata": {},
   "outputs": [
    {
     "data": {
      "text/plain": [
       "0.0    203098\n",
       "1.0     63592\n",
       "Name: LIS_Sprsn_Flag, dtype: int64"
      ]
     },
     "execution_count": 83,
     "metadata": {},
     "output_type": "execute_result"
    }
   ],
   "source": [
    "part_d[\"LIS_Sprsn_Flag\"].value_counts()"
   ]
  },
  {
   "cell_type": "markdown",
   "metadata": {},
   "source": [
    "### NonLIS_Sprsn_Flag"
   ]
  },
  {
   "cell_type": "code",
   "execution_count": 84,
   "metadata": {},
   "outputs": [
    {
     "data": {
      "text/plain": [
       "#    171519\n",
       "*     95171\n",
       "Name: NonLIS_Sprsn_Flag, dtype: int64"
      ]
     },
     "execution_count": 84,
     "metadata": {},
     "output_type": "execute_result"
    }
   ],
   "source": [
    "part_d[\"NonLIS_Sprsn_Flag\"].value_counts()"
   ]
  },
  {
   "cell_type": "code",
   "execution_count": 85,
   "metadata": {},
   "outputs": [],
   "source": [
    "replace_dict = {'#': 1, '*': 0, 'NA': pd.NA}\n",
    "part_d['NonLIS_Sprsn_Flag'] = part_d['NonLIS_Sprsn_Flag'].replace(replace_dict)"
   ]
  },
  {
   "cell_type": "code",
   "execution_count": 86,
   "metadata": {},
   "outputs": [
    {
     "data": {
      "text/plain": [
       "1.0    171519\n",
       "0.0     95171\n",
       "Name: NonLIS_Sprsn_Flag, dtype: int64"
      ]
     },
     "execution_count": 86,
     "metadata": {},
     "output_type": "execute_result"
    }
   ],
   "source": [
    "part_d[\"NonLIS_Sprsn_Flag\"].value_counts()"
   ]
  },
  {
   "cell_type": "markdown",
   "metadata": {},
   "source": [
    "### Antpsyct_GE65_Sprsn_Flag"
   ]
  },
  {
   "cell_type": "code",
   "execution_count": 135,
   "metadata": {},
   "outputs": [
    {
     "data": {
      "text/plain": [
       "*    459921\n",
       "Name: Antpsyct_GE65_Sprsn_Flag, dtype: int64"
      ]
     },
     "execution_count": 135,
     "metadata": {},
     "output_type": "execute_result"
    }
   ],
   "source": [
    "part_d[\"Antpsyct_GE65_Sprsn_Flag\"].value_counts()"
   ]
  },
  {
   "cell_type": "code",
   "execution_count": 88,
   "metadata": {},
   "outputs": [],
   "source": [
    "replace_dict = {'#': 1, '*': 0, 'NA': pd.NA}\n",
    "part_d['Antpsyct_GE65_Sprsn_Flag'] = part_d['Antpsyct_GE65_Sprsn_Flag'].replace(replace_dict)"
   ]
  },
  {
   "cell_type": "code",
   "execution_count": 89,
   "metadata": {},
   "outputs": [
    {
     "data": {
      "text/plain": [
       "0.0    459921\n",
       "Name: Antpsyct_GE65_Sprsn_Flag, dtype: int64"
      ]
     },
     "execution_count": 89,
     "metadata": {},
     "output_type": "execute_result"
    }
   ],
   "source": [
    "part_d[\"Antpsyct_GE65_Sprsn_Flag\"].value_counts()"
   ]
  },
  {
   "cell_type": "markdown",
   "metadata": {},
   "source": [
    "### Label Encoding"
   ]
  },
  {
   "cell_type": "code",
   "execution_count": 90,
   "metadata": {},
   "outputs": [],
   "source": [
    "from sklearn.preprocessing import LabelEncoder\n",
    "label_encoder = LabelEncoder()\n",
    "part_d['Prscrbr_Crdntls'] = label_encoder.fit_transform(part_d['Prscrbr_Crdntls'])"
   ]
  },
  {
   "cell_type": "code",
   "execution_count": 91,
   "metadata": {},
   "outputs": [
    {
     "data": {
      "text/plain": [
       "9176     297695\n",
       "7632     269106\n",
       "16837     99276\n",
       "13493     55200\n",
       "4394      49226\n",
       "          ...  \n",
       "12433         1\n",
       "13838         1\n",
       "16337         1\n",
       "15991         1\n",
       "15356         1\n",
       "Name: Prscrbr_Crdntls, Length: 16838, dtype: int64"
      ]
     },
     "execution_count": 91,
     "metadata": {},
     "output_type": "execute_result"
    }
   ],
   "source": [
    "part_d[\"Prscrbr_Crdntls\"].value_counts()"
   ]
  },
  {
   "cell_type": "code",
   "execution_count": 92,
   "metadata": {},
   "outputs": [],
   "source": [
    "from sklearn.preprocessing import LabelEncoder\n",
    "label_encoder = LabelEncoder()\n",
    "part_d['Prscrbr_Type'] = label_encoder.fit_transform(part_d['Prscrbr_Type'])"
   ]
  },
  {
   "cell_type": "code",
   "execution_count": 93,
   "metadata": {},
   "outputs": [
    {
     "data": {
      "text/plain": [
       "120    200391\n",
       "42     127259\n",
       "86     124838\n",
       "60     112858\n",
       "155    107367\n",
       "        ...  \n",
       "182         1\n",
       "90          1\n",
       "134         1\n",
       "166         1\n",
       "58          1\n",
       "Name: Prscrbr_Type, Length: 216, dtype: int64"
      ]
     },
     "execution_count": 93,
     "metadata": {},
     "output_type": "execute_result"
    }
   ],
   "source": [
    "part_d[\"Prscrbr_Type\"].value_counts()"
   ]
  },
  {
   "cell_type": "code",
   "execution_count": 94,
   "metadata": {},
   "outputs": [
    {
     "data": {
      "text/plain": [
       "Index(['PRSCRBR_NPI', 'Prscrbr_Last_Org_Name', 'Prscrbr_First_Name',\n",
       "       'Prscrbr_MI', 'Prscrbr_Crdntls', 'Prscrbr_Gndr', 'Prscrbr_Ent_Cd',\n",
       "       'Prscrbr_St1', 'Prscrbr_St2', 'Prscrbr_City', 'Prscrbr_State_Abrvtn',\n",
       "       'Prscrbr_State_FIPS', 'Prscrbr_zip5', 'Prscrbr_RUCA',\n",
       "       'Prscrbr_RUCA_Desc', 'Prscrbr_Cntry', 'Prscrbr_Type',\n",
       "       'Prscrbr_Type_src', 'Tot_Clms', 'Tot_30day_Fills', 'Tot_Drug_Cst',\n",
       "       'Tot_Day_Suply', 'Tot_Benes', 'GE65_Sprsn_Flag', 'GE65_Tot_Clms',\n",
       "       'GE65_Tot_30day_Fills', 'GE65_Tot_Drug_Cst', 'GE65_Tot_Day_Suply',\n",
       "       'GE65_Bene_Sprsn_Flag', 'GE65_Tot_Benes', 'Brnd_Sprsn_Flag',\n",
       "       'Brnd_Tot_Clms', 'Brnd_Tot_Drug_Cst', 'Gnrc_Sprsn_Flag',\n",
       "       'Gnrc_Tot_Clms', 'Gnrc_Tot_Drug_Cst', 'Othr_Sprsn_Flag',\n",
       "       'Othr_Tot_Clms', 'Othr_Tot_Drug_Cst', 'MAPD_Sprsn_Flag',\n",
       "       'MAPD_Tot_Clms', 'MAPD_Tot_Drug_Cst', 'PDP_Sprsn_Flag', 'PDP_Tot_Clms',\n",
       "       'PDP_Tot_Drug_Cst', 'LIS_Sprsn_Flag', 'LIS_Tot_Clms', 'LIS_Drug_Cst',\n",
       "       'NonLIS_Sprsn_Flag', 'NonLIS_Tot_Clms', 'NonLIS_Drug_Cst',\n",
       "       'Opioid_Tot_Clms', 'Opioid_Tot_Drug_Cst', 'Opioid_Tot_Suply',\n",
       "       'Opioid_Tot_Benes', 'Opioid_Prscrbr_Rate', 'Opioid_LA_Tot_Clms',\n",
       "       'Opioid_LA_Tot_Drug_Cst', 'Opioid_LA_Tot_Suply', 'Opioid_LA_Tot_Benes',\n",
       "       'Opioid_LA_Prscrbr_Rate', 'Antbtc_Tot_Clms', 'Antbtc_Tot_Drug_Cst',\n",
       "       'Antbtc_Tot_Benes', 'Antpsyct_GE65_Sprsn_Flag',\n",
       "       'Antpsyct_GE65_Tot_Clms', 'Antpsyct_GE65_Tot_Drug_Cst',\n",
       "       'Antpsyct_GE65_Bene_Suprsn_Flag', 'Antpsyct_GE65_Tot_Benes',\n",
       "       'Bene_Avg_Age', 'Bene_Age_LT_65_Cnt', 'Bene_Age_65_74_Cnt',\n",
       "       'Bene_Age_75_84_Cnt', 'Bene_Age_GT_84_Cnt', 'Bene_Feml_Cnt',\n",
       "       'Bene_Male_Cnt', 'Bene_Race_Wht_Cnt', 'Bene_Race_Black_Cnt',\n",
       "       'Bene_Race_Api_Cnt', 'Bene_Race_Hspnc_Cnt', 'Bene_Race_Natind_Cnt',\n",
       "       'Bene_Race_Othr_Cnt', 'Bene_Dual_Cnt', 'Bene_Ndual_Cnt',\n",
       "       'Bene_Avg_Risk_Scre', 'Fraud', 'FraudType'],\n",
       "      dtype='object')"
      ]
     },
     "execution_count": 94,
     "metadata": {},
     "output_type": "execute_result"
    }
   ],
   "source": [
    "part_d.columns"
   ]
  },
  {
   "cell_type": "code",
   "execution_count": 95,
   "metadata": {},
   "outputs": [],
   "source": [
    "drop_cols = ['Prscrbr_Last_Org_Name', 'Prscrbr_First_Name',\n",
    "       'Prscrbr_MI','Prscrbr_Ent_Cd',\n",
    "       'Prscrbr_St1', 'Prscrbr_St2', 'Prscrbr_City', 'Prscrbr_State_Abrvtn',\n",
    "       'Prscrbr_State_FIPS', 'Prscrbr_zip5', 'Prscrbr_RUCA',\n",
    "       'Prscrbr_RUCA_Desc', 'Prscrbr_Cntry',]\n",
    "part_d = part_d.drop(drop_cols,axis=1)"
   ]
  },
  {
   "cell_type": "code",
   "execution_count": 99,
   "metadata": {},
   "outputs": [],
   "source": [
    "part_d['FraudType'] = part_d['FraudType'].astype(str)"
   ]
  },
  {
   "cell_type": "code",
   "execution_count": 100,
   "metadata": {},
   "outputs": [],
   "source": [
    "from sklearn.preprocessing import LabelEncoder\n",
    "label_encoder = LabelEncoder()\n",
    "part_d['FraudType'] = label_encoder.fit_transform(part_d['FraudType'])"
   ]
  },
  {
   "cell_type": "code",
   "execution_count": 101,
   "metadata": {},
   "outputs": [
    {
     "data": {
      "text/plain": [
       "0     1254695\n",
       "2          88\n",
       "11         62\n",
       "8          52\n",
       "3          32\n",
       "6          28\n",
       "12         11\n",
       "4           6\n",
       "9           5\n",
       "7           3\n",
       "5           2\n",
       "1           1\n",
       "13          1\n",
       "10          1\n",
       "Name: FraudType, dtype: int64"
      ]
     },
     "execution_count": 101,
     "metadata": {},
     "output_type": "execute_result"
    }
   ],
   "source": [
    "part_d[\"FraudType\"].value_counts()"
   ]
  },
  {
   "cell_type": "code",
   "execution_count": 102,
   "metadata": {},
   "outputs": [
    {
     "name": "stdout",
     "output_type": "stream",
     "text": [
      "<class 'pandas.core.frame.DataFrame'>\n",
      "Int64Index: 1254987 entries, 0 to 1255174\n",
      "Data columns (total 74 columns):\n",
      " #   Column                          Non-Null Count    Dtype  \n",
      "---  ------                          --------------    -----  \n",
      " 0   PRSCRBR_NPI                     1254987 non-null  int64  \n",
      " 1   Prscrbr_Crdntls                 1254987 non-null  int64  \n",
      " 2   Prscrbr_Gndr                    1254987 non-null  float64\n",
      " 3   Prscrbr_Type                    1254987 non-null  int64  \n",
      " 4   Prscrbr_Type_src                1254987 non-null  float64\n",
      " 5   Tot_Clms                        1254987 non-null  float64\n",
      " 6   Tot_30day_Fills                 1254987 non-null  float64\n",
      " 7   Tot_Drug_Cst                    1254987 non-null  float64\n",
      " 8   Tot_Day_Suply                   1254987 non-null  float64\n",
      " 9   Tot_Benes                       1112055 non-null  float64\n",
      " 10  GE65_Sprsn_Flag                 294183 non-null   float64\n",
      " 11  GE65_Tot_Clms                   960804 non-null   float64\n",
      " 12  GE65_Tot_30day_Fills            960804 non-null   float64\n",
      " 13  GE65_Tot_Drug_Cst               960804 non-null   float64\n",
      " 14  GE65_Tot_Day_Suply              960804 non-null   float64\n",
      " 15  GE65_Bene_Sprsn_Flag            591919 non-null   float64\n",
      " 16  GE65_Tot_Benes                  663068 non-null   float64\n",
      " 17  Brnd_Sprsn_Flag                 543414 non-null   float64\n",
      " 18  Brnd_Tot_Clms                   711573 non-null   float64\n",
      " 19  Brnd_Tot_Drug_Cst               711573 non-null   float64\n",
      " 20  Gnrc_Sprsn_Flag                 30166 non-null    float64\n",
      " 21  Gnrc_Tot_Clms                   1224821 non-null  float64\n",
      " 22  Gnrc_Tot_Drug_Cst               1224821 non-null  float64\n",
      " 23  Othr_Sprsn_Flag                 538181 non-null   float64\n",
      " 24  Othr_Tot_Clms                   716806 non-null   float64\n",
      " 25  Othr_Tot_Drug_Cst               716806 non-null   float64\n",
      " 26  MAPD_Sprsn_Flag                 231258 non-null   float64\n",
      " 27  MAPD_Tot_Clms                   1023729 non-null  float64\n",
      " 28  MAPD_Tot_Drug_Cst               1023729 non-null  float64\n",
      " 29  PDP_Sprsn_Flag                  231258 non-null   float64\n",
      " 30  PDP_Tot_Clms                    1023729 non-null  float64\n",
      " 31  PDP_Tot_Drug_Cst                1023729 non-null  float64\n",
      " 32  LIS_Sprsn_Flag                  266690 non-null   float64\n",
      " 33  LIS_Tot_Clms                    988297 non-null   float64\n",
      " 34  LIS_Drug_Cst                    988297 non-null   float64\n",
      " 35  NonLIS_Sprsn_Flag               266690 non-null   float64\n",
      " 36  NonLIS_Tot_Clms                 988297 non-null   float64\n",
      " 37  NonLIS_Drug_Cst                 988297 non-null   float64\n",
      " 38  Opioid_Tot_Clms                 907898 non-null   float64\n",
      " 39  Opioid_Tot_Drug_Cst             907898 non-null   float64\n",
      " 40  Opioid_Tot_Suply                907898 non-null   float64\n",
      " 41  Opioid_Tot_Benes                731425 non-null   float64\n",
      " 42  Opioid_Prscrbr_Rate             907898 non-null   float64\n",
      " 43  Opioid_LA_Tot_Clms              822266 non-null   float64\n",
      " 44  Opioid_LA_Tot_Drug_Cst          822266 non-null   float64\n",
      " 45  Opioid_LA_Tot_Suply             822266 non-null   float64\n",
      " 46  Opioid_LA_Tot_Benes             603414 non-null   float64\n",
      " 47  Opioid_LA_Prscrbr_Rate          351635 non-null   float64\n",
      " 48  Antbtc_Tot_Clms                 881439 non-null   float64\n",
      " 49  Antbtc_Tot_Drug_Cst             881439 non-null   float64\n",
      " 50  Antbtc_Tot_Benes                753760 non-null   float64\n",
      " 51  Antpsyct_GE65_Sprsn_Flag        459921 non-null   float64\n",
      " 52  Antpsyct_GE65_Tot_Clms          795066 non-null   float64\n",
      " 53  Antpsyct_GE65_Tot_Drug_Cst      795066 non-null   float64\n",
      " 54  Antpsyct_GE65_Bene_Suprsn_Flag  0 non-null        float64\n",
      " 55  Antpsyct_GE65_Tot_Benes         457703 non-null   float64\n",
      " 56  Bene_Avg_Age                    1254987 non-null  float64\n",
      " 57  Bene_Age_LT_65_Cnt              571569 non-null   float64\n",
      " 58  Bene_Age_65_74_Cnt              626359 non-null   float64\n",
      " 59  Bene_Age_75_84_Cnt              444264 non-null   float64\n",
      " 60  Bene_Age_GT_84_Cnt              364553 non-null   float64\n",
      " 61  Bene_Feml_Cnt                   885573 non-null   float64\n",
      " 62  Bene_Male_Cnt                   885573 non-null   float64\n",
      " 63  Bene_Race_Wht_Cnt               991767 non-null   float64\n",
      " 64  Bene_Race_Black_Cnt             514949 non-null   float64\n",
      " 65  Bene_Race_Api_Cnt               493097 non-null   float64\n",
      " 66  Bene_Race_Hspnc_Cnt             505307 non-null   float64\n",
      " 67  Bene_Race_Natind_Cnt            890950 non-null   float64\n",
      " 68  Bene_Race_Othr_Cnt              389371 non-null   float64\n",
      " 69  Bene_Dual_Cnt                   722911 non-null   float64\n",
      " 70  Bene_Ndual_Cnt                  722911 non-null   float64\n",
      " 71  Bene_Avg_Risk_Scre              1254975 non-null  float64\n",
      " 72  Fraud                           1254987 non-null  int64  \n",
      " 73  FraudType                       1254987 non-null  int64  \n",
      "dtypes: float64(69), int64(5)\n",
      "memory usage: 718.1 MB\n"
     ]
    }
   ],
   "source": [
    "part_d.info()"
   ]
  },
  {
   "cell_type": "code",
   "execution_count": 103,
   "metadata": {},
   "outputs": [],
   "source": [
    "part_d.to_csv(\"processed_partd.csv\")"
   ]
  },
  {
   "cell_type": "code",
   "execution_count": null,
   "metadata": {},
   "outputs": [],
   "source": []
  },
  {
   "cell_type": "code",
   "execution_count": null,
   "metadata": {},
   "outputs": [],
   "source": []
  },
  {
   "cell_type": "code",
   "execution_count": null,
   "metadata": {},
   "outputs": [],
   "source": []
  },
  {
   "cell_type": "code",
   "execution_count": null,
   "metadata": {},
   "outputs": [],
   "source": []
  },
  {
   "cell_type": "code",
   "execution_count": 19,
   "metadata": {},
   "outputs": [],
   "source": [
    "import matplotlib.pyplot as plt\n",
    "import seaborn as sns\n",
    "\n",
    "# List of features with missing values\n",
    "features_with_missing = part_d.columns\n",
    "\n",
    "# Plotting\n",
    "data = []\n",
    "for feature in features_with_missing:\n",
    "    data.append(part_d[part_d[feature].isnull()][\"Fraud\"].value_counts())"
   ]
  },
  {
   "cell_type": "code",
   "execution_count": 25,
   "metadata": {},
   "outputs": [
    {
     "data": {
      "text/plain": [
       "[Series([], Name: Fraud, dtype: int64),\n",
       " Series([], Name: Fraud, dtype: int64),\n",
       " Series([], Name: Fraud, dtype: int64),\n",
       " 0    416001\n",
       " 1        74\n",
       " Name: Fraud, dtype: int64,\n",
       " 0    99280\n",
       " 1       11\n",
       " Name: Fraud, dtype: int64,\n",
       " Series([], Name: Fraud, dtype: int64),\n",
       " Series([], Name: Fraud, dtype: int64),\n",
       " 0    1\n",
       " Name: Fraud, dtype: int64,\n",
       " 0    913093\n",
       " 1       184\n",
       " Name: Fraud, dtype: int64,\n",
       " 0    1\n",
       " Name: Fraud, dtype: int64,\n",
       " Series([], Name: Fraud, dtype: int64),\n",
       " 0    1129\n",
       " 1       1\n",
       " Name: Fraud, dtype: int64,\n",
       " 0    45\n",
       " Name: Fraud, dtype: int64,\n",
       " 0    1129\n",
       " 1       1\n",
       " Name: Fraud, dtype: int64,\n",
       " 0    1129\n",
       " 1       1\n",
       " Name: Fraud, dtype: int64,\n",
       " Series([], Name: Fraud, dtype: int64),\n",
       " 0    5\n",
       " Name: Fraud, dtype: int64,\n",
       " Series([], Name: Fraud, dtype: int64),\n",
       " Series([], Name: Fraud, dtype: int64),\n",
       " Series([], Name: Fraud, dtype: int64),\n",
       " Series([], Name: Fraud, dtype: int64),\n",
       " Series([], Name: Fraud, dtype: int64),\n",
       " 0    142891\n",
       " 1        65\n",
       " Name: Fraud, dtype: int64,\n",
       " 0    960673\n",
       " 1       224\n",
       " Name: Fraud, dtype: int64,\n",
       " 0    294159\n",
       " 1        68\n",
       " Name: Fraud, dtype: int64,\n",
       " 0    294159\n",
       " 1        68\n",
       " Name: Fraud, dtype: int64,\n",
       " 0    294159\n",
       " 1        68\n",
       " Name: Fraud, dtype: int64,\n",
       " 0    294159\n",
       " 1        68\n",
       " Name: Fraud, dtype: int64,\n",
       " 0    662987\n",
       " 1       137\n",
       " Name: Fraud, dtype: int64,\n",
       " 0    591845\n",
       " 1       155\n",
       " Name: Fraud, dtype: int64,\n",
       " 0    711477\n",
       " 1       163\n",
       " Name: Fraud, dtype: int64,\n",
       " 0    543355\n",
       " 1       129\n",
       " Name: Fraud, dtype: int64,\n",
       " 0    543355\n",
       " 1       129\n",
       " Name: Fraud, dtype: int64,\n",
       " 0    1224673\n",
       " 1        279\n",
       " Name: Fraud, dtype: int64,\n",
       " 0    30159\n",
       " 1       13\n",
       " Name: Fraud, dtype: int64,\n",
       " 0    30159\n",
       " 1       13\n",
       " Name: Fraud, dtype: int64,\n",
       " 0    716712\n",
       " 1       161\n",
       " Name: Fraud, dtype: int64,\n",
       " 0    538120\n",
       " 1       131\n",
       " Name: Fraud, dtype: int64,\n",
       " 0    538120\n",
       " 1       131\n",
       " Name: Fraud, dtype: int64,\n",
       " 0    1023601\n",
       " 1        226\n",
       " Name: Fraud, dtype: int64,\n",
       " 0    231231\n",
       " 1        66\n",
       " Name: Fraud, dtype: int64,\n",
       " 0    231231\n",
       " 1        66\n",
       " Name: Fraud, dtype: int64,\n",
       " 0    1023601\n",
       " 1        226\n",
       " Name: Fraud, dtype: int64,\n",
       " 0    231231\n",
       " 1        66\n",
       " Name: Fraud, dtype: int64,\n",
       " 0    231231\n",
       " 1        66\n",
       " Name: Fraud, dtype: int64,\n",
       " 0    988171\n",
       " 1       223\n",
       " Name: Fraud, dtype: int64,\n",
       " 0    266661\n",
       " 1        69\n",
       " Name: Fraud, dtype: int64,\n",
       " 0    266661\n",
       " 1        69\n",
       " Name: Fraud, dtype: int64,\n",
       " 0    988171\n",
       " 1       223\n",
       " Name: Fraud, dtype: int64,\n",
       " 0    266661\n",
       " 1        69\n",
       " Name: Fraud, dtype: int64,\n",
       " 0    266661\n",
       " 1        69\n",
       " Name: Fraud, dtype: int64,\n",
       " 0    347084\n",
       " 1        49\n",
       " Name: Fraud, dtype: int64,\n",
       " 0    347084\n",
       " 1        49\n",
       " Name: Fraud, dtype: int64,\n",
       " 0    347084\n",
       " 1        49\n",
       " Name: Fraud, dtype: int64,\n",
       " 0    523518\n",
       " 1       113\n",
       " Name: Fraud, dtype: int64,\n",
       " 0    347084\n",
       " 1        49\n",
       " Name: Fraud, dtype: int64,\n",
       " 0    432704\n",
       " 1        66\n",
       " Name: Fraud, dtype: int64,\n",
       " 0    432704\n",
       " 1        66\n",
       " Name: Fraud, dtype: int64,\n",
       " 0    432704\n",
       " 1        66\n",
       " Name: Fraud, dtype: int64,\n",
       " 0    651503\n",
       " 1       147\n",
       " Name: Fraud, dtype: int64,\n",
       " 0    903227\n",
       " 1       227\n",
       " Name: Fraud, dtype: int64,\n",
       " 0    373486\n",
       " 1       106\n",
       " Name: Fraud, dtype: int64,\n",
       " 0    373486\n",
       " 1       106\n",
       " Name: Fraud, dtype: int64,\n",
       " 0    501134\n",
       " 1       159\n",
       " Name: Fraud, dtype: int64,\n",
       " 0    794968\n",
       " 1       175\n",
       " Name: Fraud, dtype: int64,\n",
       " 0    459864\n",
       " 1       117\n",
       " Name: Fraud, dtype: int64,\n",
       " 0    459864\n",
       " 1       117\n",
       " Name: Fraud, dtype: int64,\n",
       " 0    1254832\n",
       " 1        292\n",
       " Name: Fraud, dtype: int64,\n",
       " 0    797178\n",
       " 1       203\n",
       " Name: Fraud, dtype: int64,\n",
       " Series([], Name: Fraud, dtype: int64),\n",
       " 0    683340\n",
       " 1       165\n",
       " Name: Fraud, dtype: int64,\n",
       " 0    628552\n",
       " 1       162\n",
       " Name: Fraud, dtype: int64,\n",
       " 0    810623\n",
       " 1       216\n",
       " Name: Fraud, dtype: int64,\n",
       " 0    890326\n",
       " 1       226\n",
       " Name: Fraud, dtype: int64,\n",
       " 0    369352\n",
       " 1       130\n",
       " Name: Fraud, dtype: int64,\n",
       " 0    369352\n",
       " 1       130\n",
       " Name: Fraud, dtype: int64,\n",
       " 0    263162\n",
       " 1       103\n",
       " Name: Fraud, dtype: int64,\n",
       " 0    739965\n",
       " 1       168\n",
       " Name: Fraud, dtype: int64,\n",
       " 0    761780\n",
       " 1       182\n",
       " Name: Fraud, dtype: int64,\n",
       " 0    749598\n",
       " 1       172\n",
       " Name: Fraud, dtype: int64,\n",
       " 0    363960\n",
       " 1       120\n",
       " Name: Fraud, dtype: int64,\n",
       " 0    865526\n",
       " 1       195\n",
       " Name: Fraud, dtype: int64,\n",
       " 0    532009\n",
       " 1       146\n",
       " Name: Fraud, dtype: int64,\n",
       " 0    532009\n",
       " 1       146\n",
       " Name: Fraud, dtype: int64,\n",
       " 0    12\n",
       " Name: Fraud, dtype: int64,\n",
       " Series([], Name: Fraud, dtype: int64),\n",
       " Series([], Name: Fraud, dtype: int64)]"
      ]
     },
     "execution_count": 25,
     "metadata": {},
     "output_type": "execute_result"
    }
   ],
   "source": [
    "data"
   ]
  },
  {
   "cell_type": "code",
   "execution_count": 20,
   "metadata": {},
   "outputs": [],
   "source": [
    "# Create a new DataFrame\n",
    "df = pd.DataFrame()\n",
    "\n",
    "# Extract feature names, \"Fraud\" counts, and \"Non-Fraud\" counts\n",
    "feature_names = [s.name for s in data]\n",
    "fraud_counts = [s.iloc[1] if len(s) == 2 else 0 for s in data]\n",
    "non_fraud_counts = [s.iloc[0] if len(s) == 2 else s.iloc[0] if len(s) == 1 else 0 for s in data]\n",
    "\n",
    "# Add columns to the new DataFrame\n",
    "df['Feature'] = feature_names\n",
    "df['Fraud'] = fraud_counts\n",
    "df['Non-Fraud'] = non_fraud_counts"
   ]
  },
  {
   "cell_type": "code",
   "execution_count": 24,
   "metadata": {},
   "outputs": [
    {
     "data": {
      "text/html": [
       "<div>\n",
       "<style scoped>\n",
       "    .dataframe tbody tr th:only-of-type {\n",
       "        vertical-align: middle;\n",
       "    }\n",
       "\n",
       "    .dataframe tbody tr th {\n",
       "        vertical-align: top;\n",
       "    }\n",
       "\n",
       "    .dataframe thead th {\n",
       "        text-align: right;\n",
       "    }\n",
       "</style>\n",
       "<table border=\"1\" class=\"dataframe\">\n",
       "  <thead>\n",
       "    <tr style=\"text-align: right;\">\n",
       "      <th></th>\n",
       "      <th>Feature</th>\n",
       "      <th>Fraud</th>\n",
       "      <th>Non-Fraud</th>\n",
       "    </tr>\n",
       "  </thead>\n",
       "  <tbody>\n",
       "    <tr>\n",
       "      <th>0</th>\n",
       "      <td>1</td>\n",
       "      <td>0</td>\n",
       "      <td>0</td>\n",
       "    </tr>\n",
       "    <tr>\n",
       "      <th>1</th>\n",
       "      <td>2</td>\n",
       "      <td>0</td>\n",
       "      <td>0</td>\n",
       "    </tr>\n",
       "    <tr>\n",
       "      <th>2</th>\n",
       "      <td>3</td>\n",
       "      <td>0</td>\n",
       "      <td>0</td>\n",
       "    </tr>\n",
       "    <tr>\n",
       "      <th>3</th>\n",
       "      <td>4</td>\n",
       "      <td>74</td>\n",
       "      <td>416001</td>\n",
       "    </tr>\n",
       "    <tr>\n",
       "      <th>4</th>\n",
       "      <td>5</td>\n",
       "      <td>11</td>\n",
       "      <td>99280</td>\n",
       "    </tr>\n",
       "    <tr>\n",
       "      <th>...</th>\n",
       "      <td>...</td>\n",
       "      <td>...</td>\n",
       "      <td>...</td>\n",
       "    </tr>\n",
       "    <tr>\n",
       "      <th>82</th>\n",
       "      <td>83</td>\n",
       "      <td>146</td>\n",
       "      <td>532009</td>\n",
       "    </tr>\n",
       "    <tr>\n",
       "      <th>83</th>\n",
       "      <td>84</td>\n",
       "      <td>146</td>\n",
       "      <td>532009</td>\n",
       "    </tr>\n",
       "    <tr>\n",
       "      <th>84</th>\n",
       "      <td>85</td>\n",
       "      <td>0</td>\n",
       "      <td>12</td>\n",
       "    </tr>\n",
       "    <tr>\n",
       "      <th>85</th>\n",
       "      <td>86</td>\n",
       "      <td>0</td>\n",
       "      <td>0</td>\n",
       "    </tr>\n",
       "    <tr>\n",
       "      <th>86</th>\n",
       "      <td>87</td>\n",
       "      <td>0</td>\n",
       "      <td>0</td>\n",
       "    </tr>\n",
       "  </tbody>\n",
       "</table>\n",
       "<p>87 rows × 3 columns</p>\n",
       "</div>"
      ],
      "text/plain": [
       "    Feature  Fraud  Non-Fraud\n",
       "0         1      0          0\n",
       "1         2      0          0\n",
       "2         3      0          0\n",
       "3         4     74     416001\n",
       "4         5     11      99280\n",
       "..      ...    ...        ...\n",
       "82       83    146     532009\n",
       "83       84    146     532009\n",
       "84       85      0         12\n",
       "85       86      0          0\n",
       "86       87      0          0\n",
       "\n",
       "[87 rows x 3 columns]"
      ]
     },
     "execution_count": 24,
     "metadata": {},
     "output_type": "execute_result"
    }
   ],
   "source": [
    "df['Feature'] = range(1, len(part_d.columns) + 1)\n",
    "df"
   ]
  },
  {
   "cell_type": "code",
   "execution_count": 31,
   "metadata": {},
   "outputs": [
    {
     "data": {
      "image/png": "[encoded data removed]",
      "text/plain": [
       "<Figure size 1000x800 with 2 Axes>"
      ]
     },
     "metadata": {},
     "output_type": "display_data"
    }
   ],
   "source": [
    "# Create two subplots\n",
    "fig, (ax1, ax2) = plt.subplots(2, 1, figsize=(10, 8), sharex=True)\n",
    "\n",
    "# Plot for Fraud counts\n",
    "ax1.bar(df['Feature'], df['Fraud'], color='black', label='Fraud')\n",
    "ax1.set_ylabel('Fraud Count')\n",
    "ax1.set_title('Fraud Counts for Each Feature')\n",
    "\n",
    "# Plot for Non-Fraud counts\n",
    "ax2.bar(df['Feature'], df['Non-Fraud'], color='gray', label='Non-Fraud')\n",
    "ax2.set_xlabel('Part D data features (columns)')\n",
    "ax2.set_ylabel('Non-Fraud Count')\n",
    "ax2.set_title('Non-Fraud Counts for Each Feature')\n",
    "\n",
    "# Adjust layout to prevent clipping of ylabel\n",
    "plt.tight_layout()\n",
    "\n",
    "plt.show()"
   ]
  },
  {
   "cell_type": "code",
   "execution_count": 17,
   "metadata": {
    "id": "6piP-wp8IFfZ"
   },
   "outputs": [],
   "source": [
    "part_d_features = part_d[[\"PRSCRBR_NPI\",\"Prscrbr_Type_src\",\"Tot_Benes\",\"Tot_Clms\",\"Tot_30day_Fills\",\"Tot_Day_Suply\",\"Tot_Drug_Cst\",\"Fraud\",\"FraudType\"]].dropna(axis=0)"
   ]
  },
  {
   "cell_type": "code",
   "execution_count": 18,
   "metadata": {},
   "outputs": [
    {
     "name": "stdout",
     "output_type": "stream",
     "text": [
      "<class 'pandas.core.frame.DataFrame'>\n",
      "Int64Index: 1112168 entries, 0 to 1255174\n",
      "Data columns (total 9 columns):\n",
      " #   Column            Non-Null Count    Dtype  \n",
      "---  ------            --------------    -----  \n",
      " 0   PRSCRBR_NPI       1112168 non-null  int64  \n",
      " 1   Prscrbr_Type_src  1112168 non-null  object \n",
      " 2   Tot_Benes         1112168 non-null  float64\n",
      " 3   Tot_Clms          1112168 non-null  int64  \n",
      " 4   Tot_30day_Fills   1112168 non-null  float64\n",
      " 5   Tot_Day_Suply     1112168 non-null  int64  \n",
      " 6   Tot_Drug_Cst      1112168 non-null  float64\n",
      " 7   Fraud             1112168 non-null  int64  \n",
      " 8   FraudType         1112168 non-null  object \n",
      "dtypes: float64(3), int64(4), object(2)\n",
      "memory usage: 84.9+ MB\n"
     ]
    }
   ],
   "source": [
    "part_d_features.info()"
   ]
  },
  {
   "cell_type": "code",
   "execution_count": 19,
   "metadata": {},
   "outputs": [
    {
     "data": {
      "text/plain": [
       "0    1111941\n",
       "1        227\n",
       "Name: Fraud, dtype: int64"
      ]
     },
     "execution_count": 19,
     "metadata": {},
     "output_type": "execute_result"
    }
   ],
   "source": [
    "part_d_features[\"Fraud\"].value_counts()"
   ]
  },
  {
   "cell_type": "code",
   "execution_count": 21,
   "metadata": {},
   "outputs": [],
   "source": [
    "part_d_features.to_csv('labelled_data/part_D/partd_features_data.csv')"
   ]
  },
  {
   "cell_type": "code",
   "execution_count": null,
   "metadata": {},
   "outputs": [],
   "source": []
  }
 ],
 "metadata": {
  "colab": {
   "authorship_tag": "ABX9TyMdL9Q6PtPfCIWN9kRvJ93n",
   "provenance": []
  },
  "kernelspec": {
   "display_name": "Python 3 (ipykernel)",
   "language": "python",
   "name": "python3"
  },
  "language_info": {
   "codemirror_mode": {
    "name": "ipython",
    "version": 3
   },
   "file_extension": ".py",
   "mimetype": "text/x-python",
   "name": "python",
   "nbconvert_exporter": "python",
   "pygments_lexer": "ipython3",
   "version": "3.10.12"
  }
 },
 "nbformat": 4,
 "nbformat_minor": 1
}
